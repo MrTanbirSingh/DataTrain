{
  "cells": [
    {
      "cell_type": "markdown",
      "metadata": {
        "id": "G2R2a_76lBEx"
      },
      "source": [
        "#### Problem Statement"
      ]
    },
    {
      "cell_type": "markdown",
      "metadata": {
        "id": "sufY4xCGkf74"
      },
      "source": [
        "Avocado is a fruit consumed by people heavily in the United States. \n",
        "\n",
        "Content\n",
        "This data was downloaded from the Hass Avocado Board website in May of 2018 & compiled into a single CSV. \n",
        "\n",
        "The table below represents weekly 2018 retail scan data for National retail volume (units) and price. Retail scan data comes directly from retailers’ cash registers based on actual retail sales of Hass avocados. \n",
        "\n",
        "Starting in 2013, the table below reflects an expanded, multi-outlet retail data set. Multi-outlet reporting includes an aggregation of the following channels: grocery, mass, club, drug, dollar and military. The Average Price (of avocados) in the table reflects a per unit (per avocado) cost, even when multiple units (avocados) are sold in bags. \n",
        "\n",
        "The Product Lookup codes (PLU’s) in the table are only for Hass avocados. Other varieties of avocados (e.g. greenskins) are not included in this table.\n",
        "\n",
        "Some relevant columns in the dataset:\n",
        "\n",
        "Date - The date of the observation</br>\n",
        "AveragePrice - the average price of a single avocado</br>\n",
        "type - conventional or organic</br>\n",
        "year - the year</br>\n",
        "Region - the city or region of the observation</br>\n",
        "Total Volume - Total number of avocados sold</br>\n",
        "4046 - Total number of avocados with PLU 4046 sold</br>\n",
        "4225 - Total number of avocados with PLU 4225 sold</br>\n",
        "4770 - Total number of avocados with PLU 4770 sold</br>\n",
        "\n",
        "\n",
        "Inspiration /Label \n",
        "\n",
        "The dataset can be seen in two angles to find the region and find the average price .\n",
        "\n",
        "Task: One of Classification and other of Regression\n",
        "\n",
        "Do both tasks in the same .ipynb file and submit at single file. \n",
        "\n",
        "To download the dataset, use the link given below. \n",
        "\n",
        "Downlaod Files:\n",
        "https://github.com/dsrscientist/Data-Science-ML-Capstone-Projects/blob/master/avocado.csv.zip"
      ]
    },
    {
      "cell_type": "markdown",
      "metadata": {
        "id": "xXvcs44LLgU4"
      },
      "source": [
        "#### Importing Libraries"
      ]
    },
    {
      "cell_type": "code",
      "execution_count": 2,
      "metadata": {
        "id": "OCLO4meylLm3"
      },
      "outputs": [],
      "source": [
        "import pandas as pd\n",
        "import seaborn as sns\n",
        "import matplotlib.pyplot as plt\n",
        "import numpy as np\n",
        "\n",
        "from sklearn.model_selection import cross_val_score\n",
        "from sklearn.metrics import mean_absolute_error, mean_squared_error\n",
        "\n",
        "from scipy.stats import zscore\n",
        "\n",
        "from sklearn.model_selection import train_test_split\n",
        "\n",
        "#Classification Model\n",
        "from sklearn.linear_model import LogisticRegression\n",
        "from sklearn.svm  import SVC\n",
        "svc = SVC()\n",
        "from sklearn.tree import DecisionTreeClassifier\n",
        "dc = DecisionTreeClassifier()\n",
        "from sklearn.metrics import classification_report, confusion_matrix, accuracy_score\n",
        "from sklearn.neighbors import KNeighborsClassifier\n",
        "knn = KNeighborsClassifier()\n",
        "\n",
        "#Regression Model\n",
        "from sklearn.linear_model import LinearRegression\n",
        "from sklearn.tree import DecisionTreeRegressor\n",
        "DT = DecisionTreeRegressor()\n",
        "from sklearn.svm import SVR\n",
        "SV = SVR()\n",
        "from sklearn.metrics import r2_score\n",
        "\n",
        "\n",
        "from sklearn.ensemble import RandomForestRegressor\n",
        "\n",
        "\n",
        "# from sklearn.preprocessing import PowerTransformer\n",
        "from sklearn.preprocessing import power_transform\n",
        "from sklearn.preprocessing import LabelEncoder\n",
        "le = LabelEncoder()\n",
        "\n",
        "import warnings\n",
        "warnings.filterwarnings('ignore')"
      ]
    },
    {
      "cell_type": "markdown",
      "metadata": {
        "id": "vMyj-Q3tLlXu"
      },
      "source": [
        ""
      ]
    },
    {
      "cell_type": "code",
      "execution_count": 3,
      "metadata": {
        "id": "zlBCdiXppWLK"
      },
      "outputs": [],
      "source": [
        "url = 'https://raw.githubusercontent.com/MrTanbirSingh/FlipRoBoInternship/main/avocado.csv'"
      ]
    },
    {
      "cell_type": "code",
      "execution_count": 4,
      "metadata": {
        "id": "MJjkCr55pWNy"
      },
      "outputs": [],
      "source": [
        "df_backup = pd.DataFrame(pd.read_csv(url))"
      ]
    },
    {
      "cell_type": "code",
      "execution_count": 5,
      "metadata": {
        "id": "WpUrnBFjpWRZ"
      },
      "outputs": [],
      "source": [
        "df = df_backup.drop('Unnamed: 0', axis = 1).copy()"
      ]
    },
    {
      "cell_type": "markdown",
      "metadata": {
        "id": "PVfP4_TlNAGv"
      },
      "source": [
        "### **Understanding Data**"
      ]
    },
    {
      "cell_type": "markdown",
      "metadata": {
        "id": "yyUn_0PctJWn"
      },
      "source": [
        "#### Size of the Data"
      ]
    },
    {
      "cell_type": "code",
      "execution_count": 6,
      "metadata": {
        "colab": {
          "base_uri": "https://localhost:8080/"
        },
        "id": "G89i9t_7Mr44",
        "outputId": "a824776b-41e6-4fb6-c904-3380837bf650"
      },
      "outputs": [
        {
          "output_type": "execute_result",
          "data": {
            "text/plain": [
              "(18249, 13)"
            ]
          },
          "metadata": {},
          "execution_count": 6
        }
      ],
      "source": [
        "df.shape"
      ]
    },
    {
      "cell_type": "markdown",
      "metadata": {
        "id": "Xh-FTAx3NRKE"
      },
      "source": [
        "#### How data looks like\n"
      ]
    },
    {
      "cell_type": "code",
      "execution_count": 7,
      "metadata": {
        "colab": {
          "base_uri": "https://localhost:8080/",
          "height": 0
        },
        "id": "pOfHOvZCMr7Q",
        "outputId": "069414d6-3bac-4605-88bb-aca63c2f6596"
      },
      "outputs": [
        {
          "output_type": "execute_result",
          "data": {
            "text/plain": [
              "            Date  AveragePrice  Total Volume         4046         4225  \\\n",
              "2055  2015-06-21          1.05     135895.47     51621.94     47601.83   \n",
              "5501  2016-03-13          0.93   36374516.14  11661687.44  13104887.66   \n",
              "9607  2015-09-27          1.46      10508.73       329.58      9461.16   \n",
              "7841  2017-01-01          0.93     560310.35    149666.20    206181.12   \n",
              "2446  2015-12-13          0.99      67431.18     22229.24     20738.68   \n",
              "\n",
              "            4770  Total Bags  Small Bags  Large Bags  XLarge Bags  \\\n",
              "2055       73.18    36598.52    36598.52        0.00         0.00   \n",
              "5501  1800065.57  9807875.47  7231162.60  2521123.87     55589.00   \n",
              "9607        0.00      717.99       96.67      621.32         0.00   \n",
              "7841    15014.45   189448.58   150517.04    37802.65      1128.89   \n",
              "2446     2189.59    22273.67    22269.39        4.28         0.00   \n",
              "\n",
              "              type  year            region  \n",
              "2055  conventional  2015           Roanoke  \n",
              "5501  conventional  2016           TotalUS  \n",
              "9607       organic  2015  CincinnatiDayton  \n",
              "7841  conventional  2017          SanDiego  \n",
              "2446  conventional  2015           Spokane  "
            ],
            "text/html": [
              "\n",
              "  <div id=\"df-d9bbe647-8a36-47c7-9578-f2068689e209\">\n",
              "    <div class=\"colab-df-container\">\n",
              "      <div>\n",
              "<style scoped>\n",
              "    .dataframe tbody tr th:only-of-type {\n",
              "        vertical-align: middle;\n",
              "    }\n",
              "\n",
              "    .dataframe tbody tr th {\n",
              "        vertical-align: top;\n",
              "    }\n",
              "\n",
              "    .dataframe thead th {\n",
              "        text-align: right;\n",
              "    }\n",
              "</style>\n",
              "<table border=\"1\" class=\"dataframe\">\n",
              "  <thead>\n",
              "    <tr style=\"text-align: right;\">\n",
              "      <th></th>\n",
              "      <th>Date</th>\n",
              "      <th>AveragePrice</th>\n",
              "      <th>Total Volume</th>\n",
              "      <th>4046</th>\n",
              "      <th>4225</th>\n",
              "      <th>4770</th>\n",
              "      <th>Total Bags</th>\n",
              "      <th>Small Bags</th>\n",
              "      <th>Large Bags</th>\n",
              "      <th>XLarge Bags</th>\n",
              "      <th>type</th>\n",
              "      <th>year</th>\n",
              "      <th>region</th>\n",
              "    </tr>\n",
              "  </thead>\n",
              "  <tbody>\n",
              "    <tr>\n",
              "      <th>2055</th>\n",
              "      <td>2015-06-21</td>\n",
              "      <td>1.05</td>\n",
              "      <td>135895.47</td>\n",
              "      <td>51621.94</td>\n",
              "      <td>47601.83</td>\n",
              "      <td>73.18</td>\n",
              "      <td>36598.52</td>\n",
              "      <td>36598.52</td>\n",
              "      <td>0.00</td>\n",
              "      <td>0.00</td>\n",
              "      <td>conventional</td>\n",
              "      <td>2015</td>\n",
              "      <td>Roanoke</td>\n",
              "    </tr>\n",
              "    <tr>\n",
              "      <th>5501</th>\n",
              "      <td>2016-03-13</td>\n",
              "      <td>0.93</td>\n",
              "      <td>36374516.14</td>\n",
              "      <td>11661687.44</td>\n",
              "      <td>13104887.66</td>\n",
              "      <td>1800065.57</td>\n",
              "      <td>9807875.47</td>\n",
              "      <td>7231162.60</td>\n",
              "      <td>2521123.87</td>\n",
              "      <td>55589.00</td>\n",
              "      <td>conventional</td>\n",
              "      <td>2016</td>\n",
              "      <td>TotalUS</td>\n",
              "    </tr>\n",
              "    <tr>\n",
              "      <th>9607</th>\n",
              "      <td>2015-09-27</td>\n",
              "      <td>1.46</td>\n",
              "      <td>10508.73</td>\n",
              "      <td>329.58</td>\n",
              "      <td>9461.16</td>\n",
              "      <td>0.00</td>\n",
              "      <td>717.99</td>\n",
              "      <td>96.67</td>\n",
              "      <td>621.32</td>\n",
              "      <td>0.00</td>\n",
              "      <td>organic</td>\n",
              "      <td>2015</td>\n",
              "      <td>CincinnatiDayton</td>\n",
              "    </tr>\n",
              "    <tr>\n",
              "      <th>7841</th>\n",
              "      <td>2017-01-01</td>\n",
              "      <td>0.93</td>\n",
              "      <td>560310.35</td>\n",
              "      <td>149666.20</td>\n",
              "      <td>206181.12</td>\n",
              "      <td>15014.45</td>\n",
              "      <td>189448.58</td>\n",
              "      <td>150517.04</td>\n",
              "      <td>37802.65</td>\n",
              "      <td>1128.89</td>\n",
              "      <td>conventional</td>\n",
              "      <td>2017</td>\n",
              "      <td>SanDiego</td>\n",
              "    </tr>\n",
              "    <tr>\n",
              "      <th>2446</th>\n",
              "      <td>2015-12-13</td>\n",
              "      <td>0.99</td>\n",
              "      <td>67431.18</td>\n",
              "      <td>22229.24</td>\n",
              "      <td>20738.68</td>\n",
              "      <td>2189.59</td>\n",
              "      <td>22273.67</td>\n",
              "      <td>22269.39</td>\n",
              "      <td>4.28</td>\n",
              "      <td>0.00</td>\n",
              "      <td>conventional</td>\n",
              "      <td>2015</td>\n",
              "      <td>Spokane</td>\n",
              "    </tr>\n",
              "  </tbody>\n",
              "</table>\n",
              "</div>\n",
              "      <button class=\"colab-df-convert\" onclick=\"convertToInteractive('df-d9bbe647-8a36-47c7-9578-f2068689e209')\"\n",
              "              title=\"Convert this dataframe to an interactive table.\"\n",
              "              style=\"display:none;\">\n",
              "        \n",
              "  <svg xmlns=\"http://www.w3.org/2000/svg\" height=\"24px\"viewBox=\"0 0 24 24\"\n",
              "       width=\"24px\">\n",
              "    <path d=\"M0 0h24v24H0V0z\" fill=\"none\"/>\n",
              "    <path d=\"M18.56 5.44l.94 2.06.94-2.06 2.06-.94-2.06-.94-.94-2.06-.94 2.06-2.06.94zm-11 1L8.5 8.5l.94-2.06 2.06-.94-2.06-.94L8.5 2.5l-.94 2.06-2.06.94zm10 10l.94 2.06.94-2.06 2.06-.94-2.06-.94-.94-2.06-.94 2.06-2.06.94z\"/><path d=\"M17.41 7.96l-1.37-1.37c-.4-.4-.92-.59-1.43-.59-.52 0-1.04.2-1.43.59L10.3 9.45l-7.72 7.72c-.78.78-.78 2.05 0 2.83L4 21.41c.39.39.9.59 1.41.59.51 0 1.02-.2 1.41-.59l7.78-7.78 2.81-2.81c.8-.78.8-2.07 0-2.86zM5.41 20L4 18.59l7.72-7.72 1.47 1.35L5.41 20z\"/>\n",
              "  </svg>\n",
              "      </button>\n",
              "      \n",
              "  <style>\n",
              "    .colab-df-container {\n",
              "      display:flex;\n",
              "      flex-wrap:wrap;\n",
              "      gap: 12px;\n",
              "    }\n",
              "\n",
              "    .colab-df-convert {\n",
              "      background-color: #E8F0FE;\n",
              "      border: none;\n",
              "      border-radius: 50%;\n",
              "      cursor: pointer;\n",
              "      display: none;\n",
              "      fill: #1967D2;\n",
              "      height: 32px;\n",
              "      padding: 0 0 0 0;\n",
              "      width: 32px;\n",
              "    }\n",
              "\n",
              "    .colab-df-convert:hover {\n",
              "      background-color: #E2EBFA;\n",
              "      box-shadow: 0px 1px 2px rgba(60, 64, 67, 0.3), 0px 1px 3px 1px rgba(60, 64, 67, 0.15);\n",
              "      fill: #174EA6;\n",
              "    }\n",
              "\n",
              "    [theme=dark] .colab-df-convert {\n",
              "      background-color: #3B4455;\n",
              "      fill: #D2E3FC;\n",
              "    }\n",
              "\n",
              "    [theme=dark] .colab-df-convert:hover {\n",
              "      background-color: #434B5C;\n",
              "      box-shadow: 0px 1px 3px 1px rgba(0, 0, 0, 0.15);\n",
              "      filter: drop-shadow(0px 1px 2px rgba(0, 0, 0, 0.3));\n",
              "      fill: #FFFFFF;\n",
              "    }\n",
              "  </style>\n",
              "\n",
              "      <script>\n",
              "        const buttonEl =\n",
              "          document.querySelector('#df-d9bbe647-8a36-47c7-9578-f2068689e209 button.colab-df-convert');\n",
              "        buttonEl.style.display =\n",
              "          google.colab.kernel.accessAllowed ? 'block' : 'none';\n",
              "\n",
              "        async function convertToInteractive(key) {\n",
              "          const element = document.querySelector('#df-d9bbe647-8a36-47c7-9578-f2068689e209');\n",
              "          const dataTable =\n",
              "            await google.colab.kernel.invokeFunction('convertToInteractive',\n",
              "                                                     [key], {});\n",
              "          if (!dataTable) return;\n",
              "\n",
              "          const docLinkHtml = 'Like what you see? Visit the ' +\n",
              "            '<a target=\"_blank\" href=https://colab.research.google.com/notebooks/data_table.ipynb>data table notebook</a>'\n",
              "            + ' to learn more about interactive tables.';\n",
              "          element.innerHTML = '';\n",
              "          dataTable['output_type'] = 'display_data';\n",
              "          await google.colab.output.renderOutput(dataTable, element);\n",
              "          const docLink = document.createElement('div');\n",
              "          docLink.innerHTML = docLinkHtml;\n",
              "          element.appendChild(docLink);\n",
              "        }\n",
              "      </script>\n",
              "    </div>\n",
              "  </div>\n",
              "  "
            ]
          },
          "metadata": {},
          "execution_count": 7
        }
      ],
      "source": [
        "df.sample(5)"
      ]
    },
    {
      "cell_type": "markdown",
      "metadata": {
        "id": "vTCe22aUOdDz"
      },
      "source": [
        "#### What is the data type of columns"
      ]
    },
    {
      "cell_type": "code",
      "execution_count": 8,
      "metadata": {
        "colab": {
          "base_uri": "https://localhost:8080/"
        },
        "id": "C-IrnFAOMr93",
        "outputId": "44fdda7d-f1cb-4336-9e7e-b22f0682f752"
      },
      "outputs": [
        {
          "output_type": "stream",
          "name": "stdout",
          "text": [
            "<class 'pandas.core.frame.DataFrame'>\n",
            "RangeIndex: 18249 entries, 0 to 18248\n",
            "Data columns (total 13 columns):\n",
            " #   Column        Non-Null Count  Dtype  \n",
            "---  ------        --------------  -----  \n",
            " 0   Date          18249 non-null  object \n",
            " 1   AveragePrice  18249 non-null  float64\n",
            " 2   Total Volume  18249 non-null  float64\n",
            " 3   4046          18249 non-null  float64\n",
            " 4   4225          18249 non-null  float64\n",
            " 5   4770          18249 non-null  float64\n",
            " 6   Total Bags    18249 non-null  float64\n",
            " 7   Small Bags    18249 non-null  float64\n",
            " 8   Large Bags    18249 non-null  float64\n",
            " 9   XLarge Bags   18249 non-null  float64\n",
            " 10  type          18249 non-null  object \n",
            " 11  year          18249 non-null  int64  \n",
            " 12  region        18249 non-null  object \n",
            "dtypes: float64(9), int64(1), object(3)\n",
            "memory usage: 1.8+ MB\n"
          ]
        }
      ],
      "source": [
        "df.info()"
      ]
    },
    {
      "cell_type": "markdown",
      "metadata": {
        "id": "NS4iLvhg1ZnP"
      },
      "source": [
        "Converting Date Dtype from object to the data"
      ]
    },
    {
      "cell_type": "code",
      "execution_count": 9,
      "metadata": {
        "id": "kEvxNVQx1oHv"
      },
      "outputs": [],
      "source": [
        "df.Date = pd.to_datetime(df['Date'])"
      ]
    },
    {
      "cell_type": "code",
      "execution_count": 10,
      "metadata": {
        "colab": {
          "base_uri": "https://localhost:8080/"
        },
        "id": "mj78a4v31oVz",
        "outputId": "416f6721-865f-444c-9990-3c021b1080e4"
      },
      "outputs": [
        {
          "output_type": "stream",
          "name": "stdout",
          "text": [
            "<class 'pandas.core.frame.DataFrame'>\n",
            "RangeIndex: 18249 entries, 0 to 18248\n",
            "Data columns (total 13 columns):\n",
            " #   Column        Non-Null Count  Dtype         \n",
            "---  ------        --------------  -----         \n",
            " 0   Date          18249 non-null  datetime64[ns]\n",
            " 1   AveragePrice  18249 non-null  float64       \n",
            " 2   Total Volume  18249 non-null  float64       \n",
            " 3   4046          18249 non-null  float64       \n",
            " 4   4225          18249 non-null  float64       \n",
            " 5   4770          18249 non-null  float64       \n",
            " 6   Total Bags    18249 non-null  float64       \n",
            " 7   Small Bags    18249 non-null  float64       \n",
            " 8   Large Bags    18249 non-null  float64       \n",
            " 9   XLarge Bags   18249 non-null  float64       \n",
            " 10  type          18249 non-null  object        \n",
            " 11  year          18249 non-null  int64         \n",
            " 12  region        18249 non-null  object        \n",
            "dtypes: datetime64[ns](1), float64(9), int64(1), object(2)\n",
            "memory usage: 1.8+ MB\n"
          ]
        }
      ],
      "source": [
        "df.info()"
      ]
    },
    {
      "cell_type": "code",
      "execution_count": 11,
      "metadata": {
        "colab": {
          "base_uri": "https://localhost:8080/",
          "height": 0
        },
        "id": "-GbJrHri2JoG",
        "outputId": "c11136d0-73fa-4c0f-f3ba-c5f10eed6cdf"
      },
      "outputs": [
        {
          "output_type": "execute_result",
          "data": {
            "text/plain": [
              "            Date  AveragePrice  Total Volume       4046       4225     4770  \\\n",
              "12760 2016-01-31          1.45      89574.32    8791.51   58433.15     0.00   \n",
              "6621  2017-01-08          0.57    1417208.02  933181.79  198434.84  2690.98   \n",
              "\n",
              "       Total Bags  Small Bags  Large Bags  XLarge Bags          type  year  \\\n",
              "12760    22349.66     6581.99    15767.67          0.0       organic  2016   \n",
              "6621    282900.41   190479.48    92420.93          0.0  conventional  2017   \n",
              "\n",
              "           region  \n",
              "12760  GreatLakes  \n",
              "6621      Houston  "
            ],
            "text/html": [
              "\n",
              "  <div id=\"df-e57759f1-8c8b-4cb7-b111-dc1922e962cd\">\n",
              "    <div class=\"colab-df-container\">\n",
              "      <div>\n",
              "<style scoped>\n",
              "    .dataframe tbody tr th:only-of-type {\n",
              "        vertical-align: middle;\n",
              "    }\n",
              "\n",
              "    .dataframe tbody tr th {\n",
              "        vertical-align: top;\n",
              "    }\n",
              "\n",
              "    .dataframe thead th {\n",
              "        text-align: right;\n",
              "    }\n",
              "</style>\n",
              "<table border=\"1\" class=\"dataframe\">\n",
              "  <thead>\n",
              "    <tr style=\"text-align: right;\">\n",
              "      <th></th>\n",
              "      <th>Date</th>\n",
              "      <th>AveragePrice</th>\n",
              "      <th>Total Volume</th>\n",
              "      <th>4046</th>\n",
              "      <th>4225</th>\n",
              "      <th>4770</th>\n",
              "      <th>Total Bags</th>\n",
              "      <th>Small Bags</th>\n",
              "      <th>Large Bags</th>\n",
              "      <th>XLarge Bags</th>\n",
              "      <th>type</th>\n",
              "      <th>year</th>\n",
              "      <th>region</th>\n",
              "    </tr>\n",
              "  </thead>\n",
              "  <tbody>\n",
              "    <tr>\n",
              "      <th>12760</th>\n",
              "      <td>2016-01-31</td>\n",
              "      <td>1.45</td>\n",
              "      <td>89574.32</td>\n",
              "      <td>8791.51</td>\n",
              "      <td>58433.15</td>\n",
              "      <td>0.00</td>\n",
              "      <td>22349.66</td>\n",
              "      <td>6581.99</td>\n",
              "      <td>15767.67</td>\n",
              "      <td>0.0</td>\n",
              "      <td>organic</td>\n",
              "      <td>2016</td>\n",
              "      <td>GreatLakes</td>\n",
              "    </tr>\n",
              "    <tr>\n",
              "      <th>6621</th>\n",
              "      <td>2017-01-08</td>\n",
              "      <td>0.57</td>\n",
              "      <td>1417208.02</td>\n",
              "      <td>933181.79</td>\n",
              "      <td>198434.84</td>\n",
              "      <td>2690.98</td>\n",
              "      <td>282900.41</td>\n",
              "      <td>190479.48</td>\n",
              "      <td>92420.93</td>\n",
              "      <td>0.0</td>\n",
              "      <td>conventional</td>\n",
              "      <td>2017</td>\n",
              "      <td>Houston</td>\n",
              "    </tr>\n",
              "  </tbody>\n",
              "</table>\n",
              "</div>\n",
              "      <button class=\"colab-df-convert\" onclick=\"convertToInteractive('df-e57759f1-8c8b-4cb7-b111-dc1922e962cd')\"\n",
              "              title=\"Convert this dataframe to an interactive table.\"\n",
              "              style=\"display:none;\">\n",
              "        \n",
              "  <svg xmlns=\"http://www.w3.org/2000/svg\" height=\"24px\"viewBox=\"0 0 24 24\"\n",
              "       width=\"24px\">\n",
              "    <path d=\"M0 0h24v24H0V0z\" fill=\"none\"/>\n",
              "    <path d=\"M18.56 5.44l.94 2.06.94-2.06 2.06-.94-2.06-.94-.94-2.06-.94 2.06-2.06.94zm-11 1L8.5 8.5l.94-2.06 2.06-.94-2.06-.94L8.5 2.5l-.94 2.06-2.06.94zm10 10l.94 2.06.94-2.06 2.06-.94-2.06-.94-.94-2.06-.94 2.06-2.06.94z\"/><path d=\"M17.41 7.96l-1.37-1.37c-.4-.4-.92-.59-1.43-.59-.52 0-1.04.2-1.43.59L10.3 9.45l-7.72 7.72c-.78.78-.78 2.05 0 2.83L4 21.41c.39.39.9.59 1.41.59.51 0 1.02-.2 1.41-.59l7.78-7.78 2.81-2.81c.8-.78.8-2.07 0-2.86zM5.41 20L4 18.59l7.72-7.72 1.47 1.35L5.41 20z\"/>\n",
              "  </svg>\n",
              "      </button>\n",
              "      \n",
              "  <style>\n",
              "    .colab-df-container {\n",
              "      display:flex;\n",
              "      flex-wrap:wrap;\n",
              "      gap: 12px;\n",
              "    }\n",
              "\n",
              "    .colab-df-convert {\n",
              "      background-color: #E8F0FE;\n",
              "      border: none;\n",
              "      border-radius: 50%;\n",
              "      cursor: pointer;\n",
              "      display: none;\n",
              "      fill: #1967D2;\n",
              "      height: 32px;\n",
              "      padding: 0 0 0 0;\n",
              "      width: 32px;\n",
              "    }\n",
              "\n",
              "    .colab-df-convert:hover {\n",
              "      background-color: #E2EBFA;\n",
              "      box-shadow: 0px 1px 2px rgba(60, 64, 67, 0.3), 0px 1px 3px 1px rgba(60, 64, 67, 0.15);\n",
              "      fill: #174EA6;\n",
              "    }\n",
              "\n",
              "    [theme=dark] .colab-df-convert {\n",
              "      background-color: #3B4455;\n",
              "      fill: #D2E3FC;\n",
              "    }\n",
              "\n",
              "    [theme=dark] .colab-df-convert:hover {\n",
              "      background-color: #434B5C;\n",
              "      box-shadow: 0px 1px 3px 1px rgba(0, 0, 0, 0.15);\n",
              "      filter: drop-shadow(0px 1px 2px rgba(0, 0, 0, 0.3));\n",
              "      fill: #FFFFFF;\n",
              "    }\n",
              "  </style>\n",
              "\n",
              "      <script>\n",
              "        const buttonEl =\n",
              "          document.querySelector('#df-e57759f1-8c8b-4cb7-b111-dc1922e962cd button.colab-df-convert');\n",
              "        buttonEl.style.display =\n",
              "          google.colab.kernel.accessAllowed ? 'block' : 'none';\n",
              "\n",
              "        async function convertToInteractive(key) {\n",
              "          const element = document.querySelector('#df-e57759f1-8c8b-4cb7-b111-dc1922e962cd');\n",
              "          const dataTable =\n",
              "            await google.colab.kernel.invokeFunction('convertToInteractive',\n",
              "                                                     [key], {});\n",
              "          if (!dataTable) return;\n",
              "\n",
              "          const docLinkHtml = 'Like what you see? Visit the ' +\n",
              "            '<a target=\"_blank\" href=https://colab.research.google.com/notebooks/data_table.ipynb>data table notebook</a>'\n",
              "            + ' to learn more about interactive tables.';\n",
              "          element.innerHTML = '';\n",
              "          dataTable['output_type'] = 'display_data';\n",
              "          await google.colab.output.renderOutput(dataTable, element);\n",
              "          const docLink = document.createElement('div');\n",
              "          docLink.innerHTML = docLinkHtml;\n",
              "          element.appendChild(docLink);\n",
              "        }\n",
              "      </script>\n",
              "    </div>\n",
              "  </div>\n",
              "  "
            ]
          },
          "metadata": {},
          "execution_count": 11
        }
      ],
      "source": [
        "df.sample(2)"
      ]
    },
    {
      "cell_type": "markdown",
      "metadata": {
        "id": "a8z9bSctOj5g"
      },
      "source": [
        "#### Checking null values"
      ]
    },
    {
      "cell_type": "code",
      "execution_count": 12,
      "metadata": {
        "colab": {
          "base_uri": "https://localhost:8080/"
        },
        "id": "qAqnICw2MsAY",
        "outputId": "f430ec3b-2538-45f4-f095-a8060acf9867"
      },
      "outputs": [
        {
          "output_type": "execute_result",
          "data": {
            "text/plain": [
              "Date            0\n",
              "AveragePrice    0\n",
              "Total Volume    0\n",
              "4046            0\n",
              "4225            0\n",
              "4770            0\n",
              "Total Bags      0\n",
              "Small Bags      0\n",
              "Large Bags      0\n",
              "XLarge Bags     0\n",
              "type            0\n",
              "year            0\n",
              "region          0\n",
              "dtype: int64"
            ]
          },
          "metadata": {},
          "execution_count": 12
        }
      ],
      "source": [
        "df.isnull().sum()"
      ]
    },
    {
      "cell_type": "markdown",
      "metadata": {
        "id": "l-yhfsHBOt7P"
      },
      "source": [
        "NO Null data in this data set"
      ]
    },
    {
      "cell_type": "markdown",
      "metadata": {
        "id": "pq4y2s_nO03l"
      },
      "source": [
        "#### How does the data look mathematically"
      ]
    },
    {
      "cell_type": "code",
      "execution_count": 13,
      "metadata": {
        "colab": {
          "base_uri": "https://localhost:8080/",
          "height": 0
        },
        "id": "31yyECAWMsC0",
        "outputId": "d58a6c25-8e03-4329-8a10-d3dc65acdae9"
      },
      "outputs": [
        {
          "output_type": "execute_result",
          "data": {
            "text/plain": [
              "                type  region\n",
              "count          18249   18249\n",
              "unique             2      54\n",
              "top     conventional  Albany\n",
              "freq            9126     338"
            ],
            "text/html": [
              "\n",
              "  <div id=\"df-659db30d-9bdc-4348-a98b-739be3da595a\">\n",
              "    <div class=\"colab-df-container\">\n",
              "      <div>\n",
              "<style scoped>\n",
              "    .dataframe tbody tr th:only-of-type {\n",
              "        vertical-align: middle;\n",
              "    }\n",
              "\n",
              "    .dataframe tbody tr th {\n",
              "        vertical-align: top;\n",
              "    }\n",
              "\n",
              "    .dataframe thead th {\n",
              "        text-align: right;\n",
              "    }\n",
              "</style>\n",
              "<table border=\"1\" class=\"dataframe\">\n",
              "  <thead>\n",
              "    <tr style=\"text-align: right;\">\n",
              "      <th></th>\n",
              "      <th>type</th>\n",
              "      <th>region</th>\n",
              "    </tr>\n",
              "  </thead>\n",
              "  <tbody>\n",
              "    <tr>\n",
              "      <th>count</th>\n",
              "      <td>18249</td>\n",
              "      <td>18249</td>\n",
              "    </tr>\n",
              "    <tr>\n",
              "      <th>unique</th>\n",
              "      <td>2</td>\n",
              "      <td>54</td>\n",
              "    </tr>\n",
              "    <tr>\n",
              "      <th>top</th>\n",
              "      <td>conventional</td>\n",
              "      <td>Albany</td>\n",
              "    </tr>\n",
              "    <tr>\n",
              "      <th>freq</th>\n",
              "      <td>9126</td>\n",
              "      <td>338</td>\n",
              "    </tr>\n",
              "  </tbody>\n",
              "</table>\n",
              "</div>\n",
              "      <button class=\"colab-df-convert\" onclick=\"convertToInteractive('df-659db30d-9bdc-4348-a98b-739be3da595a')\"\n",
              "              title=\"Convert this dataframe to an interactive table.\"\n",
              "              style=\"display:none;\">\n",
              "        \n",
              "  <svg xmlns=\"http://www.w3.org/2000/svg\" height=\"24px\"viewBox=\"0 0 24 24\"\n",
              "       width=\"24px\">\n",
              "    <path d=\"M0 0h24v24H0V0z\" fill=\"none\"/>\n",
              "    <path d=\"M18.56 5.44l.94 2.06.94-2.06 2.06-.94-2.06-.94-.94-2.06-.94 2.06-2.06.94zm-11 1L8.5 8.5l.94-2.06 2.06-.94-2.06-.94L8.5 2.5l-.94 2.06-2.06.94zm10 10l.94 2.06.94-2.06 2.06-.94-2.06-.94-.94-2.06-.94 2.06-2.06.94z\"/><path d=\"M17.41 7.96l-1.37-1.37c-.4-.4-.92-.59-1.43-.59-.52 0-1.04.2-1.43.59L10.3 9.45l-7.72 7.72c-.78.78-.78 2.05 0 2.83L4 21.41c.39.39.9.59 1.41.59.51 0 1.02-.2 1.41-.59l7.78-7.78 2.81-2.81c.8-.78.8-2.07 0-2.86zM5.41 20L4 18.59l7.72-7.72 1.47 1.35L5.41 20z\"/>\n",
              "  </svg>\n",
              "      </button>\n",
              "      \n",
              "  <style>\n",
              "    .colab-df-container {\n",
              "      display:flex;\n",
              "      flex-wrap:wrap;\n",
              "      gap: 12px;\n",
              "    }\n",
              "\n",
              "    .colab-df-convert {\n",
              "      background-color: #E8F0FE;\n",
              "      border: none;\n",
              "      border-radius: 50%;\n",
              "      cursor: pointer;\n",
              "      display: none;\n",
              "      fill: #1967D2;\n",
              "      height: 32px;\n",
              "      padding: 0 0 0 0;\n",
              "      width: 32px;\n",
              "    }\n",
              "\n",
              "    .colab-df-convert:hover {\n",
              "      background-color: #E2EBFA;\n",
              "      box-shadow: 0px 1px 2px rgba(60, 64, 67, 0.3), 0px 1px 3px 1px rgba(60, 64, 67, 0.15);\n",
              "      fill: #174EA6;\n",
              "    }\n",
              "\n",
              "    [theme=dark] .colab-df-convert {\n",
              "      background-color: #3B4455;\n",
              "      fill: #D2E3FC;\n",
              "    }\n",
              "\n",
              "    [theme=dark] .colab-df-convert:hover {\n",
              "      background-color: #434B5C;\n",
              "      box-shadow: 0px 1px 3px 1px rgba(0, 0, 0, 0.15);\n",
              "      filter: drop-shadow(0px 1px 2px rgba(0, 0, 0, 0.3));\n",
              "      fill: #FFFFFF;\n",
              "    }\n",
              "  </style>\n",
              "\n",
              "      <script>\n",
              "        const buttonEl =\n",
              "          document.querySelector('#df-659db30d-9bdc-4348-a98b-739be3da595a button.colab-df-convert');\n",
              "        buttonEl.style.display =\n",
              "          google.colab.kernel.accessAllowed ? 'block' : 'none';\n",
              "\n",
              "        async function convertToInteractive(key) {\n",
              "          const element = document.querySelector('#df-659db30d-9bdc-4348-a98b-739be3da595a');\n",
              "          const dataTable =\n",
              "            await google.colab.kernel.invokeFunction('convertToInteractive',\n",
              "                                                     [key], {});\n",
              "          if (!dataTable) return;\n",
              "\n",
              "          const docLinkHtml = 'Like what you see? Visit the ' +\n",
              "            '<a target=\"_blank\" href=https://colab.research.google.com/notebooks/data_table.ipynb>data table notebook</a>'\n",
              "            + ' to learn more about interactive tables.';\n",
              "          element.innerHTML = '';\n",
              "          dataTable['output_type'] = 'display_data';\n",
              "          await google.colab.output.renderOutput(dataTable, element);\n",
              "          const docLink = document.createElement('div');\n",
              "          docLink.innerHTML = docLinkHtml;\n",
              "          element.appendChild(docLink);\n",
              "        }\n",
              "      </script>\n",
              "    </div>\n",
              "  </div>\n",
              "  "
            ]
          },
          "metadata": {},
          "execution_count": 13
        }
      ],
      "source": [
        "df.describe(include=['O'])"
      ]
    },
    {
      "cell_type": "markdown",
      "metadata": {
        "id": "2m7wr8MUbMWL"
      },
      "source": [
        "**categorical data**"
      ]
    },
    {
      "cell_type": "code",
      "execution_count": 14,
      "metadata": {
        "colab": {
          "base_uri": "https://localhost:8080/",
          "height": 0
        },
        "id": "PQLzvLV-bP86",
        "outputId": "25ef4464-4426-47ab-8ef1-cc5ff30d4701"
      },
      "outputs": [
        {
          "output_type": "execute_result",
          "data": {
            "text/plain": [
              "       AveragePrice  Total Volume          4046          4225          4770  \\\n",
              "count  18249.000000  1.824900e+04  1.824900e+04  1.824900e+04  1.824900e+04   \n",
              "mean       1.405978  8.506440e+05  2.930084e+05  2.951546e+05  2.283974e+04   \n",
              "std        0.402677  3.453545e+06  1.264989e+06  1.204120e+06  1.074641e+05   \n",
              "min        0.440000  8.456000e+01  0.000000e+00  0.000000e+00  0.000000e+00   \n",
              "25%        1.100000  1.083858e+04  8.540700e+02  3.008780e+03  0.000000e+00   \n",
              "50%        1.370000  1.073768e+05  8.645300e+03  2.906102e+04  1.849900e+02   \n",
              "75%        1.660000  4.329623e+05  1.110202e+05  1.502069e+05  6.243420e+03   \n",
              "max        3.250000  6.250565e+07  2.274362e+07  2.047057e+07  2.546439e+06   \n",
              "\n",
              "         Total Bags    Small Bags    Large Bags    XLarge Bags          year  \n",
              "count  1.824900e+04  1.824900e+04  1.824900e+04   18249.000000  18249.000000  \n",
              "mean   2.396392e+05  1.821947e+05  5.433809e+04    3106.426507   2016.147899  \n",
              "std    9.862424e+05  7.461785e+05  2.439660e+05   17692.894652      0.939938  \n",
              "min    0.000000e+00  0.000000e+00  0.000000e+00       0.000000   2015.000000  \n",
              "25%    5.088640e+03  2.849420e+03  1.274700e+02       0.000000   2015.000000  \n",
              "50%    3.974383e+04  2.636282e+04  2.647710e+03       0.000000   2016.000000  \n",
              "75%    1.107834e+05  8.333767e+04  2.202925e+04     132.500000   2017.000000  \n",
              "max    1.937313e+07  1.338459e+07  5.719097e+06  551693.650000   2018.000000  "
            ],
            "text/html": [
              "\n",
              "  <div id=\"df-22f4a5d7-9af4-4d58-9b4b-98823e9ceb8b\">\n",
              "    <div class=\"colab-df-container\">\n",
              "      <div>\n",
              "<style scoped>\n",
              "    .dataframe tbody tr th:only-of-type {\n",
              "        vertical-align: middle;\n",
              "    }\n",
              "\n",
              "    .dataframe tbody tr th {\n",
              "        vertical-align: top;\n",
              "    }\n",
              "\n",
              "    .dataframe thead th {\n",
              "        text-align: right;\n",
              "    }\n",
              "</style>\n",
              "<table border=\"1\" class=\"dataframe\">\n",
              "  <thead>\n",
              "    <tr style=\"text-align: right;\">\n",
              "      <th></th>\n",
              "      <th>AveragePrice</th>\n",
              "      <th>Total Volume</th>\n",
              "      <th>4046</th>\n",
              "      <th>4225</th>\n",
              "      <th>4770</th>\n",
              "      <th>Total Bags</th>\n",
              "      <th>Small Bags</th>\n",
              "      <th>Large Bags</th>\n",
              "      <th>XLarge Bags</th>\n",
              "      <th>year</th>\n",
              "    </tr>\n",
              "  </thead>\n",
              "  <tbody>\n",
              "    <tr>\n",
              "      <th>count</th>\n",
              "      <td>18249.000000</td>\n",
              "      <td>1.824900e+04</td>\n",
              "      <td>1.824900e+04</td>\n",
              "      <td>1.824900e+04</td>\n",
              "      <td>1.824900e+04</td>\n",
              "      <td>1.824900e+04</td>\n",
              "      <td>1.824900e+04</td>\n",
              "      <td>1.824900e+04</td>\n",
              "      <td>18249.000000</td>\n",
              "      <td>18249.000000</td>\n",
              "    </tr>\n",
              "    <tr>\n",
              "      <th>mean</th>\n",
              "      <td>1.405978</td>\n",
              "      <td>8.506440e+05</td>\n",
              "      <td>2.930084e+05</td>\n",
              "      <td>2.951546e+05</td>\n",
              "      <td>2.283974e+04</td>\n",
              "      <td>2.396392e+05</td>\n",
              "      <td>1.821947e+05</td>\n",
              "      <td>5.433809e+04</td>\n",
              "      <td>3106.426507</td>\n",
              "      <td>2016.147899</td>\n",
              "    </tr>\n",
              "    <tr>\n",
              "      <th>std</th>\n",
              "      <td>0.402677</td>\n",
              "      <td>3.453545e+06</td>\n",
              "      <td>1.264989e+06</td>\n",
              "      <td>1.204120e+06</td>\n",
              "      <td>1.074641e+05</td>\n",
              "      <td>9.862424e+05</td>\n",
              "      <td>7.461785e+05</td>\n",
              "      <td>2.439660e+05</td>\n",
              "      <td>17692.894652</td>\n",
              "      <td>0.939938</td>\n",
              "    </tr>\n",
              "    <tr>\n",
              "      <th>min</th>\n",
              "      <td>0.440000</td>\n",
              "      <td>8.456000e+01</td>\n",
              "      <td>0.000000e+00</td>\n",
              "      <td>0.000000e+00</td>\n",
              "      <td>0.000000e+00</td>\n",
              "      <td>0.000000e+00</td>\n",
              "      <td>0.000000e+00</td>\n",
              "      <td>0.000000e+00</td>\n",
              "      <td>0.000000</td>\n",
              "      <td>2015.000000</td>\n",
              "    </tr>\n",
              "    <tr>\n",
              "      <th>25%</th>\n",
              "      <td>1.100000</td>\n",
              "      <td>1.083858e+04</td>\n",
              "      <td>8.540700e+02</td>\n",
              "      <td>3.008780e+03</td>\n",
              "      <td>0.000000e+00</td>\n",
              "      <td>5.088640e+03</td>\n",
              "      <td>2.849420e+03</td>\n",
              "      <td>1.274700e+02</td>\n",
              "      <td>0.000000</td>\n",
              "      <td>2015.000000</td>\n",
              "    </tr>\n",
              "    <tr>\n",
              "      <th>50%</th>\n",
              "      <td>1.370000</td>\n",
              "      <td>1.073768e+05</td>\n",
              "      <td>8.645300e+03</td>\n",
              "      <td>2.906102e+04</td>\n",
              "      <td>1.849900e+02</td>\n",
              "      <td>3.974383e+04</td>\n",
              "      <td>2.636282e+04</td>\n",
              "      <td>2.647710e+03</td>\n",
              "      <td>0.000000</td>\n",
              "      <td>2016.000000</td>\n",
              "    </tr>\n",
              "    <tr>\n",
              "      <th>75%</th>\n",
              "      <td>1.660000</td>\n",
              "      <td>4.329623e+05</td>\n",
              "      <td>1.110202e+05</td>\n",
              "      <td>1.502069e+05</td>\n",
              "      <td>6.243420e+03</td>\n",
              "      <td>1.107834e+05</td>\n",
              "      <td>8.333767e+04</td>\n",
              "      <td>2.202925e+04</td>\n",
              "      <td>132.500000</td>\n",
              "      <td>2017.000000</td>\n",
              "    </tr>\n",
              "    <tr>\n",
              "      <th>max</th>\n",
              "      <td>3.250000</td>\n",
              "      <td>6.250565e+07</td>\n",
              "      <td>2.274362e+07</td>\n",
              "      <td>2.047057e+07</td>\n",
              "      <td>2.546439e+06</td>\n",
              "      <td>1.937313e+07</td>\n",
              "      <td>1.338459e+07</td>\n",
              "      <td>5.719097e+06</td>\n",
              "      <td>551693.650000</td>\n",
              "      <td>2018.000000</td>\n",
              "    </tr>\n",
              "  </tbody>\n",
              "</table>\n",
              "</div>\n",
              "      <button class=\"colab-df-convert\" onclick=\"convertToInteractive('df-22f4a5d7-9af4-4d58-9b4b-98823e9ceb8b')\"\n",
              "              title=\"Convert this dataframe to an interactive table.\"\n",
              "              style=\"display:none;\">\n",
              "        \n",
              "  <svg xmlns=\"http://www.w3.org/2000/svg\" height=\"24px\"viewBox=\"0 0 24 24\"\n",
              "       width=\"24px\">\n",
              "    <path d=\"M0 0h24v24H0V0z\" fill=\"none\"/>\n",
              "    <path d=\"M18.56 5.44l.94 2.06.94-2.06 2.06-.94-2.06-.94-.94-2.06-.94 2.06-2.06.94zm-11 1L8.5 8.5l.94-2.06 2.06-.94-2.06-.94L8.5 2.5l-.94 2.06-2.06.94zm10 10l.94 2.06.94-2.06 2.06-.94-2.06-.94-.94-2.06-.94 2.06-2.06.94z\"/><path d=\"M17.41 7.96l-1.37-1.37c-.4-.4-.92-.59-1.43-.59-.52 0-1.04.2-1.43.59L10.3 9.45l-7.72 7.72c-.78.78-.78 2.05 0 2.83L4 21.41c.39.39.9.59 1.41.59.51 0 1.02-.2 1.41-.59l7.78-7.78 2.81-2.81c.8-.78.8-2.07 0-2.86zM5.41 20L4 18.59l7.72-7.72 1.47 1.35L5.41 20z\"/>\n",
              "  </svg>\n",
              "      </button>\n",
              "      \n",
              "  <style>\n",
              "    .colab-df-container {\n",
              "      display:flex;\n",
              "      flex-wrap:wrap;\n",
              "      gap: 12px;\n",
              "    }\n",
              "\n",
              "    .colab-df-convert {\n",
              "      background-color: #E8F0FE;\n",
              "      border: none;\n",
              "      border-radius: 50%;\n",
              "      cursor: pointer;\n",
              "      display: none;\n",
              "      fill: #1967D2;\n",
              "      height: 32px;\n",
              "      padding: 0 0 0 0;\n",
              "      width: 32px;\n",
              "    }\n",
              "\n",
              "    .colab-df-convert:hover {\n",
              "      background-color: #E2EBFA;\n",
              "      box-shadow: 0px 1px 2px rgba(60, 64, 67, 0.3), 0px 1px 3px 1px rgba(60, 64, 67, 0.15);\n",
              "      fill: #174EA6;\n",
              "    }\n",
              "\n",
              "    [theme=dark] .colab-df-convert {\n",
              "      background-color: #3B4455;\n",
              "      fill: #D2E3FC;\n",
              "    }\n",
              "\n",
              "    [theme=dark] .colab-df-convert:hover {\n",
              "      background-color: #434B5C;\n",
              "      box-shadow: 0px 1px 3px 1px rgba(0, 0, 0, 0.15);\n",
              "      filter: drop-shadow(0px 1px 2px rgba(0, 0, 0, 0.3));\n",
              "      fill: #FFFFFF;\n",
              "    }\n",
              "  </style>\n",
              "\n",
              "      <script>\n",
              "        const buttonEl =\n",
              "          document.querySelector('#df-22f4a5d7-9af4-4d58-9b4b-98823e9ceb8b button.colab-df-convert');\n",
              "        buttonEl.style.display =\n",
              "          google.colab.kernel.accessAllowed ? 'block' : 'none';\n",
              "\n",
              "        async function convertToInteractive(key) {\n",
              "          const element = document.querySelector('#df-22f4a5d7-9af4-4d58-9b4b-98823e9ceb8b');\n",
              "          const dataTable =\n",
              "            await google.colab.kernel.invokeFunction('convertToInteractive',\n",
              "                                                     [key], {});\n",
              "          if (!dataTable) return;\n",
              "\n",
              "          const docLinkHtml = 'Like what you see? Visit the ' +\n",
              "            '<a target=\"_blank\" href=https://colab.research.google.com/notebooks/data_table.ipynb>data table notebook</a>'\n",
              "            + ' to learn more about interactive tables.';\n",
              "          element.innerHTML = '';\n",
              "          dataTable['output_type'] = 'display_data';\n",
              "          await google.colab.output.renderOutput(dataTable, element);\n",
              "          const docLink = document.createElement('div');\n",
              "          docLink.innerHTML = docLinkHtml;\n",
              "          element.appendChild(docLink);\n",
              "        }\n",
              "      </script>\n",
              "    </div>\n",
              "  </div>\n",
              "  "
            ]
          },
          "metadata": {},
          "execution_count": 14
        }
      ],
      "source": [
        "df.describe()"
      ]
    },
    {
      "cell_type": "markdown",
      "metadata": {
        "id": "ML0cDX0hbQnV"
      },
      "source": [
        "**Numerical data**"
      ]
    },
    {
      "cell_type": "markdown",
      "metadata": {
        "id": "_tzeDmfKPRgc"
      },
      "source": [
        "#### Label encoding "
      ]
    },
    {
      "cell_type": "code",
      "execution_count": 15,
      "metadata": {
        "id": "rhubYVSg4Two"
      },
      "outputs": [],
      "source": [
        "df.insert(df.columns.get_loc('region')+1, column= 'LE_region', value=le.fit_transform(df['region']))"
      ]
    },
    {
      "cell_type": "code",
      "execution_count": 16,
      "metadata": {
        "id": "boLU4qcI5bCl"
      },
      "outputs": [],
      "source": [
        "df.insert(df.columns.get_loc('type')+1, column= 'LE_type', value=le.fit_transform(df['type']))"
      ]
    },
    {
      "cell_type": "code",
      "execution_count": 17,
      "metadata": {
        "colab": {
          "base_uri": "https://localhost:8080/",
          "height": 0
        },
        "id": "k_3629V_5TdZ",
        "outputId": "df5fc3a0-abf0-495f-c3b5-3b1ec9f66c66"
      },
      "outputs": [
        {
          "output_type": "execute_result",
          "data": {
            "text/plain": [
              "            Date  AveragePrice  Total Volume         4046         4225  \\\n",
              "3924  2016-07-10          1.00     357786.69    153905.64     69545.22   \n",
              "8461  2017-04-23          0.75    1108328.51    583229.86    105373.50   \n",
              "939   2015-12-06          0.74     989676.85    368528.91    490805.00   \n",
              "18087 2018-02-11          1.87       7802.04      2208.31      3192.62   \n",
              "2689  2015-04-12          1.02   32046401.64  14793354.18  11210544.11   \n",
              "\n",
              "            4770  Total Bags  Small Bags  Large Bags  XLarge Bags  \\\n",
              "3924     7716.52   126619.31    78101.14    47342.89      1175.28   \n",
              "8461    13999.44   405725.71   118216.19   287509.52         0.00   \n",
              "939      7041.19   123301.75    61020.31    62281.44         0.00   \n",
              "18087       0.00     2401.11     2401.11        0.00         0.00   \n",
              "2689   807942.41  5234560.94  4400469.38   826567.05      7524.51   \n",
              "\n",
              "               type  LE_type  year            region  LE_region  \n",
              "3924   conventional        0  2016          LasVegas         21  \n",
              "8461   conventional        0  2017  WestTexNewMexico         53  \n",
              "939    conventional        0  2015           Houston         18  \n",
              "18087       organic        1  2018        Sacramento         40  \n",
              "2689   conventional        0  2015           TotalUS         51  "
            ],
            "text/html": [
              "\n",
              "  <div id=\"df-719678e2-be51-4629-90a4-76de13b8794c\">\n",
              "    <div class=\"colab-df-container\">\n",
              "      <div>\n",
              "<style scoped>\n",
              "    .dataframe tbody tr th:only-of-type {\n",
              "        vertical-align: middle;\n",
              "    }\n",
              "\n",
              "    .dataframe tbody tr th {\n",
              "        vertical-align: top;\n",
              "    }\n",
              "\n",
              "    .dataframe thead th {\n",
              "        text-align: right;\n",
              "    }\n",
              "</style>\n",
              "<table border=\"1\" class=\"dataframe\">\n",
              "  <thead>\n",
              "    <tr style=\"text-align: right;\">\n",
              "      <th></th>\n",
              "      <th>Date</th>\n",
              "      <th>AveragePrice</th>\n",
              "      <th>Total Volume</th>\n",
              "      <th>4046</th>\n",
              "      <th>4225</th>\n",
              "      <th>4770</th>\n",
              "      <th>Total Bags</th>\n",
              "      <th>Small Bags</th>\n",
              "      <th>Large Bags</th>\n",
              "      <th>XLarge Bags</th>\n",
              "      <th>type</th>\n",
              "      <th>LE_type</th>\n",
              "      <th>year</th>\n",
              "      <th>region</th>\n",
              "      <th>LE_region</th>\n",
              "    </tr>\n",
              "  </thead>\n",
              "  <tbody>\n",
              "    <tr>\n",
              "      <th>3924</th>\n",
              "      <td>2016-07-10</td>\n",
              "      <td>1.00</td>\n",
              "      <td>357786.69</td>\n",
              "      <td>153905.64</td>\n",
              "      <td>69545.22</td>\n",
              "      <td>7716.52</td>\n",
              "      <td>126619.31</td>\n",
              "      <td>78101.14</td>\n",
              "      <td>47342.89</td>\n",
              "      <td>1175.28</td>\n",
              "      <td>conventional</td>\n",
              "      <td>0</td>\n",
              "      <td>2016</td>\n",
              "      <td>LasVegas</td>\n",
              "      <td>21</td>\n",
              "    </tr>\n",
              "    <tr>\n",
              "      <th>8461</th>\n",
              "      <td>2017-04-23</td>\n",
              "      <td>0.75</td>\n",
              "      <td>1108328.51</td>\n",
              "      <td>583229.86</td>\n",
              "      <td>105373.50</td>\n",
              "      <td>13999.44</td>\n",
              "      <td>405725.71</td>\n",
              "      <td>118216.19</td>\n",
              "      <td>287509.52</td>\n",
              "      <td>0.00</td>\n",
              "      <td>conventional</td>\n",
              "      <td>0</td>\n",
              "      <td>2017</td>\n",
              "      <td>WestTexNewMexico</td>\n",
              "      <td>53</td>\n",
              "    </tr>\n",
              "    <tr>\n",
              "      <th>939</th>\n",
              "      <td>2015-12-06</td>\n",
              "      <td>0.74</td>\n",
              "      <td>989676.85</td>\n",
              "      <td>368528.91</td>\n",
              "      <td>490805.00</td>\n",
              "      <td>7041.19</td>\n",
              "      <td>123301.75</td>\n",
              "      <td>61020.31</td>\n",
              "      <td>62281.44</td>\n",
              "      <td>0.00</td>\n",
              "      <td>conventional</td>\n",
              "      <td>0</td>\n",
              "      <td>2015</td>\n",
              "      <td>Houston</td>\n",
              "      <td>18</td>\n",
              "    </tr>\n",
              "    <tr>\n",
              "      <th>18087</th>\n",
              "      <td>2018-02-11</td>\n",
              "      <td>1.87</td>\n",
              "      <td>7802.04</td>\n",
              "      <td>2208.31</td>\n",
              "      <td>3192.62</td>\n",
              "      <td>0.00</td>\n",
              "      <td>2401.11</td>\n",
              "      <td>2401.11</td>\n",
              "      <td>0.00</td>\n",
              "      <td>0.00</td>\n",
              "      <td>organic</td>\n",
              "      <td>1</td>\n",
              "      <td>2018</td>\n",
              "      <td>Sacramento</td>\n",
              "      <td>40</td>\n",
              "    </tr>\n",
              "    <tr>\n",
              "      <th>2689</th>\n",
              "      <td>2015-04-12</td>\n",
              "      <td>1.02</td>\n",
              "      <td>32046401.64</td>\n",
              "      <td>14793354.18</td>\n",
              "      <td>11210544.11</td>\n",
              "      <td>807942.41</td>\n",
              "      <td>5234560.94</td>\n",
              "      <td>4400469.38</td>\n",
              "      <td>826567.05</td>\n",
              "      <td>7524.51</td>\n",
              "      <td>conventional</td>\n",
              "      <td>0</td>\n",
              "      <td>2015</td>\n",
              "      <td>TotalUS</td>\n",
              "      <td>51</td>\n",
              "    </tr>\n",
              "  </tbody>\n",
              "</table>\n",
              "</div>\n",
              "      <button class=\"colab-df-convert\" onclick=\"convertToInteractive('df-719678e2-be51-4629-90a4-76de13b8794c')\"\n",
              "              title=\"Convert this dataframe to an interactive table.\"\n",
              "              style=\"display:none;\">\n",
              "        \n",
              "  <svg xmlns=\"http://www.w3.org/2000/svg\" height=\"24px\"viewBox=\"0 0 24 24\"\n",
              "       width=\"24px\">\n",
              "    <path d=\"M0 0h24v24H0V0z\" fill=\"none\"/>\n",
              "    <path d=\"M18.56 5.44l.94 2.06.94-2.06 2.06-.94-2.06-.94-.94-2.06-.94 2.06-2.06.94zm-11 1L8.5 8.5l.94-2.06 2.06-.94-2.06-.94L8.5 2.5l-.94 2.06-2.06.94zm10 10l.94 2.06.94-2.06 2.06-.94-2.06-.94-.94-2.06-.94 2.06-2.06.94z\"/><path d=\"M17.41 7.96l-1.37-1.37c-.4-.4-.92-.59-1.43-.59-.52 0-1.04.2-1.43.59L10.3 9.45l-7.72 7.72c-.78.78-.78 2.05 0 2.83L4 21.41c.39.39.9.59 1.41.59.51 0 1.02-.2 1.41-.59l7.78-7.78 2.81-2.81c.8-.78.8-2.07 0-2.86zM5.41 20L4 18.59l7.72-7.72 1.47 1.35L5.41 20z\"/>\n",
              "  </svg>\n",
              "      </button>\n",
              "      \n",
              "  <style>\n",
              "    .colab-df-container {\n",
              "      display:flex;\n",
              "      flex-wrap:wrap;\n",
              "      gap: 12px;\n",
              "    }\n",
              "\n",
              "    .colab-df-convert {\n",
              "      background-color: #E8F0FE;\n",
              "      border: none;\n",
              "      border-radius: 50%;\n",
              "      cursor: pointer;\n",
              "      display: none;\n",
              "      fill: #1967D2;\n",
              "      height: 32px;\n",
              "      padding: 0 0 0 0;\n",
              "      width: 32px;\n",
              "    }\n",
              "\n",
              "    .colab-df-convert:hover {\n",
              "      background-color: #E2EBFA;\n",
              "      box-shadow: 0px 1px 2px rgba(60, 64, 67, 0.3), 0px 1px 3px 1px rgba(60, 64, 67, 0.15);\n",
              "      fill: #174EA6;\n",
              "    }\n",
              "\n",
              "    [theme=dark] .colab-df-convert {\n",
              "      background-color: #3B4455;\n",
              "      fill: #D2E3FC;\n",
              "    }\n",
              "\n",
              "    [theme=dark] .colab-df-convert:hover {\n",
              "      background-color: #434B5C;\n",
              "      box-shadow: 0px 1px 3px 1px rgba(0, 0, 0, 0.15);\n",
              "      filter: drop-shadow(0px 1px 2px rgba(0, 0, 0, 0.3));\n",
              "      fill: #FFFFFF;\n",
              "    }\n",
              "  </style>\n",
              "\n",
              "      <script>\n",
              "        const buttonEl =\n",
              "          document.querySelector('#df-719678e2-be51-4629-90a4-76de13b8794c button.colab-df-convert');\n",
              "        buttonEl.style.display =\n",
              "          google.colab.kernel.accessAllowed ? 'block' : 'none';\n",
              "\n",
              "        async function convertToInteractive(key) {\n",
              "          const element = document.querySelector('#df-719678e2-be51-4629-90a4-76de13b8794c');\n",
              "          const dataTable =\n",
              "            await google.colab.kernel.invokeFunction('convertToInteractive',\n",
              "                                                     [key], {});\n",
              "          if (!dataTable) return;\n",
              "\n",
              "          const docLinkHtml = 'Like what you see? Visit the ' +\n",
              "            '<a target=\"_blank\" href=https://colab.research.google.com/notebooks/data_table.ipynb>data table notebook</a>'\n",
              "            + ' to learn more about interactive tables.';\n",
              "          element.innerHTML = '';\n",
              "          dataTable['output_type'] = 'display_data';\n",
              "          await google.colab.output.renderOutput(dataTable, element);\n",
              "          const docLink = document.createElement('div');\n",
              "          docLink.innerHTML = docLinkHtml;\n",
              "          element.appendChild(docLink);\n",
              "        }\n",
              "      </script>\n",
              "    </div>\n",
              "  </div>\n",
              "  "
            ]
          },
          "metadata": {},
          "execution_count": 17
        }
      ],
      "source": [
        "df.sample(5)"
      ]
    },
    {
      "cell_type": "markdown",
      "metadata": {
        "id": "_tbwMwhXPU3x"
      },
      "source": [
        "#### Checking for Duplicate values"
      ]
    },
    {
      "cell_type": "code",
      "execution_count": 18,
      "metadata": {
        "colab": {
          "base_uri": "https://localhost:8080/"
        },
        "id": "fi3C3SJPMsFA",
        "outputId": "13b4c01d-8441-4a73-8a24-c326a273ae21"
      },
      "outputs": [
        {
          "output_type": "execute_result",
          "data": {
            "text/plain": [
              "0"
            ]
          },
          "metadata": {},
          "execution_count": 18
        }
      ],
      "source": [
        "df.duplicated().sum()"
      ]
    },
    {
      "cell_type": "markdown",
      "metadata": {
        "id": "cbzFguTOPbRw"
      },
      "source": [
        "#### How is the correlation between columns"
      ]
    },
    {
      "cell_type": "code",
      "execution_count": 19,
      "metadata": {
        "colab": {
          "base_uri": "https://localhost:8080/"
        },
        "id": "9rAMnisFKZnI",
        "outputId": "d691dd6a-69d1-4b4d-cb52-26f7e6d65a0b"
      },
      "outputs": [
        {
          "output_type": "execute_result",
          "data": {
            "text/plain": [
              "AveragePrice    1.000000\n",
              "LE_type         0.615845\n",
              "year            0.093197\n",
              "LE_region      -0.011716\n",
              "XLarge Bags    -0.117592\n",
              "4225           -0.172928\n",
              "Large Bags     -0.172940\n",
              "Small Bags     -0.174730\n",
              "Total Bags     -0.177088\n",
              "4770           -0.179446\n",
              "Total Volume   -0.192752\n",
              "4046           -0.208317\n",
              "Name: AveragePrice, dtype: float64"
            ]
          },
          "metadata": {},
          "execution_count": 19
        }
      ],
      "source": [
        "df.corr()['AveragePrice'].sort_values(ascending = False)"
      ]
    },
    {
      "cell_type": "markdown",
      "metadata": {
        "id": "FVOQ91PXP3eq"
      },
      "source": [
        "### Exploratory Data Analysis"
      ]
    },
    {
      "cell_type": "code",
      "execution_count": 20,
      "metadata": {
        "colab": {
          "base_uri": "https://localhost:8080/",
          "height": 0
        },
        "id": "CKW-5cX3PdcA",
        "outputId": "0b4cc2c8-6f0d-462f-d2cc-21ad5d5bc9ec"
      },
      "outputs": [
        {
          "output_type": "display_data",
          "data": {
            "text/plain": [
              "<Figure size 432x288 with 1 Axes>"
            ],
            "image/png": "[encoded data removed]"
          },
          "metadata": {
            "needs_background": "light"
          }
        },
        {
          "output_type": "stream",
          "name": "stdout",
          "text": [
            "Max Price:  2.79 \n",
            "Mean Price:  1.3755903829029397 \n",
            "Min Price:  0.49\n"
          ]
        },
        {
          "output_type": "display_data",
          "data": {
            "text/plain": [
              "<Figure size 432x288 with 1 Axes>"
            ],
            "image/png": "[encoded data removed]"
          },
          "metadata": {
            "needs_background": "light"
          }
        },
        {
          "output_type": "stream",
          "name": "stdout",
          "text": [
            "Max Price:  3.25 \n",
            "Mean Price:  1.3386396011395996 \n",
            "Min Price:  0.51\n"
          ]
        },
        {
          "output_type": "display_data",
          "data": {
            "text/plain": [
              "<Figure size 432x288 with 1 Axes>"
            ],
            "image/png": "[encoded data removed]"
          },
          "metadata": {
            "needs_background": "light"
          }
        },
        {
          "output_type": "stream",
          "name": "stdout",
          "text": [
            "Max Price:  3.17 \n",
            "Mean Price:  1.515127577770011 \n",
            "Min Price:  0.44\n"
          ]
        },
        {
          "output_type": "display_data",
          "data": {
            "text/plain": [
              "<Figure size 432x288 with 1 Axes>"
            ],
            "image/png": "[encoded data removed]"
          },
          "metadata": {
            "needs_background": "light"
          }
        },
        {
          "output_type": "stream",
          "name": "stdout",
          "text": [
            "Max Price:  2.3 \n",
            "Mean Price:  1.347530864197531 \n",
            "Min Price:  0.56\n"
          ]
        }
      ],
      "source": [
        "for year in df['year'].unique():\n",
        "  sns.histplot(df[df[\"year\"] == year ]['AveragePrice'])\n",
        "  plt.xlabel(f'Average price in {year}')\n",
        "  plt.show()\n",
        "  print('Max Price: ',df[df[\"year\"] == year ]['AveragePrice'].max(),\n",
        "        '\\nMean Price: ',df[df[\"year\"] == year ]['AveragePrice'].mean(),\n",
        "        '\\nMin Price: ',df[df[\"year\"] == year ]['AveragePrice'].min())"
      ]
    },
    {
      "cell_type": "code",
      "execution_count": 21,
      "metadata": {
        "colab": {
          "base_uri": "https://localhost:8080/",
          "height": 0
        },
        "id": "Cd1IQNQ7TfJA",
        "outputId": "bd548477-8f33-4f55-f1ac-631cab635819"
      },
      "outputs": [
        {
          "output_type": "execute_result",
          "data": {
            "text/plain": [
              "            Date  AveragePrice  Total Volume       4046       4225      4770  \\\n",
              "10772 2015-05-03          1.82       2498.36    1559.49      48.87      0.00   \n",
              "15271 2017-12-31          1.14      15852.37     446.28    1042.43      0.00   \n",
              "9210  2015-05-17          1.78       5157.67    2076.48    2105.43      0.00   \n",
              "7277  2017-08-27          1.57     296756.62  189042.09   27713.25    101.45   \n",
              "3596  2016-10-30          1.36    2275351.91  456451.30  955805.27  88514.18   \n",
              "\n",
              "       Total Bags  Small Bags  Large Bags  XLarge Bags          type  LE_type  \\\n",
              "10772      890.00      890.00        0.00         0.00       organic        1   \n",
              "15271    14363.66    13142.03     1221.63         0.00       organic        1   \n",
              "9210       975.76      122.05      853.71         0.00       organic        1   \n",
              "7277     79899.83    46809.61    27371.33      5718.89  conventional        0   \n",
              "3596    774581.16   433158.18   335025.88      6397.10  conventional        0   \n",
              "\n",
              "       year      region  LE_region  \n",
              "10772  2015     Orlando         31  \n",
              "15271  2017    Columbus         10  \n",
              "9210   2015     Atlanta          1  \n",
              "7277   2017     Orlando         31  \n",
              "3596   2016  GreatLakes         15  "
            ],
            "text/html": [
              "\n",
              "  <div id=\"df-e4c1638d-9494-4aab-91e2-73a487a3c108\">\n",
              "    <div class=\"colab-df-container\">\n",
              "      <div>\n",
              "<style scoped>\n",
              "    .dataframe tbody tr th:only-of-type {\n",
              "        vertical-align: middle;\n",
              "    }\n",
              "\n",
              "    .dataframe tbody tr th {\n",
              "        vertical-align: top;\n",
              "    }\n",
              "\n",
              "    .dataframe thead th {\n",
              "        text-align: right;\n",
              "    }\n",
              "</style>\n",
              "<table border=\"1\" class=\"dataframe\">\n",
              "  <thead>\n",
              "    <tr style=\"text-align: right;\">\n",
              "      <th></th>\n",
              "      <th>Date</th>\n",
              "      <th>AveragePrice</th>\n",
              "      <th>Total Volume</th>\n",
              "      <th>4046</th>\n",
              "      <th>4225</th>\n",
              "      <th>4770</th>\n",
              "      <th>Total Bags</th>\n",
              "      <th>Small Bags</th>\n",
              "      <th>Large Bags</th>\n",
              "      <th>XLarge Bags</th>\n",
              "      <th>type</th>\n",
              "      <th>LE_type</th>\n",
              "      <th>year</th>\n",
              "      <th>region</th>\n",
              "      <th>LE_region</th>\n",
              "    </tr>\n",
              "  </thead>\n",
              "  <tbody>\n",
              "    <tr>\n",
              "      <th>10772</th>\n",
              "      <td>2015-05-03</td>\n",
              "      <td>1.82</td>\n",
              "      <td>2498.36</td>\n",
              "      <td>1559.49</td>\n",
              "      <td>48.87</td>\n",
              "      <td>0.00</td>\n",
              "      <td>890.00</td>\n",
              "      <td>890.00</td>\n",
              "      <td>0.00</td>\n",
              "      <td>0.00</td>\n",
              "      <td>organic</td>\n",
              "      <td>1</td>\n",
              "      <td>2015</td>\n",
              "      <td>Orlando</td>\n",
              "      <td>31</td>\n",
              "    </tr>\n",
              "    <tr>\n",
              "      <th>15271</th>\n",
              "      <td>2017-12-31</td>\n",
              "      <td>1.14</td>\n",
              "      <td>15852.37</td>\n",
              "      <td>446.28</td>\n",
              "      <td>1042.43</td>\n",
              "      <td>0.00</td>\n",
              "      <td>14363.66</td>\n",
              "      <td>13142.03</td>\n",
              "      <td>1221.63</td>\n",
              "      <td>0.00</td>\n",
              "      <td>organic</td>\n",
              "      <td>1</td>\n",
              "      <td>2017</td>\n",
              "      <td>Columbus</td>\n",
              "      <td>10</td>\n",
              "    </tr>\n",
              "    <tr>\n",
              "      <th>9210</th>\n",
              "      <td>2015-05-17</td>\n",
              "      <td>1.78</td>\n",
              "      <td>5157.67</td>\n",
              "      <td>2076.48</td>\n",
              "      <td>2105.43</td>\n",
              "      <td>0.00</td>\n",
              "      <td>975.76</td>\n",
              "      <td>122.05</td>\n",
              "      <td>853.71</td>\n",
              "      <td>0.00</td>\n",
              "      <td>organic</td>\n",
              "      <td>1</td>\n",
              "      <td>2015</td>\n",
              "      <td>Atlanta</td>\n",
              "      <td>1</td>\n",
              "    </tr>\n",
              "    <tr>\n",
              "      <th>7277</th>\n",
              "      <td>2017-08-27</td>\n",
              "      <td>1.57</td>\n",
              "      <td>296756.62</td>\n",
              "      <td>189042.09</td>\n",
              "      <td>27713.25</td>\n",
              "      <td>101.45</td>\n",
              "      <td>79899.83</td>\n",
              "      <td>46809.61</td>\n",
              "      <td>27371.33</td>\n",
              "      <td>5718.89</td>\n",
              "      <td>conventional</td>\n",
              "      <td>0</td>\n",
              "      <td>2017</td>\n",
              "      <td>Orlando</td>\n",
              "      <td>31</td>\n",
              "    </tr>\n",
              "    <tr>\n",
              "      <th>3596</th>\n",
              "      <td>2016-10-30</td>\n",
              "      <td>1.36</td>\n",
              "      <td>2275351.91</td>\n",
              "      <td>456451.30</td>\n",
              "      <td>955805.27</td>\n",
              "      <td>88514.18</td>\n",
              "      <td>774581.16</td>\n",
              "      <td>433158.18</td>\n",
              "      <td>335025.88</td>\n",
              "      <td>6397.10</td>\n",
              "      <td>conventional</td>\n",
              "      <td>0</td>\n",
              "      <td>2016</td>\n",
              "      <td>GreatLakes</td>\n",
              "      <td>15</td>\n",
              "    </tr>\n",
              "  </tbody>\n",
              "</table>\n",
              "</div>\n",
              "      <button class=\"colab-df-convert\" onclick=\"convertToInteractive('df-e4c1638d-9494-4aab-91e2-73a487a3c108')\"\n",
              "              title=\"Convert this dataframe to an interactive table.\"\n",
              "              style=\"display:none;\">\n",
              "        \n",
              "  <svg xmlns=\"http://www.w3.org/2000/svg\" height=\"24px\"viewBox=\"0 0 24 24\"\n",
              "       width=\"24px\">\n",
              "    <path d=\"M0 0h24v24H0V0z\" fill=\"none\"/>\n",
              "    <path d=\"M18.56 5.44l.94 2.06.94-2.06 2.06-.94-2.06-.94-.94-2.06-.94 2.06-2.06.94zm-11 1L8.5 8.5l.94-2.06 2.06-.94-2.06-.94L8.5 2.5l-.94 2.06-2.06.94zm10 10l.94 2.06.94-2.06 2.06-.94-2.06-.94-.94-2.06-.94 2.06-2.06.94z\"/><path d=\"M17.41 7.96l-1.37-1.37c-.4-.4-.92-.59-1.43-.59-.52 0-1.04.2-1.43.59L10.3 9.45l-7.72 7.72c-.78.78-.78 2.05 0 2.83L4 21.41c.39.39.9.59 1.41.59.51 0 1.02-.2 1.41-.59l7.78-7.78 2.81-2.81c.8-.78.8-2.07 0-2.86zM5.41 20L4 18.59l7.72-7.72 1.47 1.35L5.41 20z\"/>\n",
              "  </svg>\n",
              "      </button>\n",
              "      \n",
              "  <style>\n",
              "    .colab-df-container {\n",
              "      display:flex;\n",
              "      flex-wrap:wrap;\n",
              "      gap: 12px;\n",
              "    }\n",
              "\n",
              "    .colab-df-convert {\n",
              "      background-color: #E8F0FE;\n",
              "      border: none;\n",
              "      border-radius: 50%;\n",
              "      cursor: pointer;\n",
              "      display: none;\n",
              "      fill: #1967D2;\n",
              "      height: 32px;\n",
              "      padding: 0 0 0 0;\n",
              "      width: 32px;\n",
              "    }\n",
              "\n",
              "    .colab-df-convert:hover {\n",
              "      background-color: #E2EBFA;\n",
              "      box-shadow: 0px 1px 2px rgba(60, 64, 67, 0.3), 0px 1px 3px 1px rgba(60, 64, 67, 0.15);\n",
              "      fill: #174EA6;\n",
              "    }\n",
              "\n",
              "    [theme=dark] .colab-df-convert {\n",
              "      background-color: #3B4455;\n",
              "      fill: #D2E3FC;\n",
              "    }\n",
              "\n",
              "    [theme=dark] .colab-df-convert:hover {\n",
              "      background-color: #434B5C;\n",
              "      box-shadow: 0px 1px 3px 1px rgba(0, 0, 0, 0.15);\n",
              "      filter: drop-shadow(0px 1px 2px rgba(0, 0, 0, 0.3));\n",
              "      fill: #FFFFFF;\n",
              "    }\n",
              "  </style>\n",
              "\n",
              "      <script>\n",
              "        const buttonEl =\n",
              "          document.querySelector('#df-e4c1638d-9494-4aab-91e2-73a487a3c108 button.colab-df-convert');\n",
              "        buttonEl.style.display =\n",
              "          google.colab.kernel.accessAllowed ? 'block' : 'none';\n",
              "\n",
              "        async function convertToInteractive(key) {\n",
              "          const element = document.querySelector('#df-e4c1638d-9494-4aab-91e2-73a487a3c108');\n",
              "          const dataTable =\n",
              "            await google.colab.kernel.invokeFunction('convertToInteractive',\n",
              "                                                     [key], {});\n",
              "          if (!dataTable) return;\n",
              "\n",
              "          const docLinkHtml = 'Like what you see? Visit the ' +\n",
              "            '<a target=\"_blank\" href=https://colab.research.google.com/notebooks/data_table.ipynb>data table notebook</a>'\n",
              "            + ' to learn more about interactive tables.';\n",
              "          element.innerHTML = '';\n",
              "          dataTable['output_type'] = 'display_data';\n",
              "          await google.colab.output.renderOutput(dataTable, element);\n",
              "          const docLink = document.createElement('div');\n",
              "          docLink.innerHTML = docLinkHtml;\n",
              "          element.appendChild(docLink);\n",
              "        }\n",
              "      </script>\n",
              "    </div>\n",
              "  </div>\n",
              "  "
            ]
          },
          "metadata": {},
          "execution_count": 21
        }
      ],
      "source": [
        "df.sample(5)"
      ]
    },
    {
      "cell_type": "code",
      "execution_count": 22,
      "metadata": {
        "colab": {
          "base_uri": "https://localhost:8080/",
          "height": 0
        },
        "id": "E75PtM1uP4wu",
        "outputId": "c7662f22-67c8-4da9-9b5e-c30ae4b2e6fc"
      },
      "outputs": [
        {
          "output_type": "execute_result",
          "data": {
            "text/plain": [
              "<matplotlib.axes._subplots.AxesSubplot at 0x7f527937cd50>"
            ]
          },
          "metadata": {},
          "execution_count": 22
        },
        {
          "output_type": "display_data",
          "data": {
            "text/plain": [
              "<Figure size 432x288 with 1 Axes>"
            ],
            "image/png": "[encoded data removed]"
          },
          "metadata": {
            "needs_background": "light"
          }
        }
      ],
      "source": [
        "sns.countplot(df['type'])"
      ]
    },
    {
      "cell_type": "code",
      "execution_count": 23,
      "metadata": {
        "colab": {
          "base_uri": "https://localhost:8080/"
        },
        "id": "UbcEydgBP4zS",
        "outputId": "ef6ed2fc-1512-42d2-ac1a-81c88c10acbf"
      },
      "outputs": [
        {
          "output_type": "execute_result",
          "data": {
            "text/plain": [
              "SanFrancisco           54\n",
              "Spokane                17\n",
              "Seattle                16\n",
              "HartfordSpringfield    15\n",
              "RaleighGreensboro      14\n",
              "Charlotte              10\n",
              "Portland               10\n",
              "Boise                   9\n",
              "Sacramento              8\n",
              "Atlanta                 7\n",
              "LasVegas                6\n",
              "WestTexNewMexico        5\n",
              "BuffaloRochester        5\n",
              "StLouis                 5\n",
              "SanDiego                4\n",
              "Jacksonville            4\n",
              "MiamiFtLauderdale       4\n",
              "Tampa                   4\n",
              "Orlando                 3\n",
              "California              2\n",
              "PhoenixTucson           2\n",
              "GrandRapids             2\n",
              "West                    2\n",
              "NewYork                 1\n",
              "Name: region, dtype: int64"
            ]
          },
          "metadata": {},
          "execution_count": 23
        }
      ],
      "source": [
        "df[df['AveragePrice'] >= 2.5].region.value_counts()"
      ]
    },
    {
      "cell_type": "code",
      "execution_count": 23,
      "metadata": {
        "id": "6c_F_7mOVlB7"
      },
      "outputs": [],
      "source": [
        ""
      ]
    },
    {
      "cell_type": "code",
      "execution_count": 24,
      "metadata": {
        "colab": {
          "base_uri": "https://localhost:8080/"
        },
        "id": "S-_doTtSP41w",
        "outputId": "09e08bfa-7711-486b-a7c4-4e2fe5d1c7cc"
      },
      "outputs": [
        {
          "output_type": "stream",
          "name": "stdout",
          "text": [
            "Albany:  1.5610355029585792\n",
            "Atlanta:  1.3379585798816571\n",
            "BaltimoreWashington:  1.5342307692307684\n",
            "Boise:  1.348136094674556\n",
            "Boston:  1.5308875739644972\n",
            "BuffaloRochester:  1.5168343195266274\n",
            "California:  1.3953254437869818\n",
            "Charlotte:  1.6060355029585796\n",
            "Chicago:  1.5567751479289942\n",
            "CincinnatiDayton:  1.2092011834319527\n",
            "Columbus:  1.2527810650887576\n",
            "DallasFtWorth:  1.0855917159763315\n",
            "Denver:  1.2185798816568048\n",
            "Detroit:  1.2760946745562132\n",
            "GrandRapids:  1.5049999999999992\n",
            "GreatLakes:  1.3385502958579882\n",
            "HarrisburgScranton:  1.5132840236686393\n",
            "HartfordSpringfield:  1.8186390532544363\n",
            "Houston:  1.0479289940828398\n",
            "Indianapolis:  1.313994082840236\n",
            "Jacksonville:  1.5109467455621308\n",
            "LasVegas:  1.3809171597633145\n",
            "LosAngeles:  1.216005917159763\n",
            "Louisville:  1.286686390532545\n",
            "MiamiFtLauderdale:  1.428491124260355\n",
            "Midsouth:  1.4047633136094666\n",
            "Nashville:  1.2121005917159768\n",
            "NewOrleansMobile:  1.3047928994082851\n",
            "NewYork:  1.727573964497041\n",
            "Northeast:  1.6019230769230774\n",
            "NorthernNewEngland:  1.4773964497041419\n",
            "Orlando:  1.5062130177514785\n",
            "Philadelphia:  1.6321301775147927\n",
            "PhoenixTucson:  1.224437869822485\n",
            "Pittsburgh:  1.3643195266272197\n",
            "Plains:  1.4365088757396456\n",
            "Portland:  1.3177218934911241\n",
            "RaleighGreensboro:  1.555118343195266\n",
            "RichmondNorfolk:  1.2913313609467465\n",
            "Roanoke:  1.2479289940828397\n",
            "Sacramento:  1.6215680473372784\n",
            "SanDiego:  1.3981656804733738\n",
            "SanFrancisco:  1.8042011834319525\n",
            "Seattle:  1.4425739644970408\n",
            "SouthCarolina:  1.4032840236686406\n",
            "SouthCentral:  1.1012426035502958\n",
            "Southeast:  1.39801775147929\n",
            "Spokane:  1.4455917159763314\n",
            "StLouis:  1.4306213017751486\n",
            "Syracuse:  1.5203254437869826\n",
            "Tampa:  1.4088461538461536\n",
            "TotalUS:  1.319023668639053\n",
            "West:  1.2722189349112432\n",
            "WestTexNewMexico:  1.2617014925373136\n"
          ]
        }
      ],
      "source": [
        "for region in df.region.unique():\n",
        "  print(f'{region}: ',df[df['region'] == region]['AveragePrice'].mean())"
      ]
    },
    {
      "cell_type": "markdown",
      "metadata": {
        "id": "M9rxM3ACnmpp"
      },
      "source": [
        "Average prices based on the region"
      ]
    },
    {
      "cell_type": "markdown",
      "metadata": {
        "id": "FAAKdEVunmsw"
      },
      "source": [
        ""
      ]
    },
    {
      "cell_type": "code",
      "execution_count": 25,
      "metadata": {
        "colab": {
          "base_uri": "https://localhost:8080/"
        },
        "id": "oiem3RDPP44A",
        "outputId": "4c5d29ce-4822-4eb4-ca9e-55df7f7d2126"
      },
      "outputs": [
        {
          "output_type": "execute_result",
          "data": {
            "text/plain": [
              "SouthCentral    169\n",
              "TotalUS         169\n",
              "West            169\n",
              "California      167\n",
              "Northeast       112\n",
              "Southeast        59\n",
              "GreatLakes       46\n",
              "LosAngeles       11\n",
              "Midsouth         11\n",
              "Name: region, dtype: int64"
            ]
          },
          "metadata": {},
          "execution_count": 25
        }
      ],
      "source": [
        "df[df['Total Volume'] >= df['Total Volume'].quantile(.95)]['region'].value_counts()"
      ]
    },
    {
      "cell_type": "code",
      "execution_count": 26,
      "metadata": {
        "colab": {
          "base_uri": "https://localhost:8080/",
          "height": 0
        },
        "id": "5pAMeQQZP45y",
        "outputId": "92443ed4-f7e5-4e36-c41b-0306a9007b2c"
      },
      "outputs": [
        {
          "output_type": "execute_result",
          "data": {
            "text/plain": [
              "           Date  AveragePrice  Total Volume     4046      4225   4770  \\\n",
              "8549 2018-01-07          1.28     161876.76  8645.30  92302.56  56.67   \n",
              "2822 2016-09-18          1.39      79513.63  6624.37  63384.56  37.48   \n",
              "\n",
              "      Total Bags  Small Bags  Large Bags  XLarge Bags          type  LE_type  \\\n",
              "8549    60872.23    12248.04    48624.19          0.0  conventional        0   \n",
              "2822     9467.22     8958.14      509.08          0.0  conventional        0   \n",
              "\n",
              "      year            region  LE_region  \n",
              "8549  2018  BuffaloRochester          5  \n",
              "2822  2016            Albany          0  "
            ],
            "text/html": [
              "\n",
              "  <div id=\"df-ab29daa1-3d49-4497-847f-2d0574100657\">\n",
              "    <div class=\"colab-df-container\">\n",
              "      <div>\n",
              "<style scoped>\n",
              "    .dataframe tbody tr th:only-of-type {\n",
              "        vertical-align: middle;\n",
              "    }\n",
              "\n",
              "    .dataframe tbody tr th {\n",
              "        vertical-align: top;\n",
              "    }\n",
              "\n",
              "    .dataframe thead th {\n",
              "        text-align: right;\n",
              "    }\n",
              "</style>\n",
              "<table border=\"1\" class=\"dataframe\">\n",
              "  <thead>\n",
              "    <tr style=\"text-align: right;\">\n",
              "      <th></th>\n",
              "      <th>Date</th>\n",
              "      <th>AveragePrice</th>\n",
              "      <th>Total Volume</th>\n",
              "      <th>4046</th>\n",
              "      <th>4225</th>\n",
              "      <th>4770</th>\n",
              "      <th>Total Bags</th>\n",
              "      <th>Small Bags</th>\n",
              "      <th>Large Bags</th>\n",
              "      <th>XLarge Bags</th>\n",
              "      <th>type</th>\n",
              "      <th>LE_type</th>\n",
              "      <th>year</th>\n",
              "      <th>region</th>\n",
              "      <th>LE_region</th>\n",
              "    </tr>\n",
              "  </thead>\n",
              "  <tbody>\n",
              "    <tr>\n",
              "      <th>8549</th>\n",
              "      <td>2018-01-07</td>\n",
              "      <td>1.28</td>\n",
              "      <td>161876.76</td>\n",
              "      <td>8645.30</td>\n",
              "      <td>92302.56</td>\n",
              "      <td>56.67</td>\n",
              "      <td>60872.23</td>\n",
              "      <td>12248.04</td>\n",
              "      <td>48624.19</td>\n",
              "      <td>0.0</td>\n",
              "      <td>conventional</td>\n",
              "      <td>0</td>\n",
              "      <td>2018</td>\n",
              "      <td>BuffaloRochester</td>\n",
              "      <td>5</td>\n",
              "    </tr>\n",
              "    <tr>\n",
              "      <th>2822</th>\n",
              "      <td>2016-09-18</td>\n",
              "      <td>1.39</td>\n",
              "      <td>79513.63</td>\n",
              "      <td>6624.37</td>\n",
              "      <td>63384.56</td>\n",
              "      <td>37.48</td>\n",
              "      <td>9467.22</td>\n",
              "      <td>8958.14</td>\n",
              "      <td>509.08</td>\n",
              "      <td>0.0</td>\n",
              "      <td>conventional</td>\n",
              "      <td>0</td>\n",
              "      <td>2016</td>\n",
              "      <td>Albany</td>\n",
              "      <td>0</td>\n",
              "    </tr>\n",
              "  </tbody>\n",
              "</table>\n",
              "</div>\n",
              "      <button class=\"colab-df-convert\" onclick=\"convertToInteractive('df-ab29daa1-3d49-4497-847f-2d0574100657')\"\n",
              "              title=\"Convert this dataframe to an interactive table.\"\n",
              "              style=\"display:none;\">\n",
              "        \n",
              "  <svg xmlns=\"http://www.w3.org/2000/svg\" height=\"24px\"viewBox=\"0 0 24 24\"\n",
              "       width=\"24px\">\n",
              "    <path d=\"M0 0h24v24H0V0z\" fill=\"none\"/>\n",
              "    <path d=\"M18.56 5.44l.94 2.06.94-2.06 2.06-.94-2.06-.94-.94-2.06-.94 2.06-2.06.94zm-11 1L8.5 8.5l.94-2.06 2.06-.94-2.06-.94L8.5 2.5l-.94 2.06-2.06.94zm10 10l.94 2.06.94-2.06 2.06-.94-2.06-.94-.94-2.06-.94 2.06-2.06.94z\"/><path d=\"M17.41 7.96l-1.37-1.37c-.4-.4-.92-.59-1.43-.59-.52 0-1.04.2-1.43.59L10.3 9.45l-7.72 7.72c-.78.78-.78 2.05 0 2.83L4 21.41c.39.39.9.59 1.41.59.51 0 1.02-.2 1.41-.59l7.78-7.78 2.81-2.81c.8-.78.8-2.07 0-2.86zM5.41 20L4 18.59l7.72-7.72 1.47 1.35L5.41 20z\"/>\n",
              "  </svg>\n",
              "      </button>\n",
              "      \n",
              "  <style>\n",
              "    .colab-df-container {\n",
              "      display:flex;\n",
              "      flex-wrap:wrap;\n",
              "      gap: 12px;\n",
              "    }\n",
              "\n",
              "    .colab-df-convert {\n",
              "      background-color: #E8F0FE;\n",
              "      border: none;\n",
              "      border-radius: 50%;\n",
              "      cursor: pointer;\n",
              "      display: none;\n",
              "      fill: #1967D2;\n",
              "      height: 32px;\n",
              "      padding: 0 0 0 0;\n",
              "      width: 32px;\n",
              "    }\n",
              "\n",
              "    .colab-df-convert:hover {\n",
              "      background-color: #E2EBFA;\n",
              "      box-shadow: 0px 1px 2px rgba(60, 64, 67, 0.3), 0px 1px 3px 1px rgba(60, 64, 67, 0.15);\n",
              "      fill: #174EA6;\n",
              "    }\n",
              "\n",
              "    [theme=dark] .colab-df-convert {\n",
              "      background-color: #3B4455;\n",
              "      fill: #D2E3FC;\n",
              "    }\n",
              "\n",
              "    [theme=dark] .colab-df-convert:hover {\n",
              "      background-color: #434B5C;\n",
              "      box-shadow: 0px 1px 3px 1px rgba(0, 0, 0, 0.15);\n",
              "      filter: drop-shadow(0px 1px 2px rgba(0, 0, 0, 0.3));\n",
              "      fill: #FFFFFF;\n",
              "    }\n",
              "  </style>\n",
              "\n",
              "      <script>\n",
              "        const buttonEl =\n",
              "          document.querySelector('#df-ab29daa1-3d49-4497-847f-2d0574100657 button.colab-df-convert');\n",
              "        buttonEl.style.display =\n",
              "          google.colab.kernel.accessAllowed ? 'block' : 'none';\n",
              "\n",
              "        async function convertToInteractive(key) {\n",
              "          const element = document.querySelector('#df-ab29daa1-3d49-4497-847f-2d0574100657');\n",
              "          const dataTable =\n",
              "            await google.colab.kernel.invokeFunction('convertToInteractive',\n",
              "                                                     [key], {});\n",
              "          if (!dataTable) return;\n",
              "\n",
              "          const docLinkHtml = 'Like what you see? Visit the ' +\n",
              "            '<a target=\"_blank\" href=https://colab.research.google.com/notebooks/data_table.ipynb>data table notebook</a>'\n",
              "            + ' to learn more about interactive tables.';\n",
              "          element.innerHTML = '';\n",
              "          dataTable['output_type'] = 'display_data';\n",
              "          await google.colab.output.renderOutput(dataTable, element);\n",
              "          const docLink = document.createElement('div');\n",
              "          docLink.innerHTML = docLinkHtml;\n",
              "          element.appendChild(docLink);\n",
              "        }\n",
              "      </script>\n",
              "    </div>\n",
              "  </div>\n",
              "  "
            ]
          },
          "metadata": {},
          "execution_count": 26
        }
      ],
      "source": [
        "df.sample(2)"
      ]
    },
    {
      "cell_type": "code",
      "execution_count": 26,
      "metadata": {
        "id": "PTRvkxgKP47y"
      },
      "outputs": [],
      "source": [
        ""
      ]
    },
    {
      "cell_type": "markdown",
      "metadata": {
        "id": "NdjOTrk-6fuh"
      },
      "source": [
        "### Spliting Numerical data"
      ]
    },
    {
      "cell_type": "code",
      "execution_count": 27,
      "metadata": {
        "id": "QzO_Xol_6srw"
      },
      "outputs": [],
      "source": [
        "numerical_data = []\n",
        "categorical_data = []\n",
        "\n",
        "for i in df.columns:\n",
        "  if np.dtype(df[i]) != np.dtype('O'):\n",
        "    numerical_data.append(i)\n",
        "  else:\n",
        "    categorical_data.append(i)"
      ]
    },
    {
      "cell_type": "code",
      "execution_count": 28,
      "metadata": {
        "colab": {
          "base_uri": "https://localhost:8080/"
        },
        "id": "_8pRs5VI6su2",
        "outputId": "1b4fd18d-0c90-4438-8bd0-72ee4893a272"
      },
      "outputs": [
        {
          "output_type": "execute_result",
          "data": {
            "text/plain": [
              "['AveragePrice',\n",
              " 'Total Volume',\n",
              " '4046',\n",
              " '4225',\n",
              " '4770',\n",
              " 'Total Bags',\n",
              " 'Small Bags',\n",
              " 'Large Bags',\n",
              " 'XLarge Bags',\n",
              " 'LE_type',\n",
              " 'year',\n",
              " 'LE_region']"
            ]
          },
          "metadata": {},
          "execution_count": 28
        }
      ],
      "source": [
        "numerical = numerical_data[1:]\n",
        "numerical"
      ]
    },
    {
      "cell_type": "code",
      "execution_count": 29,
      "metadata": {
        "id": "v4W7TB3M6s5K"
      },
      "outputs": [],
      "source": [
        "df_num = df[[numerical][0]]"
      ]
    },
    {
      "cell_type": "code",
      "execution_count": 30,
      "metadata": {
        "colab": {
          "base_uri": "https://localhost:8080/",
          "height": 0
        },
        "id": "VWAW0y3iKxgk",
        "outputId": "7313b75b-5d57-4f5f-bee8-33c8a0806334"
      },
      "outputs": [
        {
          "output_type": "execute_result",
          "data": {
            "text/plain": [
              "       AveragePrice  Total Volume       4046        4225       4770  \\\n",
              "10780          1.75       2782.53    1382.97       52.89       0.00   \n",
              "15380          1.67      24471.73    4093.04      451.74      49.81   \n",
              "1196           1.04      61654.94    1377.63    37760.21    3204.01   \n",
              "2838           1.49     127812.25    2580.77   104876.94     103.64   \n",
              "4135           1.16    3304967.62  674982.83  1530425.54  230513.77   \n",
              "\n",
              "       Total Bags  Small Bags  Large Bags  XLarge Bags  LE_type  year  \\\n",
              "10780     1346.67     1346.67        0.00         0.00        1  2015   \n",
              "15380    19877.14    19803.55       73.59         0.00        1  2017   \n",
              "1196     19313.09    11289.80     7288.66       734.63        0  2015   \n",
              "2838     20250.90    19519.92      180.98       550.00        0  2016   \n",
              "4135    869045.48   750464.94    81187.92     37392.62        0  2016   \n",
              "\n",
              "       LE_region  \n",
              "10780         31  \n",
              "15380         12  \n",
              "1196          23  \n",
              "2838           0  \n",
              "4135          25  "
            ],
            "text/html": [
              "\n",
              "  <div id=\"df-aea9ace9-0f5d-427d-b88f-eaf638fd20c2\">\n",
              "    <div class=\"colab-df-container\">\n",
              "      <div>\n",
              "<style scoped>\n",
              "    .dataframe tbody tr th:only-of-type {\n",
              "        vertical-align: middle;\n",
              "    }\n",
              "\n",
              "    .dataframe tbody tr th {\n",
              "        vertical-align: top;\n",
              "    }\n",
              "\n",
              "    .dataframe thead th {\n",
              "        text-align: right;\n",
              "    }\n",
              "</style>\n",
              "<table border=\"1\" class=\"dataframe\">\n",
              "  <thead>\n",
              "    <tr style=\"text-align: right;\">\n",
              "      <th></th>\n",
              "      <th>AveragePrice</th>\n",
              "      <th>Total Volume</th>\n",
              "      <th>4046</th>\n",
              "      <th>4225</th>\n",
              "      <th>4770</th>\n",
              "      <th>Total Bags</th>\n",
              "      <th>Small Bags</th>\n",
              "      <th>Large Bags</th>\n",
              "      <th>XLarge Bags</th>\n",
              "      <th>LE_type</th>\n",
              "      <th>year</th>\n",
              "      <th>LE_region</th>\n",
              "    </tr>\n",
              "  </thead>\n",
              "  <tbody>\n",
              "    <tr>\n",
              "      <th>10780</th>\n",
              "      <td>1.75</td>\n",
              "      <td>2782.53</td>\n",
              "      <td>1382.97</td>\n",
              "      <td>52.89</td>\n",
              "      <td>0.00</td>\n",
              "      <td>1346.67</td>\n",
              "      <td>1346.67</td>\n",
              "      <td>0.00</td>\n",
              "      <td>0.00</td>\n",
              "      <td>1</td>\n",
              "      <td>2015</td>\n",
              "      <td>31</td>\n",
              "    </tr>\n",
              "    <tr>\n",
              "      <th>15380</th>\n",
              "      <td>1.67</td>\n",
              "      <td>24471.73</td>\n",
              "      <td>4093.04</td>\n",
              "      <td>451.74</td>\n",
              "      <td>49.81</td>\n",
              "      <td>19877.14</td>\n",
              "      <td>19803.55</td>\n",
              "      <td>73.59</td>\n",
              "      <td>0.00</td>\n",
              "      <td>1</td>\n",
              "      <td>2017</td>\n",
              "      <td>12</td>\n",
              "    </tr>\n",
              "    <tr>\n",
              "      <th>1196</th>\n",
              "      <td>1.04</td>\n",
              "      <td>61654.94</td>\n",
              "      <td>1377.63</td>\n",
              "      <td>37760.21</td>\n",
              "      <td>3204.01</td>\n",
              "      <td>19313.09</td>\n",
              "      <td>11289.80</td>\n",
              "      <td>7288.66</td>\n",
              "      <td>734.63</td>\n",
              "      <td>0</td>\n",
              "      <td>2015</td>\n",
              "      <td>23</td>\n",
              "    </tr>\n",
              "    <tr>\n",
              "      <th>2838</th>\n",
              "      <td>1.49</td>\n",
              "      <td>127812.25</td>\n",
              "      <td>2580.77</td>\n",
              "      <td>104876.94</td>\n",
              "      <td>103.64</td>\n",
              "      <td>20250.90</td>\n",
              "      <td>19519.92</td>\n",
              "      <td>180.98</td>\n",
              "      <td>550.00</td>\n",
              "      <td>0</td>\n",
              "      <td>2016</td>\n",
              "      <td>0</td>\n",
              "    </tr>\n",
              "    <tr>\n",
              "      <th>4135</th>\n",
              "      <td>1.16</td>\n",
              "      <td>3304967.62</td>\n",
              "      <td>674982.83</td>\n",
              "      <td>1530425.54</td>\n",
              "      <td>230513.77</td>\n",
              "      <td>869045.48</td>\n",
              "      <td>750464.94</td>\n",
              "      <td>81187.92</td>\n",
              "      <td>37392.62</td>\n",
              "      <td>0</td>\n",
              "      <td>2016</td>\n",
              "      <td>25</td>\n",
              "    </tr>\n",
              "  </tbody>\n",
              "</table>\n",
              "</div>\n",
              "      <button class=\"colab-df-convert\" onclick=\"convertToInteractive('df-aea9ace9-0f5d-427d-b88f-eaf638fd20c2')\"\n",
              "              title=\"Convert this dataframe to an interactive table.\"\n",
              "              style=\"display:none;\">\n",
              "        \n",
              "  <svg xmlns=\"http://www.w3.org/2000/svg\" height=\"24px\"viewBox=\"0 0 24 24\"\n",
              "       width=\"24px\">\n",
              "    <path d=\"M0 0h24v24H0V0z\" fill=\"none\"/>\n",
              "    <path d=\"M18.56 5.44l.94 2.06.94-2.06 2.06-.94-2.06-.94-.94-2.06-.94 2.06-2.06.94zm-11 1L8.5 8.5l.94-2.06 2.06-.94-2.06-.94L8.5 2.5l-.94 2.06-2.06.94zm10 10l.94 2.06.94-2.06 2.06-.94-2.06-.94-.94-2.06-.94 2.06-2.06.94z\"/><path d=\"M17.41 7.96l-1.37-1.37c-.4-.4-.92-.59-1.43-.59-.52 0-1.04.2-1.43.59L10.3 9.45l-7.72 7.72c-.78.78-.78 2.05 0 2.83L4 21.41c.39.39.9.59 1.41.59.51 0 1.02-.2 1.41-.59l7.78-7.78 2.81-2.81c.8-.78.8-2.07 0-2.86zM5.41 20L4 18.59l7.72-7.72 1.47 1.35L5.41 20z\"/>\n",
              "  </svg>\n",
              "      </button>\n",
              "      \n",
              "  <style>\n",
              "    .colab-df-container {\n",
              "      display:flex;\n",
              "      flex-wrap:wrap;\n",
              "      gap: 12px;\n",
              "    }\n",
              "\n",
              "    .colab-df-convert {\n",
              "      background-color: #E8F0FE;\n",
              "      border: none;\n",
              "      border-radius: 50%;\n",
              "      cursor: pointer;\n",
              "      display: none;\n",
              "      fill: #1967D2;\n",
              "      height: 32px;\n",
              "      padding: 0 0 0 0;\n",
              "      width: 32px;\n",
              "    }\n",
              "\n",
              "    .colab-df-convert:hover {\n",
              "      background-color: #E2EBFA;\n",
              "      box-shadow: 0px 1px 2px rgba(60, 64, 67, 0.3), 0px 1px 3px 1px rgba(60, 64, 67, 0.15);\n",
              "      fill: #174EA6;\n",
              "    }\n",
              "\n",
              "    [theme=dark] .colab-df-convert {\n",
              "      background-color: #3B4455;\n",
              "      fill: #D2E3FC;\n",
              "    }\n",
              "\n",
              "    [theme=dark] .colab-df-convert:hover {\n",
              "      background-color: #434B5C;\n",
              "      box-shadow: 0px 1px 3px 1px rgba(0, 0, 0, 0.15);\n",
              "      filter: drop-shadow(0px 1px 2px rgba(0, 0, 0, 0.3));\n",
              "      fill: #FFFFFF;\n",
              "    }\n",
              "  </style>\n",
              "\n",
              "      <script>\n",
              "        const buttonEl =\n",
              "          document.querySelector('#df-aea9ace9-0f5d-427d-b88f-eaf638fd20c2 button.colab-df-convert');\n",
              "        buttonEl.style.display =\n",
              "          google.colab.kernel.accessAllowed ? 'block' : 'none';\n",
              "\n",
              "        async function convertToInteractive(key) {\n",
              "          const element = document.querySelector('#df-aea9ace9-0f5d-427d-b88f-eaf638fd20c2');\n",
              "          const dataTable =\n",
              "            await google.colab.kernel.invokeFunction('convertToInteractive',\n",
              "                                                     [key], {});\n",
              "          if (!dataTable) return;\n",
              "\n",
              "          const docLinkHtml = 'Like what you see? Visit the ' +\n",
              "            '<a target=\"_blank\" href=https://colab.research.google.com/notebooks/data_table.ipynb>data table notebook</a>'\n",
              "            + ' to learn more about interactive tables.';\n",
              "          element.innerHTML = '';\n",
              "          dataTable['output_type'] = 'display_data';\n",
              "          await google.colab.output.renderOutput(dataTable, element);\n",
              "          const docLink = document.createElement('div');\n",
              "          docLink.innerHTML = docLinkHtml;\n",
              "          element.appendChild(docLink);\n",
              "        }\n",
              "      </script>\n",
              "    </div>\n",
              "  </div>\n",
              "  "
            ]
          },
          "metadata": {},
          "execution_count": 30
        }
      ],
      "source": [
        "df_num.sample(5)"
      ]
    },
    {
      "cell_type": "markdown",
      "metadata": {
        "id": "-q6G4sPdjGiC"
      },
      "source": [
        "### checking outlier"
      ]
    },
    {
      "cell_type": "code",
      "execution_count": 31,
      "metadata": {
        "id": "nSlbKnG2P49w"
      },
      "outputs": [],
      "source": [
        "x = df.drop(['AveragePrice','Date','type','region'],axis = 1)\n",
        "x = pd.DataFrame(power_transform(x),columns = x.columns)\n",
        "# for columns in df.columns:\n",
        "#   sns.boxenplot(df[columns])"
      ]
    },
    {
      "cell_type": "code",
      "execution_count": 32,
      "metadata": {
        "colab": {
          "base_uri": "https://localhost:8080/",
          "height": 0
        },
        "id": "9TneYtjPrYJC",
        "outputId": "2ba165d9-85cb-44c2-b0f9-9cee002ddfb6"
      },
      "outputs": [
        {
          "output_type": "display_data",
          "data": {
            "text/plain": [
              "<Figure size 1440x576 with 1 Axes>"
            ],
            "image/png": "[encoded data removed]"
          },
          "metadata": {
            "needs_background": "light"
          }
        }
      ],
      "source": [
        "df.iloc[:].boxplot(figsize=[20,8])\n",
        "plt.subplots_adjust(bottom=0.25)\n",
        "plt.show()"
      ]
    },
    {
      "cell_type": "code",
      "execution_count": 33,
      "metadata": {
        "id": "KaEW7UaR8Vex"
      },
      "outputs": [],
      "source": [
        "z = np.abs(zscore(df_num))\n",
        "threshold = 3\n",
        "df_new  = df_num[(z<2.5).all(axis=1)]"
      ]
    },
    {
      "cell_type": "code",
      "execution_count": 34,
      "metadata": {
        "colab": {
          "base_uri": "https://localhost:8080/"
        },
        "id": "F88fX6Px8Vqx",
        "outputId": "38f5bbb9-d951-4586-ab66-0f0069020d02"
      },
      "outputs": [
        {
          "output_type": "stream",
          "name": "stdout",
          "text": [
            "(18249, 12)\n"
          ]
        }
      ],
      "source": [
        "print(df_num.shape)"
      ]
    },
    {
      "cell_type": "code",
      "execution_count": 35,
      "metadata": {
        "colab": {
          "base_uri": "https://localhost:8080/"
        },
        "id": "wMxeel3K8WS7",
        "outputId": "af08f0e0-4527-4486-8f6e-efbe3a565d81"
      },
      "outputs": [
        {
          "output_type": "stream",
          "name": "stdout",
          "text": [
            "(17341, 12)\n"
          ]
        }
      ],
      "source": [
        "print(df_new.shape)"
      ]
    },
    {
      "cell_type": "code",
      "source": [
        "df_new.iloc[:].boxplot(figsize=[20,8])\n",
        "plt.subplots_adjust(bottom=0.25)\n",
        "plt.show()"
      ],
      "metadata": {
        "colab": {
          "base_uri": "https://localhost:8080/",
          "height": 0
        },
        "id": "bKvZJQtqbF9i",
        "outputId": "5964c260-c434-481c-f3b3-71f761ac700f"
      },
      "execution_count": 36,
      "outputs": [
        {
          "output_type": "display_data",
          "data": {
            "text/plain": [
              "<Figure size 1440x576 with 1 Axes>"
            ],
            "image/png": "[encoded data removed]"
          },
          "metadata": {
            "needs_background": "light"
          }
        }
      ]
    },
    {
      "cell_type": "markdown",
      "metadata": {
        "id": "P2E1SPBjABgk"
      },
      "source": [
        "Data is lost after removing outliers.\n"
      ]
    },
    {
      "cell_type": "code",
      "execution_count": 37,
      "metadata": {
        "colab": {
          "base_uri": "https://localhost:8080/"
        },
        "id": "jLcNhqx08WWI",
        "outputId": "9fdc59d5-e8a8-44bb-b904-c333e403020a"
      },
      "outputs": [
        {
          "output_type": "execute_result",
          "data": {
            "text/plain": [
              "4.975615102197381"
            ]
          },
          "metadata": {},
          "execution_count": 37
        }
      ],
      "source": [
        "(18249-17341)/18249*100"
      ]
    },
    {
      "cell_type": "markdown",
      "metadata": {
        "id": "DWd1NElvuOv4"
      },
      "source": [
        "### Checking Skewness"
      ]
    },
    {
      "cell_type": "code",
      "execution_count": 38,
      "metadata": {
        "colab": {
          "base_uri": "https://localhost:8080/",
          "height": 0
        },
        "id": "QuvZBVJIuVxi",
        "outputId": "291718b6-f78c-4409-d802-eea997535ab9"
      },
      "outputs": [
        {
          "output_type": "display_data",
          "data": {
            "text/plain": [
              "<Figure size 432x288 with 1 Axes>"
            ],
            "image/png": "[encoded data removed]"
          },
          "metadata": {
            "needs_background": "light"
          }
        },
        {
          "output_type": "display_data",
          "data": {
            "text/plain": [
              "<Figure size 432x288 with 1 Axes>"
            ],
            "image/png": "[encoded data removed]"
          },
          "metadata": {
            "needs_background": "light"
          }
        },
        {
          "output_type": "display_data",
          "data": {
            "text/plain": [
              "<Figure size 432x288 with 1 Axes>"
            ],
            "image/png": "[encoded data removed]"
          },
          "metadata": {
            "needs_background": "light"
          }
        },
        {
          "output_type": "display_data",
          "data": {
            "text/plain": [
              "<Figure size 432x288 with 1 Axes>"
            ],
            "image/png": "[encoded data removed]"
          },
          "metadata": {
            "needs_background": "light"
          }
        },
        {
          "output_type": "display_data",
          "data": {
            "text/plain": [
              "<Figure size 432x288 with 1 Axes>"
            ],
            "image/png": "[encoded data removed]"
          },
          "metadata": {
            "needs_background": "light"
          }
        },
        {
          "output_type": "display_data",
          "data": {
            "text/plain": [
              "<Figure size 432x288 with 1 Axes>"
            ],
            "image/png": "[encoded data removed]"
          },
          "metadata": {
            "needs_background": "light"
          }
        },
        {
          "output_type": "display_data",
          "data": {
            "text/plain": [
              "<Figure size 432x288 with 1 Axes>"
            ],
            "image/png": "[encoded data removed]"
          },
          "metadata": {
            "needs_background": "light"
          }
        },
        {
          "output_type": "display_data",
          "data": {
            "text/plain": [
              "<Figure size 432x288 with 1 Axes>"
            ],
            "image/png": "[encoded data removed]"
          },
          "metadata": {
            "needs_background": "light"
          }
        },
        {
          "output_type": "display_data",
          "data": {
            "text/plain": [
              "<Figure size 432x288 with 1 Axes>"
            ],
            "image/png": "[encoded data removed]"
          },
          "metadata": {
            "needs_background": "light"
          }
        },
        {
          "output_type": "display_data",
          "data": {
            "text/plain": [
              "<Figure size 432x288 with 1 Axes>"
            ],
            "image/png": "[encoded data removed]"
          },
          "metadata": {
            "needs_background": "light"
          }
        },
        {
          "output_type": "display_data",
          "data": {
            "text/plain": [
              "<Figure size 432x288 with 1 Axes>"
            ],
            "image/png": "[encoded data removed]"
          },
          "metadata": {
            "needs_background": "light"
          }
        },
        {
          "output_type": "display_data",
          "data": {
            "text/plain": [
              "<Figure size 432x288 with 1 Axes>"
            ],
            "image/png": "[encoded data removed]"
          },
          "metadata": {
            "needs_background": "light"
          }
        }
      ],
      "source": [
        "for i in df.columns:\n",
        "  try:\n",
        "    sns.distplot(df_new[i])\n",
        "    plt.title(i)\n",
        "    plt.show()\n",
        "  except:\n",
        "    pass"
      ]
    },
    {
      "cell_type": "markdown",
      "metadata": {
        "id": "tLqmttCtz23g"
      },
      "source": [
        "Skewness is present in the data"
      ]
    },
    {
      "cell_type": "markdown",
      "metadata": {
        "id": "v_ODbKMrlrpU"
      },
      "source": [
        "## Regression Model"
      ]
    },
    {
      "cell_type": "markdown",
      "metadata": {
        "id": "64adpQwUuoVV"
      },
      "source": [
        "### Spliting Data"
      ]
    },
    {
      "cell_type": "code",
      "execution_count": 39,
      "metadata": {
        "id": "YjS1Q5gjz9Qq"
      },
      "outputs": [],
      "source": [
        "X = df_new.drop(['AveragePrice'],axis=1)\n",
        "y = df_new['AveragePrice']"
      ]
    },
    {
      "cell_type": "code",
      "execution_count": 40,
      "metadata": {
        "id": "T5Ko6XOT-aVv"
      },
      "outputs": [],
      "source": [
        "X_train, X_test, y_train, y_test = train_test_split(X, y, test_size=.2, random_state = 42)"
      ]
    },
    {
      "cell_type": "code",
      "execution_count": 41,
      "metadata": {
        "colab": {
          "base_uri": "https://localhost:8080/"
        },
        "id": "4Bcf1Q6kNZaY",
        "outputId": "f87ee373-ce59-4e85-916e-6a8c231107a9"
      },
      "outputs": [
        {
          "output_type": "stream",
          "name": "stdout",
          "text": [
            "0.4084239599946555\n",
            "0.4148322426970339\n",
            "\n",
            "Mean Squared Error:  0.0832471384856938 \n",
            "Mean absolute Error:  0.22720594397124802\n"
          ]
        }
      ],
      "source": [
        "lr = LinearRegression()\n",
        "lr.fit(X_train, y_train)\n",
        "\n",
        "pred_train = lr.predict(X_train)\n",
        "pred_test = lr.predict(X_test)\n",
        "\n",
        "print(lr.score(X_train, y_train))\n",
        "\n",
        "print(r2_score(y_test, pred_test))\n",
        "print('\\nMean Squared Error: ', mean_squared_error(y_test,pred_test), '\\nMean absolute Error: ', mean_absolute_error(y_test,pred_test))"
      ]
    },
    {
      "cell_type": "code",
      "execution_count": 42,
      "metadata": {
        "colab": {
          "base_uri": "https://localhost:8080/"
        },
        "id": "WdP1mxhGOeA2",
        "outputId": "0f139f62-662a-4c89-80f2-f5c3d732894d"
      },
      "outputs": [
        {
          "output_type": "stream",
          "name": "stdout",
          "text": [
            "0.4274246379907961\n",
            "0.4211339173273434\n",
            "\n",
            "Mean Squared Error:  0.08235064961717 \n",
            "Mean absolute Error:  0.22216055518393013\n"
          ]
        }
      ],
      "source": [
        "SV.fit(X_train, y_train)\n",
        "\n",
        "pred_train = SV.predict(X_train)\n",
        "pred_test = SV.predict(X_test)\n",
        "\n",
        "print(SV.score(X_train, y_train))\n",
        "\n",
        "print(r2_score(y_test, pred_test))\n",
        "\n",
        "\n",
        "r2_score(y_test, pred_test)\n",
        "print('\\nMean Squared Error: ', mean_squared_error(y_test,pred_test), '\\nMean absolute Error: ', mean_absolute_error(y_test,pred_test))"
      ]
    },
    {
      "cell_type": "code",
      "execution_count": 43,
      "metadata": {
        "colab": {
          "base_uri": "https://localhost:8080/"
        },
        "id": "k_RqBhQtHQDd",
        "outputId": "5cb7e206-8ee7-4b39-db45-82d60ae9b627"
      },
      "outputs": [
        {
          "output_type": "stream",
          "name": "stdout",
          "text": [
            "0.9772621718678874\n",
            "0.8507193084975879 Random State: 44\n",
            "MAE: 0.10410515998846931\n",
            "MSE: 0.021220914240415105\n",
            "RMSE: 0.1456739998778612\n"
          ]
        }
      ],
      "source": [
        "from sklearn.ensemble import RandomForestRegressor\n",
        "rdr = RandomForestRegressor()\n",
        "max_acc = 0\n",
        "max_rs = 0\n",
        "for i in range(10,200):\n",
        "  X_train, X_test, y_train, y_test = train_test_split(X, y, test_size=.2, random_state = i)\n",
        "  rdr.fit(X_train,y_train)\n",
        "  pred=rdr.predict(X_test)\n",
        "  score = rdr.score(X_train, y_train)\n",
        "  \n",
        "  if score > max_acc:\n",
        "    max_acc = score\n",
        "    max_rs = i\n",
        "print(rdr.score(X_train, y_train))\n",
        "print(r2_score(y_test, pred),'Random State:',max_rs)\n",
        "print('MAE:', mean_absolute_error(y_test, pred))\n",
        "print('MSE:', mean_squared_error(y_test, pred))\n",
        "print('RMSE:', np.sqrt(mean_squared_error(y_test, pred)))"
      ]
    },
    {
      "cell_type": "markdown",
      "metadata": {
        "id": "ECHpcBQsJW3-"
      },
      "source": [
        "Rainforest is working better than the other models\n"
      ]
    },
    {
      "cell_type": "code",
      "execution_count": 44,
      "metadata": {
        "id": "6aHoX48ZJe0H",
        "colab": {
          "base_uri": "https://localhost:8080/",
          "height": 296
        },
        "outputId": "133c128e-f16a-4403-c806-84c4addabc03"
      },
      "outputs": [
        {
          "output_type": "execute_result",
          "data": {
            "text/plain": [
              "<matplotlib.axes._subplots.AxesSubplot at 0x7f527876a790>"
            ]
          },
          "metadata": {},
          "execution_count": 44
        },
        {
          "output_type": "display_data",
          "data": {
            "text/plain": [
              "<Figure size 432x288 with 1 Axes>"
            ],
            "image/png": "[encoded data removed]"
          },
          "metadata": {
            "needs_background": "light"
          }
        }
      ],
      "source": [
        "sns.regplot(x = y_test, y = pred)"
      ]
    },
    {
      "cell_type": "code",
      "execution_count": 45,
      "metadata": {
        "id": "EWYJZbiQJr0m",
        "colab": {
          "base_uri": "https://localhost:8080/",
          "height": 296
        },
        "outputId": "b5bc9ae3-c093-4b47-affd-3fdb559e1acd"
      },
      "outputs": [
        {
          "output_type": "execute_result",
          "data": {
            "text/plain": [
              "<matplotlib.axes._subplots.AxesSubplot at 0x7f5278936e90>"
            ]
          },
          "metadata": {},
          "execution_count": 45
        },
        {
          "output_type": "display_data",
          "data": {
            "text/plain": [
              "<Figure size 432x288 with 1 Axes>"
            ],
            "image/png": "[encoded data removed]"
          },
          "metadata": {
            "needs_background": "light"
          }
        }
      ],
      "source": [
        "sns.distplot(y_test-pred,bins=50)"
      ]
    },
    {
      "cell_type": "markdown",
      "metadata": {
        "id": "EwSc2bqkd6lP"
      },
      "source": [
        "residual is normally distributed\n"
      ]
    },
    {
      "cell_type": "markdown",
      "metadata": {
        "id": "VZ8F8cJYvLIq"
      },
      "source": [
        "## Classification Model"
      ]
    },
    {
      "cell_type": "markdown",
      "metadata": {
        "id": "MwUbrAanviNf"
      },
      "source": [
        "### Spliting Data"
      ]
    },
    {
      "cell_type": "code",
      "execution_count": 46,
      "metadata": {
        "id": "uO9JsaI0vLLM"
      },
      "outputs": [],
      "source": [
        "X = df_new.drop(['LE_region'],axis=1)\n",
        "y = df_new.iloc[:,-1:]\n",
        "\n",
        "lg = LogisticRegression()\n"
      ]
    },
    {
      "cell_type": "code",
      "execution_count": 47,
      "metadata": {
        "id": "9tHQ9p3zvLNq",
        "colab": {
          "base_uri": "https://localhost:8080/"
        },
        "outputId": "af1227f1-6276-4b9d-d20c-72bfa1d9c439"
      },
      "outputs": [
        {
          "output_type": "stream",
          "name": "stdout",
          "text": [
            "0.1697895647160565\n",
            "[[ 0  0  1 ...  0  0  0]\n",
            " [ 0  8  0 ...  3  1  4]\n",
            " [ 0  0 29 ...  1  0  0]\n",
            " ...\n",
            " [ 0  0  0 ... 21  4  0]\n",
            " [ 0  0  0 ... 11 21  0]\n",
            " [ 0  0  2 ...  3  5  7]]\n",
            "              precision    recall  f1-score   support\n",
            "\n",
            "           0       0.00      0.00      0.00        71\n",
            "           1       0.25      0.10      0.15        78\n",
            "           2       0.38      0.49      0.43        59\n",
            "           3       0.00      0.00      0.00        74\n",
            "           4       0.23      0.18      0.20        66\n",
            "           5       0.07      0.25      0.12        72\n",
            "           6       0.17      0.38      0.24        50\n",
            "           7       0.36      0.06      0.10        69\n",
            "           8       0.87      0.47      0.61        72\n",
            "           9       0.19      0.74      0.30        84\n",
            "          10       0.00      0.00      0.00        63\n",
            "          11       0.07      0.02      0.03        54\n",
            "          12       0.31      0.47      0.37        68\n",
            "          13       0.42      0.38      0.40        86\n",
            "          14       0.00      0.00      0.00        65\n",
            "          15       0.12      0.29      0.18        48\n",
            "          16       0.12      0.03      0.05        66\n",
            "          17       0.00      0.00      0.00        55\n",
            "          18       0.07      0.04      0.05        70\n",
            "          19       0.28      0.22      0.24        51\n",
            "          20       0.00      0.00      0.00        59\n",
            "          21       0.11      0.05      0.07        56\n",
            "          22       0.12      0.26      0.17        65\n",
            "          23       0.00      0.00      0.00        60\n",
            "          24       0.13      0.12      0.12        66\n",
            "          25       0.14      0.39      0.21        59\n",
            "          26       0.00      0.00      0.00        70\n",
            "          27       0.17      0.26      0.21        68\n",
            "          28       0.07      0.19      0.10        57\n",
            "          29       0.17      0.30      0.22        74\n",
            "          30       0.10      0.19      0.13        78\n",
            "          31       0.00      0.00      0.00        72\n",
            "          32       0.10      0.23      0.14        62\n",
            "          33       0.36      0.29      0.32        82\n",
            "          34       0.00      0.00      0.00        70\n",
            "          35       0.25      0.25      0.25        57\n",
            "          36       0.03      0.02      0.02        61\n",
            "          37       0.60      0.04      0.07        79\n",
            "          38       0.00      0.00      0.00        53\n",
            "          39       0.00      0.00      0.00        54\n",
            "          40       0.34      0.16      0.22        67\n",
            "          41       0.33      0.09      0.14        65\n",
            "          42       0.22      0.53      0.31        47\n",
            "          43       0.08      0.02      0.03        63\n",
            "          44       0.00      0.00      0.00        60\n",
            "          45       0.20      0.19      0.19        64\n",
            "          46       0.08      0.19      0.11        59\n",
            "          47       0.00      0.00      0.00        55\n",
            "          48       0.08      0.26      0.12        73\n",
            "          49       0.00      0.00      0.00        69\n",
            "          50       0.00      0.00      0.00        71\n",
            "          51       0.13      0.75      0.23        28\n",
            "          52       0.22      0.38      0.28        55\n",
            "          53       0.22      0.10      0.14        70\n",
            "\n",
            "    accuracy                           0.17      3469\n",
            "   macro avg       0.15      0.17      0.13      3469\n",
            "weighted avg       0.16      0.17      0.14      3469\n",
            "\n"
          ]
        }
      ],
      "source": [
        "max_acc = 0\n",
        "max_rs = 0\n",
        "# for i in range(10,50):\n",
        "X_train, X_test, y_train, y_test = train_test_split(X, y, test_size=.2, random_state = 43)\n",
        "lg.fit(X_train,y_train)\n",
        "pred=lg.predict(X_test)\n",
        "score = accuracy_score(y_test, pred)\n",
        "\n",
        "  # if score > max_acc:\n",
        "  #   max_acc = score\n",
        "  #   max_rs = i\n",
        "\n",
        "print(score)\n",
        "print(confusion_matrix(y_test, pred))\n",
        "print(classification_report(y_test, pred))\n",
        "\n"
      ]
    },
    {
      "cell_type": "code",
      "execution_count": 48,
      "metadata": {
        "colab": {
          "base_uri": "https://localhost:8080/"
        },
        "id": "ZCJ764y5r2Z0",
        "outputId": "0d969d1f-dce0-4778-9a0a-3ddc5857239a"
      },
      "outputs": [
        {
          "output_type": "stream",
          "name": "stdout",
          "text": [
            "0.24618045546266937\n",
            "[[ 9  0  0 ...  0  0  0]\n",
            " [ 0 21  0 ...  0  0  1]\n",
            " [ 0  0 27 ...  0  0  0]\n",
            " ...\n",
            " [ 0  0  0 ... 17  0  0]\n",
            " [ 0  0  0 ...  0 19  0]\n",
            " [ 0  0  0 ...  0  0 27]]\n",
            "              precision    recall  f1-score   support\n",
            "\n",
            "           0       0.64      0.13      0.21        71\n",
            "           1       0.64      0.27      0.38        78\n",
            "           2       0.90      0.46      0.61        59\n",
            "           3       0.00      0.00      0.00        74\n",
            "           4       0.81      0.38      0.52        66\n",
            "           5       0.00      0.00      0.00        72\n",
            "           6       0.68      0.30      0.42        50\n",
            "           7       0.00      0.00      0.00        69\n",
            "           8       0.97      0.49      0.65        72\n",
            "           9       0.60      0.31      0.41        84\n",
            "          10       0.24      0.16      0.19        63\n",
            "          11       0.67      0.33      0.44        54\n",
            "          12       0.74      0.34      0.46        68\n",
            "          13       0.53      0.27      0.36        86\n",
            "          14       1.00      0.02      0.03        65\n",
            "          15       1.00      0.23      0.37        48\n",
            "          16       0.33      0.12      0.18        66\n",
            "          17       0.38      0.38      0.38        55\n",
            "          18       0.56      0.26      0.35        70\n",
            "          19       0.20      0.45      0.27        51\n",
            "          20       1.00      0.05      0.10        59\n",
            "          21       0.54      0.25      0.34        56\n",
            "          22       1.00      0.31      0.47        65\n",
            "          23       0.03      0.88      0.06        60\n",
            "          24       0.30      0.12      0.17        66\n",
            "          25       0.86      0.42      0.57        59\n",
            "          26       0.08      0.03      0.04        70\n",
            "          27       0.23      0.26      0.25        68\n",
            "          28       0.93      0.47      0.63        57\n",
            "          29       0.90      0.49      0.63        74\n",
            "          30       0.71      0.19      0.30        78\n",
            "          31       0.00      0.00      0.00        72\n",
            "          32       0.76      0.31      0.44        62\n",
            "          33       0.48      0.24      0.32        82\n",
            "          34       0.00      0.00      0.00        70\n",
            "          35       0.60      0.37      0.46        57\n",
            "          36       0.34      0.25      0.29        61\n",
            "          37       0.00      0.00      0.00        79\n",
            "          38       0.14      0.38      0.21        53\n",
            "          39       0.08      0.31      0.13        54\n",
            "          40       0.66      0.46      0.54        67\n",
            "          41       0.70      0.35      0.47        65\n",
            "          42       0.65      0.47      0.54        47\n",
            "          43       0.41      0.11      0.18        63\n",
            "          44       0.24      0.37      0.29        60\n",
            "          45       0.94      0.25      0.40        64\n",
            "          46       1.00      0.36      0.53        59\n",
            "          47       0.00      0.00      0.00        55\n",
            "          48       0.00      0.00      0.00        73\n",
            "          49       0.00      0.00      0.00        69\n",
            "          50       0.15      0.03      0.05        71\n",
            "          51       0.77      0.61      0.68        28\n",
            "          52       0.90      0.35      0.50        55\n",
            "          53       0.61      0.39      0.47        70\n",
            "\n",
            "    accuracy                           0.25      3469\n",
            "   macro avg       0.50      0.26      0.30      3469\n",
            "weighted avg       0.49      0.25      0.29      3469\n",
            "\n"
          ]
        }
      ],
      "source": [
        "X_train, X_test, y_train, y_test = train_test_split(X, y, test_size=.2, random_state = 43)\n",
        "svc.fit(X_train,y_train)\n",
        "pred=svc.predict(X_test)\n",
        "score = accuracy_score(y_test, pred)\n",
        "\n",
        "print(score)\n",
        "print(confusion_matrix(y_test, pred))\n",
        "print(classification_report(y_test, pred))\n"
      ]
    },
    {
      "cell_type": "code",
      "execution_count": 49,
      "metadata": {
        "colab": {
          "base_uri": "https://localhost:8080/"
        },
        "id": "zuSYbYkcslPT",
        "outputId": "275b5fde-14f9-4d57-cdac-418e796f976a"
      },
      "outputs": [
        {
          "output_type": "stream",
          "name": "stdout",
          "text": [
            "0.7927356586912655\n",
            "[[55  0  0 ...  0  0  0]\n",
            " [ 0 56  0 ...  0  0  0]\n",
            " [ 0  0 52 ...  0  0  1]\n",
            " ...\n",
            " [ 0  0  0 ... 28  0  0]\n",
            " [ 0  0  0 ...  0 51  0]\n",
            " [ 0  1  1 ...  0  0 51]]\n",
            "              precision    recall  f1-score   support\n",
            "\n",
            "           0       0.76      0.77      0.77        71\n",
            "           1       0.77      0.72      0.74        78\n",
            "           2       0.84      0.88      0.86        59\n",
            "           3       0.79      0.78      0.79        74\n",
            "           4       0.78      0.86      0.82        66\n",
            "           5       0.80      0.74      0.77        72\n",
            "           6       0.96      0.86      0.91        50\n",
            "           7       0.81      0.78      0.79        69\n",
            "           8       0.95      0.97      0.96        72\n",
            "           9       0.82      0.77      0.80        84\n",
            "          10       0.57      0.62      0.60        63\n",
            "          11       0.79      0.93      0.85        54\n",
            "          12       0.83      0.78      0.80        68\n",
            "          13       0.77      0.74      0.76        86\n",
            "          14       0.79      0.68      0.73        65\n",
            "          15       0.91      0.85      0.88        48\n",
            "          16       0.86      0.86      0.86        66\n",
            "          17       0.80      0.89      0.84        55\n",
            "          18       0.85      0.79      0.81        70\n",
            "          19       0.84      0.84      0.84        51\n",
            "          20       0.88      0.90      0.89        59\n",
            "          21       0.64      0.64      0.64        56\n",
            "          22       0.92      0.88      0.90        65\n",
            "          23       0.70      0.82      0.75        60\n",
            "          24       0.59      0.67      0.62        66\n",
            "          25       0.90      0.92      0.91        59\n",
            "          26       0.68      0.70      0.69        70\n",
            "          27       0.65      0.75      0.69        68\n",
            "          28       0.83      0.84      0.83        57\n",
            "          29       0.85      0.95      0.90        74\n",
            "          30       0.89      0.83      0.86        78\n",
            "          31       0.69      0.67      0.68        72\n",
            "          32       0.86      0.68      0.76        62\n",
            "          33       0.81      0.80      0.81        82\n",
            "          34       0.79      0.84      0.81        70\n",
            "          35       0.91      0.84      0.87        57\n",
            "          36       0.66      0.70      0.68        61\n",
            "          37       0.76      0.78      0.77        79\n",
            "          38       0.68      0.64      0.66        53\n",
            "          39       0.86      0.80      0.83        54\n",
            "          40       0.82      0.90      0.86        67\n",
            "          41       0.69      0.63      0.66        65\n",
            "          42       0.90      0.98      0.94        47\n",
            "          43       0.72      0.62      0.67        63\n",
            "          44       0.77      0.73      0.75        60\n",
            "          45       0.92      0.94      0.93        64\n",
            "          46       0.88      0.95      0.91        59\n",
            "          47       0.78      0.78      0.78        55\n",
            "          48       0.75      0.77      0.76        73\n",
            "          49       0.87      0.77      0.82        69\n",
            "          50       0.58      0.61      0.59        71\n",
            "          51       0.97      1.00      0.98        28\n",
            "          52       0.91      0.93      0.92        55\n",
            "          53       0.75      0.73      0.74        70\n",
            "\n",
            "    accuracy                           0.79      3469\n",
            "   macro avg       0.80      0.80      0.80      3469\n",
            "weighted avg       0.79      0.79      0.79      3469\n",
            "\n"
          ]
        }
      ],
      "source": [
        "X_train, X_test, y_train, y_test = train_test_split(X, y, test_size=.2, random_state = 43)\n",
        "dc.fit(X_train,y_train)\n",
        "pred=dc.predict(X_test)\n",
        "score = accuracy_score(y_test, pred)\n",
        "score\n",
        "\n",
        "print(score)\n",
        "print(confusion_matrix(y_test, pred))\n",
        "print(classification_report(y_test, pred))"
      ]
    },
    {
      "cell_type": "code",
      "execution_count": 50,
      "metadata": {
        "colab": {
          "base_uri": "https://localhost:8080/"
        },
        "id": "AEmyWj7evLQS",
        "outputId": "f66c0407-9b89-418c-a8f6-d534fbef008b"
      },
      "outputs": [
        {
          "output_type": "stream",
          "name": "stdout",
          "text": [
            "0.6503315076390891\n",
            "[[55  0  0 ...  0  0  0]\n",
            " [ 0 50  0 ...  0  0  2]\n",
            " [ 0  2 42 ...  0  0  0]\n",
            " ...\n",
            " [ 0  0  0 ... 26  0  0]\n",
            " [ 0  0  0 ...  0 41  0]\n",
            " [ 0  1  0 ...  0  0 38]]\n",
            "              precision    recall  f1-score   support\n",
            "\n",
            "           0       0.57      0.77      0.65        71\n",
            "           1       0.71      0.64      0.68        78\n",
            "           2       0.61      0.71      0.66        59\n",
            "           3       0.79      0.78      0.79        74\n",
            "           4       0.70      0.86      0.78        66\n",
            "           5       0.56      0.49      0.52        72\n",
            "           6       0.75      0.72      0.73        50\n",
            "           7       0.60      0.83      0.70        69\n",
            "           8       0.83      0.83      0.83        72\n",
            "           9       0.63      0.67      0.65        84\n",
            "          10       0.51      0.65      0.57        63\n",
            "          11       0.56      0.74      0.63        54\n",
            "          12       0.76      0.62      0.68        68\n",
            "          13       0.75      0.70      0.72        86\n",
            "          14       0.65      0.71      0.68        65\n",
            "          15       0.70      0.62      0.66        48\n",
            "          16       0.67      0.62      0.65        66\n",
            "          17       0.48      0.55      0.51        55\n",
            "          18       0.70      0.53      0.60        70\n",
            "          19       0.64      0.76      0.70        51\n",
            "          20       0.68      0.71      0.69        59\n",
            "          21       0.63      0.64      0.64        56\n",
            "          22       0.66      0.63      0.65        65\n",
            "          23       0.49      0.62      0.55        60\n",
            "          24       0.39      0.48      0.43        66\n",
            "          25       0.73      0.73      0.73        59\n",
            "          26       0.38      0.41      0.40        70\n",
            "          27       0.59      0.59      0.59        68\n",
            "          28       0.75      0.72      0.73        57\n",
            "          29       0.84      0.80      0.82        74\n",
            "          30       0.66      0.60      0.63        78\n",
            "          31       0.64      0.54      0.59        72\n",
            "          32       0.66      0.61      0.63        62\n",
            "          33       0.65      0.65      0.65        82\n",
            "          34       0.75      0.71      0.73        70\n",
            "          35       0.70      0.88      0.78        57\n",
            "          36       0.42      0.39      0.41        61\n",
            "          37       0.69      0.57      0.62        79\n",
            "          38       0.50      0.42      0.45        53\n",
            "          39       0.57      0.57      0.57        54\n",
            "          40       0.65      0.84      0.73        67\n",
            "          41       0.75      0.72      0.73        65\n",
            "          42       0.79      0.81      0.80        47\n",
            "          43       0.64      0.56      0.59        63\n",
            "          44       0.66      0.67      0.66        60\n",
            "          45       0.88      0.88      0.88        64\n",
            "          46       0.88      0.88      0.88        59\n",
            "          47       0.61      0.36      0.45        55\n",
            "          48       0.66      0.56      0.61        73\n",
            "          49       0.52      0.54      0.53        69\n",
            "          50       0.39      0.25      0.31        71\n",
            "          51       0.81      0.93      0.87        28\n",
            "          52       0.85      0.75      0.80        55\n",
            "          53       0.76      0.54      0.63        70\n",
            "\n",
            "    accuracy                           0.65      3469\n",
            "   macro avg       0.66      0.65      0.65      3469\n",
            "weighted avg       0.65      0.65      0.65      3469\n",
            "\n"
          ]
        }
      ],
      "source": [
        "X_train, X_test, y_train, y_test = train_test_split(X, y, test_size=.2, random_state = 43)\n",
        "knn.fit(X_train,y_train)\n",
        "pred=knn.predict(X_test)\n",
        "score = accuracy_score(y_test, pred)\n",
        "\n",
        "print(score)\n",
        "print(confusion_matrix(y_test, pred))\n",
        "print(classification_report(y_test, pred))\n"
      ]
    },
    {
      "cell_type": "markdown",
      "source": [
        "Decision Tree score is the highest among other classification models"
      ],
      "metadata": {
        "id": "bnUyqn94SJSg"
      }
    },
    {
      "cell_type": "markdown",
      "metadata": {
        "id": "4Yjo-H3-vXRx"
      },
      "source": [
        "### Saving Classification Model"
      ]
    },
    {
      "cell_type": "code",
      "execution_count": 51,
      "metadata": {
        "id": "rYFhgNi8Mrkj"
      },
      "outputs": [],
      "source": [
        "#Lets save the model using joblib and pickle\n",
        "import joblib\n",
        "import pickle\n",
        "joblib.dump(dc, 'baseball.obj')\n",
        "pickle.dump(dc,open('baseball.pkl','wb'))"
      ]
    },
    {
      "cell_type": "code",
      "execution_count": 51,
      "metadata": {
        "id": "FTiQ6XXReep4"
      },
      "outputs": [],
      "source": [
        ""
      ]
    }
  ],
  "metadata": {
    "colab": {
      "collapsed_sections": [
        "FVOQ91PXP3eq",
        "NdjOTrk-6fuh",
        "-q6G4sPdjGiC",
        "DWd1NElvuOv4"
      ],
      "name": "Avacado Project - 3.ipynb",
      "toc_visible": true,
      "provenance": []
    },
    "kernelspec": {
      "display_name": "Python 3",
      "name": "python3"
    },
    "language_info": {
      "name": "python"
    }
  },
  "nbformat": 4,
  "nbformat_minor": 0
}