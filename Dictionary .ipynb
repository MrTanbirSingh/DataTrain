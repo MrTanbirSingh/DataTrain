{
 "cells": [
  {
   "cell_type": "code",
   "execution_count": 1,
   "id": "7b93b15b",
   "metadata": {},
   "outputs": [
    {
     "name": "stdout",
     "output_type": "stream",
     "text": [
      "sky\n",
      "earth\n"
     ]
    }
   ],
   "source": [
    "words = {1:\"sky\",2:\"earth\"}\n",
    "for i in words:\n",
    "    print(words[i])"
   ]
  },
  {
   "cell_type": "code",
   "execution_count": 2,
   "id": "4ca13451",
   "metadata": {},
   "outputs": [
    {
     "name": "stdout",
     "output_type": "stream",
     "text": [
      "Enter integer : 12\n",
      "Even\n",
      "end\n"
     ]
    }
   ],
   "source": [
    "i - int(input(\"Enter integer : \"))\n",
    "\n",
    "if i % 2 == 0:\n",
    "    print(\"Even\")\n",
    "else:\n",
    "    print(\"odd\")3\n",
    "    \n",
    "print(\"end\")"
   ]
  },
  {
   "cell_type": "code",
   "execution_count": 8,
   "id": "4ad9febe",
   "metadata": {},
   "outputs": [
    {
     "name": "stdout",
     "output_type": "stream",
     "text": [
      "[1, 23, 53, 15, 215, 3, 3, 5, 3, 535, 25, 3, 5, 3]\n"
     ]
    }
   ],
   "source": [
    "i = [1,23,4,53,15,215,3,2,3,2,5,3,535,25,24,52,3,5,3]\n",
    "m = [e for e in i if e%2!=0]\n",
    "print(m)"
   ]
  },
  {
   "cell_type": "code",
   "execution_count": 17,
   "id": "83f8dede",
   "metadata": {},
   "outputs": [],
   "source": [
    "a = \"Tanbir is\""
   ]
  },
  {
   "cell_type": "code",
   "execution_count": 26,
   "id": "f2c2a425",
   "metadata": {},
   "outputs": [
    {
     "data": {
      "text/plain": [
       "'TANBIR IS'"
      ]
     },
     "execution_count": 26,
     "metadata": {},
     "output_type": "execute_result"
    }
   ],
   "source": [
    "a.upper()"
   ]
  },
  {
   "cell_type": "code",
   "execution_count": 27,
   "id": "60d43607",
   "metadata": {},
   "outputs": [
    {
     "data": {
      "text/plain": [
       "'tanbir is'"
      ]
     },
     "execution_count": 27,
     "metadata": {},
     "output_type": "execute_result"
    }
   ],
   "source": [
    "a.lower()"
   ]
  },
  {
   "cell_type": "code",
   "execution_count": 28,
   "id": "e844ecd5",
   "metadata": {},
   "outputs": [
    {
     "data": {
      "text/plain": [
       "'tANBIR IS'"
      ]
     },
     "execution_count": 28,
     "metadata": {},
     "output_type": "execute_result"
    }
   ],
   "source": [
    "a.swapcase()"
   ]
  },
  {
   "cell_type": "code",
   "execution_count": 29,
   "id": "1f94c459",
   "metadata": {},
   "outputs": [
    {
     "data": {
      "text/plain": [
       "False"
      ]
     },
     "execution_count": 29,
     "metadata": {},
     "output_type": "execute_result"
    }
   ],
   "source": [
    "a.isdigit()"
   ]
  },
  {
   "cell_type": "code",
   "execution_count": 30,
   "id": "395b518c",
   "metadata": {},
   "outputs": [
    {
     "data": {
      "text/plain": [
       "'Tanbir is'"
      ]
     },
     "execution_count": 30,
     "metadata": {},
     "output_type": "execute_result"
    }
   ],
   "source": [
    "a.capitalize()"
   ]
  },
  {
   "cell_type": "code",
   "execution_count": 31,
   "id": "32d45357",
   "metadata": {},
   "outputs": [
    {
     "data": {
      "text/plain": [
       "'Tanbir Is'"
      ]
     },
     "execution_count": 31,
     "metadata": {},
     "output_type": "execute_result"
    }
   ],
   "source": [
    "a.title()"
   ]
  },
  {
   "cell_type": "code",
   "execution_count": 32,
   "id": "268a5384",
   "metadata": {},
   "outputs": [
    {
     "data": {
      "text/plain": [
       "False"
      ]
     },
     "execution_count": 32,
     "metadata": {},
     "output_type": "execute_result"
    }
   ],
   "source": [
    "a.isalnum()"
   ]
  },
  {
   "cell_type": "code",
   "execution_count": 33,
   "id": "decc8d28",
   "metadata": {},
   "outputs": [
    {
     "data": {
      "text/plain": [
       "False"
      ]
     },
     "execution_count": 33,
     "metadata": {},
     "output_type": "execute_result"
    }
   ],
   "source": [
    "a.isupper()"
   ]
  },
  {
   "cell_type": "code",
   "execution_count": 34,
   "id": "3454a8ee",
   "metadata": {},
   "outputs": [
    {
     "data": {
      "text/plain": [
       "['Tanbir', 'is']"
      ]
     },
     "execution_count": 34,
     "metadata": {},
     "output_type": "execute_result"
    }
   ],
   "source": [
    "a.split()"
   ]
  },
  {
   "cell_type": "code",
   "execution_count": 35,
   "id": "8844c3cd",
   "metadata": {},
   "outputs": [
    {
     "data": {
      "text/plain": [
       "False"
      ]
     },
     "execution_count": 35,
     "metadata": {},
     "output_type": "execute_result"
    }
   ],
   "source": [
    "a.isalpha()"
   ]
  },
  {
   "cell_type": "code",
   "execution_count": 2,
   "id": "bd4e3e59",
   "metadata": {},
   "outputs": [
    {
     "name": "stdout",
     "output_type": "stream",
     "text": [
      "name is Tanbir Singh\n"
     ]
    }
   ],
   "source": [
    "name = \"Tanbir Singh\"\n",
    "print(\"name is %s\" % name)"
   ]
  },
  {
   "cell_type": "code",
   "execution_count": 5,
   "id": "e6a24d59",
   "metadata": {},
   "outputs": [
    {
     "name": "stdout",
     "output_type": "stream",
     "text": [
      "Name is T and age is 25\n"
     ]
    }
   ],
   "source": [
    "n = \"T\"\n",
    "a = 25\n",
    "print(\"Name is %s and age is %d\" % (n,a))"
   ]
  },
  {
   "cell_type": "code",
   "execution_count": 8,
   "id": "97595255",
   "metadata": {},
   "outputs": [
    {
     "name": "stdout",
     "output_type": "stream",
     "text": [
      "name T and age 25\n"
     ]
    }
   ],
   "source": [
    "print(\"name {} and age {}\".format(n,a))"
   ]
  },
  {
   "cell_type": "code",
   "execution_count": 10,
   "id": "cb48dee8",
   "metadata": {},
   "outputs": [
    {
     "name": "stdout",
     "output_type": "stream",
     "text": [
      "2 and 1\n"
     ]
    }
   ],
   "source": [
    "print(\"{1} and {0}\".format(1,2))"
   ]
  },
  {
   "cell_type": "code",
   "execution_count": 11,
   "id": "f89de244",
   "metadata": {},
   "outputs": [
    {
     "name": "stdout",
     "output_type": "stream",
     "text": [
      "1 and 2\n"
     ]
    }
   ],
   "source": [
    "print(\"{0} and {1}\".format(1,2))"
   ]
  },
  {
   "cell_type": "code",
   "execution_count": 20,
   "id": "04650f79",
   "metadata": {},
   "outputs": [
    {
     "name": "stdout",
     "output_type": "stream",
     "text": [
      "\n",
      "Welcome to Python 3.8's help utility!\n",
      "\n",
      "If this is your first time using Python, you should definitely check out\n",
      "the tutorial on the Internet at https://docs.python.org/3.8/tutorial/.\n",
      "\n",
      "Enter the name of any module, keyword, or topic to get help on writing\n",
      "Python programs and using Python modules.  To quit this help utility and\n",
      "return to the interpreter, just type \"quit\".\n",
      "\n",
      "To get a list of available modules, keywords, symbols, or topics, type\n",
      "\"modules\", \"keywords\", \"symbols\", or \"topics\".  Each module also comes\n",
      "with a one-line summary of what it does; to list the modules whose name\n",
      "or summary contain a given string such as \"spam\", type \"modules spam\".\n",
      "\n",
      "\n",
      "You are now leaving help and returning to the Python interpreter.\n",
      "If you want to ask for help on a particular object directly from the\n",
      "interpreter, you can type \"help(object)\".  Executing \"help('string')\"\n",
      "has the same effect as typing a particular string at the help> prompt.\n"
     ]
    }
   ],
   "source": [
    "help()"
   ]
  },
  {
   "cell_type": "markdown",
   "id": "50f8fae4",
   "metadata": {},
   "source": [
    "# User Defined Functions"
   ]
  },
  {
   "cell_type": "code",
   "execution_count": 28,
   "id": "f3f22f3e",
   "metadata": {},
   "outputs": [],
   "source": [
    "# Function Defination"
   ]
  },
  {
   "cell_type": "code",
   "execution_count": 29,
   "id": "d3e0c5ae",
   "metadata": {},
   "outputs": [],
   "source": [
    "def fnc():\n",
    "    print(\"hi\")"
   ]
  },
  {
   "cell_type": "code",
   "execution_count": 30,
   "id": "6fb037da",
   "metadata": {},
   "outputs": [
    {
     "name": "stdout",
     "output_type": "stream",
     "text": [
      "hi\n"
     ]
    }
   ],
   "source": [
    "# Fuction calling\n",
    "fnc()"
   ]
  },
  {
   "cell_type": "code",
   "execution_count": 33,
   "id": "e58a177c",
   "metadata": {},
   "outputs": [
    {
     "name": "stdout",
     "output_type": "stream",
     "text": [
      "10  and  20  =  200\n"
     ]
    }
   ],
   "source": [
    "def addition():\n",
    "    x = 10\n",
    "    y = 20\n",
    "    print(x,\" and \",y,\" = \",x*y)\n",
    "addition()"
   ]
  },
  {
   "cell_type": "code",
   "execution_count": 36,
   "id": "7c0f0668",
   "metadata": {},
   "outputs": [
    {
     "name": "stdout",
     "output_type": "stream",
     "text": [
      "Enter Length : 10\n",
      "Enter Breadth : 10\n",
      "Lenght 10 and Breadth 10 = 100\n"
     ]
    }
   ],
   "source": [
    "def areaofrectangle():\n",
    "    l = int(input(\"Enter Length : \"))\n",
    "    b = int(input(\"Enter Breadth : \"))\n",
    "    area = l * b\n",
    "    print(\"Lenght {} and Breadth {} = {}\".format(l,b,area))\n",
    "areaofrectangle()"
   ]
  },
  {
   "cell_type": "markdown",
   "id": "037048f3",
   "metadata": {},
   "source": [
    " \n",
    " "
   ]
  },
  {
   "cell_type": "markdown",
   "id": "cae235ba",
   "metadata": {},
   "source": [
    "  "
   ]
  },
  {
   "cell_type": "markdown",
   "id": "82ce7c8e",
   "metadata": {},
   "source": [
    "# Exception Handling"
   ]
  },
  {
   "cell_type": "code",
   "execution_count": 8,
   "id": "9be3bbf7",
   "metadata": {},
   "outputs": [
    {
     "name": "stdout",
     "output_type": "stream",
     "text": [
      "Error Info :  division by zero\n"
     ]
    }
   ],
   "source": [
    "try:\n",
    "    3/0\n",
    "except ZeroDivisionError as err:\n",
    "    print(\"Error Info : \",err)"
   ]
  },
  {
   "cell_type": "markdown",
   "id": "251e1a3f",
   "metadata": {},
   "source": [
    " "
   ]
  },
  {
   "cell_type": "markdown",
   "id": "cf242b5e",
   "metadata": {},
   "source": [
    "# CLASS"
   ]
  },
  {
   "cell_type": "code",
   "execution_count": 26,
   "id": "39d5667a",
   "metadata": {
    "scrolled": true
   },
   "outputs": [
    {
     "ename": "NameError",
     "evalue": "name 'a' is not defined",
     "output_type": "error",
     "traceback": [
      "\u001b[1;31m---------------------------------------------------------------------------\u001b[0m",
      "\u001b[1;31mNameError\u001b[0m                                 Traceback (most recent call last)",
      "\u001b[1;32m<ipython-input-26-f722b859267a>\u001b[0m in \u001b[0;36m<module>\u001b[1;34m\u001b[0m\n\u001b[0;32m     11\u001b[0m \u001b[0mnum\u001b[0m \u001b[1;33m=\u001b[0m \u001b[0mnumber\u001b[0m\u001b[1;33m\u001b[0m\u001b[1;33m\u001b[0m\u001b[0m\n\u001b[0;32m     12\u001b[0m \u001b[1;33m\u001b[0m\u001b[0m\n\u001b[1;32m---> 13\u001b[1;33m \u001b[0mnum\u001b[0m\u001b[1;33m.\u001b[0m\u001b[0maddition\u001b[0m\u001b[1;33m(\u001b[0m\u001b[1;33m)\u001b[0m\u001b[1;33m\u001b[0m\u001b[1;33m\u001b[0m\u001b[0m\n\u001b[0m",
      "\u001b[1;32m<ipython-input-26-f722b859267a>\u001b[0m in \u001b[0;36maddition\u001b[1;34m()\u001b[0m\n\u001b[0;32m      4\u001b[0m \u001b[1;33m\u001b[0m\u001b[0m\n\u001b[0;32m      5\u001b[0m     \u001b[1;32mdef\u001b[0m \u001b[0maddition\u001b[0m\u001b[1;33m(\u001b[0m\u001b[1;33m)\u001b[0m\u001b[1;33m:\u001b[0m\u001b[1;33m\u001b[0m\u001b[1;33m\u001b[0m\u001b[0m\n\u001b[1;32m----> 6\u001b[1;33m         \u001b[0mprint\u001b[0m\u001b[1;33m(\u001b[0m\u001b[0ma\u001b[0m\u001b[1;33m+\u001b[0m\u001b[0mb\u001b[0m\u001b[1;33m)\u001b[0m\u001b[1;33m\u001b[0m\u001b[1;33m\u001b[0m\u001b[0m\n\u001b[0m\u001b[0;32m      7\u001b[0m \u001b[1;33m\u001b[0m\u001b[0m\n\u001b[0;32m      8\u001b[0m     \u001b[1;32mdef\u001b[0m \u001b[0msubtraction\u001b[0m\u001b[1;33m(\u001b[0m\u001b[1;33m)\u001b[0m\u001b[1;33m:\u001b[0m\u001b[1;33m\u001b[0m\u001b[1;33m\u001b[0m\u001b[0m\n",
      "\u001b[1;31mNameError\u001b[0m: name 'a' is not defined"
     ]
    }
   ],
   "source": [
    "class number:\n",
    "    a = 10 \n",
    "    b = 10 \n",
    "    \n",
    "    def addition():\n",
    "        print(a+b)\n",
    "        \n",
    "    def subtraction():\n",
    "        print(a-b)\n",
    "        \n",
    "num = number\n",
    "\n",
    "num.addition()"
   ]
  },
  {
   "cell_type": "code",
   "execution_count": 13,
   "id": "b1f6d4e9",
   "metadata": {},
   "outputs": [
    {
     "name": "stdout",
     "output_type": "stream",
     "text": [
      "name\n",
      "study\n"
     ]
    }
   ],
   "source": [
    "dic1 = {'name':\"tanbir singh\",'study':'computer science'}\n",
    "for word in dic1:\n",
    "    print(word)"
   ]
  },
  {
   "cell_type": "code",
   "execution_count": null,
   "id": "98ca8d4b",
   "metadata": {},
   "outputs": [],
   "source": []
  }
 ],
 "metadata": {
  "kernelspec": {
   "display_name": "Python 3",
   "language": "python",
   "name": "python3"
  },
  "language_info": {
   "codemirror_mode": {
    "name": "ipython",
    "version": 3
   },
   "file_extension": ".py",
   "mimetype": "text/x-python",
   "name": "python",
   "nbconvert_exporter": "python",
   "pygments_lexer": "ipython3",
   "version": "3.8.8"
  }
 },
 "nbformat": 4,
 "nbformat_minor": 5
}
