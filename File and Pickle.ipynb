{
 "cells": [
  {
   "cell_type": "markdown",
   "id": "ff0c0813",
   "metadata": {},
   "source": [
    "## File Operations"
   ]
  },
  {
   "cell_type": "markdown",
   "id": "c2704ae0",
   "metadata": {},
   "source": [
    " "
   ]
  },
  {
   "cell_type": "code",
   "execution_count": 10,
   "id": "1296f673",
   "metadata": {},
   "outputs": [
    {
     "data": {
      "text/plain": [
       "6"
      ]
     },
     "execution_count": 10,
     "metadata": {},
     "output_type": "execute_result"
    }
   ],
   "source": [
    "Data = open(r\"C:\\Users\\tanbsing\\Videos\\DATA SCIENCE\\Tan File Create.txt\",\"w\")\n",
    "Data.write(\"Tanbir\")"
   ]
  },
  {
   "cell_type": "code",
   "execution_count": 11,
   "id": "c40ab06c",
   "metadata": {},
   "outputs": [],
   "source": [
    "Data.close()"
   ]
  },
  {
   "cell_type": "markdown",
   "id": "26fb7f54",
   "metadata": {},
   "source": [
    "Read FIle \n"
   ]
  },
  {
   "cell_type": "code",
   "execution_count": 14,
   "id": "ef61a88e",
   "metadata": {},
   "outputs": [
    {
     "name": "stdout",
     "output_type": "stream",
     "text": [
      "Tanbir\n"
     ]
    }
   ],
   "source": [
    "readData = open(r\"C:\\Users\\tanbsing\\Videos\\DATA SCIENCE\\Tan File Create.txt\",\"r\")\n",
    "print(readData.read())\n",
    "readData.close()"
   ]
  },
  {
   "cell_type": "markdown",
   "id": "6a8bf8e6",
   "metadata": {},
   "source": [
    "#### If we open same file again and use Mode = \"w\" \n",
    "#### it will be overwrite the file"
   ]
  },
  {
   "cell_type": "markdown",
   "id": "686a3400",
   "metadata": {},
   "source": [
    "### Append mode "
   ]
  },
  {
   "cell_type": "code",
   "execution_count": 20,
   "id": "22eb3d17",
   "metadata": {},
   "outputs": [],
   "source": [
    "appendData = open(r\"C:\\Users\\tanbsing\\Videos\\DATA SCIENCE\\Tan File Create.txt\",'a')\n",
    "appendData.write(\" Singh\")\n",
    "appendData.close()"
   ]
  },
  {
   "cell_type": "code",
   "execution_count": 22,
   "id": "c0823747",
   "metadata": {},
   "outputs": [
    {
     "name": "stdout",
     "output_type": "stream",
     "text": [
      " Singh Singh\n"
     ]
    }
   ],
   "source": [
    "readAppend = open(r\"C:\\Users\\tanbsing\\Videos\\DATA SCIENCE\\Tan File Create.txt\",'r')\n",
    "print(readAppend.read())\n",
    "readAppend.close()"
   ]
  },
  {
   "cell_type": "markdown",
   "id": "b4575775",
   "metadata": {},
   "source": [
    "   "
   ]
  },
  {
   "cell_type": "markdown",
   "id": "f7061c5e",
   "metadata": {},
   "source": [
    "   "
   ]
  },
  {
   "cell_type": "markdown",
   "id": "fe2f9ed3",
   "metadata": {},
   "source": [
    "## PICKLE"
   ]
  },
  {
   "cell_type": "code",
   "execution_count": 36,
   "id": "f77579ea",
   "metadata": {},
   "outputs": [],
   "source": [
    "import pickle"
   ]
  },
  {
   "cell_type": "code",
   "execution_count": 37,
   "id": "e01b2126",
   "metadata": {},
   "outputs": [],
   "source": [
    "colorDict = {1:\"White\",2:\"Red\"}"
   ]
  },
  {
   "cell_type": "code",
   "execution_count": 48,
   "id": "231d6f52",
   "metadata": {},
   "outputs": [],
   "source": [
    "colorFile = open(\"colorDict.obj\",\"wb\")\n",
    "#wb is write binary"
   ]
  },
  {
   "cell_type": "code",
   "execution_count": 49,
   "id": "b1e57b05",
   "metadata": {},
   "outputs": [],
   "source": [
    "#pickling the file\n",
    "#infile = open(filename,'rb')\n",
    "pickle.dump(colorDict,colorFile)\n",
    "colorFile.close()"
   ]
  },
  {
   "cell_type": "code",
   "execution_count": 50,
   "id": "524dbb81",
   "metadata": {},
   "outputs": [],
   "source": [
    "infile = open(\"colorDict.obj\",\"rb\")"
   ]
  },
  {
   "cell_type": "code",
   "execution_count": 51,
   "id": "2fa033dc",
   "metadata": {},
   "outputs": [],
   "source": [
    "#de-serialize\n",
    "#load method\n",
    "new_dict = pickle.load(infile)"
   ]
  },
  {
   "cell_type": "code",
   "execution_count": 52,
   "id": "9c1898f8",
   "metadata": {},
   "outputs": [],
   "source": [
    "infile.close()"
   ]
  },
  {
   "cell_type": "code",
   "execution_count": 53,
   "id": "bf81915f",
   "metadata": {},
   "outputs": [
    {
     "name": "stdout",
     "output_type": "stream",
     "text": [
      "{1: 'White', 2: 'Red'}\n"
     ]
    }
   ],
   "source": [
    "print(new_dict)"
   ]
  },
  {
   "cell_type": "code",
   "execution_count": null,
   "id": "91738edf",
   "metadata": {},
   "outputs": [],
   "source": []
  }
 ],
 "metadata": {
  "kernelspec": {
   "display_name": "Python 3",
   "language": "python",
   "name": "python3"
  },
  "language_info": {
   "codemirror_mode": {
    "name": "ipython",
    "version": 3
   },
   "file_extension": ".py",
   "mimetype": "text/x-python",
   "name": "python",
   "nbconvert_exporter": "python",
   "pygments_lexer": "ipython3",
   "version": "3.8.8"
  }
 },
 "nbformat": 4,
 "nbformat_minor": 5
}
