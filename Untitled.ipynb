{
 "cells": [
  {
   "cell_type": "markdown",
   "id": "d7e9e167",
   "metadata": {},
   "source": [
    "  "
   ]
  },
  {
   "cell_type": "markdown",
   "id": "0513903c",
   "metadata": {},
   "source": [
    "# F U N C T I O N S"
   ]
  },
  {
   "cell_type": "markdown",
   "id": "3d9c70cf",
   "metadata": {},
   "source": [
    "   "
   ]
  },
  {
   "cell_type": "code",
   "execution_count": 10,
   "id": "16be530f",
   "metadata": {},
   "outputs": [],
   "source": [
    "# Print with f string "
   ]
  },
  {
   "cell_type": "code",
   "execution_count": 15,
   "id": "b23c24fc",
   "metadata": {},
   "outputs": [
    {
     "name": "stdout",
     "output_type": "stream",
     "text": [
      "his class is 2 and age is 3\n"
     ]
    }
   ],
   "source": [
    "def tanb(clas,age):\n",
    "    print(f\"his class is {clas} and age is {age}\")\n",
    "tanb(2,3)\n"
   ]
  },
  {
   "cell_type": "code",
   "execution_count": 16,
   "id": "1f6cfbac",
   "metadata": {},
   "outputs": [],
   "source": [
    "# Print with Format"
   ]
  },
  {
   "cell_type": "code",
   "execution_count": 13,
   "id": "289fd416",
   "metadata": {},
   "outputs": [
    {
     "name": "stdout",
     "output_type": "stream",
     "text": [
      "his class is 12 and age is 31\n"
     ]
    }
   ],
   "source": [
    "def tanb1(clas,age):\n",
    "    print(\"class is {} and age is {}\".format(clas,age))\n",
    "    \n",
    "tanb(12,31)"
   ]
  },
  {
   "cell_type": "code",
   "execution_count": 19,
   "id": "f19f3280",
   "metadata": {},
   "outputs": [],
   "source": [
    "# Print with C style programming "
   ]
  },
  {
   "cell_type": "code",
   "execution_count": 20,
   "id": "9160e47b",
   "metadata": {},
   "outputs": [
    {
     "name": "stdout",
     "output_type": "stream",
     "text": [
      "class is 2 and age is 25\n"
     ]
    }
   ],
   "source": [
    "def tanb2(clas,age):\n",
    "    print(\"class is %d and age is %d\" % (clas,age))\n",
    "    \n",
    "tanb2(2,25)"
   ]
  },
  {
   "cell_type": "code",
   "execution_count": 4,
   "id": "d98414e2",
   "metadata": {},
   "outputs": [
    {
     "name": "stdout",
     "output_type": "stream",
     "text": [
      "his class is 2 and age is 3\n"
     ]
    }
   ],
   "source": [
    "def tanb(clas,age):\n",
    "    print(f\"his class is {clas} and age is {age}\")\n",
    "tanb(2,3)\n"
   ]
  },
  {
   "cell_type": "markdown",
   "id": "718c2f28",
   "metadata": {},
   "source": [
    "  "
   ]
  },
  {
   "cell_type": "markdown",
   "id": "86d049ea",
   "metadata": {},
   "source": [
    "## Return is null"
   ]
  },
  {
   "cell_type": "markdown",
   "id": "44972930",
   "metadata": {},
   "source": [
    "   "
   ]
  },
  {
   "cell_type": "code",
   "execution_count": 2,
   "id": "34755c4f",
   "metadata": {},
   "outputs": [
    {
     "name": "stdout",
     "output_type": "stream",
     "text": [
      "mul\n",
      "mul\n",
      "mul\n"
     ]
    }
   ],
   "source": [
    "def mul():\n",
    "    for x in range(5):\n",
    "        if x == 3:\n",
    "            return\n",
    "        print(\"mul\")\n",
    "mul()"
   ]
  },
  {
   "cell_type": "code",
   "execution_count": 7,
   "id": "7b67bfa6",
   "metadata": {},
   "outputs": [
    {
     "data": {
      "text/plain": [
       "'Tanbir Singh'"
      ]
     },
     "execution_count": 7,
     "metadata": {},
     "output_type": "execute_result"
    }
   ],
   "source": [
    "def name(a,b):\n",
    "    add = a.title() + b\n",
    "    return add\n",
    "\n",
    "name(\"tanbir \",\"Singh\")"
   ]
  },
  {
   "cell_type": "markdown",
   "id": "e6819f4c",
   "metadata": {},
   "source": [
    "  "
   ]
  },
  {
   "cell_type": "markdown",
   "id": "f8840f22",
   "metadata": {},
   "source": [
    "## *Args"
   ]
  },
  {
   "cell_type": "markdown",
   "id": "39e994dc",
   "metadata": {},
   "source": [
    "  "
   ]
  },
  {
   "cell_type": "markdown",
   "id": "7e767f09",
   "metadata": {},
   "source": [
    "Star * ---> means many |\n",
    "n ----> means variable it can be anything"
   ]
  },
  {
   "cell_type": "code",
   "execution_count": 15,
   "id": "5763d012",
   "metadata": {},
   "outputs": [
    {
     "data": {
      "text/plain": [
       "(32, 4, 324, 32, 42, 3)"
      ]
     },
     "execution_count": 15,
     "metadata": {},
     "output_type": "execute_result"
    }
   ],
   "source": [
    "def numbs(*n):\n",
    "    return n\n",
    "numbs(32,4,324,32,42,3)"
   ]
  },
  {
   "cell_type": "markdown",
   "id": "62affe3b",
   "metadata": {},
   "source": [
    " "
   ]
  },
  {
   "cell_type": "markdown",
   "id": "6002ba83",
   "metadata": {},
   "source": [
    " Min number in the *digt"
   ]
  },
  {
   "cell_type": "code",
   "execution_count": 17,
   "id": "933051f5",
   "metadata": {},
   "outputs": [
    {
     "data": {
      "text/plain": [
       "2"
      ]
     },
     "execution_count": 17,
     "metadata": {},
     "output_type": "execute_result"
    }
   ],
   "source": [
    "def numb(*digt):\n",
    "    return min(digt)\n",
    "\n",
    "smallest = numb(23.2,23.32,32,234,42,34,32,4,2,234,5,553,43,24,2,34)\n",
    "smallest"
   ]
  },
  {
   "cell_type": "markdown",
   "id": "8c2d8e54",
   "metadata": {},
   "source": [
    " "
   ]
  },
  {
   "cell_type": "markdown",
   "id": "9792499c",
   "metadata": {},
   "source": [
    "## Addition using *args"
   ]
  },
  {
   "cell_type": "code",
   "execution_count": 19,
   "id": "782cb570",
   "metadata": {},
   "outputs": [
    {
     "data": {
      "text/plain": [
       "6"
      ]
     },
     "execution_count": 19,
     "metadata": {},
     "output_type": "execute_result"
    }
   ],
   "source": [
    "def sums(*num):\n",
    "    sum = 0\n",
    "    for x in num:\n",
    "        sum += x\n",
    "    return sum\n",
    "\n",
    "addition = sums(1,2,3)\n",
    "addition"
   ]
  },
  {
   "cell_type": "code",
   "execution_count": 20,
   "id": "43e86d72",
   "metadata": {},
   "outputs": [
    {
     "name": "stdout",
     "output_type": "stream",
     "text": [
      "607\n"
     ]
    }
   ],
   "source": [
    "print(sums(1,23,4,342,234,3))"
   ]
  },
  {
   "cell_type": "code",
   "execution_count": 22,
   "id": "54b7eda4",
   "metadata": {},
   "outputs": [
    {
     "data": {
      "text/plain": [
       "873"
      ]
     },
     "execution_count": 22,
     "metadata": {},
     "output_type": "execute_result"
    }
   ],
   "source": [
    "def nmbrs(*args):\n",
    "    return sum(args)\n",
    "nmbrs(232,324,243,24,24,24,2)"
   ]
  },
  {
   "cell_type": "markdown",
   "id": "d5af46b2",
   "metadata": {},
   "source": [
    " "
   ]
  },
  {
   "cell_type": "markdown",
   "id": "875a9421",
   "metadata": {},
   "source": [
    " \n",
    " "
   ]
  },
  {
   "cell_type": "markdown",
   "id": "37aa3a9f",
   "metadata": {},
   "source": [
    "# ANONYMOUS FUNCTIONS"
   ]
  },
  {
   "cell_type": "code",
   "execution_count": 24,
   "id": "3aae23a6",
   "metadata": {},
   "outputs": [],
   "source": [
    "#lamba Function\n",
    "# used for single line calculations"
   ]
  },
  {
   "cell_type": "code",
   "execution_count": 26,
   "id": "77330722",
   "metadata": {},
   "outputs": [
    {
     "data": {
      "text/plain": [
       "4"
      ]
     },
     "execution_count": 26,
     "metadata": {},
     "output_type": "execute_result"
    }
   ],
   "source": [
    "mult = lambda x:x*2\n",
    "mult(2)"
   ]
  },
  {
   "cell_type": "markdown",
   "id": "9b1c9728",
   "metadata": {},
   "source": [
    "x after lambda means variables without declaring them \n",
    "anonymous declaration"
   ]
  },
  {
   "cell_type": "code",
   "execution_count": 27,
   "id": "20feeb1c",
   "metadata": {},
   "outputs": [
    {
     "data": {
      "text/plain": [
       "6"
      ]
     },
     "execution_count": 27,
     "metadata": {},
     "output_type": "execute_result"
    }
   ],
   "source": [
    "m = lambda x,y,z : x + y + z\n",
    "m(1,2,3)"
   ]
  },
  {
   "cell_type": "code",
   "execution_count": 28,
   "id": "1ae10ece",
   "metadata": {},
   "outputs": [
    {
     "data": {
      "text/plain": [
       "25"
      ]
     },
     "execution_count": 28,
     "metadata": {},
     "output_type": "execute_result"
    }
   ],
   "source": [
    "square = lambda x : x**2\n",
    "square(5)"
   ]
  },
  {
   "cell_type": "code",
   "execution_count": 31,
   "id": "58abf39b",
   "metadata": {},
   "outputs": [
    {
     "name": "stdout",
     "output_type": "stream",
     "text": [
      "total is  3\n"
     ]
    }
   ],
   "source": [
    "addvar = lambda var1,var2 : var1 + var2 \n",
    "\n",
    "print(\"total is \",addvar(1,2))"
   ]
  },
  {
   "cell_type": "markdown",
   "id": "03aac99a",
   "metadata": {},
   "source": [
    "  "
   ]
  },
  {
   "cell_type": "markdown",
   "id": "f438ad11",
   "metadata": {},
   "source": [
    "## calculation in Return statement"
   ]
  },
  {
   "cell_type": "code",
   "execution_count": 36,
   "id": "741c6888",
   "metadata": {},
   "outputs": [],
   "source": [
    "#Temperature in Fahrenheit"
   ]
  },
  {
   "cell_type": "code",
   "execution_count": 37,
   "id": "4fccc6c2",
   "metadata": {},
   "outputs": [
    {
     "data": {
      "text/plain": [
       "86.0"
      ]
     },
     "execution_count": 37,
     "metadata": {},
     "output_type": "execute_result"
    }
   ],
   "source": [
    "def fahrenheit(temp):\n",
    "    return((9/5)*temp + 32)\n",
    "\n",
    "fahrenheit(30)"
   ]
  },
  {
   "cell_type": "markdown",
   "id": "64220050",
   "metadata": {},
   "source": [
    " "
   ]
  },
  {
   "cell_type": "markdown",
   "id": "da5dee30",
   "metadata": {},
   "source": [
    " "
   ]
  },
  {
   "cell_type": "markdown",
   "id": "636c47a7",
   "metadata": {},
   "source": [
    "Temperature in Fahrenheit"
   ]
  },
  {
   "cell_type": "code",
   "execution_count": 40,
   "id": "ccb5009c",
   "metadata": {},
   "outputs": [
    {
     "data": {
      "text/plain": [
       "60.8"
      ]
     },
     "execution_count": 40,
     "metadata": {},
     "output_type": "execute_result"
    }
   ],
   "source": [
    "F = lambda T:(9/5)*T + 32\n",
    "F(16)"
   ]
  },
  {
   "cell_type": "code",
   "execution_count": 42,
   "id": "aedb1326",
   "metadata": {},
   "outputs": [
    {
     "data": {
      "text/plain": [
       "16.0"
      ]
     },
     "execution_count": 42,
     "metadata": {},
     "output_type": "execute_result"
    }
   ],
   "source": [
    "T = lambda F: (5/9)*(F-32)\n",
    "T(60.8)"
   ]
  },
  {
   "cell_type": "markdown",
   "id": "0fc2d4a4",
   "metadata": {},
   "source": [
    "   "
   ]
  },
  {
   "cell_type": "markdown",
   "id": "3c895ae4",
   "metadata": {},
   "source": [
    "## MAP Function with lambda\n"
   ]
  },
  {
   "cell_type": "code",
   "execution_count": 11,
   "id": "8334698e",
   "metadata": {},
   "outputs": [],
   "source": [
    "# map is used to pass data in list to the lambda function\n",
    "# to check result need to use list = to hold data"
   ]
  },
  {
   "cell_type": "code",
   "execution_count": 12,
   "id": "0362f4e5",
   "metadata": {},
   "outputs": [
    {
     "data": {
      "text/plain": [
       "<map at 0x14ec64de0d0>"
      ]
     },
     "execution_count": 12,
     "metadata": {},
     "output_type": "execute_result"
    }
   ],
   "source": [
    "c = [12,213,213,213,124,214,1241,2412,4123,123,1]\n",
    "\n",
    "mult = (map(lambda x:x*2,c))\n",
    "\n",
    "mult"
   ]
  },
  {
   "cell_type": "code",
   "execution_count": 24,
   "id": "0f88cbd6",
   "metadata": {},
   "outputs": [
    {
     "data": {
      "text/plain": [
       "[24, 426, 426, 426, 248, 428, 2482, 4824, 8246, 246, 3.2648468468]"
      ]
     },
     "execution_count": 24,
     "metadata": {},
     "output_type": "execute_result"
    }
   ],
   "source": [
    "c = [12,213,213,213,124,214,1241,2412,4123,123,1.6324234234]\n",
    "\n",
    "mult = list(map(lambda x:x*2,c))\n",
    "\n",
    "mult"
   ]
  },
  {
   "cell_type": "code",
   "execution_count": 25,
   "id": "6a724db0",
   "metadata": {},
   "outputs": [],
   "source": [
    "# pass this data and process it with FOR LOOP"
   ]
  },
  {
   "cell_type": "code",
   "execution_count": 26,
   "id": "eeaec457",
   "metadata": {},
   "outputs": [
    {
     "name": "stdout",
     "output_type": "stream",
     "text": [
      "[24, 426, 426, 426, 248, 428, 2482, 4824, 8246, 246, 3.26]\n"
     ]
    }
   ],
   "source": [
    "newList = [round(j,2) for j in mult]\n",
    "print(newList)"
   ]
  },
  {
   "cell_type": "code",
   "execution_count": 27,
   "id": "96ac4a42",
   "metadata": {},
   "outputs": [],
   "source": [
    "# Round function round(j,2) ---> 2 means 2 values after decimal\n",
    "# like 2.32423532  |   round(j,2) it will take only last 2 values\n",
    "# 2.32"
   ]
  },
  {
   "cell_type": "code",
   "execution_count": null,
   "id": "fe26121f",
   "metadata": {},
   "outputs": [],
   "source": []
  }
 ],
 "metadata": {
  "kernelspec": {
   "display_name": "Python 3",
   "language": "python",
   "name": "python3"
  },
  "language_info": {
   "codemirror_mode": {
    "name": "ipython",
    "version": 3
   },
   "file_extension": ".py",
   "mimetype": "text/x-python",
   "name": "python",
   "nbconvert_exporter": "python",
   "pygments_lexer": "ipython3",
   "version": "3.8.8"
  }
 },
 "nbformat": 4,
 "nbformat_minor": 5
}
