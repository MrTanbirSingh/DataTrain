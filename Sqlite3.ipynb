{
 "cells": [
  {
   "cell_type": "code",
   "execution_count": 40,
   "id": "0760e0d8",
   "metadata": {},
   "outputs": [],
   "source": [
    "import sqlite3"
   ]
  },
  {
   "cell_type": "markdown",
   "id": "1fb53cc2",
   "metadata": {},
   "source": [
    "1. connect with database\n",
    "2. from the connection object, create a cursor object\n",
    "3. Using the cursor object, call the execute the method with create table "
   ]
  },
  {
   "cell_type": "markdown",
   "id": "8e9dd819",
   "metadata": {},
   "source": [
    "## Create Database"
   ]
  },
  {
   "cell_type": "code",
   "execution_count": 3,
   "id": "a7275511",
   "metadata": {},
   "outputs": [],
   "source": [
    "db = sqlite3.connect(\"DataScience.db\")"
   ]
  },
  {
   "cell_type": "markdown",
   "id": "71e9ba66",
   "metadata": {},
   "source": [
    "created dataBase DataScience.db\n",
    "_________________________________\n",
    "\n",
    "Cursor \n",
    "A cursor is SQL is a temporary work area created in system memory when a\n",
    "statement is execute\n",
    "\n",
    "A sql cursor is a set of rows together with a pointer that identifies a current rows\n",
    "\n",
    "It is a database object to retrieve data from a resolution"
   ]
  },
  {
   "cell_type": "code",
   "execution_count": 4,
   "id": "3d98b846",
   "metadata": {},
   "outputs": [],
   "source": [
    "cur = db.cursor()"
   ]
  },
  {
   "cell_type": "markdown",
   "id": "a5b1964d",
   "metadata": {},
   "source": [
    " "
   ]
  },
  {
   "cell_type": "markdown",
   "id": "d156b950",
   "metadata": {},
   "source": [
    "  "
   ]
  },
  {
   "cell_type": "markdown",
   "id": "d5bde764",
   "metadata": {},
   "source": [
    "## Creating Table "
   ]
  },
  {
   "cell_type": "code",
   "execution_count": 6,
   "id": "baf13d3f",
   "metadata": {},
   "outputs": [
    {
     "data": {
      "text/plain": [
       "<sqlite3.Cursor at 0x200af769ea0>"
      ]
     },
     "execution_count": 6,
     "metadata": {},
     "output_type": "execute_result"
    }
   ],
   "source": [
    "cur.execute(\"create table student (id int primary key,name text,marks int)\")"
   ]
  },
  {
   "cell_type": "code",
   "execution_count": 8,
   "id": "475ebcc4",
   "metadata": {},
   "outputs": [
    {
     "name": "stdout",
     "output_type": "stream",
     "text": [
      "<sqlite3.Cursor object at 0x00000200AF769EA0>\n"
     ]
    }
   ],
   "source": [
    "cur.execute(\"select * from student\")"
   ]
  },
  {
   "cell_type": "markdown",
   "id": "4af8dc8e",
   "metadata": {},
   "source": [
    "## Insert data"
   ]
  },
  {
   "cell_type": "markdown",
   "id": "74fbaa7c",
   "metadata": {},
   "source": [
    " "
   ]
  },
  {
   "cell_type": "code",
   "execution_count": 9,
   "id": "4e8d323b",
   "metadata": {},
   "outputs": [
    {
     "data": {
      "text/plain": [
       "<sqlite3.Cursor at 0x200af769ea0>"
      ]
     },
     "execution_count": 9,
     "metadata": {},
     "output_type": "execute_result"
    }
   ],
   "source": [
    "cur.execute(\"insert into student(id,name,marks) values(1,'Tanbir',99)\")"
   ]
  },
  {
   "cell_type": "code",
   "execution_count": 11,
   "id": "caa2902a",
   "metadata": {},
   "outputs": [],
   "source": [
    "db.commit;\n",
    "# save the changes"
   ]
  },
  {
   "cell_type": "code",
   "execution_count": 13,
   "id": "91a549ed",
   "metadata": {},
   "outputs": [
    {
     "name": "stdout",
     "output_type": "stream",
     "text": [
      "1 = Rows Inserted\n"
     ]
    }
   ],
   "source": [
    "print(cur.rowcount,\"= Rows Inserted\")"
   ]
  },
  {
   "cell_type": "code",
   "execution_count": 15,
   "id": "75feda4c",
   "metadata": {},
   "outputs": [
    {
     "data": {
      "text/plain": [
       "<sqlite3.Cursor at 0x200af769ea0>"
      ]
     },
     "execution_count": 15,
     "metadata": {},
     "output_type": "execute_result"
    }
   ],
   "source": [
    "cur.execute(\"insert into student(id,name,marks) values(2,'Himanshu',100)\")"
   ]
  },
  {
   "cell_type": "code",
   "execution_count": 22,
   "id": "4d8cf7dd",
   "metadata": {},
   "outputs": [
    {
     "name": "stdout",
     "output_type": "stream",
     "text": [
      "-1\n"
     ]
    }
   ],
   "source": [
    "db.commit()\n",
    "print(cur.rowcount)\n",
    "# it is showing 1 record coz we passed only one statement to update"
   ]
  },
  {
   "cell_type": "markdown",
   "id": "8d53e5d0",
   "metadata": {},
   "source": [
    "printing all the rows one by one with FOR LOOP. \n",
    "using only print statement will not work"
   ]
  },
  {
   "cell_type": "code",
   "execution_count": 25,
   "id": "ed3878db",
   "metadata": {},
   "outputs": [
    {
     "name": "stdout",
     "output_type": "stream",
     "text": [
      "(1, 'Tanbir', 99)\n",
      "(2, 'Himanshu', 100)\n"
     ]
    }
   ],
   "source": [
    "results = cur.execute(\"select * from student\")\n",
    "\n",
    "for row in results:\n",
    "    print(row)"
   ]
  },
  {
   "cell_type": "code",
   "execution_count": 27,
   "id": "8fb91024",
   "metadata": {},
   "outputs": [
    {
     "name": "stdout",
     "output_type": "stream",
     "text": [
      "-1\n"
     ]
    }
   ],
   "source": [
    "print(cur.rowcount)"
   ]
  },
  {
   "cell_type": "markdown",
   "id": "fe4bdb63",
   "metadata": {},
   "source": [
    " "
   ]
  },
  {
   "cell_type": "markdown",
   "id": "a1b1718b",
   "metadata": {},
   "source": [
    "  \n",
    "  "
   ]
  },
  {
   "cell_type": "markdown",
   "id": "fbf35389",
   "metadata": {},
   "source": [
    "## Multiple Insertion"
   ]
  },
  {
   "cell_type": "code",
   "execution_count": 28,
   "id": "a189b1dc",
   "metadata": {},
   "outputs": [
    {
     "data": {
      "text/plain": [
       "<sqlite3.Cursor at 0x200af769ea0>"
      ]
     },
     "execution_count": 28,
     "metadata": {},
     "output_type": "execute_result"
    }
   ],
   "source": [
    "cur.execute(\"insert into student values(3,'joshi',100),(4,'roy',100)\")"
   ]
  },
  {
   "cell_type": "code",
   "execution_count": 29,
   "id": "068b0f7d",
   "metadata": {},
   "outputs": [],
   "source": [
    "results = cur.execute(\"select * from student\")"
   ]
  },
  {
   "cell_type": "code",
   "execution_count": 30,
   "id": "06471d39",
   "metadata": {},
   "outputs": [
    {
     "name": "stdout",
     "output_type": "stream",
     "text": [
      "(1, 'Tanbir', 99)\n",
      "(2, 'Himanshu', 100)\n",
      "(3, 'joshi', 100)\n",
      "(4, 'roy', 100)\n"
     ]
    }
   ],
   "source": [
    "for rows in results:\n",
    "    print(rows)"
   ]
  },
  {
   "cell_type": "markdown",
   "id": "c2151fae",
   "metadata": {},
   "source": [
    " "
   ]
  },
  {
   "cell_type": "markdown",
   "id": "1e12b1ea",
   "metadata": {},
   "source": [
    " "
   ]
  },
  {
   "cell_type": "markdown",
   "id": "39d5fe75",
   "metadata": {},
   "source": [
    "Database will be created in the given location "
   ]
  },
  {
   "cell_type": "code",
   "execution_count": 47,
   "id": "ebdc424c",
   "metadata": {},
   "outputs": [],
   "source": [
    "# create dataBase\n",
    "db1 = sqlite3.connect(\"C:/Users/tanbsing/Downloads/new.db\")"
   ]
  },
  {
   "cell_type": "code",
   "execution_count": 48,
   "id": "8467106a",
   "metadata": {},
   "outputs": [],
   "source": [
    "cur1 = db1.cursor()"
   ]
  },
  {
   "cell_type": "code",
   "execution_count": 49,
   "id": "f33e464a",
   "metadata": {},
   "outputs": [
    {
     "data": {
      "text/plain": [
       "<sqlite3.Cursor at 0x200b1335880>"
      ]
     },
     "execution_count": 49,
     "metadata": {},
     "output_type": "execute_result"
    }
   ],
   "source": [
    "cur1.execute(\"create table class (id int primary key,name text)\")"
   ]
  },
  {
   "cell_type": "code",
   "execution_count": 51,
   "id": "24257e7f",
   "metadata": {},
   "outputs": [
    {
     "data": {
      "text/plain": [
       "<sqlite3.Cursor at 0x200b1335880>"
      ]
     },
     "execution_count": 51,
     "metadata": {},
     "output_type": "execute_result"
    }
   ],
   "source": [
    "cur1.execute(\"insert into class values(1,'tanb')\")"
   ]
  },
  {
   "cell_type": "code",
   "execution_count": 53,
   "id": "300e9769",
   "metadata": {},
   "outputs": [],
   "source": [
    "db1.commit;"
   ]
  },
  {
   "cell_type": "code",
   "execution_count": 57,
   "id": "1bdd2153",
   "metadata": {},
   "outputs": [
    {
     "name": "stdout",
     "output_type": "stream",
     "text": [
      "(1, 'tanb')\n"
     ]
    }
   ],
   "source": [
    "rslt = cur1.execute(\"select * from class\")\n",
    "\n",
    "for ro in rslt:\n",
    "    print(ro)"
   ]
  },
  {
   "cell_type": "code",
   "execution_count": null,
   "id": "bbdfc609",
   "metadata": {},
   "outputs": [],
   "source": []
  },
  {
   "cell_type": "code",
   "execution_count": 41,
   "id": "2631354b",
   "metadata": {},
   "outputs": [],
   "source": [
    "import sqlite3"
   ]
  },
  {
   "cell_type": "code",
   "execution_count": 42,
   "id": "84175c6b",
   "metadata": {},
   "outputs": [],
   "source": [
    "db = sqlite3.connect(\"tan.db\")"
   ]
  },
  {
   "cell_type": "code",
   "execution_count": 43,
   "id": "ce363b07",
   "metadata": {},
   "outputs": [],
   "source": [
    "cur = db.cursor()"
   ]
  },
  {
   "cell_type": "code",
   "execution_count": 6,
   "id": "8e8f3cdb",
   "metadata": {},
   "outputs": [
    {
     "data": {
      "text/plain": [
       "<sqlite3.Cursor at 0x245028fe490>"
      ]
     },
     "execution_count": 6,
     "metadata": {},
     "output_type": "execute_result"
    }
   ],
   "source": [
    "cur.execute(\"create table Tan(id int,name text)\")\n"
   ]
  },
  {
   "cell_type": "code",
   "execution_count": 16,
   "id": "2edca9cf",
   "metadata": {},
   "outputs": [
    {
     "data": {
      "text/plain": [
       "<sqlite3.Cursor at 0x245028fe490>"
      ]
     },
     "execution_count": 16,
     "metadata": {},
     "output_type": "execute_result"
    }
   ],
   "source": [
    "cur.execute(\"insert into Tan(id,name) values(1,'Tanbir Singh'),(2,'Himanshu'),(3,'Arpit'),(4,'Rohan')\")"
   ]
  },
  {
   "cell_type": "code",
   "execution_count": 17,
   "id": "b6d7fb34",
   "metadata": {},
   "outputs": [],
   "source": [
    "result1 = cur.execute(\"select * from Tan where id = 1\")"
   ]
  },
  {
   "cell_type": "code",
   "execution_count": 18,
   "id": "faca5b5d",
   "metadata": {},
   "outputs": [
    {
     "name": "stdout",
     "output_type": "stream",
     "text": [
      "(1, 'Tanbir Singh')\n",
      "(1, 'Tanbir Singh')\n"
     ]
    }
   ],
   "source": [
    "for row in result:\n",
    "    print(row)"
   ]
  },
  {
   "cell_type": "code",
   "execution_count": 19,
   "id": "20f25c58",
   "metadata": {},
   "outputs": [
    {
     "name": "stdout",
     "output_type": "stream",
     "text": [
      "(2, 'Himanshu')\n",
      "(2, 'Himanshu')\n",
      "(3, 'Arpit')\n",
      "(4, 'Rohan')\n"
     ]
    }
   ],
   "source": [
    "result = cur.execute(\"select * from Tan where id > 1\")\n",
    "for row in result:\n",
    "    print(row)"
   ]
  },
  {
   "cell_type": "markdown",
   "id": "f91d038f",
   "metadata": {},
   "source": [
    "  "
   ]
  },
  {
   "cell_type": "markdown",
   "id": "ba2b0cf3",
   "metadata": {},
   "source": [
    "  "
   ]
  },
  {
   "cell_type": "markdown",
   "id": "2fbcac3e",
   "metadata": {},
   "source": [
    "  "
   ]
  },
  {
   "cell_type": "markdown",
   "id": "89e0e461",
   "metadata": {},
   "source": [
    "## Limit "
   ]
  },
  {
   "cell_type": "code",
   "execution_count": 15,
   "id": "3afe52b4",
   "metadata": {},
   "outputs": [],
   "source": [
    "#used to limit data which is being showed"
   ]
  },
  {
   "cell_type": "code",
   "execution_count": 60,
   "id": "6066e545",
   "metadata": {},
   "outputs": [],
   "source": [
    "resultLimit = cur.execute(\"select * from Tan limit 3\")\n",
    "\n",
    "for row in resultLimit:\n",
    "    print(row)"
   ]
  },
  {
   "cell_type": "markdown",
   "id": "08b3e2f5",
   "metadata": {},
   "source": [
    "## AND OR"
   ]
  },
  {
   "cell_type": "code",
   "execution_count": 34,
   "id": "33c303ba",
   "metadata": {},
   "outputs": [
    {
     "name": "stdout",
     "output_type": "stream",
     "text": [
      "(1, 'Tanbir Singh')\n",
      "(1, 'Tanbir Singh')\n"
     ]
    }
   ],
   "source": [
    "resultName = cur.execute(\"select * from Tan where name = 'Tanbir Singh'\")\n",
    "\n",
    "for row in resultName:\n",
    "    print(row)"
   ]
  },
  {
   "cell_type": "code",
   "execution_count": 36,
   "id": "90026bc2",
   "metadata": {},
   "outputs": [
    {
     "name": "stdout",
     "output_type": "stream",
     "text": [
      "(2,)\n",
      "(2,)\n",
      "(3,)\n",
      "(4,)\n"
     ]
    }
   ],
   "source": [
    "resultss = cur.execute(\"select id from Tan where id > 1\")\n",
    "\n",
    "for row in resultss:\n",
    "    print(row)"
   ]
  },
  {
   "cell_type": "code",
   "execution_count": 61,
   "id": "b6ab5d2a",
   "metadata": {},
   "outputs": [],
   "source": [
    "result = cur.execute(\"select id from Tan where id = 1 and id = 2\")\n",
    "for row in resultId:\n",
    "    print(row)"
   ]
  },
  {
   "cell_type": "code",
   "execution_count": 62,
   "id": "55413092",
   "metadata": {},
   "outputs": [],
   "source": [
    "result = cur.execute(\"select id from Tan where id = 1 or name = 'Tanbir Singh'\")\n",
    "for row in resultId:\n",
    "    print(row)"
   ]
  },
  {
   "cell_type": "code",
   "execution_count": 63,
   "id": "47179514",
   "metadata": {},
   "outputs": [],
   "source": [
    "result = cur.execute(\"Select * from Tan order by id\")\n",
    "for row in resultIdd:\n",
    "    print(row)"
   ]
  },
  {
   "cell_type": "markdown",
   "id": "ce649e17",
   "metadata": {},
   "source": [
    "   "
   ]
  },
  {
   "cell_type": "markdown",
   "id": "c4805842",
   "metadata": {},
   "source": [
    "  "
   ]
  },
  {
   "cell_type": "markdown",
   "id": "3eebf189",
   "metadata": {},
   "source": [
    "  \n",
    "  "
   ]
  },
  {
   "cell_type": "markdown",
   "id": "f89efa59",
   "metadata": {},
   "source": [
    "### Is Not NULL"
   ]
  },
  {
   "cell_type": "markdown",
   "id": "d0adbf27",
   "metadata": {},
   "source": [
    "IS NULL"
   ]
  },
  {
   "cell_type": "code",
   "execution_count": 64,
   "id": "1bda26ac",
   "metadata": {},
   "outputs": [],
   "source": [
    "result = cur.execute(\"Select * from Tan where id is not null\")"
   ]
  },
  {
   "cell_type": "code",
   "execution_count": 65,
   "id": "8813f04d",
   "metadata": {},
   "outputs": [],
   "source": [
    "result = cur.execute(\"Select * from Tan where id is null\")"
   ]
  },
  {
   "cell_type": "markdown",
   "id": "c9a3ca42",
   "metadata": {},
   "source": [
    "min max"
   ]
  },
  {
   "cell_type": "code",
   "execution_count": 2,
   "id": "475ca709",
   "metadata": {},
   "outputs": [
    {
     "ename": "NameError",
     "evalue": "name 'cur' is not defined",
     "output_type": "error",
     "traceback": [
      "\u001b[1;31m---------------------------------------------------------------------------\u001b[0m",
      "\u001b[1;31mNameError\u001b[0m                                 Traceback (most recent call last)",
      "\u001b[1;32m<ipython-input-2-84a522dc0501>\u001b[0m in \u001b[0;36m<module>\u001b[1;34m\u001b[0m\n\u001b[1;32m----> 1\u001b[1;33m \u001b[0mresult\u001b[0m \u001b[1;33m=\u001b[0m \u001b[0mcur\u001b[0m\u001b[1;33m.\u001b[0m\u001b[0mexecute\u001b[0m\u001b[1;33m(\u001b[0m\u001b[1;34m\"Select max(id) from Tan where id is null\"\u001b[0m\u001b[1;33m)\u001b[0m\u001b[1;33m\u001b[0m\u001b[1;33m\u001b[0m\u001b[0m\n\u001b[0m",
      "\u001b[1;31mNameError\u001b[0m: name 'cur' is not defined"
     ]
    }
   ],
   "source": [
    "result = cur.execute(\"Select max(id) from Tan where id is null\")"
   ]
  },
  {
   "cell_type": "markdown",
   "id": "f752b560",
   "metadata": {},
   "source": [
    "## BETWEEN, SUM, COUNT"
   ]
  },
  {
   "cell_type": "code",
   "execution_count": 3,
   "id": "ce4e98a4",
   "metadata": {},
   "outputs": [],
   "source": [
    "# BETWEEN\n",
    "# result = cur.execute(\"Select * from Tan where id between 1 and 3\")"
   ]
  },
  {
   "cell_type": "code",
   "execution_count": 6,
   "id": "74a94465",
   "metadata": {},
   "outputs": [],
   "source": [
    "#SUM\n",
    "# result = cur.execute(\"Select sum(id) from Tan\")"
   ]
  },
  {
   "cell_type": "code",
   "execution_count": 5,
   "id": "d5f648cd",
   "metadata": {},
   "outputs": [],
   "source": [
    "#COUNT\n",
    "# result = cur.execute(\"Select COUNT(id) from Tan\")"
   ]
  },
  {
   "cell_type": "markdown",
   "id": "59a8314a",
   "metadata": {},
   "source": [
    " "
   ]
  },
  {
   "cell_type": "markdown",
   "id": "c402e9e6",
   "metadata": {},
   "source": [
    " "
   ]
  },
  {
   "cell_type": "markdown",
   "id": "d7f7ac5f",
   "metadata": {},
   "source": [
    "**LIKE CLAUSE **\n",
    "Search text start with charachter"
   ]
  },
  {
   "cell_type": "code",
   "execution_count": 7,
   "id": "d445e0d6",
   "metadata": {},
   "outputs": [],
   "source": [
    "#like\n",
    "# search from second character % -> means upto the end.\n",
    "# use ____ 4 underscores to show 4 charater's words\n",
    "# result = cur.execute(\"Select * from Tan where name like '%_a%'\")"
   ]
  },
  {
   "cell_type": "code",
   "execution_count": 8,
   "id": "5559a5a9",
   "metadata": {},
   "outputs": [],
   "source": [
    "#search t in the text doesn't matter where it is.\n",
    "# result = cur.execute(\"Select * from Tan where name like '%T%'\")"
   ]
  },
  {
   "cell_type": "code",
   "execution_count": 9,
   "id": "ca1cce50",
   "metadata": {},
   "outputs": [],
   "source": [
    "#search and match the last character\n",
    "# result = cur.execute(\"Select * from Tan where name like '%h'\")"
   ]
  },
  {
   "cell_type": "code",
   "execution_count": 13,
   "id": "e616a6b6",
   "metadata": {},
   "outputs": [],
   "source": [
    "# results.fetchall()\n",
    "# It will fetch all the data from the DataBase"
   ]
  },
  {
   "cell_type": "code",
   "execution_count": 14,
   "id": "81be22bc",
   "metadata": {},
   "outputs": [],
   "source": [
    "#results other then 70\n",
    "# result = cur.execute(\"Select * from Tan where id NOT in (2)\")"
   ]
  },
  {
   "cell_type": "markdown",
   "id": "c5d85ea7",
   "metadata": {},
   "source": [
    "  "
   ]
  },
  {
   "cell_type": "markdown",
   "id": "64ba0715",
   "metadata": {},
   "source": [
    "   "
   ]
  },
  {
   "cell_type": "markdown",
   "id": "d4d36380",
   "metadata": {},
   "source": [
    "## Update"
   ]
  },
  {
   "cell_type": "code",
   "execution_count": 16,
   "id": "fe3d09ce",
   "metadata": {},
   "outputs": [],
   "source": [
    "#results = cur.execute(\"update id SET name = 'TanbSing' where id IN (1,3)\")"
   ]
  },
  {
   "cell_type": "code",
   "execution_count": null,
   "id": "b5651cb9",
   "metadata": {},
   "outputs": [],
   "source": []
  }
 ],
 "metadata": {
  "kernelspec": {
   "display_name": "Python 3",
   "language": "python",
   "name": "python3"
  },
  "language_info": {
   "codemirror_mode": {
    "name": "ipython",
    "version": 3
   },
   "file_extension": ".py",
   "mimetype": "text/x-python",
   "name": "python",
   "nbconvert_exporter": "python",
   "pygments_lexer": "ipython3",
   "version": "3.8.8"
  }
 },
 "nbformat": 4,
 "nbformat_minor": 5
}
