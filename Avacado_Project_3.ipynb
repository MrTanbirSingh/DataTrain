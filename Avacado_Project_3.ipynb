{
  "nbformat": 4,
  "nbformat_minor": 0,
  "metadata": {
    "colab": {
      "name": "Avacado Project - 3.ipynb",
      "provenance": [],
      "collapsed_sections": [],
      "toc_visible": true
    },
    "kernelspec": {
      "name": "python3",
      "display_name": "Python 3"
    },
    "language_info": {
      "name": "python"
    }
  },
  "cells": [
    {
      "cell_type": "markdown",
      "source": [
        "#### Problem Statement"
      ],
      "metadata": {
        "id": "G2R2a_76lBEx"
      }
    },
    {
      "cell_type": "markdown",
      "source": [
        "Avocado is a fruit consumed by people heavily in the United States. \n",
        "\n",
        "Content\n",
        "This data was downloaded from the Hass Avocado Board website in May of 2018 & compiled into a single CSV. \n",
        "\n",
        "The table below represents weekly 2018 retail scan data for National retail volume (units) and price. Retail scan data comes directly from retailers’ cash registers based on actual retail sales of Hass avocados. \n",
        "\n",
        "Starting in 2013, the table below reflects an expanded, multi-outlet retail data set. Multi-outlet reporting includes an aggregation of the following channels: grocery, mass, club, drug, dollar and military. The Average Price (of avocados) in the table reflects a per unit (per avocado) cost, even when multiple units (avocados) are sold in bags. \n",
        "\n",
        "The Product Lookup codes (PLU’s) in the table are only for Hass avocados. Other varieties of avocados (e.g. greenskins) are not included in this table.\n",
        "\n",
        "Some relevant columns in the dataset:\n",
        "\n",
        "Date - The date of the observation</br>\n",
        "AveragePrice - the average price of a single avocado</br>\n",
        "type - conventional or organic</br>\n",
        "year - the year</br>\n",
        "Region - the city or region of the observation</br>\n",
        "Total Volume - Total number of avocados sold</br>\n",
        "4046 - Total number of avocados with PLU 4046 sold</br>\n",
        "4225 - Total number of avocados with PLU 4225 sold</br>\n",
        "4770 - Total number of avocados with PLU 4770 sold</br>\n",
        "\n",
        "\n",
        "Inspiration /Label \n",
        "\n",
        "The dataset can be seen in two angles to find the region and find the average price .\n",
        "\n",
        "Task: One of Classification and other of Regression\n",
        "\n",
        "Do both tasks in the same .ipynb file and submit at single file. \n",
        "\n",
        "To download the dataset, use the link given below. \n",
        "\n",
        "Downlaod Files:\n",
        "https://github.com/dsrscientist/Data-Science-ML-Capstone-Projects/blob/master/avocado.csv.zip"
      ],
      "metadata": {
        "id": "sufY4xCGkf74"
      }
    },
    {
      "cell_type": "markdown",
      "source": [
        "#### Importing Libraries"
      ],
      "metadata": {
        "id": "xXvcs44LLgU4"
      }
    },
    {
      "cell_type": "code",
      "source": [
        "import pandas as pd\n",
        "import seaborn as sns\n",
        "import matplotlib.pyplot as plt\n",
        "import numpy as np\n",
        "\n",
        "from sklearn.model_selection import cross_val_score\n",
        "from sklearn.metrics import mean_absolute_error, mean_squared_error\n",
        "\n",
        "from scipy.stats import zscore\n",
        "\n",
        "from sklearn.model_selection import train_test_split\n",
        "from sklearn.linear_model import LinearRegression\n",
        "\n",
        "from sklearn.tree import DecisionTreeRegressor\n",
        "DT = DecisionTreeRegressor()\n",
        "\n",
        "from sklearn.svm import SVR\n",
        "SV = SVR()\n",
        "\n",
        "from sklearn.ensemble import RandomForestRegressor\n",
        "\n",
        "\n",
        "from sklearn.metrics import r2_score\n",
        "# from sklearn.preprocessing import PowerTransformer\n",
        "from sklearn.preprocessing import power_transform\n",
        "from sklearn.preprocessing import LabelEncoder\n",
        "le = LabelEncoder()\n",
        "\n",
        "import warnings\n",
        "warnings.filterwarnings('ignore')"
      ],
      "metadata": {
        "id": "OCLO4meylLm3"
      },
      "execution_count": 2,
      "outputs": []
    },
    {
      "cell_type": "markdown",
      "source": [
        ""
      ],
      "metadata": {
        "id": "vMyj-Q3tLlXu"
      }
    },
    {
      "cell_type": "code",
      "source": [
        "url = 'https://raw.githubusercontent.com/MrTanbirSingh/FlipRoBoInternship/main/avocado.csv'"
      ],
      "metadata": {
        "id": "zlBCdiXppWLK"
      },
      "execution_count": 3,
      "outputs": []
    },
    {
      "cell_type": "code",
      "source": [
        "df_backup = pd.DataFrame(pd.read_csv(url))"
      ],
      "metadata": {
        "id": "MJjkCr55pWNy"
      },
      "execution_count": 4,
      "outputs": []
    },
    {
      "cell_type": "code",
      "source": [
        "df = df_backup.drop('Unnamed: 0', axis = 1).copy()"
      ],
      "metadata": {
        "id": "WpUrnBFjpWRZ"
      },
      "execution_count": 5,
      "outputs": []
    },
    {
      "cell_type": "markdown",
      "source": [
        "### **Understanding Data**"
      ],
      "metadata": {
        "id": "PVfP4_TlNAGv"
      }
    },
    {
      "cell_type": "markdown",
      "source": [
        "#### Size of the Data"
      ],
      "metadata": {
        "id": "yyUn_0PctJWn"
      }
    },
    {
      "cell_type": "code",
      "source": [
        "df.shape"
      ],
      "metadata": {
        "colab": {
          "base_uri": "https://localhost:8080/"
        },
        "id": "G89i9t_7Mr44",
        "outputId": "a0ca9378-7b8f-4c29-ab26-6b6f3033d817"
      },
      "execution_count": 6,
      "outputs": [
        {
          "output_type": "execute_result",
          "data": {
            "text/plain": [
              "(18249, 13)"
            ]
          },
          "metadata": {},
          "execution_count": 6
        }
      ]
    },
    {
      "cell_type": "markdown",
      "source": [
        "#### How data looks like\n"
      ],
      "metadata": {
        "id": "Xh-FTAx3NRKE"
      }
    },
    {
      "cell_type": "code",
      "source": [
        "df.sample(5)"
      ],
      "metadata": {
        "colab": {
          "base_uri": "https://localhost:8080/",
          "height": 0
        },
        "id": "pOfHOvZCMr7Q",
        "outputId": "13b5b7a7-5fbf-4a25-921f-138636ef0444"
      },
      "execution_count": 7,
      "outputs": [
        {
          "output_type": "execute_result",
          "data": {
            "text/plain": [
              "             Date  AveragePrice  Total Volume       4046       4225     4770  \\\n",
              "1761   2015-02-15          0.60    1159509.68  938840.55  143378.43  5938.72   \n",
              "12992  2016-08-14          2.10       3471.82    2096.45     184.98    23.72   \n",
              "11740  2015-09-20          1.46       1738.65      28.28       0.00     0.00   \n",
              "14585  2016-12-25          1.34     914035.42   93875.25  250138.66  3415.27   \n",
              "14848  2017-12-24          1.56      35540.32     919.11    5886.28    89.47   \n",
              "\n",
              "       Total Bags  Small Bags  Large Bags  XLarge Bags          type  year  \\\n",
              "1761     71351.98    71344.45        7.53          0.0  conventional  2015   \n",
              "12992     1166.67     1156.67       10.00          0.0       organic  2016   \n",
              "11740     1710.37     1710.37        0.00          0.0       organic  2015   \n",
              "14585   566606.24   330909.02   235697.22          0.0       organic  2016   \n",
              "14848    28645.46    28639.86        5.60          0.0       organic  2017   \n",
              "\n",
              "                    region  \n",
              "1761         PhoenixTucson  \n",
              "12992         Jacksonville  \n",
              "11740                Tampa  \n",
              "14585              TotalUS  \n",
              "14848  BaltimoreWashington  "
            ],
            "text/html": [
              "\n",
              "  <div id=\"df-0d341a3d-c2b0-41dd-b59b-5b21de2daea1\">\n",
              "    <div class=\"colab-df-container\">\n",
              "      <div>\n",
              "<style scoped>\n",
              "    .dataframe tbody tr th:only-of-type {\n",
              "        vertical-align: middle;\n",
              "    }\n",
              "\n",
              "    .dataframe tbody tr th {\n",
              "        vertical-align: top;\n",
              "    }\n",
              "\n",
              "    .dataframe thead th {\n",
              "        text-align: right;\n",
              "    }\n",
              "</style>\n",
              "<table border=\"1\" class=\"dataframe\">\n",
              "  <thead>\n",
              "    <tr style=\"text-align: right;\">\n",
              "      <th></th>\n",
              "      <th>Date</th>\n",
              "      <th>AveragePrice</th>\n",
              "      <th>Total Volume</th>\n",
              "      <th>4046</th>\n",
              "      <th>4225</th>\n",
              "      <th>4770</th>\n",
              "      <th>Total Bags</th>\n",
              "      <th>Small Bags</th>\n",
              "      <th>Large Bags</th>\n",
              "      <th>XLarge Bags</th>\n",
              "      <th>type</th>\n",
              "      <th>year</th>\n",
              "      <th>region</th>\n",
              "    </tr>\n",
              "  </thead>\n",
              "  <tbody>\n",
              "    <tr>\n",
              "      <th>1761</th>\n",
              "      <td>2015-02-15</td>\n",
              "      <td>0.60</td>\n",
              "      <td>1159509.68</td>\n",
              "      <td>938840.55</td>\n",
              "      <td>143378.43</td>\n",
              "      <td>5938.72</td>\n",
              "      <td>71351.98</td>\n",
              "      <td>71344.45</td>\n",
              "      <td>7.53</td>\n",
              "      <td>0.0</td>\n",
              "      <td>conventional</td>\n",
              "      <td>2015</td>\n",
              "      <td>PhoenixTucson</td>\n",
              "    </tr>\n",
              "    <tr>\n",
              "      <th>12992</th>\n",
              "      <td>2016-08-14</td>\n",
              "      <td>2.10</td>\n",
              "      <td>3471.82</td>\n",
              "      <td>2096.45</td>\n",
              "      <td>184.98</td>\n",
              "      <td>23.72</td>\n",
              "      <td>1166.67</td>\n",
              "      <td>1156.67</td>\n",
              "      <td>10.00</td>\n",
              "      <td>0.0</td>\n",
              "      <td>organic</td>\n",
              "      <td>2016</td>\n",
              "      <td>Jacksonville</td>\n",
              "    </tr>\n",
              "    <tr>\n",
              "      <th>11740</th>\n",
              "      <td>2015-09-20</td>\n",
              "      <td>1.46</td>\n",
              "      <td>1738.65</td>\n",
              "      <td>28.28</td>\n",
              "      <td>0.00</td>\n",
              "      <td>0.00</td>\n",
              "      <td>1710.37</td>\n",
              "      <td>1710.37</td>\n",
              "      <td>0.00</td>\n",
              "      <td>0.0</td>\n",
              "      <td>organic</td>\n",
              "      <td>2015</td>\n",
              "      <td>Tampa</td>\n",
              "    </tr>\n",
              "    <tr>\n",
              "      <th>14585</th>\n",
              "      <td>2016-12-25</td>\n",
              "      <td>1.34</td>\n",
              "      <td>914035.42</td>\n",
              "      <td>93875.25</td>\n",
              "      <td>250138.66</td>\n",
              "      <td>3415.27</td>\n",
              "      <td>566606.24</td>\n",
              "      <td>330909.02</td>\n",
              "      <td>235697.22</td>\n",
              "      <td>0.0</td>\n",
              "      <td>organic</td>\n",
              "      <td>2016</td>\n",
              "      <td>TotalUS</td>\n",
              "    </tr>\n",
              "    <tr>\n",
              "      <th>14848</th>\n",
              "      <td>2017-12-24</td>\n",
              "      <td>1.56</td>\n",
              "      <td>35540.32</td>\n",
              "      <td>919.11</td>\n",
              "      <td>5886.28</td>\n",
              "      <td>89.47</td>\n",
              "      <td>28645.46</td>\n",
              "      <td>28639.86</td>\n",
              "      <td>5.60</td>\n",
              "      <td>0.0</td>\n",
              "      <td>organic</td>\n",
              "      <td>2017</td>\n",
              "      <td>BaltimoreWashington</td>\n",
              "    </tr>\n",
              "  </tbody>\n",
              "</table>\n",
              "</div>\n",
              "      <button class=\"colab-df-convert\" onclick=\"convertToInteractive('df-0d341a3d-c2b0-41dd-b59b-5b21de2daea1')\"\n",
              "              title=\"Convert this dataframe to an interactive table.\"\n",
              "              style=\"display:none;\">\n",
              "        \n",
              "  <svg xmlns=\"http://www.w3.org/2000/svg\" height=\"24px\"viewBox=\"0 0 24 24\"\n",
              "       width=\"24px\">\n",
              "    <path d=\"M0 0h24v24H0V0z\" fill=\"none\"/>\n",
              "    <path d=\"M18.56 5.44l.94 2.06.94-2.06 2.06-.94-2.06-.94-.94-2.06-.94 2.06-2.06.94zm-11 1L8.5 8.5l.94-2.06 2.06-.94-2.06-.94L8.5 2.5l-.94 2.06-2.06.94zm10 10l.94 2.06.94-2.06 2.06-.94-2.06-.94-.94-2.06-.94 2.06-2.06.94z\"/><path d=\"M17.41 7.96l-1.37-1.37c-.4-.4-.92-.59-1.43-.59-.52 0-1.04.2-1.43.59L10.3 9.45l-7.72 7.72c-.78.78-.78 2.05 0 2.83L4 21.41c.39.39.9.59 1.41.59.51 0 1.02-.2 1.41-.59l7.78-7.78 2.81-2.81c.8-.78.8-2.07 0-2.86zM5.41 20L4 18.59l7.72-7.72 1.47 1.35L5.41 20z\"/>\n",
              "  </svg>\n",
              "      </button>\n",
              "      \n",
              "  <style>\n",
              "    .colab-df-container {\n",
              "      display:flex;\n",
              "      flex-wrap:wrap;\n",
              "      gap: 12px;\n",
              "    }\n",
              "\n",
              "    .colab-df-convert {\n",
              "      background-color: #E8F0FE;\n",
              "      border: none;\n",
              "      border-radius: 50%;\n",
              "      cursor: pointer;\n",
              "      display: none;\n",
              "      fill: #1967D2;\n",
              "      height: 32px;\n",
              "      padding: 0 0 0 0;\n",
              "      width: 32px;\n",
              "    }\n",
              "\n",
              "    .colab-df-convert:hover {\n",
              "      background-color: #E2EBFA;\n",
              "      box-shadow: 0px 1px 2px rgba(60, 64, 67, 0.3), 0px 1px 3px 1px rgba(60, 64, 67, 0.15);\n",
              "      fill: #174EA6;\n",
              "    }\n",
              "\n",
              "    [theme=dark] .colab-df-convert {\n",
              "      background-color: #3B4455;\n",
              "      fill: #D2E3FC;\n",
              "    }\n",
              "\n",
              "    [theme=dark] .colab-df-convert:hover {\n",
              "      background-color: #434B5C;\n",
              "      box-shadow: 0px 1px 3px 1px rgba(0, 0, 0, 0.15);\n",
              "      filter: drop-shadow(0px 1px 2px rgba(0, 0, 0, 0.3));\n",
              "      fill: #FFFFFF;\n",
              "    }\n",
              "  </style>\n",
              "\n",
              "      <script>\n",
              "        const buttonEl =\n",
              "          document.querySelector('#df-0d341a3d-c2b0-41dd-b59b-5b21de2daea1 button.colab-df-convert');\n",
              "        buttonEl.style.display =\n",
              "          google.colab.kernel.accessAllowed ? 'block' : 'none';\n",
              "\n",
              "        async function convertToInteractive(key) {\n",
              "          const element = document.querySelector('#df-0d341a3d-c2b0-41dd-b59b-5b21de2daea1');\n",
              "          const dataTable =\n",
              "            await google.colab.kernel.invokeFunction('convertToInteractive',\n",
              "                                                     [key], {});\n",
              "          if (!dataTable) return;\n",
              "\n",
              "          const docLinkHtml = 'Like what you see? Visit the ' +\n",
              "            '<a target=\"_blank\" href=https://colab.research.google.com/notebooks/data_table.ipynb>data table notebook</a>'\n",
              "            + ' to learn more about interactive tables.';\n",
              "          element.innerHTML = '';\n",
              "          dataTable['output_type'] = 'display_data';\n",
              "          await google.colab.output.renderOutput(dataTable, element);\n",
              "          const docLink = document.createElement('div');\n",
              "          docLink.innerHTML = docLinkHtml;\n",
              "          element.appendChild(docLink);\n",
              "        }\n",
              "      </script>\n",
              "    </div>\n",
              "  </div>\n",
              "  "
            ]
          },
          "metadata": {},
          "execution_count": 7
        }
      ]
    },
    {
      "cell_type": "markdown",
      "source": [
        "#### What is the data type of columns"
      ],
      "metadata": {
        "id": "vTCe22aUOdDz"
      }
    },
    {
      "cell_type": "code",
      "source": [
        "df.info()"
      ],
      "metadata": {
        "colab": {
          "base_uri": "https://localhost:8080/"
        },
        "id": "C-IrnFAOMr93",
        "outputId": "fb67d97f-a4bf-4b1c-af01-88138e61f792"
      },
      "execution_count": 8,
      "outputs": [
        {
          "output_type": "stream",
          "name": "stdout",
          "text": [
            "<class 'pandas.core.frame.DataFrame'>\n",
            "RangeIndex: 18249 entries, 0 to 18248\n",
            "Data columns (total 13 columns):\n",
            " #   Column        Non-Null Count  Dtype  \n",
            "---  ------        --------------  -----  \n",
            " 0   Date          18249 non-null  object \n",
            " 1   AveragePrice  18249 non-null  float64\n",
            " 2   Total Volume  18249 non-null  float64\n",
            " 3   4046          18249 non-null  float64\n",
            " 4   4225          18249 non-null  float64\n",
            " 5   4770          18249 non-null  float64\n",
            " 6   Total Bags    18249 non-null  float64\n",
            " 7   Small Bags    18249 non-null  float64\n",
            " 8   Large Bags    18249 non-null  float64\n",
            " 9   XLarge Bags   18249 non-null  float64\n",
            " 10  type          18249 non-null  object \n",
            " 11  year          18249 non-null  int64  \n",
            " 12  region        18249 non-null  object \n",
            "dtypes: float64(9), int64(1), object(3)\n",
            "memory usage: 1.8+ MB\n"
          ]
        }
      ]
    },
    {
      "cell_type": "markdown",
      "source": [
        "Converting Date Dtype from object to the data"
      ],
      "metadata": {
        "id": "NS4iLvhg1ZnP"
      }
    },
    {
      "cell_type": "code",
      "source": [
        "df.Date = pd.to_datetime(df['Date'])"
      ],
      "metadata": {
        "id": "kEvxNVQx1oHv"
      },
      "execution_count": 9,
      "outputs": []
    },
    {
      "cell_type": "code",
      "source": [
        "df.info()"
      ],
      "metadata": {
        "colab": {
          "base_uri": "https://localhost:8080/"
        },
        "id": "mj78a4v31oVz",
        "outputId": "ca843dea-8749-4105-acb2-9bfc60cff809"
      },
      "execution_count": 10,
      "outputs": [
        {
          "output_type": "stream",
          "name": "stdout",
          "text": [
            "<class 'pandas.core.frame.DataFrame'>\n",
            "RangeIndex: 18249 entries, 0 to 18248\n",
            "Data columns (total 13 columns):\n",
            " #   Column        Non-Null Count  Dtype         \n",
            "---  ------        --------------  -----         \n",
            " 0   Date          18249 non-null  datetime64[ns]\n",
            " 1   AveragePrice  18249 non-null  float64       \n",
            " 2   Total Volume  18249 non-null  float64       \n",
            " 3   4046          18249 non-null  float64       \n",
            " 4   4225          18249 non-null  float64       \n",
            " 5   4770          18249 non-null  float64       \n",
            " 6   Total Bags    18249 non-null  float64       \n",
            " 7   Small Bags    18249 non-null  float64       \n",
            " 8   Large Bags    18249 non-null  float64       \n",
            " 9   XLarge Bags   18249 non-null  float64       \n",
            " 10  type          18249 non-null  object        \n",
            " 11  year          18249 non-null  int64         \n",
            " 12  region        18249 non-null  object        \n",
            "dtypes: datetime64[ns](1), float64(9), int64(1), object(2)\n",
            "memory usage: 1.8+ MB\n"
          ]
        }
      ]
    },
    {
      "cell_type": "code",
      "source": [
        "df.sample(2)"
      ],
      "metadata": {
        "colab": {
          "base_uri": "https://localhost:8080/",
          "height": 0
        },
        "id": "-GbJrHri2JoG",
        "outputId": "dff33445-edec-4071-f400-3fd50ce3c3a6"
      },
      "execution_count": 11,
      "outputs": [
        {
          "output_type": "execute_result",
          "data": {
            "text/plain": [
              "           Date  AveragePrice  Total Volume       4046       4225    4770  \\\n",
              "8679 2018-01-21          1.14     345436.84  125847.54  136876.39  168.16   \n",
              "4484 2016-10-02          1.61     366233.17   18332.24  195428.72  898.05   \n",
              "\n",
              "      Total Bags  Small Bags  Large Bags  XLarge Bags          type  year  \\\n",
              "8679    82544.75    79398.89     3142.53         3.33  conventional  2018   \n",
              "4484   151574.16   143701.70     7790.37        82.09  conventional  2016   \n",
              "\n",
              "                  region  \n",
              "8679  HarrisburgScranton  \n",
              "4484        Philadelphia  "
            ],
            "text/html": [
              "\n",
              "  <div id=\"df-e9d68575-614a-4719-b8c0-7d44d38687b2\">\n",
              "    <div class=\"colab-df-container\">\n",
              "      <div>\n",
              "<style scoped>\n",
              "    .dataframe tbody tr th:only-of-type {\n",
              "        vertical-align: middle;\n",
              "    }\n",
              "\n",
              "    .dataframe tbody tr th {\n",
              "        vertical-align: top;\n",
              "    }\n",
              "\n",
              "    .dataframe thead th {\n",
              "        text-align: right;\n",
              "    }\n",
              "</style>\n",
              "<table border=\"1\" class=\"dataframe\">\n",
              "  <thead>\n",
              "    <tr style=\"text-align: right;\">\n",
              "      <th></th>\n",
              "      <th>Date</th>\n",
              "      <th>AveragePrice</th>\n",
              "      <th>Total Volume</th>\n",
              "      <th>4046</th>\n",
              "      <th>4225</th>\n",
              "      <th>4770</th>\n",
              "      <th>Total Bags</th>\n",
              "      <th>Small Bags</th>\n",
              "      <th>Large Bags</th>\n",
              "      <th>XLarge Bags</th>\n",
              "      <th>type</th>\n",
              "      <th>year</th>\n",
              "      <th>region</th>\n",
              "    </tr>\n",
              "  </thead>\n",
              "  <tbody>\n",
              "    <tr>\n",
              "      <th>8679</th>\n",
              "      <td>2018-01-21</td>\n",
              "      <td>1.14</td>\n",
              "      <td>345436.84</td>\n",
              "      <td>125847.54</td>\n",
              "      <td>136876.39</td>\n",
              "      <td>168.16</td>\n",
              "      <td>82544.75</td>\n",
              "      <td>79398.89</td>\n",
              "      <td>3142.53</td>\n",
              "      <td>3.33</td>\n",
              "      <td>conventional</td>\n",
              "      <td>2018</td>\n",
              "      <td>HarrisburgScranton</td>\n",
              "    </tr>\n",
              "    <tr>\n",
              "      <th>4484</th>\n",
              "      <td>2016-10-02</td>\n",
              "      <td>1.61</td>\n",
              "      <td>366233.17</td>\n",
              "      <td>18332.24</td>\n",
              "      <td>195428.72</td>\n",
              "      <td>898.05</td>\n",
              "      <td>151574.16</td>\n",
              "      <td>143701.70</td>\n",
              "      <td>7790.37</td>\n",
              "      <td>82.09</td>\n",
              "      <td>conventional</td>\n",
              "      <td>2016</td>\n",
              "      <td>Philadelphia</td>\n",
              "    </tr>\n",
              "  </tbody>\n",
              "</table>\n",
              "</div>\n",
              "      <button class=\"colab-df-convert\" onclick=\"convertToInteractive('df-e9d68575-614a-4719-b8c0-7d44d38687b2')\"\n",
              "              title=\"Convert this dataframe to an interactive table.\"\n",
              "              style=\"display:none;\">\n",
              "        \n",
              "  <svg xmlns=\"http://www.w3.org/2000/svg\" height=\"24px\"viewBox=\"0 0 24 24\"\n",
              "       width=\"24px\">\n",
              "    <path d=\"M0 0h24v24H0V0z\" fill=\"none\"/>\n",
              "    <path d=\"M18.56 5.44l.94 2.06.94-2.06 2.06-.94-2.06-.94-.94-2.06-.94 2.06-2.06.94zm-11 1L8.5 8.5l.94-2.06 2.06-.94-2.06-.94L8.5 2.5l-.94 2.06-2.06.94zm10 10l.94 2.06.94-2.06 2.06-.94-2.06-.94-.94-2.06-.94 2.06-2.06.94z\"/><path d=\"M17.41 7.96l-1.37-1.37c-.4-.4-.92-.59-1.43-.59-.52 0-1.04.2-1.43.59L10.3 9.45l-7.72 7.72c-.78.78-.78 2.05 0 2.83L4 21.41c.39.39.9.59 1.41.59.51 0 1.02-.2 1.41-.59l7.78-7.78 2.81-2.81c.8-.78.8-2.07 0-2.86zM5.41 20L4 18.59l7.72-7.72 1.47 1.35L5.41 20z\"/>\n",
              "  </svg>\n",
              "      </button>\n",
              "      \n",
              "  <style>\n",
              "    .colab-df-container {\n",
              "      display:flex;\n",
              "      flex-wrap:wrap;\n",
              "      gap: 12px;\n",
              "    }\n",
              "\n",
              "    .colab-df-convert {\n",
              "      background-color: #E8F0FE;\n",
              "      border: none;\n",
              "      border-radius: 50%;\n",
              "      cursor: pointer;\n",
              "      display: none;\n",
              "      fill: #1967D2;\n",
              "      height: 32px;\n",
              "      padding: 0 0 0 0;\n",
              "      width: 32px;\n",
              "    }\n",
              "\n",
              "    .colab-df-convert:hover {\n",
              "      background-color: #E2EBFA;\n",
              "      box-shadow: 0px 1px 2px rgba(60, 64, 67, 0.3), 0px 1px 3px 1px rgba(60, 64, 67, 0.15);\n",
              "      fill: #174EA6;\n",
              "    }\n",
              "\n",
              "    [theme=dark] .colab-df-convert {\n",
              "      background-color: #3B4455;\n",
              "      fill: #D2E3FC;\n",
              "    }\n",
              "\n",
              "    [theme=dark] .colab-df-convert:hover {\n",
              "      background-color: #434B5C;\n",
              "      box-shadow: 0px 1px 3px 1px rgba(0, 0, 0, 0.15);\n",
              "      filter: drop-shadow(0px 1px 2px rgba(0, 0, 0, 0.3));\n",
              "      fill: #FFFFFF;\n",
              "    }\n",
              "  </style>\n",
              "\n",
              "      <script>\n",
              "        const buttonEl =\n",
              "          document.querySelector('#df-e9d68575-614a-4719-b8c0-7d44d38687b2 button.colab-df-convert');\n",
              "        buttonEl.style.display =\n",
              "          google.colab.kernel.accessAllowed ? 'block' : 'none';\n",
              "\n",
              "        async function convertToInteractive(key) {\n",
              "          const element = document.querySelector('#df-e9d68575-614a-4719-b8c0-7d44d38687b2');\n",
              "          const dataTable =\n",
              "            await google.colab.kernel.invokeFunction('convertToInteractive',\n",
              "                                                     [key], {});\n",
              "          if (!dataTable) return;\n",
              "\n",
              "          const docLinkHtml = 'Like what you see? Visit the ' +\n",
              "            '<a target=\"_blank\" href=https://colab.research.google.com/notebooks/data_table.ipynb>data table notebook</a>'\n",
              "            + ' to learn more about interactive tables.';\n",
              "          element.innerHTML = '';\n",
              "          dataTable['output_type'] = 'display_data';\n",
              "          await google.colab.output.renderOutput(dataTable, element);\n",
              "          const docLink = document.createElement('div');\n",
              "          docLink.innerHTML = docLinkHtml;\n",
              "          element.appendChild(docLink);\n",
              "        }\n",
              "      </script>\n",
              "    </div>\n",
              "  </div>\n",
              "  "
            ]
          },
          "metadata": {},
          "execution_count": 11
        }
      ]
    },
    {
      "cell_type": "markdown",
      "source": [
        "#### Checking null values"
      ],
      "metadata": {
        "id": "a8z9bSctOj5g"
      }
    },
    {
      "cell_type": "code",
      "source": [
        "df.isnull().sum()"
      ],
      "metadata": {
        "colab": {
          "base_uri": "https://localhost:8080/"
        },
        "id": "qAqnICw2MsAY",
        "outputId": "af792dc8-4bf5-4a8e-ad79-d4edddc74c9e"
      },
      "execution_count": 12,
      "outputs": [
        {
          "output_type": "execute_result",
          "data": {
            "text/plain": [
              "Date            0\n",
              "AveragePrice    0\n",
              "Total Volume    0\n",
              "4046            0\n",
              "4225            0\n",
              "4770            0\n",
              "Total Bags      0\n",
              "Small Bags      0\n",
              "Large Bags      0\n",
              "XLarge Bags     0\n",
              "type            0\n",
              "year            0\n",
              "region          0\n",
              "dtype: int64"
            ]
          },
          "metadata": {},
          "execution_count": 12
        }
      ]
    },
    {
      "cell_type": "markdown",
      "source": [
        "NO Null data in this data set"
      ],
      "metadata": {
        "id": "l-yhfsHBOt7P"
      }
    },
    {
      "cell_type": "markdown",
      "source": [
        "#### How does the data look mathematically"
      ],
      "metadata": {
        "id": "pq4y2s_nO03l"
      }
    },
    {
      "cell_type": "code",
      "source": [
        "df.describe(include=['O'])"
      ],
      "metadata": {
        "colab": {
          "base_uri": "https://localhost:8080/",
          "height": 0
        },
        "id": "31yyECAWMsC0",
        "outputId": "685c08cb-4e90-49c6-e66c-59b1dbca4ab6"
      },
      "execution_count": 13,
      "outputs": [
        {
          "output_type": "execute_result",
          "data": {
            "text/plain": [
              "                type  region\n",
              "count          18249   18249\n",
              "unique             2      54\n",
              "top     conventional  Albany\n",
              "freq            9126     338"
            ],
            "text/html": [
              "\n",
              "  <div id=\"df-e98b5bcb-4eef-414e-aebe-0e53fa771a33\">\n",
              "    <div class=\"colab-df-container\">\n",
              "      <div>\n",
              "<style scoped>\n",
              "    .dataframe tbody tr th:only-of-type {\n",
              "        vertical-align: middle;\n",
              "    }\n",
              "\n",
              "    .dataframe tbody tr th {\n",
              "        vertical-align: top;\n",
              "    }\n",
              "\n",
              "    .dataframe thead th {\n",
              "        text-align: right;\n",
              "    }\n",
              "</style>\n",
              "<table border=\"1\" class=\"dataframe\">\n",
              "  <thead>\n",
              "    <tr style=\"text-align: right;\">\n",
              "      <th></th>\n",
              "      <th>type</th>\n",
              "      <th>region</th>\n",
              "    </tr>\n",
              "  </thead>\n",
              "  <tbody>\n",
              "    <tr>\n",
              "      <th>count</th>\n",
              "      <td>18249</td>\n",
              "      <td>18249</td>\n",
              "    </tr>\n",
              "    <tr>\n",
              "      <th>unique</th>\n",
              "      <td>2</td>\n",
              "      <td>54</td>\n",
              "    </tr>\n",
              "    <tr>\n",
              "      <th>top</th>\n",
              "      <td>conventional</td>\n",
              "      <td>Albany</td>\n",
              "    </tr>\n",
              "    <tr>\n",
              "      <th>freq</th>\n",
              "      <td>9126</td>\n",
              "      <td>338</td>\n",
              "    </tr>\n",
              "  </tbody>\n",
              "</table>\n",
              "</div>\n",
              "      <button class=\"colab-df-convert\" onclick=\"convertToInteractive('df-e98b5bcb-4eef-414e-aebe-0e53fa771a33')\"\n",
              "              title=\"Convert this dataframe to an interactive table.\"\n",
              "              style=\"display:none;\">\n",
              "        \n",
              "  <svg xmlns=\"http://www.w3.org/2000/svg\" height=\"24px\"viewBox=\"0 0 24 24\"\n",
              "       width=\"24px\">\n",
              "    <path d=\"M0 0h24v24H0V0z\" fill=\"none\"/>\n",
              "    <path d=\"M18.56 5.44l.94 2.06.94-2.06 2.06-.94-2.06-.94-.94-2.06-.94 2.06-2.06.94zm-11 1L8.5 8.5l.94-2.06 2.06-.94-2.06-.94L8.5 2.5l-.94 2.06-2.06.94zm10 10l.94 2.06.94-2.06 2.06-.94-2.06-.94-.94-2.06-.94 2.06-2.06.94z\"/><path d=\"M17.41 7.96l-1.37-1.37c-.4-.4-.92-.59-1.43-.59-.52 0-1.04.2-1.43.59L10.3 9.45l-7.72 7.72c-.78.78-.78 2.05 0 2.83L4 21.41c.39.39.9.59 1.41.59.51 0 1.02-.2 1.41-.59l7.78-7.78 2.81-2.81c.8-.78.8-2.07 0-2.86zM5.41 20L4 18.59l7.72-7.72 1.47 1.35L5.41 20z\"/>\n",
              "  </svg>\n",
              "      </button>\n",
              "      \n",
              "  <style>\n",
              "    .colab-df-container {\n",
              "      display:flex;\n",
              "      flex-wrap:wrap;\n",
              "      gap: 12px;\n",
              "    }\n",
              "\n",
              "    .colab-df-convert {\n",
              "      background-color: #E8F0FE;\n",
              "      border: none;\n",
              "      border-radius: 50%;\n",
              "      cursor: pointer;\n",
              "      display: none;\n",
              "      fill: #1967D2;\n",
              "      height: 32px;\n",
              "      padding: 0 0 0 0;\n",
              "      width: 32px;\n",
              "    }\n",
              "\n",
              "    .colab-df-convert:hover {\n",
              "      background-color: #E2EBFA;\n",
              "      box-shadow: 0px 1px 2px rgba(60, 64, 67, 0.3), 0px 1px 3px 1px rgba(60, 64, 67, 0.15);\n",
              "      fill: #174EA6;\n",
              "    }\n",
              "\n",
              "    [theme=dark] .colab-df-convert {\n",
              "      background-color: #3B4455;\n",
              "      fill: #D2E3FC;\n",
              "    }\n",
              "\n",
              "    [theme=dark] .colab-df-convert:hover {\n",
              "      background-color: #434B5C;\n",
              "      box-shadow: 0px 1px 3px 1px rgba(0, 0, 0, 0.15);\n",
              "      filter: drop-shadow(0px 1px 2px rgba(0, 0, 0, 0.3));\n",
              "      fill: #FFFFFF;\n",
              "    }\n",
              "  </style>\n",
              "\n",
              "      <script>\n",
              "        const buttonEl =\n",
              "          document.querySelector('#df-e98b5bcb-4eef-414e-aebe-0e53fa771a33 button.colab-df-convert');\n",
              "        buttonEl.style.display =\n",
              "          google.colab.kernel.accessAllowed ? 'block' : 'none';\n",
              "\n",
              "        async function convertToInteractive(key) {\n",
              "          const element = document.querySelector('#df-e98b5bcb-4eef-414e-aebe-0e53fa771a33');\n",
              "          const dataTable =\n",
              "            await google.colab.kernel.invokeFunction('convertToInteractive',\n",
              "                                                     [key], {});\n",
              "          if (!dataTable) return;\n",
              "\n",
              "          const docLinkHtml = 'Like what you see? Visit the ' +\n",
              "            '<a target=\"_blank\" href=https://colab.research.google.com/notebooks/data_table.ipynb>data table notebook</a>'\n",
              "            + ' to learn more about interactive tables.';\n",
              "          element.innerHTML = '';\n",
              "          dataTable['output_type'] = 'display_data';\n",
              "          await google.colab.output.renderOutput(dataTable, element);\n",
              "          const docLink = document.createElement('div');\n",
              "          docLink.innerHTML = docLinkHtml;\n",
              "          element.appendChild(docLink);\n",
              "        }\n",
              "      </script>\n",
              "    </div>\n",
              "  </div>\n",
              "  "
            ]
          },
          "metadata": {},
          "execution_count": 13
        }
      ]
    },
    {
      "cell_type": "markdown",
      "source": [
        "**categorical data**"
      ],
      "metadata": {
        "id": "2m7wr8MUbMWL"
      }
    },
    {
      "cell_type": "code",
      "source": [
        "df.describe()"
      ],
      "metadata": {
        "colab": {
          "base_uri": "https://localhost:8080/",
          "height": 0
        },
        "id": "PQLzvLV-bP86",
        "outputId": "fcd38590-feed-46ac-8fb5-63e7cbedb0a7"
      },
      "execution_count": 14,
      "outputs": [
        {
          "output_type": "execute_result",
          "data": {
            "text/plain": [
              "       AveragePrice  Total Volume          4046          4225          4770  \\\n",
              "count  18249.000000  1.824900e+04  1.824900e+04  1.824900e+04  1.824900e+04   \n",
              "mean       1.405978  8.506440e+05  2.930084e+05  2.951546e+05  2.283974e+04   \n",
              "std        0.402677  3.453545e+06  1.264989e+06  1.204120e+06  1.074641e+05   \n",
              "min        0.440000  8.456000e+01  0.000000e+00  0.000000e+00  0.000000e+00   \n",
              "25%        1.100000  1.083858e+04  8.540700e+02  3.008780e+03  0.000000e+00   \n",
              "50%        1.370000  1.073768e+05  8.645300e+03  2.906102e+04  1.849900e+02   \n",
              "75%        1.660000  4.329623e+05  1.110202e+05  1.502069e+05  6.243420e+03   \n",
              "max        3.250000  6.250565e+07  2.274362e+07  2.047057e+07  2.546439e+06   \n",
              "\n",
              "         Total Bags    Small Bags    Large Bags    XLarge Bags          year  \n",
              "count  1.824900e+04  1.824900e+04  1.824900e+04   18249.000000  18249.000000  \n",
              "mean   2.396392e+05  1.821947e+05  5.433809e+04    3106.426507   2016.147899  \n",
              "std    9.862424e+05  7.461785e+05  2.439660e+05   17692.894652      0.939938  \n",
              "min    0.000000e+00  0.000000e+00  0.000000e+00       0.000000   2015.000000  \n",
              "25%    5.088640e+03  2.849420e+03  1.274700e+02       0.000000   2015.000000  \n",
              "50%    3.974383e+04  2.636282e+04  2.647710e+03       0.000000   2016.000000  \n",
              "75%    1.107834e+05  8.333767e+04  2.202925e+04     132.500000   2017.000000  \n",
              "max    1.937313e+07  1.338459e+07  5.719097e+06  551693.650000   2018.000000  "
            ],
            "text/html": [
              "\n",
              "  <div id=\"df-f350cc75-de43-486e-a4e1-99e039862c85\">\n",
              "    <div class=\"colab-df-container\">\n",
              "      <div>\n",
              "<style scoped>\n",
              "    .dataframe tbody tr th:only-of-type {\n",
              "        vertical-align: middle;\n",
              "    }\n",
              "\n",
              "    .dataframe tbody tr th {\n",
              "        vertical-align: top;\n",
              "    }\n",
              "\n",
              "    .dataframe thead th {\n",
              "        text-align: right;\n",
              "    }\n",
              "</style>\n",
              "<table border=\"1\" class=\"dataframe\">\n",
              "  <thead>\n",
              "    <tr style=\"text-align: right;\">\n",
              "      <th></th>\n",
              "      <th>AveragePrice</th>\n",
              "      <th>Total Volume</th>\n",
              "      <th>4046</th>\n",
              "      <th>4225</th>\n",
              "      <th>4770</th>\n",
              "      <th>Total Bags</th>\n",
              "      <th>Small Bags</th>\n",
              "      <th>Large Bags</th>\n",
              "      <th>XLarge Bags</th>\n",
              "      <th>year</th>\n",
              "    </tr>\n",
              "  </thead>\n",
              "  <tbody>\n",
              "    <tr>\n",
              "      <th>count</th>\n",
              "      <td>18249.000000</td>\n",
              "      <td>1.824900e+04</td>\n",
              "      <td>1.824900e+04</td>\n",
              "      <td>1.824900e+04</td>\n",
              "      <td>1.824900e+04</td>\n",
              "      <td>1.824900e+04</td>\n",
              "      <td>1.824900e+04</td>\n",
              "      <td>1.824900e+04</td>\n",
              "      <td>18249.000000</td>\n",
              "      <td>18249.000000</td>\n",
              "    </tr>\n",
              "    <tr>\n",
              "      <th>mean</th>\n",
              "      <td>1.405978</td>\n",
              "      <td>8.506440e+05</td>\n",
              "      <td>2.930084e+05</td>\n",
              "      <td>2.951546e+05</td>\n",
              "      <td>2.283974e+04</td>\n",
              "      <td>2.396392e+05</td>\n",
              "      <td>1.821947e+05</td>\n",
              "      <td>5.433809e+04</td>\n",
              "      <td>3106.426507</td>\n",
              "      <td>2016.147899</td>\n",
              "    </tr>\n",
              "    <tr>\n",
              "      <th>std</th>\n",
              "      <td>0.402677</td>\n",
              "      <td>3.453545e+06</td>\n",
              "      <td>1.264989e+06</td>\n",
              "      <td>1.204120e+06</td>\n",
              "      <td>1.074641e+05</td>\n",
              "      <td>9.862424e+05</td>\n",
              "      <td>7.461785e+05</td>\n",
              "      <td>2.439660e+05</td>\n",
              "      <td>17692.894652</td>\n",
              "      <td>0.939938</td>\n",
              "    </tr>\n",
              "    <tr>\n",
              "      <th>min</th>\n",
              "      <td>0.440000</td>\n",
              "      <td>8.456000e+01</td>\n",
              "      <td>0.000000e+00</td>\n",
              "      <td>0.000000e+00</td>\n",
              "      <td>0.000000e+00</td>\n",
              "      <td>0.000000e+00</td>\n",
              "      <td>0.000000e+00</td>\n",
              "      <td>0.000000e+00</td>\n",
              "      <td>0.000000</td>\n",
              "      <td>2015.000000</td>\n",
              "    </tr>\n",
              "    <tr>\n",
              "      <th>25%</th>\n",
              "      <td>1.100000</td>\n",
              "      <td>1.083858e+04</td>\n",
              "      <td>8.540700e+02</td>\n",
              "      <td>3.008780e+03</td>\n",
              "      <td>0.000000e+00</td>\n",
              "      <td>5.088640e+03</td>\n",
              "      <td>2.849420e+03</td>\n",
              "      <td>1.274700e+02</td>\n",
              "      <td>0.000000</td>\n",
              "      <td>2015.000000</td>\n",
              "    </tr>\n",
              "    <tr>\n",
              "      <th>50%</th>\n",
              "      <td>1.370000</td>\n",
              "      <td>1.073768e+05</td>\n",
              "      <td>8.645300e+03</td>\n",
              "      <td>2.906102e+04</td>\n",
              "      <td>1.849900e+02</td>\n",
              "      <td>3.974383e+04</td>\n",
              "      <td>2.636282e+04</td>\n",
              "      <td>2.647710e+03</td>\n",
              "      <td>0.000000</td>\n",
              "      <td>2016.000000</td>\n",
              "    </tr>\n",
              "    <tr>\n",
              "      <th>75%</th>\n",
              "      <td>1.660000</td>\n",
              "      <td>4.329623e+05</td>\n",
              "      <td>1.110202e+05</td>\n",
              "      <td>1.502069e+05</td>\n",
              "      <td>6.243420e+03</td>\n",
              "      <td>1.107834e+05</td>\n",
              "      <td>8.333767e+04</td>\n",
              "      <td>2.202925e+04</td>\n",
              "      <td>132.500000</td>\n",
              "      <td>2017.000000</td>\n",
              "    </tr>\n",
              "    <tr>\n",
              "      <th>max</th>\n",
              "      <td>3.250000</td>\n",
              "      <td>6.250565e+07</td>\n",
              "      <td>2.274362e+07</td>\n",
              "      <td>2.047057e+07</td>\n",
              "      <td>2.546439e+06</td>\n",
              "      <td>1.937313e+07</td>\n",
              "      <td>1.338459e+07</td>\n",
              "      <td>5.719097e+06</td>\n",
              "      <td>551693.650000</td>\n",
              "      <td>2018.000000</td>\n",
              "    </tr>\n",
              "  </tbody>\n",
              "</table>\n",
              "</div>\n",
              "      <button class=\"colab-df-convert\" onclick=\"convertToInteractive('df-f350cc75-de43-486e-a4e1-99e039862c85')\"\n",
              "              title=\"Convert this dataframe to an interactive table.\"\n",
              "              style=\"display:none;\">\n",
              "        \n",
              "  <svg xmlns=\"http://www.w3.org/2000/svg\" height=\"24px\"viewBox=\"0 0 24 24\"\n",
              "       width=\"24px\">\n",
              "    <path d=\"M0 0h24v24H0V0z\" fill=\"none\"/>\n",
              "    <path d=\"M18.56 5.44l.94 2.06.94-2.06 2.06-.94-2.06-.94-.94-2.06-.94 2.06-2.06.94zm-11 1L8.5 8.5l.94-2.06 2.06-.94-2.06-.94L8.5 2.5l-.94 2.06-2.06.94zm10 10l.94 2.06.94-2.06 2.06-.94-2.06-.94-.94-2.06-.94 2.06-2.06.94z\"/><path d=\"M17.41 7.96l-1.37-1.37c-.4-.4-.92-.59-1.43-.59-.52 0-1.04.2-1.43.59L10.3 9.45l-7.72 7.72c-.78.78-.78 2.05 0 2.83L4 21.41c.39.39.9.59 1.41.59.51 0 1.02-.2 1.41-.59l7.78-7.78 2.81-2.81c.8-.78.8-2.07 0-2.86zM5.41 20L4 18.59l7.72-7.72 1.47 1.35L5.41 20z\"/>\n",
              "  </svg>\n",
              "      </button>\n",
              "      \n",
              "  <style>\n",
              "    .colab-df-container {\n",
              "      display:flex;\n",
              "      flex-wrap:wrap;\n",
              "      gap: 12px;\n",
              "    }\n",
              "\n",
              "    .colab-df-convert {\n",
              "      background-color: #E8F0FE;\n",
              "      border: none;\n",
              "      border-radius: 50%;\n",
              "      cursor: pointer;\n",
              "      display: none;\n",
              "      fill: #1967D2;\n",
              "      height: 32px;\n",
              "      padding: 0 0 0 0;\n",
              "      width: 32px;\n",
              "    }\n",
              "\n",
              "    .colab-df-convert:hover {\n",
              "      background-color: #E2EBFA;\n",
              "      box-shadow: 0px 1px 2px rgba(60, 64, 67, 0.3), 0px 1px 3px 1px rgba(60, 64, 67, 0.15);\n",
              "      fill: #174EA6;\n",
              "    }\n",
              "\n",
              "    [theme=dark] .colab-df-convert {\n",
              "      background-color: #3B4455;\n",
              "      fill: #D2E3FC;\n",
              "    }\n",
              "\n",
              "    [theme=dark] .colab-df-convert:hover {\n",
              "      background-color: #434B5C;\n",
              "      box-shadow: 0px 1px 3px 1px rgba(0, 0, 0, 0.15);\n",
              "      filter: drop-shadow(0px 1px 2px rgba(0, 0, 0, 0.3));\n",
              "      fill: #FFFFFF;\n",
              "    }\n",
              "  </style>\n",
              "\n",
              "      <script>\n",
              "        const buttonEl =\n",
              "          document.querySelector('#df-f350cc75-de43-486e-a4e1-99e039862c85 button.colab-df-convert');\n",
              "        buttonEl.style.display =\n",
              "          google.colab.kernel.accessAllowed ? 'block' : 'none';\n",
              "\n",
              "        async function convertToInteractive(key) {\n",
              "          const element = document.querySelector('#df-f350cc75-de43-486e-a4e1-99e039862c85');\n",
              "          const dataTable =\n",
              "            await google.colab.kernel.invokeFunction('convertToInteractive',\n",
              "                                                     [key], {});\n",
              "          if (!dataTable) return;\n",
              "\n",
              "          const docLinkHtml = 'Like what you see? Visit the ' +\n",
              "            '<a target=\"_blank\" href=https://colab.research.google.com/notebooks/data_table.ipynb>data table notebook</a>'\n",
              "            + ' to learn more about interactive tables.';\n",
              "          element.innerHTML = '';\n",
              "          dataTable['output_type'] = 'display_data';\n",
              "          await google.colab.output.renderOutput(dataTable, element);\n",
              "          const docLink = document.createElement('div');\n",
              "          docLink.innerHTML = docLinkHtml;\n",
              "          element.appendChild(docLink);\n",
              "        }\n",
              "      </script>\n",
              "    </div>\n",
              "  </div>\n",
              "  "
            ]
          },
          "metadata": {},
          "execution_count": 14
        }
      ]
    },
    {
      "cell_type": "markdown",
      "source": [
        "**Numerical data**"
      ],
      "metadata": {
        "id": "ML0cDX0hbQnV"
      }
    },
    {
      "cell_type": "markdown",
      "source": [
        "#### Label encoding "
      ],
      "metadata": {
        "id": "_tzeDmfKPRgc"
      }
    },
    {
      "cell_type": "code",
      "source": [
        "df.insert(df.columns.get_loc('region')+1, column= 'LE_region', value=le.fit_transform(df['region']))"
      ],
      "metadata": {
        "id": "rhubYVSg4Two"
      },
      "execution_count": 15,
      "outputs": []
    },
    {
      "cell_type": "code",
      "source": [
        "df.insert(df.columns.get_loc('type')+1, column= 'LE_type', value=le.fit_transform(df['type']))"
      ],
      "metadata": {
        "id": "boLU4qcI5bCl"
      },
      "execution_count": 16,
      "outputs": []
    },
    {
      "cell_type": "code",
      "source": [
        "df.sample(5)"
      ],
      "metadata": {
        "colab": {
          "base_uri": "https://localhost:8080/",
          "height": 0
        },
        "id": "k_3629V_5TdZ",
        "outputId": "dea773cd-f367-47ef-f353-bbc3d1dea075"
      },
      "execution_count": 17,
      "outputs": [
        {
          "output_type": "execute_result",
          "data": {
            "text/plain": [
              "           Date  AveragePrice  Total Volume       4046       4225      4770  \\\n",
              "596  2015-07-12          0.82    1144448.23  713425.63  319277.99   4382.19   \n",
              "7908 2017-10-01          2.01     363941.68   72930.41  126903.44    659.39   \n",
              "9764 2015-09-20          1.36      25808.98    6109.72    3509.31     13.70   \n",
              "2929 2016-08-28          1.57     732545.70   72406.64  443668.36  15648.56   \n",
              "6220 2017-08-06          0.98    1253537.50  663949.10  307186.94   2723.49   \n",
              "\n",
              "      Total Bags  Small Bags  Large Bags  XLarge Bags          type  LE_type  \\\n",
              "596    107362.42   102573.93     4008.88       779.61  conventional        0   \n",
              "7908   163448.44   107521.77    54904.91      1021.76  conventional        0   \n",
              "9764    16176.25      356.67    15819.58         0.00       organic        1   \n",
              "2929   200822.14   194472.57     3978.68      2370.89  conventional        0   \n",
              "6220   279677.97   187977.48    90232.72      1467.77  conventional        0   \n",
              "\n",
              "      year               region  LE_region  \n",
              "596   2015        DallasFtWorth         11  \n",
              "7908  2017              Seattle         43  \n",
              "9764  2015               Denver         12  \n",
              "2929  2016  BaltimoreWashington          2  \n",
              "6220  2017        DallasFtWorth         11  "
            ],
            "text/html": [
              "\n",
              "  <div id=\"df-67a89c85-4de4-4df5-bb87-51d8f59fd36e\">\n",
              "    <div class=\"colab-df-container\">\n",
              "      <div>\n",
              "<style scoped>\n",
              "    .dataframe tbody tr th:only-of-type {\n",
              "        vertical-align: middle;\n",
              "    }\n",
              "\n",
              "    .dataframe tbody tr th {\n",
              "        vertical-align: top;\n",
              "    }\n",
              "\n",
              "    .dataframe thead th {\n",
              "        text-align: right;\n",
              "    }\n",
              "</style>\n",
              "<table border=\"1\" class=\"dataframe\">\n",
              "  <thead>\n",
              "    <tr style=\"text-align: right;\">\n",
              "      <th></th>\n",
              "      <th>Date</th>\n",
              "      <th>AveragePrice</th>\n",
              "      <th>Total Volume</th>\n",
              "      <th>4046</th>\n",
              "      <th>4225</th>\n",
              "      <th>4770</th>\n",
              "      <th>Total Bags</th>\n",
              "      <th>Small Bags</th>\n",
              "      <th>Large Bags</th>\n",
              "      <th>XLarge Bags</th>\n",
              "      <th>type</th>\n",
              "      <th>LE_type</th>\n",
              "      <th>year</th>\n",
              "      <th>region</th>\n",
              "      <th>LE_region</th>\n",
              "    </tr>\n",
              "  </thead>\n",
              "  <tbody>\n",
              "    <tr>\n",
              "      <th>596</th>\n",
              "      <td>2015-07-12</td>\n",
              "      <td>0.82</td>\n",
              "      <td>1144448.23</td>\n",
              "      <td>713425.63</td>\n",
              "      <td>319277.99</td>\n",
              "      <td>4382.19</td>\n",
              "      <td>107362.42</td>\n",
              "      <td>102573.93</td>\n",
              "      <td>4008.88</td>\n",
              "      <td>779.61</td>\n",
              "      <td>conventional</td>\n",
              "      <td>0</td>\n",
              "      <td>2015</td>\n",
              "      <td>DallasFtWorth</td>\n",
              "      <td>11</td>\n",
              "    </tr>\n",
              "    <tr>\n",
              "      <th>7908</th>\n",
              "      <td>2017-10-01</td>\n",
              "      <td>2.01</td>\n",
              "      <td>363941.68</td>\n",
              "      <td>72930.41</td>\n",
              "      <td>126903.44</td>\n",
              "      <td>659.39</td>\n",
              "      <td>163448.44</td>\n",
              "      <td>107521.77</td>\n",
              "      <td>54904.91</td>\n",
              "      <td>1021.76</td>\n",
              "      <td>conventional</td>\n",
              "      <td>0</td>\n",
              "      <td>2017</td>\n",
              "      <td>Seattle</td>\n",
              "      <td>43</td>\n",
              "    </tr>\n",
              "    <tr>\n",
              "      <th>9764</th>\n",
              "      <td>2015-09-20</td>\n",
              "      <td>1.36</td>\n",
              "      <td>25808.98</td>\n",
              "      <td>6109.72</td>\n",
              "      <td>3509.31</td>\n",
              "      <td>13.70</td>\n",
              "      <td>16176.25</td>\n",
              "      <td>356.67</td>\n",
              "      <td>15819.58</td>\n",
              "      <td>0.00</td>\n",
              "      <td>organic</td>\n",
              "      <td>1</td>\n",
              "      <td>2015</td>\n",
              "      <td>Denver</td>\n",
              "      <td>12</td>\n",
              "    </tr>\n",
              "    <tr>\n",
              "      <th>2929</th>\n",
              "      <td>2016-08-28</td>\n",
              "      <td>1.57</td>\n",
              "      <td>732545.70</td>\n",
              "      <td>72406.64</td>\n",
              "      <td>443668.36</td>\n",
              "      <td>15648.56</td>\n",
              "      <td>200822.14</td>\n",
              "      <td>194472.57</td>\n",
              "      <td>3978.68</td>\n",
              "      <td>2370.89</td>\n",
              "      <td>conventional</td>\n",
              "      <td>0</td>\n",
              "      <td>2016</td>\n",
              "      <td>BaltimoreWashington</td>\n",
              "      <td>2</td>\n",
              "    </tr>\n",
              "    <tr>\n",
              "      <th>6220</th>\n",
              "      <td>2017-08-06</td>\n",
              "      <td>0.98</td>\n",
              "      <td>1253537.50</td>\n",
              "      <td>663949.10</td>\n",
              "      <td>307186.94</td>\n",
              "      <td>2723.49</td>\n",
              "      <td>279677.97</td>\n",
              "      <td>187977.48</td>\n",
              "      <td>90232.72</td>\n",
              "      <td>1467.77</td>\n",
              "      <td>conventional</td>\n",
              "      <td>0</td>\n",
              "      <td>2017</td>\n",
              "      <td>DallasFtWorth</td>\n",
              "      <td>11</td>\n",
              "    </tr>\n",
              "  </tbody>\n",
              "</table>\n",
              "</div>\n",
              "      <button class=\"colab-df-convert\" onclick=\"convertToInteractive('df-67a89c85-4de4-4df5-bb87-51d8f59fd36e')\"\n",
              "              title=\"Convert this dataframe to an interactive table.\"\n",
              "              style=\"display:none;\">\n",
              "        \n",
              "  <svg xmlns=\"http://www.w3.org/2000/svg\" height=\"24px\"viewBox=\"0 0 24 24\"\n",
              "       width=\"24px\">\n",
              "    <path d=\"M0 0h24v24H0V0z\" fill=\"none\"/>\n",
              "    <path d=\"M18.56 5.44l.94 2.06.94-2.06 2.06-.94-2.06-.94-.94-2.06-.94 2.06-2.06.94zm-11 1L8.5 8.5l.94-2.06 2.06-.94-2.06-.94L8.5 2.5l-.94 2.06-2.06.94zm10 10l.94 2.06.94-2.06 2.06-.94-2.06-.94-.94-2.06-.94 2.06-2.06.94z\"/><path d=\"M17.41 7.96l-1.37-1.37c-.4-.4-.92-.59-1.43-.59-.52 0-1.04.2-1.43.59L10.3 9.45l-7.72 7.72c-.78.78-.78 2.05 0 2.83L4 21.41c.39.39.9.59 1.41.59.51 0 1.02-.2 1.41-.59l7.78-7.78 2.81-2.81c.8-.78.8-2.07 0-2.86zM5.41 20L4 18.59l7.72-7.72 1.47 1.35L5.41 20z\"/>\n",
              "  </svg>\n",
              "      </button>\n",
              "      \n",
              "  <style>\n",
              "    .colab-df-container {\n",
              "      display:flex;\n",
              "      flex-wrap:wrap;\n",
              "      gap: 12px;\n",
              "    }\n",
              "\n",
              "    .colab-df-convert {\n",
              "      background-color: #E8F0FE;\n",
              "      border: none;\n",
              "      border-radius: 50%;\n",
              "      cursor: pointer;\n",
              "      display: none;\n",
              "      fill: #1967D2;\n",
              "      height: 32px;\n",
              "      padding: 0 0 0 0;\n",
              "      width: 32px;\n",
              "    }\n",
              "\n",
              "    .colab-df-convert:hover {\n",
              "      background-color: #E2EBFA;\n",
              "      box-shadow: 0px 1px 2px rgba(60, 64, 67, 0.3), 0px 1px 3px 1px rgba(60, 64, 67, 0.15);\n",
              "      fill: #174EA6;\n",
              "    }\n",
              "\n",
              "    [theme=dark] .colab-df-convert {\n",
              "      background-color: #3B4455;\n",
              "      fill: #D2E3FC;\n",
              "    }\n",
              "\n",
              "    [theme=dark] .colab-df-convert:hover {\n",
              "      background-color: #434B5C;\n",
              "      box-shadow: 0px 1px 3px 1px rgba(0, 0, 0, 0.15);\n",
              "      filter: drop-shadow(0px 1px 2px rgba(0, 0, 0, 0.3));\n",
              "      fill: #FFFFFF;\n",
              "    }\n",
              "  </style>\n",
              "\n",
              "      <script>\n",
              "        const buttonEl =\n",
              "          document.querySelector('#df-67a89c85-4de4-4df5-bb87-51d8f59fd36e button.colab-df-convert');\n",
              "        buttonEl.style.display =\n",
              "          google.colab.kernel.accessAllowed ? 'block' : 'none';\n",
              "\n",
              "        async function convertToInteractive(key) {\n",
              "          const element = document.querySelector('#df-67a89c85-4de4-4df5-bb87-51d8f59fd36e');\n",
              "          const dataTable =\n",
              "            await google.colab.kernel.invokeFunction('convertToInteractive',\n",
              "                                                     [key], {});\n",
              "          if (!dataTable) return;\n",
              "\n",
              "          const docLinkHtml = 'Like what you see? Visit the ' +\n",
              "            '<a target=\"_blank\" href=https://colab.research.google.com/notebooks/data_table.ipynb>data table notebook</a>'\n",
              "            + ' to learn more about interactive tables.';\n",
              "          element.innerHTML = '';\n",
              "          dataTable['output_type'] = 'display_data';\n",
              "          await google.colab.output.renderOutput(dataTable, element);\n",
              "          const docLink = document.createElement('div');\n",
              "          docLink.innerHTML = docLinkHtml;\n",
              "          element.appendChild(docLink);\n",
              "        }\n",
              "      </script>\n",
              "    </div>\n",
              "  </div>\n",
              "  "
            ]
          },
          "metadata": {},
          "execution_count": 17
        }
      ]
    },
    {
      "cell_type": "markdown",
      "source": [
        "#### Checking for Duplicate values"
      ],
      "metadata": {
        "id": "_tbwMwhXPU3x"
      }
    },
    {
      "cell_type": "code",
      "source": [
        "df.duplicated().sum()"
      ],
      "metadata": {
        "colab": {
          "base_uri": "https://localhost:8080/"
        },
        "id": "fi3C3SJPMsFA",
        "outputId": "612c55b4-aab3-4919-86a9-aca3ab2ffdec"
      },
      "execution_count": 18,
      "outputs": [
        {
          "output_type": "execute_result",
          "data": {
            "text/plain": [
              "0"
            ]
          },
          "metadata": {},
          "execution_count": 18
        }
      ]
    },
    {
      "cell_type": "markdown",
      "source": [
        "#### How is the correlation between columns"
      ],
      "metadata": {
        "id": "cbzFguTOPbRw"
      }
    },
    {
      "cell_type": "code",
      "source": [
        "df.corr()['AveragePrice'].sort_values(ascending = False)"
      ],
      "metadata": {
        "colab": {
          "base_uri": "https://localhost:8080/"
        },
        "id": "9rAMnisFKZnI",
        "outputId": "2bfe9d55-43f2-4ff3-ca1f-dc56b282777f"
      },
      "execution_count": 19,
      "outputs": [
        {
          "output_type": "execute_result",
          "data": {
            "text/plain": [
              "AveragePrice    1.000000\n",
              "LE_type         0.615845\n",
              "year            0.093197\n",
              "LE_region      -0.011716\n",
              "XLarge Bags    -0.117592\n",
              "4225           -0.172928\n",
              "Large Bags     -0.172940\n",
              "Small Bags     -0.174730\n",
              "Total Bags     -0.177088\n",
              "4770           -0.179446\n",
              "Total Volume   -0.192752\n",
              "4046           -0.208317\n",
              "Name: AveragePrice, dtype: float64"
            ]
          },
          "metadata": {},
          "execution_count": 19
        }
      ]
    },
    {
      "cell_type": "markdown",
      "source": [
        "### Exploratory Data Analysis"
      ],
      "metadata": {
        "id": "FVOQ91PXP3eq"
      }
    },
    {
      "cell_type": "code",
      "source": [
        "for year in df['year'].unique():\n",
        "  sns.histplot(df[df[\"year\"] == year ]['AveragePrice'])\n",
        "  plt.xlabel(f'Average price in {year}')\n",
        "  plt.show()\n",
        "  print('Max Price: ',df[df[\"year\"] == year ]['AveragePrice'].max(),\n",
        "        '\\nMean Price: ',df[df[\"year\"] == year ]['AveragePrice'].mean(),\n",
        "        '\\nMin Price: ',df[df[\"year\"] == year ]['AveragePrice'].min())"
      ],
      "metadata": {
        "colab": {
          "base_uri": "https://localhost:8080/",
          "height": 0
        },
        "id": "CKW-5cX3PdcA",
        "outputId": "b3e9d730-acb5-490d-9c4e-6dd1be9d22b0"
      },
      "execution_count": 20,
      "outputs": [
        {
          "output_type": "display_data",
          "data": {
            "text/plain": [
              "<Figure size 432x288 with 1 Axes>"
            ],
            "image/png": "[encoded data removed]"
          },
          "metadata": {
            "needs_background": "light"
          }
        },
        {
          "output_type": "stream",
          "name": "stdout",
          "text": [
            "Max Price:  2.79 \n",
            "Mean Price:  1.3755903829029397 \n",
            "Min Price:  0.49\n"
          ]
        },
        {
          "output_type": "display_data",
          "data": {
            "text/plain": [
              "<Figure size 432x288 with 1 Axes>"
            ],
            "image/png": "[encoded data removed]"
          },
          "metadata": {
            "needs_background": "light"
          }
        },
        {
          "output_type": "stream",
          "name": "stdout",
          "text": [
            "Max Price:  3.25 \n",
            "Mean Price:  1.3386396011395996 \n",
            "Min Price:  0.51\n"
          ]
        },
        {
          "output_type": "display_data",
          "data": {
            "text/plain": [
              "<Figure size 432x288 with 1 Axes>"
            ],
            "image/png": "[encoded data removed]"
          },
          "metadata": {
            "needs_background": "light"
          }
        },
        {
          "output_type": "stream",
          "name": "stdout",
          "text": [
            "Max Price:  3.17 \n",
            "Mean Price:  1.515127577770011 \n",
            "Min Price:  0.44\n"
          ]
        },
        {
          "output_type": "display_data",
          "data": {
            "text/plain": [
              "<Figure size 432x288 with 1 Axes>"
            ],
            "image/png": "[encoded data removed]"
          },
          "metadata": {
            "needs_background": "light"
          }
        },
        {
          "output_type": "stream",
          "name": "stdout",
          "text": [
            "Max Price:  2.3 \n",
            "Mean Price:  1.347530864197531 \n",
            "Min Price:  0.56\n"
          ]
        }
      ]
    },
    {
      "cell_type": "code",
      "source": [
        "df.sample(5)"
      ],
      "metadata": {
        "colab": {
          "base_uri": "https://localhost:8080/",
          "height": 0
        },
        "id": "Cd1IQNQ7TfJA",
        "outputId": "58c07f3f-e167-414c-d5aa-7071c1ca36f9"
      },
      "execution_count": 21,
      "outputs": [
        {
          "output_type": "execute_result",
          "data": {
            "text/plain": [
              "            Date  AveragePrice  Total Volume        4046        4225  \\\n",
              "15284 2017-10-01          1.91       9352.24      599.90     2055.80   \n",
              "3083  2016-09-11          1.38     124095.82     1657.87    81283.86   \n",
              "341   2015-06-07          0.98    6374842.90  3614314.44  1860329.30   \n",
              "1193  2015-01-18          0.89    2800679.50  1925013.31   526106.80   \n",
              "8102  2017-01-29          1.12    4143712.22  1855817.07   719826.98   \n",
              "\n",
              "            4770  Total Bags  Small Bags  Large Bags  XLarge Bags  \\\n",
              "15284       0.00     6696.54     6061.17      635.37         0.00   \n",
              "3083       65.32    41088.77    39986.67     1102.10         0.00   \n",
              "341    221330.48   678868.68   651944.51    23422.39      3501.78   \n",
              "1193    59364.23   290195.16   260857.96    26671.18      2666.02   \n",
              "8102     6139.70  1561928.47   947470.76   611716.88      2740.83   \n",
              "\n",
              "               type  LE_type  year            region  LE_region  \n",
              "15284       organic        1  2017          Columbus         10  \n",
              "3083   conventional        0  2016  BuffaloRochester          5  \n",
              "341    conventional        0  2015        California          6  \n",
              "1193   conventional        0  2015        LosAngeles         22  \n",
              "8102   conventional        0  2017         Southeast         46  "
            ],
            "text/html": [
              "\n",
              "  <div id=\"df-e90b5caa-3358-4522-b0d5-7b776264358c\">\n",
              "    <div class=\"colab-df-container\">\n",
              "      <div>\n",
              "<style scoped>\n",
              "    .dataframe tbody tr th:only-of-type {\n",
              "        vertical-align: middle;\n",
              "    }\n",
              "\n",
              "    .dataframe tbody tr th {\n",
              "        vertical-align: top;\n",
              "    }\n",
              "\n",
              "    .dataframe thead th {\n",
              "        text-align: right;\n",
              "    }\n",
              "</style>\n",
              "<table border=\"1\" class=\"dataframe\">\n",
              "  <thead>\n",
              "    <tr style=\"text-align: right;\">\n",
              "      <th></th>\n",
              "      <th>Date</th>\n",
              "      <th>AveragePrice</th>\n",
              "      <th>Total Volume</th>\n",
              "      <th>4046</th>\n",
              "      <th>4225</th>\n",
              "      <th>4770</th>\n",
              "      <th>Total Bags</th>\n",
              "      <th>Small Bags</th>\n",
              "      <th>Large Bags</th>\n",
              "      <th>XLarge Bags</th>\n",
              "      <th>type</th>\n",
              "      <th>LE_type</th>\n",
              "      <th>year</th>\n",
              "      <th>region</th>\n",
              "      <th>LE_region</th>\n",
              "    </tr>\n",
              "  </thead>\n",
              "  <tbody>\n",
              "    <tr>\n",
              "      <th>15284</th>\n",
              "      <td>2017-10-01</td>\n",
              "      <td>1.91</td>\n",
              "      <td>9352.24</td>\n",
              "      <td>599.90</td>\n",
              "      <td>2055.80</td>\n",
              "      <td>0.00</td>\n",
              "      <td>6696.54</td>\n",
              "      <td>6061.17</td>\n",
              "      <td>635.37</td>\n",
              "      <td>0.00</td>\n",
              "      <td>organic</td>\n",
              "      <td>1</td>\n",
              "      <td>2017</td>\n",
              "      <td>Columbus</td>\n",
              "      <td>10</td>\n",
              "    </tr>\n",
              "    <tr>\n",
              "      <th>3083</th>\n",
              "      <td>2016-09-11</td>\n",
              "      <td>1.38</td>\n",
              "      <td>124095.82</td>\n",
              "      <td>1657.87</td>\n",
              "      <td>81283.86</td>\n",
              "      <td>65.32</td>\n",
              "      <td>41088.77</td>\n",
              "      <td>39986.67</td>\n",
              "      <td>1102.10</td>\n",
              "      <td>0.00</td>\n",
              "      <td>conventional</td>\n",
              "      <td>0</td>\n",
              "      <td>2016</td>\n",
              "      <td>BuffaloRochester</td>\n",
              "      <td>5</td>\n",
              "    </tr>\n",
              "    <tr>\n",
              "      <th>341</th>\n",
              "      <td>2015-06-07</td>\n",
              "      <td>0.98</td>\n",
              "      <td>6374842.90</td>\n",
              "      <td>3614314.44</td>\n",
              "      <td>1860329.30</td>\n",
              "      <td>221330.48</td>\n",
              "      <td>678868.68</td>\n",
              "      <td>651944.51</td>\n",
              "      <td>23422.39</td>\n",
              "      <td>3501.78</td>\n",
              "      <td>conventional</td>\n",
              "      <td>0</td>\n",
              "      <td>2015</td>\n",
              "      <td>California</td>\n",
              "      <td>6</td>\n",
              "    </tr>\n",
              "    <tr>\n",
              "      <th>1193</th>\n",
              "      <td>2015-01-18</td>\n",
              "      <td>0.89</td>\n",
              "      <td>2800679.50</td>\n",
              "      <td>1925013.31</td>\n",
              "      <td>526106.80</td>\n",
              "      <td>59364.23</td>\n",
              "      <td>290195.16</td>\n",
              "      <td>260857.96</td>\n",
              "      <td>26671.18</td>\n",
              "      <td>2666.02</td>\n",
              "      <td>conventional</td>\n",
              "      <td>0</td>\n",
              "      <td>2015</td>\n",
              "      <td>LosAngeles</td>\n",
              "      <td>22</td>\n",
              "    </tr>\n",
              "    <tr>\n",
              "      <th>8102</th>\n",
              "      <td>2017-01-29</td>\n",
              "      <td>1.12</td>\n",
              "      <td>4143712.22</td>\n",
              "      <td>1855817.07</td>\n",
              "      <td>719826.98</td>\n",
              "      <td>6139.70</td>\n",
              "      <td>1561928.47</td>\n",
              "      <td>947470.76</td>\n",
              "      <td>611716.88</td>\n",
              "      <td>2740.83</td>\n",
              "      <td>conventional</td>\n",
              "      <td>0</td>\n",
              "      <td>2017</td>\n",
              "      <td>Southeast</td>\n",
              "      <td>46</td>\n",
              "    </tr>\n",
              "  </tbody>\n",
              "</table>\n",
              "</div>\n",
              "      <button class=\"colab-df-convert\" onclick=\"convertToInteractive('df-e90b5caa-3358-4522-b0d5-7b776264358c')\"\n",
              "              title=\"Convert this dataframe to an interactive table.\"\n",
              "              style=\"display:none;\">\n",
              "        \n",
              "  <svg xmlns=\"http://www.w3.org/2000/svg\" height=\"24px\"viewBox=\"0 0 24 24\"\n",
              "       width=\"24px\">\n",
              "    <path d=\"M0 0h24v24H0V0z\" fill=\"none\"/>\n",
              "    <path d=\"M18.56 5.44l.94 2.06.94-2.06 2.06-.94-2.06-.94-.94-2.06-.94 2.06-2.06.94zm-11 1L8.5 8.5l.94-2.06 2.06-.94-2.06-.94L8.5 2.5l-.94 2.06-2.06.94zm10 10l.94 2.06.94-2.06 2.06-.94-2.06-.94-.94-2.06-.94 2.06-2.06.94z\"/><path d=\"M17.41 7.96l-1.37-1.37c-.4-.4-.92-.59-1.43-.59-.52 0-1.04.2-1.43.59L10.3 9.45l-7.72 7.72c-.78.78-.78 2.05 0 2.83L4 21.41c.39.39.9.59 1.41.59.51 0 1.02-.2 1.41-.59l7.78-7.78 2.81-2.81c.8-.78.8-2.07 0-2.86zM5.41 20L4 18.59l7.72-7.72 1.47 1.35L5.41 20z\"/>\n",
              "  </svg>\n",
              "      </button>\n",
              "      \n",
              "  <style>\n",
              "    .colab-df-container {\n",
              "      display:flex;\n",
              "      flex-wrap:wrap;\n",
              "      gap: 12px;\n",
              "    }\n",
              "\n",
              "    .colab-df-convert {\n",
              "      background-color: #E8F0FE;\n",
              "      border: none;\n",
              "      border-radius: 50%;\n",
              "      cursor: pointer;\n",
              "      display: none;\n",
              "      fill: #1967D2;\n",
              "      height: 32px;\n",
              "      padding: 0 0 0 0;\n",
              "      width: 32px;\n",
              "    }\n",
              "\n",
              "    .colab-df-convert:hover {\n",
              "      background-color: #E2EBFA;\n",
              "      box-shadow: 0px 1px 2px rgba(60, 64, 67, 0.3), 0px 1px 3px 1px rgba(60, 64, 67, 0.15);\n",
              "      fill: #174EA6;\n",
              "    }\n",
              "\n",
              "    [theme=dark] .colab-df-convert {\n",
              "      background-color: #3B4455;\n",
              "      fill: #D2E3FC;\n",
              "    }\n",
              "\n",
              "    [theme=dark] .colab-df-convert:hover {\n",
              "      background-color: #434B5C;\n",
              "      box-shadow: 0px 1px 3px 1px rgba(0, 0, 0, 0.15);\n",
              "      filter: drop-shadow(0px 1px 2px rgba(0, 0, 0, 0.3));\n",
              "      fill: #FFFFFF;\n",
              "    }\n",
              "  </style>\n",
              "\n",
              "      <script>\n",
              "        const buttonEl =\n",
              "          document.querySelector('#df-e90b5caa-3358-4522-b0d5-7b776264358c button.colab-df-convert');\n",
              "        buttonEl.style.display =\n",
              "          google.colab.kernel.accessAllowed ? 'block' : 'none';\n",
              "\n",
              "        async function convertToInteractive(key) {\n",
              "          const element = document.querySelector('#df-e90b5caa-3358-4522-b0d5-7b776264358c');\n",
              "          const dataTable =\n",
              "            await google.colab.kernel.invokeFunction('convertToInteractive',\n",
              "                                                     [key], {});\n",
              "          if (!dataTable) return;\n",
              "\n",
              "          const docLinkHtml = 'Like what you see? Visit the ' +\n",
              "            '<a target=\"_blank\" href=https://colab.research.google.com/notebooks/data_table.ipynb>data table notebook</a>'\n",
              "            + ' to learn more about interactive tables.';\n",
              "          element.innerHTML = '';\n",
              "          dataTable['output_type'] = 'display_data';\n",
              "          await google.colab.output.renderOutput(dataTable, element);\n",
              "          const docLink = document.createElement('div');\n",
              "          docLink.innerHTML = docLinkHtml;\n",
              "          element.appendChild(docLink);\n",
              "        }\n",
              "      </script>\n",
              "    </div>\n",
              "  </div>\n",
              "  "
            ]
          },
          "metadata": {},
          "execution_count": 21
        }
      ]
    },
    {
      "cell_type": "code",
      "source": [
        "sns.countplot(df['type'])"
      ],
      "metadata": {
        "colab": {
          "base_uri": "https://localhost:8080/",
          "height": 0
        },
        "id": "E75PtM1uP4wu",
        "outputId": "b20e5d24-653f-4e19-8f38-e47a0b8c1db5"
      },
      "execution_count": 22,
      "outputs": [
        {
          "output_type": "execute_result",
          "data": {
            "text/plain": [
              "<matplotlib.axes._subplots.AxesSubplot at 0x7ff8cf508c10>"
            ]
          },
          "metadata": {},
          "execution_count": 22
        },
        {
          "output_type": "display_data",
          "data": {
            "text/plain": [
              "<Figure size 432x288 with 1 Axes>"
            ],
            "image/png": "[encoded data removed]"
          },
          "metadata": {
            "needs_background": "light"
          }
        }
      ]
    },
    {
      "cell_type": "code",
      "source": [
        "df[df['AveragePrice'] >= 2.5].region.value_counts()"
      ],
      "metadata": {
        "colab": {
          "base_uri": "https://localhost:8080/"
        },
        "id": "UbcEydgBP4zS",
        "outputId": "3c556ed7-11a2-450a-a7e1-84c90c3d49a5"
      },
      "execution_count": 23,
      "outputs": [
        {
          "output_type": "execute_result",
          "data": {
            "text/plain": [
              "SanFrancisco           54\n",
              "Spokane                17\n",
              "Seattle                16\n",
              "HartfordSpringfield    15\n",
              "RaleighGreensboro      14\n",
              "Charlotte              10\n",
              "Portland               10\n",
              "Boise                   9\n",
              "Sacramento              8\n",
              "Atlanta                 7\n",
              "LasVegas                6\n",
              "WestTexNewMexico        5\n",
              "BuffaloRochester        5\n",
              "StLouis                 5\n",
              "SanDiego                4\n",
              "Jacksonville            4\n",
              "MiamiFtLauderdale       4\n",
              "Tampa                   4\n",
              "Orlando                 3\n",
              "California              2\n",
              "PhoenixTucson           2\n",
              "GrandRapids             2\n",
              "West                    2\n",
              "NewYork                 1\n",
              "Name: region, dtype: int64"
            ]
          },
          "metadata": {},
          "execution_count": 23
        }
      ]
    },
    {
      "cell_type": "code",
      "source": [
        ""
      ],
      "metadata": {
        "id": "6c_F_7mOVlB7"
      },
      "execution_count": 23,
      "outputs": []
    },
    {
      "cell_type": "code",
      "source": [
        "for region in df.region.unique():\n",
        "  print(f'{region}: ',df[df['region'] == region]['AveragePrice'].mean())"
      ],
      "metadata": {
        "colab": {
          "base_uri": "https://localhost:8080/"
        },
        "id": "S-_doTtSP41w",
        "outputId": "97d6d858-1b4f-41fa-8457-6a50114df093"
      },
      "execution_count": 24,
      "outputs": [
        {
          "output_type": "stream",
          "name": "stdout",
          "text": [
            "Albany:  1.5610355029585792\n",
            "Atlanta:  1.3379585798816571\n",
            "BaltimoreWashington:  1.5342307692307684\n",
            "Boise:  1.348136094674556\n",
            "Boston:  1.5308875739644972\n",
            "BuffaloRochester:  1.5168343195266274\n",
            "California:  1.3953254437869818\n",
            "Charlotte:  1.6060355029585796\n",
            "Chicago:  1.5567751479289942\n",
            "CincinnatiDayton:  1.2092011834319527\n",
            "Columbus:  1.2527810650887576\n",
            "DallasFtWorth:  1.0855917159763315\n",
            "Denver:  1.2185798816568048\n",
            "Detroit:  1.2760946745562132\n",
            "GrandRapids:  1.5049999999999992\n",
            "GreatLakes:  1.3385502958579882\n",
            "HarrisburgScranton:  1.5132840236686393\n",
            "HartfordSpringfield:  1.8186390532544363\n",
            "Houston:  1.0479289940828398\n",
            "Indianapolis:  1.313994082840236\n",
            "Jacksonville:  1.5109467455621308\n",
            "LasVegas:  1.3809171597633145\n",
            "LosAngeles:  1.216005917159763\n",
            "Louisville:  1.286686390532545\n",
            "MiamiFtLauderdale:  1.428491124260355\n",
            "Midsouth:  1.4047633136094666\n",
            "Nashville:  1.2121005917159768\n",
            "NewOrleansMobile:  1.3047928994082851\n",
            "NewYork:  1.727573964497041\n",
            "Northeast:  1.6019230769230774\n",
            "NorthernNewEngland:  1.4773964497041419\n",
            "Orlando:  1.5062130177514785\n",
            "Philadelphia:  1.6321301775147927\n",
            "PhoenixTucson:  1.224437869822485\n",
            "Pittsburgh:  1.3643195266272197\n",
            "Plains:  1.4365088757396456\n",
            "Portland:  1.3177218934911241\n",
            "RaleighGreensboro:  1.555118343195266\n",
            "RichmondNorfolk:  1.2913313609467465\n",
            "Roanoke:  1.2479289940828397\n",
            "Sacramento:  1.6215680473372784\n",
            "SanDiego:  1.3981656804733738\n",
            "SanFrancisco:  1.8042011834319525\n",
            "Seattle:  1.4425739644970408\n",
            "SouthCarolina:  1.4032840236686406\n",
            "SouthCentral:  1.1012426035502958\n",
            "Southeast:  1.39801775147929\n",
            "Spokane:  1.4455917159763314\n",
            "StLouis:  1.4306213017751486\n",
            "Syracuse:  1.5203254437869826\n",
            "Tampa:  1.4088461538461536\n",
            "TotalUS:  1.319023668639053\n",
            "West:  1.2722189349112432\n",
            "WestTexNewMexico:  1.2617014925373136\n"
          ]
        }
      ]
    },
    {
      "cell_type": "markdown",
      "source": [
        "Average prices based on the region"
      ],
      "metadata": {
        "id": "M9rxM3ACnmpp"
      }
    },
    {
      "cell_type": "markdown",
      "source": [
        ""
      ],
      "metadata": {
        "id": "FAAKdEVunmsw"
      }
    },
    {
      "cell_type": "code",
      "source": [
        "df[df['Total Volume'] >= df['Total Volume'].quantile(.95)]['region'].value_counts()"
      ],
      "metadata": {
        "colab": {
          "base_uri": "https://localhost:8080/"
        },
        "id": "oiem3RDPP44A",
        "outputId": "59891168-804b-4dec-daca-6154ce302601"
      },
      "execution_count": 25,
      "outputs": [
        {
          "output_type": "execute_result",
          "data": {
            "text/plain": [
              "SouthCentral    169\n",
              "TotalUS         169\n",
              "West            169\n",
              "California      167\n",
              "Northeast       112\n",
              "Southeast        59\n",
              "GreatLakes       46\n",
              "LosAngeles       11\n",
              "Midsouth         11\n",
              "Name: region, dtype: int64"
            ]
          },
          "metadata": {},
          "execution_count": 25
        }
      ]
    },
    {
      "cell_type": "code",
      "source": [
        "df.sample(2)"
      ],
      "metadata": {
        "colab": {
          "base_uri": "https://localhost:8080/",
          "height": 0
        },
        "id": "5pAMeQQZP45y",
        "outputId": "1f82d70a-69c2-4bf8-a164-7c53b929403b"
      },
      "execution_count": 26,
      "outputs": [
        {
          "output_type": "execute_result",
          "data": {
            "text/plain": [
              "            Date  AveragePrice  Total Volume       4046        4225  \\\n",
              "14673 2016-04-17          1.31     250678.16   32114.27    89178.52   \n",
              "8668  2018-01-14          1.31    3437563.27  778207.19  1040627.93   \n",
              "\n",
              "            4770  Total Bags  Small Bags  Large Bags  XLarge Bags  \\\n",
              "14673     155.12   129230.25    64711.23    64519.02          0.0   \n",
              "8668   294793.29  1323934.86  1117531.11   183163.55      23240.2   \n",
              "\n",
              "               type  LE_type  year      region  LE_region  \n",
              "14673       organic        1  2016        West         52  \n",
              "8668   conventional        0  2018  GreatLakes         15  "
            ],
            "text/html": [
              "\n",
              "  <div id=\"df-d2622312-5b58-4104-99fe-b3d2512b1e52\">\n",
              "    <div class=\"colab-df-container\">\n",
              "      <div>\n",
              "<style scoped>\n",
              "    .dataframe tbody tr th:only-of-type {\n",
              "        vertical-align: middle;\n",
              "    }\n",
              "\n",
              "    .dataframe tbody tr th {\n",
              "        vertical-align: top;\n",
              "    }\n",
              "\n",
              "    .dataframe thead th {\n",
              "        text-align: right;\n",
              "    }\n",
              "</style>\n",
              "<table border=\"1\" class=\"dataframe\">\n",
              "  <thead>\n",
              "    <tr style=\"text-align: right;\">\n",
              "      <th></th>\n",
              "      <th>Date</th>\n",
              "      <th>AveragePrice</th>\n",
              "      <th>Total Volume</th>\n",
              "      <th>4046</th>\n",
              "      <th>4225</th>\n",
              "      <th>4770</th>\n",
              "      <th>Total Bags</th>\n",
              "      <th>Small Bags</th>\n",
              "      <th>Large Bags</th>\n",
              "      <th>XLarge Bags</th>\n",
              "      <th>type</th>\n",
              "      <th>LE_type</th>\n",
              "      <th>year</th>\n",
              "      <th>region</th>\n",
              "      <th>LE_region</th>\n",
              "    </tr>\n",
              "  </thead>\n",
              "  <tbody>\n",
              "    <tr>\n",
              "      <th>14673</th>\n",
              "      <td>2016-04-17</td>\n",
              "      <td>1.31</td>\n",
              "      <td>250678.16</td>\n",
              "      <td>32114.27</td>\n",
              "      <td>89178.52</td>\n",
              "      <td>155.12</td>\n",
              "      <td>129230.25</td>\n",
              "      <td>64711.23</td>\n",
              "      <td>64519.02</td>\n",
              "      <td>0.0</td>\n",
              "      <td>organic</td>\n",
              "      <td>1</td>\n",
              "      <td>2016</td>\n",
              "      <td>West</td>\n",
              "      <td>52</td>\n",
              "    </tr>\n",
              "    <tr>\n",
              "      <th>8668</th>\n",
              "      <td>2018-01-14</td>\n",
              "      <td>1.31</td>\n",
              "      <td>3437563.27</td>\n",
              "      <td>778207.19</td>\n",
              "      <td>1040627.93</td>\n",
              "      <td>294793.29</td>\n",
              "      <td>1323934.86</td>\n",
              "      <td>1117531.11</td>\n",
              "      <td>183163.55</td>\n",
              "      <td>23240.2</td>\n",
              "      <td>conventional</td>\n",
              "      <td>0</td>\n",
              "      <td>2018</td>\n",
              "      <td>GreatLakes</td>\n",
              "      <td>15</td>\n",
              "    </tr>\n",
              "  </tbody>\n",
              "</table>\n",
              "</div>\n",
              "      <button class=\"colab-df-convert\" onclick=\"convertToInteractive('df-d2622312-5b58-4104-99fe-b3d2512b1e52')\"\n",
              "              title=\"Convert this dataframe to an interactive table.\"\n",
              "              style=\"display:none;\">\n",
              "        \n",
              "  <svg xmlns=\"http://www.w3.org/2000/svg\" height=\"24px\"viewBox=\"0 0 24 24\"\n",
              "       width=\"24px\">\n",
              "    <path d=\"M0 0h24v24H0V0z\" fill=\"none\"/>\n",
              "    <path d=\"M18.56 5.44l.94 2.06.94-2.06 2.06-.94-2.06-.94-.94-2.06-.94 2.06-2.06.94zm-11 1L8.5 8.5l.94-2.06 2.06-.94-2.06-.94L8.5 2.5l-.94 2.06-2.06.94zm10 10l.94 2.06.94-2.06 2.06-.94-2.06-.94-.94-2.06-.94 2.06-2.06.94z\"/><path d=\"M17.41 7.96l-1.37-1.37c-.4-.4-.92-.59-1.43-.59-.52 0-1.04.2-1.43.59L10.3 9.45l-7.72 7.72c-.78.78-.78 2.05 0 2.83L4 21.41c.39.39.9.59 1.41.59.51 0 1.02-.2 1.41-.59l7.78-7.78 2.81-2.81c.8-.78.8-2.07 0-2.86zM5.41 20L4 18.59l7.72-7.72 1.47 1.35L5.41 20z\"/>\n",
              "  </svg>\n",
              "      </button>\n",
              "      \n",
              "  <style>\n",
              "    .colab-df-container {\n",
              "      display:flex;\n",
              "      flex-wrap:wrap;\n",
              "      gap: 12px;\n",
              "    }\n",
              "\n",
              "    .colab-df-convert {\n",
              "      background-color: #E8F0FE;\n",
              "      border: none;\n",
              "      border-radius: 50%;\n",
              "      cursor: pointer;\n",
              "      display: none;\n",
              "      fill: #1967D2;\n",
              "      height: 32px;\n",
              "      padding: 0 0 0 0;\n",
              "      width: 32px;\n",
              "    }\n",
              "\n",
              "    .colab-df-convert:hover {\n",
              "      background-color: #E2EBFA;\n",
              "      box-shadow: 0px 1px 2px rgba(60, 64, 67, 0.3), 0px 1px 3px 1px rgba(60, 64, 67, 0.15);\n",
              "      fill: #174EA6;\n",
              "    }\n",
              "\n",
              "    [theme=dark] .colab-df-convert {\n",
              "      background-color: #3B4455;\n",
              "      fill: #D2E3FC;\n",
              "    }\n",
              "\n",
              "    [theme=dark] .colab-df-convert:hover {\n",
              "      background-color: #434B5C;\n",
              "      box-shadow: 0px 1px 3px 1px rgba(0, 0, 0, 0.15);\n",
              "      filter: drop-shadow(0px 1px 2px rgba(0, 0, 0, 0.3));\n",
              "      fill: #FFFFFF;\n",
              "    }\n",
              "  </style>\n",
              "\n",
              "      <script>\n",
              "        const buttonEl =\n",
              "          document.querySelector('#df-d2622312-5b58-4104-99fe-b3d2512b1e52 button.colab-df-convert');\n",
              "        buttonEl.style.display =\n",
              "          google.colab.kernel.accessAllowed ? 'block' : 'none';\n",
              "\n",
              "        async function convertToInteractive(key) {\n",
              "          const element = document.querySelector('#df-d2622312-5b58-4104-99fe-b3d2512b1e52');\n",
              "          const dataTable =\n",
              "            await google.colab.kernel.invokeFunction('convertToInteractive',\n",
              "                                                     [key], {});\n",
              "          if (!dataTable) return;\n",
              "\n",
              "          const docLinkHtml = 'Like what you see? Visit the ' +\n",
              "            '<a target=\"_blank\" href=https://colab.research.google.com/notebooks/data_table.ipynb>data table notebook</a>'\n",
              "            + ' to learn more about interactive tables.';\n",
              "          element.innerHTML = '';\n",
              "          dataTable['output_type'] = 'display_data';\n",
              "          await google.colab.output.renderOutput(dataTable, element);\n",
              "          const docLink = document.createElement('div');\n",
              "          docLink.innerHTML = docLinkHtml;\n",
              "          element.appendChild(docLink);\n",
              "        }\n",
              "      </script>\n",
              "    </div>\n",
              "  </div>\n",
              "  "
            ]
          },
          "metadata": {},
          "execution_count": 26
        }
      ]
    },
    {
      "cell_type": "code",
      "source": [
        ""
      ],
      "metadata": {
        "id": "PTRvkxgKP47y"
      },
      "execution_count": 26,
      "outputs": []
    },
    {
      "cell_type": "markdown",
      "source": [
        "### Spliting Numerical data"
      ],
      "metadata": {
        "id": "NdjOTrk-6fuh"
      }
    },
    {
      "cell_type": "code",
      "source": [
        "numerical_data = []\n",
        "categorical_data = []\n",
        "\n",
        "for i in df.columns:\n",
        "  if np.dtype(df[i]) != np.dtype('O'):\n",
        "    numerical_data.append(i)\n",
        "  else:\n",
        "    categorical_data.append(i)"
      ],
      "metadata": {
        "id": "QzO_Xol_6srw"
      },
      "execution_count": 27,
      "outputs": []
    },
    {
      "cell_type": "code",
      "source": [
        "numerical = numerical_data[1:]\n",
        "numerical"
      ],
      "metadata": {
        "colab": {
          "base_uri": "https://localhost:8080/"
        },
        "id": "_8pRs5VI6su2",
        "outputId": "d8a7f0df-5823-4345-b604-fab4387f509b"
      },
      "execution_count": 28,
      "outputs": [
        {
          "output_type": "execute_result",
          "data": {
            "text/plain": [
              "['AveragePrice',\n",
              " 'Total Volume',\n",
              " '4046',\n",
              " '4225',\n",
              " '4770',\n",
              " 'Total Bags',\n",
              " 'Small Bags',\n",
              " 'Large Bags',\n",
              " 'XLarge Bags',\n",
              " 'LE_type',\n",
              " 'year',\n",
              " 'LE_region']"
            ]
          },
          "metadata": {},
          "execution_count": 28
        }
      ]
    },
    {
      "cell_type": "code",
      "source": [
        "df_num = df[[numerical][0]]"
      ],
      "metadata": {
        "id": "v4W7TB3M6s5K"
      },
      "execution_count": 29,
      "outputs": []
    },
    {
      "cell_type": "code",
      "source": [
        "df_num.sample(5)"
      ],
      "metadata": {
        "colab": {
          "base_uri": "https://localhost:8080/",
          "height": 0
        },
        "id": "VWAW0y3iKxgk",
        "outputId": "206ecd68-776f-4f85-9214-6419c8c0c6ed"
      },
      "execution_count": 30,
      "outputs": [
        {
          "output_type": "execute_result",
          "data": {
            "text/plain": [
              "       AveragePrice  Total Volume      4046       4225       4770  Total Bags  \\\n",
              "4600           1.29     111914.65   1536.94   57549.45    1294.98    51533.28   \n",
              "12666          2.26        841.53     43.11     481.19       0.00      317.23   \n",
              "5362           1.62      39271.46   1266.16   27380.67      33.79    10590.84   \n",
              "6056           2.02     590590.10  65245.47  318095.50  114858.97    92390.16   \n",
              "17293          1.77       6843.75      1.76    1255.74       0.00     5586.25   \n",
              "\n",
              "       Small Bags  Large Bags  XLarge Bags  LE_type  year  LE_region  \n",
              "4600     37858.19    10065.09      3610.00        0  2016         34  \n",
              "12666      317.23        0.00         0.00        1  2016         14  \n",
              "5362     10590.84        0.00         0.00        0  2016         49  \n",
              "6056     82436.76     7822.29      2131.11        0  2017          8  \n",
              "17293     3920.93     1665.32         0.00        1  2017         48  "
            ],
            "text/html": [
              "\n",
              "  <div id=\"df-6d75a1b0-fe72-4f09-82cb-595110edeb99\">\n",
              "    <div class=\"colab-df-container\">\n",
              "      <div>\n",
              "<style scoped>\n",
              "    .dataframe tbody tr th:only-of-type {\n",
              "        vertical-align: middle;\n",
              "    }\n",
              "\n",
              "    .dataframe tbody tr th {\n",
              "        vertical-align: top;\n",
              "    }\n",
              "\n",
              "    .dataframe thead th {\n",
              "        text-align: right;\n",
              "    }\n",
              "</style>\n",
              "<table border=\"1\" class=\"dataframe\">\n",
              "  <thead>\n",
              "    <tr style=\"text-align: right;\">\n",
              "      <th></th>\n",
              "      <th>AveragePrice</th>\n",
              "      <th>Total Volume</th>\n",
              "      <th>4046</th>\n",
              "      <th>4225</th>\n",
              "      <th>4770</th>\n",
              "      <th>Total Bags</th>\n",
              "      <th>Small Bags</th>\n",
              "      <th>Large Bags</th>\n",
              "      <th>XLarge Bags</th>\n",
              "      <th>LE_type</th>\n",
              "      <th>year</th>\n",
              "      <th>LE_region</th>\n",
              "    </tr>\n",
              "  </thead>\n",
              "  <tbody>\n",
              "    <tr>\n",
              "      <th>4600</th>\n",
              "      <td>1.29</td>\n",
              "      <td>111914.65</td>\n",
              "      <td>1536.94</td>\n",
              "      <td>57549.45</td>\n",
              "      <td>1294.98</td>\n",
              "      <td>51533.28</td>\n",
              "      <td>37858.19</td>\n",
              "      <td>10065.09</td>\n",
              "      <td>3610.00</td>\n",
              "      <td>0</td>\n",
              "      <td>2016</td>\n",
              "      <td>34</td>\n",
              "    </tr>\n",
              "    <tr>\n",
              "      <th>12666</th>\n",
              "      <td>2.26</td>\n",
              "      <td>841.53</td>\n",
              "      <td>43.11</td>\n",
              "      <td>481.19</td>\n",
              "      <td>0.00</td>\n",
              "      <td>317.23</td>\n",
              "      <td>317.23</td>\n",
              "      <td>0.00</td>\n",
              "      <td>0.00</td>\n",
              "      <td>1</td>\n",
              "      <td>2016</td>\n",
              "      <td>14</td>\n",
              "    </tr>\n",
              "    <tr>\n",
              "      <th>5362</th>\n",
              "      <td>1.62</td>\n",
              "      <td>39271.46</td>\n",
              "      <td>1266.16</td>\n",
              "      <td>27380.67</td>\n",
              "      <td>33.79</td>\n",
              "      <td>10590.84</td>\n",
              "      <td>10590.84</td>\n",
              "      <td>0.00</td>\n",
              "      <td>0.00</td>\n",
              "      <td>0</td>\n",
              "      <td>2016</td>\n",
              "      <td>49</td>\n",
              "    </tr>\n",
              "    <tr>\n",
              "      <th>6056</th>\n",
              "      <td>2.02</td>\n",
              "      <td>590590.10</td>\n",
              "      <td>65245.47</td>\n",
              "      <td>318095.50</td>\n",
              "      <td>114858.97</td>\n",
              "      <td>92390.16</td>\n",
              "      <td>82436.76</td>\n",
              "      <td>7822.29</td>\n",
              "      <td>2131.11</td>\n",
              "      <td>0</td>\n",
              "      <td>2017</td>\n",
              "      <td>8</td>\n",
              "    </tr>\n",
              "    <tr>\n",
              "      <th>17293</th>\n",
              "      <td>1.77</td>\n",
              "      <td>6843.75</td>\n",
              "      <td>1.76</td>\n",
              "      <td>1255.74</td>\n",
              "      <td>0.00</td>\n",
              "      <td>5586.25</td>\n",
              "      <td>3920.93</td>\n",
              "      <td>1665.32</td>\n",
              "      <td>0.00</td>\n",
              "      <td>1</td>\n",
              "      <td>2017</td>\n",
              "      <td>48</td>\n",
              "    </tr>\n",
              "  </tbody>\n",
              "</table>\n",
              "</div>\n",
              "      <button class=\"colab-df-convert\" onclick=\"convertToInteractive('df-6d75a1b0-fe72-4f09-82cb-595110edeb99')\"\n",
              "              title=\"Convert this dataframe to an interactive table.\"\n",
              "              style=\"display:none;\">\n",
              "        \n",
              "  <svg xmlns=\"http://www.w3.org/2000/svg\" height=\"24px\"viewBox=\"0 0 24 24\"\n",
              "       width=\"24px\">\n",
              "    <path d=\"M0 0h24v24H0V0z\" fill=\"none\"/>\n",
              "    <path d=\"M18.56 5.44l.94 2.06.94-2.06 2.06-.94-2.06-.94-.94-2.06-.94 2.06-2.06.94zm-11 1L8.5 8.5l.94-2.06 2.06-.94-2.06-.94L8.5 2.5l-.94 2.06-2.06.94zm10 10l.94 2.06.94-2.06 2.06-.94-2.06-.94-.94-2.06-.94 2.06-2.06.94z\"/><path d=\"M17.41 7.96l-1.37-1.37c-.4-.4-.92-.59-1.43-.59-.52 0-1.04.2-1.43.59L10.3 9.45l-7.72 7.72c-.78.78-.78 2.05 0 2.83L4 21.41c.39.39.9.59 1.41.59.51 0 1.02-.2 1.41-.59l7.78-7.78 2.81-2.81c.8-.78.8-2.07 0-2.86zM5.41 20L4 18.59l7.72-7.72 1.47 1.35L5.41 20z\"/>\n",
              "  </svg>\n",
              "      </button>\n",
              "      \n",
              "  <style>\n",
              "    .colab-df-container {\n",
              "      display:flex;\n",
              "      flex-wrap:wrap;\n",
              "      gap: 12px;\n",
              "    }\n",
              "\n",
              "    .colab-df-convert {\n",
              "      background-color: #E8F0FE;\n",
              "      border: none;\n",
              "      border-radius: 50%;\n",
              "      cursor: pointer;\n",
              "      display: none;\n",
              "      fill: #1967D2;\n",
              "      height: 32px;\n",
              "      padding: 0 0 0 0;\n",
              "      width: 32px;\n",
              "    }\n",
              "\n",
              "    .colab-df-convert:hover {\n",
              "      background-color: #E2EBFA;\n",
              "      box-shadow: 0px 1px 2px rgba(60, 64, 67, 0.3), 0px 1px 3px 1px rgba(60, 64, 67, 0.15);\n",
              "      fill: #174EA6;\n",
              "    }\n",
              "\n",
              "    [theme=dark] .colab-df-convert {\n",
              "      background-color: #3B4455;\n",
              "      fill: #D2E3FC;\n",
              "    }\n",
              "\n",
              "    [theme=dark] .colab-df-convert:hover {\n",
              "      background-color: #434B5C;\n",
              "      box-shadow: 0px 1px 3px 1px rgba(0, 0, 0, 0.15);\n",
              "      filter: drop-shadow(0px 1px 2px rgba(0, 0, 0, 0.3));\n",
              "      fill: #FFFFFF;\n",
              "    }\n",
              "  </style>\n",
              "\n",
              "      <script>\n",
              "        const buttonEl =\n",
              "          document.querySelector('#df-6d75a1b0-fe72-4f09-82cb-595110edeb99 button.colab-df-convert');\n",
              "        buttonEl.style.display =\n",
              "          google.colab.kernel.accessAllowed ? 'block' : 'none';\n",
              "\n",
              "        async function convertToInteractive(key) {\n",
              "          const element = document.querySelector('#df-6d75a1b0-fe72-4f09-82cb-595110edeb99');\n",
              "          const dataTable =\n",
              "            await google.colab.kernel.invokeFunction('convertToInteractive',\n",
              "                                                     [key], {});\n",
              "          if (!dataTable) return;\n",
              "\n",
              "          const docLinkHtml = 'Like what you see? Visit the ' +\n",
              "            '<a target=\"_blank\" href=https://colab.research.google.com/notebooks/data_table.ipynb>data table notebook</a>'\n",
              "            + ' to learn more about interactive tables.';\n",
              "          element.innerHTML = '';\n",
              "          dataTable['output_type'] = 'display_data';\n",
              "          await google.colab.output.renderOutput(dataTable, element);\n",
              "          const docLink = document.createElement('div');\n",
              "          docLink.innerHTML = docLinkHtml;\n",
              "          element.appendChild(docLink);\n",
              "        }\n",
              "      </script>\n",
              "    </div>\n",
              "  </div>\n",
              "  "
            ]
          },
          "metadata": {},
          "execution_count": 30
        }
      ]
    },
    {
      "cell_type": "markdown",
      "source": [
        "### checking outlier"
      ],
      "metadata": {
        "id": "-q6G4sPdjGiC"
      }
    },
    {
      "cell_type": "code",
      "source": [
        "x = df.drop(['AveragePrice','Date','type','region'],axis = 1)\n",
        "x = pd.DataFrame(power_transform(x),columns = x.columns)\n",
        "# for columns in df.columns:\n",
        "#   sns.boxenplot(df[columns])"
      ],
      "metadata": {
        "id": "nSlbKnG2P49w"
      },
      "execution_count": 31,
      "outputs": []
    },
    {
      "cell_type": "code",
      "source": [
        "df.iloc[:].boxplot(figsize=[20,8])\n",
        "plt.subplots_adjust(bottom=0.25)\n",
        "plt.show()"
      ],
      "metadata": {
        "colab": {
          "base_uri": "https://localhost:8080/",
          "height": 0
        },
        "id": "9TneYtjPrYJC",
        "outputId": "14edbf6e-e0cc-4427-bbf3-bed2e50ec925"
      },
      "execution_count": 32,
      "outputs": [
        {
          "output_type": "display_data",
          "data": {
            "text/plain": [
              "<Figure size 1440x576 with 1 Axes>"
            ],
            "image/png": "[encoded data removed]"
          },
          "metadata": {
            "needs_background": "light"
          }
        }
      ]
    },
    {
      "cell_type": "code",
      "source": [
        ""
      ],
      "metadata": {
        "id": "SfP2KS64rg7t"
      },
      "execution_count": 32,
      "outputs": []
    },
    {
      "cell_type": "markdown",
      "source": [
        "### Checking Skewness"
      ],
      "metadata": {
        "id": "DWd1NElvuOv4"
      }
    },
    {
      "cell_type": "code",
      "source": [
        "for i in df.columns:\n",
        "  try:\n",
        "    sns.distplot(df[i])\n",
        "    plt.title(i)\n",
        "    plt.show()\n",
        "  except:\n",
        "    pass"
      ],
      "metadata": {
        "colab": {
          "base_uri": "https://localhost:8080/",
          "height": 0
        },
        "id": "QuvZBVJIuVxi",
        "outputId": "b6561539-8c90-4097-ed3a-2ec8fd434045"
      },
      "execution_count": 33,
      "outputs": [
        {
          "output_type": "display_data",
          "data": {
            "text/plain": [
              "<Figure size 432x288 with 1 Axes>"
            ],
            "image/png": "[encoded data removed]"
          },
          "metadata": {
            "needs_background": "light"
          }
        },
        {
          "output_type": "display_data",
          "data": {
            "text/plain": [
              "<Figure size 432x288 with 1 Axes>"
            ],
            "image/png": "[encoded data removed]"
          },
          "metadata": {
            "needs_background": "light"
          }
        },
        {
          "output_type": "display_data",
          "data": {
            "text/plain": [
              "<Figure size 432x288 with 1 Axes>"
            ],
            "image/png": "[encoded data removed]"
          },
          "metadata": {
            "needs_background": "light"
          }
        },
        {
          "output_type": "display_data",
          "data": {
            "text/plain": [
              "<Figure size 432x288 with 1 Axes>"
            ],
            "image/png": "[encoded data removed]"
          },
          "metadata": {
            "needs_background": "light"
          }
        },
        {
          "output_type": "display_data",
          "data": {
            "text/plain": [
              "<Figure size 432x288 with 1 Axes>"
            ],
            "image/png": "[encoded data removed]"
          },
          "metadata": {
            "needs_background": "light"
          }
        },
        {
          "output_type": "display_data",
          "data": {
            "text/plain": [
              "<Figure size 432x288 with 1 Axes>"
            ],
            "image/png": "[encoded data removed]"
          },
          "metadata": {
            "needs_background": "light"
          }
        },
        {
          "output_type": "display_data",
          "data": {
            "text/plain": [
              "<Figure size 432x288 with 1 Axes>"
            ],
            "image/png": "[encoded data removed]"
          },
          "metadata": {
            "needs_background": "light"
          }
        },
        {
          "output_type": "display_data",
          "data": {
            "text/plain": [
              "<Figure size 432x288 with 1 Axes>"
            ],
            "image/png": "[encoded data removed]"
          },
          "metadata": {
            "needs_background": "light"
          }
        },
        {
          "output_type": "display_data",
          "data": {
            "text/plain": [
              "<Figure size 432x288 with 1 Axes>"
            ],
            "image/png": "[encoded data removed]"
          },
          "metadata": {
            "needs_background": "light"
          }
        },
        {
          "output_type": "display_data",
          "data": {
            "text/plain": [
              "<Figure size 432x288 with 1 Axes>"
            ],
            "image/png": "[encoded data removed]"
          },
          "metadata": {
            "needs_background": "light"
          }
        },
        {
          "output_type": "display_data",
          "data": {
            "text/plain": [
              "<Figure size 432x288 with 1 Axes>"
            ],
            "image/png": "[encoded data removed]"
          },
          "metadata": {
            "needs_background": "light"
          }
        },
        {
          "output_type": "display_data",
          "data": {
            "text/plain": [
              "<Figure size 432x288 with 1 Axes>"
            ],
            "image/png": "[encoded data removed]"
          },
          "metadata": {
            "needs_background": "light"
          }
        },
        {
          "output_type": "display_data",
          "data": {
            "text/plain": [
              "<Figure size 432x288 with 1 Axes>"
            ],
            "image/png": "[encoded data removed]"
          },
          "metadata": {
            "needs_background": "light"
          }
        }
      ]
    },
    {
      "cell_type": "markdown",
      "source": [
        "Skewness is present in the data"
      ],
      "metadata": {
        "id": "tLqmttCtz23g"
      }
    },
    {
      "cell_type": "code",
      "source": [
        ""
      ],
      "metadata": {
        "id": "Vjr9C3xzufT7"
      },
      "execution_count": 33,
      "outputs": []
    },
    {
      "cell_type": "markdown",
      "source": [
        "### Spliting data"
      ],
      "metadata": {
        "id": "64adpQwUuoVV"
      }
    },
    {
      "cell_type": "code",
      "source": [
        "X = df_num.drop(['AveragePrice'],axis=1)\n",
        "y = df_num['AveragePrice']"
      ],
      "metadata": {
        "id": "YjS1Q5gjz9Qq"
      },
      "execution_count": 34,
      "outputs": []
    },
    {
      "cell_type": "code",
      "source": [
        "X_train, X_test, y_train, y_test = train_test_split(X, y, test_size=.2, random_state = 42)"
      ],
      "metadata": {
        "id": "T5Ko6XOT-aVv"
      },
      "execution_count": 35,
      "outputs": []
    },
    {
      "cell_type": "code",
      "source": [
        "lr = LinearRegression()\n",
        "lr.fit(X_train, y_train)\n",
        "\n",
        "pred_train = lr.predict(X_train)\n",
        "pred_test = lr.predict(X_test)\n",
        "\n",
        "print(lr.score(X_train, y_train))\n",
        "\n",
        "print(r2_score(y_test, pred_test))\n",
        "print('\\nMean Squared Error: ', mean_squared_error(y_test,pred_test), '\\nMean absolute Error: ', mean_absolute_error(y_test,pred_test))"
      ],
      "metadata": {
        "colab": {
          "base_uri": "https://localhost:8080/"
        },
        "id": "4Bcf1Q6kNZaY",
        "outputId": "a4b2c346-cc0a-484d-a3d2-0b0541c8fc61"
      },
      "execution_count": 36,
      "outputs": [
        {
          "output_type": "stream",
          "name": "stdout",
          "text": [
            "0.4099624177973421\n",
            "0.39297813291226114\n",
            "\n",
            "Mean Squared Error:  0.09752964693878305 \n",
            "Mean absolute Error:  0.2409460594987404\n"
          ]
        }
      ]
    },
    {
      "cell_type": "code",
      "source": [
        "SV.fit(X_train, y_train)\n",
        "\n",
        "pred_train = SV.predict(X_train)\n",
        "pred_test = SV.predict(X_test)\n",
        "\n",
        "print(SV.score(X_train, y_train))\n",
        "\n",
        "print(r2_score(y_test, pred_test))\n",
        "\n",
        "\n",
        "r2_score(y_test, pred_test)\n",
        "print('\\nMean Squared Error: ', mean_squared_error(y_test,pred_test), '\\nMean absolute Error: ', mean_absolute_error(y_test,pred_test))"
      ],
      "metadata": {
        "colab": {
          "base_uri": "https://localhost:8080/"
        },
        "id": "WdP1mxhGOeA2",
        "outputId": "6a381fec-aaa8-41ae-b5d9-80ae3538b5c2"
      },
      "execution_count": 37,
      "outputs": [
        {
          "output_type": "stream",
          "name": "stdout",
          "text": [
            "0.36107195886215415\n",
            "0.3340845703783508\n",
            "\n",
            "Mean Squared Error:  0.10699202164441982 \n",
            "Mean absolute Error:  0.24993435696650818\n"
          ]
        }
      ]
    },
    {
      "cell_type": "code",
      "source": [
        "from sklearn.ensemble import RandomForestRegressor\n",
        "rdr = RandomForestRegressor()\n",
        "rdr.fit(X_train,y_train)\n",
        "pred=rdr.predict(X_test)\n",
        "\n",
        "print(rdr.score(X_train, y_train))\n",
        "print(r2_score(y_test, pred_test))\n",
        "\n",
        "print('MAE:', mean_absolute_error(y_test, pred))\n",
        "print('MSE:', mean_squared_error(y_test, pred))\n",
        "print('RMSE:', np.sqrt(mean_squared_error(y_test, pred)))"
      ],
      "metadata": {
        "colab": {
          "base_uri": "https://localhost:8080/"
        },
        "id": "k_RqBhQtHQDd",
        "outputId": "faa08073-b2e9-4bfc-e68a-a15c83a2cd23"
      },
      "execution_count": 38,
      "outputs": [
        {
          "output_type": "stream",
          "name": "stdout",
          "text": [
            "0.9785993313023892\n",
            "0.3340845703783508\n",
            "MAE: 0.10985013698630136\n",
            "MSE: 0.02454509910684931\n",
            "RMSE: 0.15666875600083544\n"
          ]
        }
      ]
    },
    {
      "cell_type": "markdown",
      "source": [
        "Rainforest is working better than the other models\n"
      ],
      "metadata": {
        "id": "ECHpcBQsJW3-"
      }
    },
    {
      "cell_type": "code",
      "source": [
        "sns.regplot(x = y_test, y = pred)"
      ],
      "metadata": {
        "colab": {
          "base_uri": "https://localhost:8080/",
          "height": 296
        },
        "id": "6aHoX48ZJe0H",
        "outputId": "56dbf579-67f7-40fe-ad57-e26ef6fd378e"
      },
      "execution_count": 39,
      "outputs": [
        {
          "output_type": "execute_result",
          "data": {
            "text/plain": [
              "<matplotlib.axes._subplots.AxesSubplot at 0x7ff8ce67fe50>"
            ]
          },
          "metadata": {},
          "execution_count": 39
        },
        {
          "output_type": "display_data",
          "data": {
            "text/plain": [
              "<Figure size 432x288 with 1 Axes>"
            ],
            "image/png": "[encoded data removed]"
          },
          "metadata": {
            "needs_background": "light"
          }
        }
      ]
    },
    {
      "cell_type": "code",
      "source": [
        "sns.distplot(y_test-pred,bins=50)"
      ],
      "metadata": {
        "colab": {
          "base_uri": "https://localhost:8080/",
          "height": 297
        },
        "id": "EWYJZbiQJr0m",
        "outputId": "893aa5b7-bc59-4b18-c67d-29264aedbaba"
      },
      "execution_count": 40,
      "outputs": [
        {
          "output_type": "execute_result",
          "data": {
            "text/plain": [
              "<matplotlib.axes._subplots.AxesSubplot at 0x7ff8ce9e9f10>"
            ]
          },
          "metadata": {},
          "execution_count": 40
        },
        {
          "output_type": "display_data",
          "data": {
            "text/plain": [
              "<Figure size 432x288 with 1 Axes>"
            ],
            "image/png": "[encoded data removed]"
          },
          "metadata": {
            "needs_background": "light"
          }
        }
      ]
    },
    {
      "cell_type": "markdown",
      "source": [
        "residual is normally distributed\n"
      ],
      "metadata": {
        "id": "EwSc2bqkd6lP"
      }
    },
    {
      "cell_type": "code",
      "source": [
        "#Lets save the model using joblib and pickle\n",
        "import joblib\n",
        "import pickle\n",
        "joblib.dump(rdr, 'baseball.obj')\n",
        "pickle.dump(rdr,open('baseball.pkl','wb'))"
      ],
      "metadata": {
        "id": "rYFhgNi8Mrkj"
      },
      "execution_count": 41,
      "outputs": []
    },
    {
      "cell_type": "code",
      "source": [
        ""
      ],
      "metadata": {
        "id": "FTiQ6XXReep4"
      },
      "execution_count": 41,
      "outputs": []
    }
  ]
}