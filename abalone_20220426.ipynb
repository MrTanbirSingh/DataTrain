{
  "cells": [
    {
      "cell_type": "markdown",
      "id": "37a1d85e",
      "metadata": {
        "id": "37a1d85e"
      },
      "source": [
        "### Abalone Case Study\n",
        "\n",
        "\n",
        "**Problem Statement:<br>**\n",
        "The age of abalone is determined by cutting the shell through the cone, staining it, <br>\n",
        "and counting the number of rings through a microscope -- a boring and time-consuming task.<br>\n",
        "Other measurements, which are easier to obtain, are used to predict the age. Further information,<br>\n",
        "such as weather patterns and location (hence food availability) may be required to solve the problem.<br>\n",
        "\n",
        "**Attribute Information<br>**\n",
        "\n",
        "Given is the attribute name, attribute type, the measurement unit and a brief description.<br>\n",
        "The number of rings is the value to predict. \n",
        "<br>\n",
        "Name / Data Type / Measurement Unit / Description<br>\n",
        "-----------------------------\n",
        "Sex / nominal / -- / M, F, and I (infant)<br>\n",
        "Length / continuous / mm / Longest shell measurement<br>\n",
        "Diameter / continuous / mm / perpendicular to length<br>\n",
        "Height / continuous / mm / with meat in shell<br>\n",
        "Whole weight / continuous / grams / whole abalone<br>\n",
        "Shucked weight / continuous / grams / weight of meat<br>\n",
        "Viscera weight / continuous / grams / gut weight (after bleeding)<br>\n",
        "Shell weight / continuous / grams / after being dried<br>\n",
        "Rings / integer / -- / +1.5 gives the age in years. <br>\n",
        "<br>\n",
        "You have to predict the rings of each abalone which will lead us to the age of that abalone. <br>"
      ]
    },
    {
      "cell_type": "code",
      "execution_count": 2,
      "id": "58dd7e2a",
      "metadata": {
        "id": "58dd7e2a"
      },
      "outputs": [],
      "source": [
        "import pandas as pd\n",
        "import numpy as np\n",
        "\n",
        "\n",
        "from sklearn.preprocessing import LabelEncoder\n",
        "from sklearn.metrics import mean_absolute_error, mean_squared_error\n",
        "from sklearn.svm import SVR\n",
        "from sklearn.tree import DecisionTreeRegressor\n",
        "from sklearn.neighbors import KNeighborsRegressor\n",
        "from sklearn.linear_model import LinearRegression\n",
        "\n",
        "\n",
        "import warnings\n",
        "warnings.filterwarnings('ignore')\n",
        "\n",
        "import matplotlib.pyplot as plt"
      ]
    },
    {
      "cell_type": "code",
      "execution_count": 3,
      "id": "39e3ddd4",
      "metadata": {
        "id": "39e3ddd4"
      },
      "outputs": [],
      "source": [
        "df = pd.read_csv(r'https://raw.githubusercontent.com/dsrscientist/dataset1/master/abalone.csv')\n",
        "df.to_csv('adalone_20220427.csv')"
      ]
    },
    {
      "cell_type": "code",
      "execution_count": 4,
      "id": "d425416f",
      "metadata": {
        "id": "d425416f"
      },
      "outputs": [],
      "source": [
        "df = pd.read_csv('adalone_20220427.csv')\n",
        "df = df.drop(['Unnamed: 0'], axis=1)\n",
        "# df.head()"
      ]
    },
    {
      "cell_type": "code",
      "execution_count": 4,
      "id": "ec58ab74",
      "metadata": {
        "id": "ec58ab74"
      },
      "outputs": [],
      "source": [
        ""
      ]
    },
    {
      "cell_type": "markdown",
      "id": "f89070cd",
      "metadata": {
        "id": "f89070cd"
      },
      "source": [
        "This is Continuous data."
      ]
    },
    {
      "cell_type": "code",
      "execution_count": 5,
      "id": "33964d3d",
      "metadata": {
        "id": "33964d3d"
      },
      "outputs": [],
      "source": [
        "le = LabelEncoder()\n",
        "le_sex = le.fit_transform(df.Sex)"
      ]
    },
    {
      "cell_type": "code",
      "execution_count": 6,
      "id": "cfbefde9",
      "metadata": {
        "id": "cfbefde9"
      },
      "outputs": [],
      "source": [
        "df['le_sex'] = le_sex"
      ]
    },
    {
      "cell_type": "code",
      "execution_count": 7,
      "id": "58e19d05",
      "metadata": {
        "id": "58e19d05",
        "outputId": "b4cdcaf6-5315-4c82-f283-542f91763d04",
        "colab": {
          "base_uri": "https://localhost:8080/",
          "height": 206
        }
      },
      "outputs": [
        {
          "output_type": "execute_result",
          "data": {
            "text/plain": [
              "  Sex  Length  Diameter  Height  Whole weight  Shucked weight  Viscera weight  \\\n",
              "0   M   0.455     0.365   0.095        0.5140          0.2245          0.1010   \n",
              "1   M   0.350     0.265   0.090        0.2255          0.0995          0.0485   \n",
              "2   F   0.530     0.420   0.135        0.6770          0.2565          0.1415   \n",
              "3   M   0.440     0.365   0.125        0.5160          0.2155          0.1140   \n",
              "4   I   0.330     0.255   0.080        0.2050          0.0895          0.0395   \n",
              "\n",
              "   Shell weight  Rings  le_sex  \n",
              "0         0.150     15       2  \n",
              "1         0.070      7       2  \n",
              "2         0.210      9       0  \n",
              "3         0.155     10       2  \n",
              "4         0.055      7       1  "
            ],
            "text/html": [
              "\n",
              "  <div id=\"df-e9a66049-1986-4e1a-9d94-a257f875ed39\">\n",
              "    <div class=\"colab-df-container\">\n",
              "      <div>\n",
              "<style scoped>\n",
              "    .dataframe tbody tr th:only-of-type {\n",
              "        vertical-align: middle;\n",
              "    }\n",
              "\n",
              "    .dataframe tbody tr th {\n",
              "        vertical-align: top;\n",
              "    }\n",
              "\n",
              "    .dataframe thead th {\n",
              "        text-align: right;\n",
              "    }\n",
              "</style>\n",
              "<table border=\"1\" class=\"dataframe\">\n",
              "  <thead>\n",
              "    <tr style=\"text-align: right;\">\n",
              "      <th></th>\n",
              "      <th>Sex</th>\n",
              "      <th>Length</th>\n",
              "      <th>Diameter</th>\n",
              "      <th>Height</th>\n",
              "      <th>Whole weight</th>\n",
              "      <th>Shucked weight</th>\n",
              "      <th>Viscera weight</th>\n",
              "      <th>Shell weight</th>\n",
              "      <th>Rings</th>\n",
              "      <th>le_sex</th>\n",
              "    </tr>\n",
              "  </thead>\n",
              "  <tbody>\n",
              "    <tr>\n",
              "      <th>0</th>\n",
              "      <td>M</td>\n",
              "      <td>0.455</td>\n",
              "      <td>0.365</td>\n",
              "      <td>0.095</td>\n",
              "      <td>0.5140</td>\n",
              "      <td>0.2245</td>\n",
              "      <td>0.1010</td>\n",
              "      <td>0.150</td>\n",
              "      <td>15</td>\n",
              "      <td>2</td>\n",
              "    </tr>\n",
              "    <tr>\n",
              "      <th>1</th>\n",
              "      <td>M</td>\n",
              "      <td>0.350</td>\n",
              "      <td>0.265</td>\n",
              "      <td>0.090</td>\n",
              "      <td>0.2255</td>\n",
              "      <td>0.0995</td>\n",
              "      <td>0.0485</td>\n",
              "      <td>0.070</td>\n",
              "      <td>7</td>\n",
              "      <td>2</td>\n",
              "    </tr>\n",
              "    <tr>\n",
              "      <th>2</th>\n",
              "      <td>F</td>\n",
              "      <td>0.530</td>\n",
              "      <td>0.420</td>\n",
              "      <td>0.135</td>\n",
              "      <td>0.6770</td>\n",
              "      <td>0.2565</td>\n",
              "      <td>0.1415</td>\n",
              "      <td>0.210</td>\n",
              "      <td>9</td>\n",
              "      <td>0</td>\n",
              "    </tr>\n",
              "    <tr>\n",
              "      <th>3</th>\n",
              "      <td>M</td>\n",
              "      <td>0.440</td>\n",
              "      <td>0.365</td>\n",
              "      <td>0.125</td>\n",
              "      <td>0.5160</td>\n",
              "      <td>0.2155</td>\n",
              "      <td>0.1140</td>\n",
              "      <td>0.155</td>\n",
              "      <td>10</td>\n",
              "      <td>2</td>\n",
              "    </tr>\n",
              "    <tr>\n",
              "      <th>4</th>\n",
              "      <td>I</td>\n",
              "      <td>0.330</td>\n",
              "      <td>0.255</td>\n",
              "      <td>0.080</td>\n",
              "      <td>0.2050</td>\n",
              "      <td>0.0895</td>\n",
              "      <td>0.0395</td>\n",
              "      <td>0.055</td>\n",
              "      <td>7</td>\n",
              "      <td>1</td>\n",
              "    </tr>\n",
              "  </tbody>\n",
              "</table>\n",
              "</div>\n",
              "      <button class=\"colab-df-convert\" onclick=\"convertToInteractive('df-e9a66049-1986-4e1a-9d94-a257f875ed39')\"\n",
              "              title=\"Convert this dataframe to an interactive table.\"\n",
              "              style=\"display:none;\">\n",
              "        \n",
              "  <svg xmlns=\"http://www.w3.org/2000/svg\" height=\"24px\"viewBox=\"0 0 24 24\"\n",
              "       width=\"24px\">\n",
              "    <path d=\"M0 0h24v24H0V0z\" fill=\"none\"/>\n",
              "    <path d=\"M18.56 5.44l.94 2.06.94-2.06 2.06-.94-2.06-.94-.94-2.06-.94 2.06-2.06.94zm-11 1L8.5 8.5l.94-2.06 2.06-.94-2.06-.94L8.5 2.5l-.94 2.06-2.06.94zm10 10l.94 2.06.94-2.06 2.06-.94-2.06-.94-.94-2.06-.94 2.06-2.06.94z\"/><path d=\"M17.41 7.96l-1.37-1.37c-.4-.4-.92-.59-1.43-.59-.52 0-1.04.2-1.43.59L10.3 9.45l-7.72 7.72c-.78.78-.78 2.05 0 2.83L4 21.41c.39.39.9.59 1.41.59.51 0 1.02-.2 1.41-.59l7.78-7.78 2.81-2.81c.8-.78.8-2.07 0-2.86zM5.41 20L4 18.59l7.72-7.72 1.47 1.35L5.41 20z\"/>\n",
              "  </svg>\n",
              "      </button>\n",
              "      \n",
              "  <style>\n",
              "    .colab-df-container {\n",
              "      display:flex;\n",
              "      flex-wrap:wrap;\n",
              "      gap: 12px;\n",
              "    }\n",
              "\n",
              "    .colab-df-convert {\n",
              "      background-color: #E8F0FE;\n",
              "      border: none;\n",
              "      border-radius: 50%;\n",
              "      cursor: pointer;\n",
              "      display: none;\n",
              "      fill: #1967D2;\n",
              "      height: 32px;\n",
              "      padding: 0 0 0 0;\n",
              "      width: 32px;\n",
              "    }\n",
              "\n",
              "    .colab-df-convert:hover {\n",
              "      background-color: #E2EBFA;\n",
              "      box-shadow: 0px 1px 2px rgba(60, 64, 67, 0.3), 0px 1px 3px 1px rgba(60, 64, 67, 0.15);\n",
              "      fill: #174EA6;\n",
              "    }\n",
              "\n",
              "    [theme=dark] .colab-df-convert {\n",
              "      background-color: #3B4455;\n",
              "      fill: #D2E3FC;\n",
              "    }\n",
              "\n",
              "    [theme=dark] .colab-df-convert:hover {\n",
              "      background-color: #434B5C;\n",
              "      box-shadow: 0px 1px 3px 1px rgba(0, 0, 0, 0.15);\n",
              "      filter: drop-shadow(0px 1px 2px rgba(0, 0, 0, 0.3));\n",
              "      fill: #FFFFFF;\n",
              "    }\n",
              "  </style>\n",
              "\n",
              "      <script>\n",
              "        const buttonEl =\n",
              "          document.querySelector('#df-e9a66049-1986-4e1a-9d94-a257f875ed39 button.colab-df-convert');\n",
              "        buttonEl.style.display =\n",
              "          google.colab.kernel.accessAllowed ? 'block' : 'none';\n",
              "\n",
              "        async function convertToInteractive(key) {\n",
              "          const element = document.querySelector('#df-e9a66049-1986-4e1a-9d94-a257f875ed39');\n",
              "          const dataTable =\n",
              "            await google.colab.kernel.invokeFunction('convertToInteractive',\n",
              "                                                     [key], {});\n",
              "          if (!dataTable) return;\n",
              "\n",
              "          const docLinkHtml = 'Like what you see? Visit the ' +\n",
              "            '<a target=\"_blank\" href=https://colab.research.google.com/notebooks/data_table.ipynb>data table notebook</a>'\n",
              "            + ' to learn more about interactive tables.';\n",
              "          element.innerHTML = '';\n",
              "          dataTable['output_type'] = 'display_data';\n",
              "          await google.colab.output.renderOutput(dataTable, element);\n",
              "          const docLink = document.createElement('div');\n",
              "          docLink.innerHTML = docLinkHtml;\n",
              "          element.appendChild(docLink);\n",
              "        }\n",
              "      </script>\n",
              "    </div>\n",
              "  </div>\n",
              "  "
            ]
          },
          "metadata": {},
          "execution_count": 7
        }
      ],
      "source": [
        "df.head()"
      ]
    },
    {
      "cell_type": "code",
      "execution_count": 8,
      "id": "49862472",
      "metadata": {
        "id": "49862472",
        "outputId": "f70ad37a-3839-4efb-ddf1-e0571c515cb0",
        "colab": {
          "base_uri": "https://localhost:8080/"
        }
      },
      "outputs": [
        {
          "output_type": "execute_result",
          "data": {
            "text/plain": [
              "Sex                object\n",
              "Length            float64\n",
              "Diameter          float64\n",
              "Height            float64\n",
              "Whole weight      float64\n",
              "Shucked weight    float64\n",
              "Viscera weight    float64\n",
              "Shell weight      float64\n",
              "Rings               int64\n",
              "le_sex              int64\n",
              "dtype: object"
            ]
          },
          "metadata": {},
          "execution_count": 8
        }
      ],
      "source": [
        "df.dtypes"
      ]
    },
    {
      "cell_type": "markdown",
      "id": "f68ef645",
      "metadata": {
        "id": "f68ef645"
      },
      "source": [
        "Sex column is of object data type to handle this we used Label_Encoder to change it to the numerical form."
      ]
    },
    {
      "cell_type": "code",
      "execution_count": 9,
      "id": "d1d84f8f",
      "metadata": {
        "id": "d1d84f8f",
        "outputId": "bf55a1d5-b5f2-47b6-db10-529e2cd3596b",
        "colab": {
          "base_uri": "https://localhost:8080/",
          "height": 424
        }
      },
      "outputs": [
        {
          "output_type": "execute_result",
          "data": {
            "text/plain": [
              "     Sex  Length  Diameter  Height  Whole weight  Shucked weight  \\\n",
              "0      M   0.455     0.365   0.095        0.5140          0.2245   \n",
              "1      M   0.350     0.265   0.090        0.2255          0.0995   \n",
              "3      M   0.440     0.365   0.125        0.5160          0.2155   \n",
              "8      M   0.475     0.370   0.125        0.5095          0.2165   \n",
              "11     M   0.430     0.350   0.110        0.4060          0.1675   \n",
              "...   ..     ...       ...     ...           ...             ...   \n",
              "4170   M   0.550     0.430   0.130        0.8395          0.3155   \n",
              "4171   M   0.560     0.430   0.155        0.8675          0.4000   \n",
              "4173   M   0.590     0.440   0.135        0.9660          0.4390   \n",
              "4174   M   0.600     0.475   0.205        1.1760          0.5255   \n",
              "4176   M   0.710     0.555   0.195        1.9485          0.9455   \n",
              "\n",
              "      Viscera weight  Shell weight  Rings  le_sex  \n",
              "0             0.1010        0.1500     15       2  \n",
              "1             0.0485        0.0700      7       2  \n",
              "3             0.1140        0.1550     10       2  \n",
              "8             0.1125        0.1650      9       2  \n",
              "11            0.0810        0.1350     10       2  \n",
              "...              ...           ...    ...     ...  \n",
              "4170          0.1955        0.2405     10       2  \n",
              "4171          0.1720        0.2290      8       2  \n",
              "4173          0.2145        0.2605     10       2  \n",
              "4174          0.2875        0.3080      9       2  \n",
              "4176          0.3765        0.4950     12       2  \n",
              "\n",
              "[1528 rows x 10 columns]"
            ],
            "text/html": [
              "\n",
              "  <div id=\"df-a4cc4d1a-a279-4f67-9c30-7cd428a1f478\">\n",
              "    <div class=\"colab-df-container\">\n",
              "      <div>\n",
              "<style scoped>\n",
              "    .dataframe tbody tr th:only-of-type {\n",
              "        vertical-align: middle;\n",
              "    }\n",
              "\n",
              "    .dataframe tbody tr th {\n",
              "        vertical-align: top;\n",
              "    }\n",
              "\n",
              "    .dataframe thead th {\n",
              "        text-align: right;\n",
              "    }\n",
              "</style>\n",
              "<table border=\"1\" class=\"dataframe\">\n",
              "  <thead>\n",
              "    <tr style=\"text-align: right;\">\n",
              "      <th></th>\n",
              "      <th>Sex</th>\n",
              "      <th>Length</th>\n",
              "      <th>Diameter</th>\n",
              "      <th>Height</th>\n",
              "      <th>Whole weight</th>\n",
              "      <th>Shucked weight</th>\n",
              "      <th>Viscera weight</th>\n",
              "      <th>Shell weight</th>\n",
              "      <th>Rings</th>\n",
              "      <th>le_sex</th>\n",
              "    </tr>\n",
              "  </thead>\n",
              "  <tbody>\n",
              "    <tr>\n",
              "      <th>0</th>\n",
              "      <td>M</td>\n",
              "      <td>0.455</td>\n",
              "      <td>0.365</td>\n",
              "      <td>0.095</td>\n",
              "      <td>0.5140</td>\n",
              "      <td>0.2245</td>\n",
              "      <td>0.1010</td>\n",
              "      <td>0.1500</td>\n",
              "      <td>15</td>\n",
              "      <td>2</td>\n",
              "    </tr>\n",
              "    <tr>\n",
              "      <th>1</th>\n",
              "      <td>M</td>\n",
              "      <td>0.350</td>\n",
              "      <td>0.265</td>\n",
              "      <td>0.090</td>\n",
              "      <td>0.2255</td>\n",
              "      <td>0.0995</td>\n",
              "      <td>0.0485</td>\n",
              "      <td>0.0700</td>\n",
              "      <td>7</td>\n",
              "      <td>2</td>\n",
              "    </tr>\n",
              "    <tr>\n",
              "      <th>3</th>\n",
              "      <td>M</td>\n",
              "      <td>0.440</td>\n",
              "      <td>0.365</td>\n",
              "      <td>0.125</td>\n",
              "      <td>0.5160</td>\n",
              "      <td>0.2155</td>\n",
              "      <td>0.1140</td>\n",
              "      <td>0.1550</td>\n",
              "      <td>10</td>\n",
              "      <td>2</td>\n",
              "    </tr>\n",
              "    <tr>\n",
              "      <th>8</th>\n",
              "      <td>M</td>\n",
              "      <td>0.475</td>\n",
              "      <td>0.370</td>\n",
              "      <td>0.125</td>\n",
              "      <td>0.5095</td>\n",
              "      <td>0.2165</td>\n",
              "      <td>0.1125</td>\n",
              "      <td>0.1650</td>\n",
              "      <td>9</td>\n",
              "      <td>2</td>\n",
              "    </tr>\n",
              "    <tr>\n",
              "      <th>11</th>\n",
              "      <td>M</td>\n",
              "      <td>0.430</td>\n",
              "      <td>0.350</td>\n",
              "      <td>0.110</td>\n",
              "      <td>0.4060</td>\n",
              "      <td>0.1675</td>\n",
              "      <td>0.0810</td>\n",
              "      <td>0.1350</td>\n",
              "      <td>10</td>\n",
              "      <td>2</td>\n",
              "    </tr>\n",
              "    <tr>\n",
              "      <th>...</th>\n",
              "      <td>...</td>\n",
              "      <td>...</td>\n",
              "      <td>...</td>\n",
              "      <td>...</td>\n",
              "      <td>...</td>\n",
              "      <td>...</td>\n",
              "      <td>...</td>\n",
              "      <td>...</td>\n",
              "      <td>...</td>\n",
              "      <td>...</td>\n",
              "    </tr>\n",
              "    <tr>\n",
              "      <th>4170</th>\n",
              "      <td>M</td>\n",
              "      <td>0.550</td>\n",
              "      <td>0.430</td>\n",
              "      <td>0.130</td>\n",
              "      <td>0.8395</td>\n",
              "      <td>0.3155</td>\n",
              "      <td>0.1955</td>\n",
              "      <td>0.2405</td>\n",
              "      <td>10</td>\n",
              "      <td>2</td>\n",
              "    </tr>\n",
              "    <tr>\n",
              "      <th>4171</th>\n",
              "      <td>M</td>\n",
              "      <td>0.560</td>\n",
              "      <td>0.430</td>\n",
              "      <td>0.155</td>\n",
              "      <td>0.8675</td>\n",
              "      <td>0.4000</td>\n",
              "      <td>0.1720</td>\n",
              "      <td>0.2290</td>\n",
              "      <td>8</td>\n",
              "      <td>2</td>\n",
              "    </tr>\n",
              "    <tr>\n",
              "      <th>4173</th>\n",
              "      <td>M</td>\n",
              "      <td>0.590</td>\n",
              "      <td>0.440</td>\n",
              "      <td>0.135</td>\n",
              "      <td>0.9660</td>\n",
              "      <td>0.4390</td>\n",
              "      <td>0.2145</td>\n",
              "      <td>0.2605</td>\n",
              "      <td>10</td>\n",
              "      <td>2</td>\n",
              "    </tr>\n",
              "    <tr>\n",
              "      <th>4174</th>\n",
              "      <td>M</td>\n",
              "      <td>0.600</td>\n",
              "      <td>0.475</td>\n",
              "      <td>0.205</td>\n",
              "      <td>1.1760</td>\n",
              "      <td>0.5255</td>\n",
              "      <td>0.2875</td>\n",
              "      <td>0.3080</td>\n",
              "      <td>9</td>\n",
              "      <td>2</td>\n",
              "    </tr>\n",
              "    <tr>\n",
              "      <th>4176</th>\n",
              "      <td>M</td>\n",
              "      <td>0.710</td>\n",
              "      <td>0.555</td>\n",
              "      <td>0.195</td>\n",
              "      <td>1.9485</td>\n",
              "      <td>0.9455</td>\n",
              "      <td>0.3765</td>\n",
              "      <td>0.4950</td>\n",
              "      <td>12</td>\n",
              "      <td>2</td>\n",
              "    </tr>\n",
              "  </tbody>\n",
              "</table>\n",
              "<p>1528 rows × 10 columns</p>\n",
              "</div>\n",
              "      <button class=\"colab-df-convert\" onclick=\"convertToInteractive('df-a4cc4d1a-a279-4f67-9c30-7cd428a1f478')\"\n",
              "              title=\"Convert this dataframe to an interactive table.\"\n",
              "              style=\"display:none;\">\n",
              "        \n",
              "  <svg xmlns=\"http://www.w3.org/2000/svg\" height=\"24px\"viewBox=\"0 0 24 24\"\n",
              "       width=\"24px\">\n",
              "    <path d=\"M0 0h24v24H0V0z\" fill=\"none\"/>\n",
              "    <path d=\"M18.56 5.44l.94 2.06.94-2.06 2.06-.94-2.06-.94-.94-2.06-.94 2.06-2.06.94zm-11 1L8.5 8.5l.94-2.06 2.06-.94-2.06-.94L8.5 2.5l-.94 2.06-2.06.94zm10 10l.94 2.06.94-2.06 2.06-.94-2.06-.94-.94-2.06-.94 2.06-2.06.94z\"/><path d=\"M17.41 7.96l-1.37-1.37c-.4-.4-.92-.59-1.43-.59-.52 0-1.04.2-1.43.59L10.3 9.45l-7.72 7.72c-.78.78-.78 2.05 0 2.83L4 21.41c.39.39.9.59 1.41.59.51 0 1.02-.2 1.41-.59l7.78-7.78 2.81-2.81c.8-.78.8-2.07 0-2.86zM5.41 20L4 18.59l7.72-7.72 1.47 1.35L5.41 20z\"/>\n",
              "  </svg>\n",
              "      </button>\n",
              "      \n",
              "  <style>\n",
              "    .colab-df-container {\n",
              "      display:flex;\n",
              "      flex-wrap:wrap;\n",
              "      gap: 12px;\n",
              "    }\n",
              "\n",
              "    .colab-df-convert {\n",
              "      background-color: #E8F0FE;\n",
              "      border: none;\n",
              "      border-radius: 50%;\n",
              "      cursor: pointer;\n",
              "      display: none;\n",
              "      fill: #1967D2;\n",
              "      height: 32px;\n",
              "      padding: 0 0 0 0;\n",
              "      width: 32px;\n",
              "    }\n",
              "\n",
              "    .colab-df-convert:hover {\n",
              "      background-color: #E2EBFA;\n",
              "      box-shadow: 0px 1px 2px rgba(60, 64, 67, 0.3), 0px 1px 3px 1px rgba(60, 64, 67, 0.15);\n",
              "      fill: #174EA6;\n",
              "    }\n",
              "\n",
              "    [theme=dark] .colab-df-convert {\n",
              "      background-color: #3B4455;\n",
              "      fill: #D2E3FC;\n",
              "    }\n",
              "\n",
              "    [theme=dark] .colab-df-convert:hover {\n",
              "      background-color: #434B5C;\n",
              "      box-shadow: 0px 1px 3px 1px rgba(0, 0, 0, 0.15);\n",
              "      filter: drop-shadow(0px 1px 2px rgba(0, 0, 0, 0.3));\n",
              "      fill: #FFFFFF;\n",
              "    }\n",
              "  </style>\n",
              "\n",
              "      <script>\n",
              "        const buttonEl =\n",
              "          document.querySelector('#df-a4cc4d1a-a279-4f67-9c30-7cd428a1f478 button.colab-df-convert');\n",
              "        buttonEl.style.display =\n",
              "          google.colab.kernel.accessAllowed ? 'block' : 'none';\n",
              "\n",
              "        async function convertToInteractive(key) {\n",
              "          const element = document.querySelector('#df-a4cc4d1a-a279-4f67-9c30-7cd428a1f478');\n",
              "          const dataTable =\n",
              "            await google.colab.kernel.invokeFunction('convertToInteractive',\n",
              "                                                     [key], {});\n",
              "          if (!dataTable) return;\n",
              "\n",
              "          const docLinkHtml = 'Like what you see? Visit the ' +\n",
              "            '<a target=\"_blank\" href=https://colab.research.google.com/notebooks/data_table.ipynb>data table notebook</a>'\n",
              "            + ' to learn more about interactive tables.';\n",
              "          element.innerHTML = '';\n",
              "          dataTable['output_type'] = 'display_data';\n",
              "          await google.colab.output.renderOutput(dataTable, element);\n",
              "          const docLink = document.createElement('div');\n",
              "          docLink.innerHTML = docLinkHtml;\n",
              "          element.appendChild(docLink);\n",
              "        }\n",
              "      </script>\n",
              "    </div>\n",
              "  </div>\n",
              "  "
            ]
          },
          "metadata": {},
          "execution_count": 9
        }
      ],
      "source": [
        "df.loc[df[\"le_sex\"] == 2]"
      ]
    },
    {
      "cell_type": "markdown",
      "id": "c4ad38ae",
      "metadata": {
        "id": "c4ad38ae"
      },
      "source": [
        " "
      ]
    },
    {
      "cell_type": "markdown",
      "id": "2b0b1857",
      "metadata": {
        "id": "2b0b1857"
      },
      "source": [
        " "
      ]
    },
    {
      "cell_type": "markdown",
      "id": "9b33cf1c",
      "metadata": {
        "id": "9b33cf1c"
      },
      "source": [
        "## Checking Null values"
      ]
    },
    {
      "cell_type": "code",
      "execution_count": 10,
      "id": "7d1ab187",
      "metadata": {
        "id": "7d1ab187",
        "outputId": "049446c4-ec7f-4aa0-c111-34978d4dcb6f",
        "colab": {
          "base_uri": "https://localhost:8080/"
        }
      },
      "outputs": [
        {
          "output_type": "execute_result",
          "data": {
            "text/plain": [
              "Sex               0\n",
              "Length            0\n",
              "Diameter          0\n",
              "Height            0\n",
              "Whole weight      0\n",
              "Shucked weight    0\n",
              "Viscera weight    0\n",
              "Shell weight      0\n",
              "Rings             0\n",
              "le_sex            0\n",
              "dtype: int64"
            ]
          },
          "metadata": {},
          "execution_count": 10
        }
      ],
      "source": [
        "df.isnull().sum()"
      ]
    },
    {
      "cell_type": "code",
      "execution_count": 10,
      "id": "004755c3",
      "metadata": {
        "id": "004755c3"
      },
      "outputs": [],
      "source": [
        ""
      ]
    },
    {
      "cell_type": "code",
      "execution_count": 10,
      "id": "ac973975",
      "metadata": {
        "id": "ac973975"
      },
      "outputs": [],
      "source": [
        ""
      ]
    },
    {
      "cell_type": "code",
      "execution_count": 10,
      "id": "b5ac1b61",
      "metadata": {
        "id": "b5ac1b61"
      },
      "outputs": [],
      "source": [
        ""
      ]
    },
    {
      "cell_type": "markdown",
      "id": "8e810a60",
      "metadata": {
        "id": "8e810a60"
      },
      "source": [
        "## Visualization of Data:"
      ]
    },
    {
      "cell_type": "code",
      "execution_count": 11,
      "id": "388fc8e0",
      "metadata": {
        "id": "388fc8e0"
      },
      "outputs": [],
      "source": [
        "import seaborn as sns"
      ]
    },
    {
      "cell_type": "code",
      "execution_count": 12,
      "id": "52595989",
      "metadata": {
        "id": "52595989",
        "outputId": "0df9e662-6f44-4aea-da33-b5aee2d159fa",
        "colab": {
          "base_uri": "https://localhost:8080/",
          "height": 0
        }
      },
      "outputs": [
        {
          "output_type": "execute_result",
          "data": {
            "text/plain": [
              "     0\n",
              "Sex   \n",
              "F    0\n",
              "I    1\n",
              "M    2"
            ],
            "text/html": [
              "\n",
              "  <div id=\"df-dfbca0a0-f66e-4b1d-af46-a05d458e8ea3\">\n",
              "    <div class=\"colab-df-container\">\n",
              "      <div>\n",
              "<style scoped>\n",
              "    .dataframe tbody tr th:only-of-type {\n",
              "        vertical-align: middle;\n",
              "    }\n",
              "\n",
              "    .dataframe tbody tr th {\n",
              "        vertical-align: top;\n",
              "    }\n",
              "\n",
              "    .dataframe thead th {\n",
              "        text-align: right;\n",
              "    }\n",
              "</style>\n",
              "<table border=\"1\" class=\"dataframe\">\n",
              "  <thead>\n",
              "    <tr style=\"text-align: right;\">\n",
              "      <th></th>\n",
              "      <th>0</th>\n",
              "    </tr>\n",
              "    <tr>\n",
              "      <th>Sex</th>\n",
              "      <th></th>\n",
              "    </tr>\n",
              "  </thead>\n",
              "  <tbody>\n",
              "    <tr>\n",
              "      <th>F</th>\n",
              "      <td>0</td>\n",
              "    </tr>\n",
              "    <tr>\n",
              "      <th>I</th>\n",
              "      <td>1</td>\n",
              "    </tr>\n",
              "    <tr>\n",
              "      <th>M</th>\n",
              "      <td>2</td>\n",
              "    </tr>\n",
              "  </tbody>\n",
              "</table>\n",
              "</div>\n",
              "      <button class=\"colab-df-convert\" onclick=\"convertToInteractive('df-dfbca0a0-f66e-4b1d-af46-a05d458e8ea3')\"\n",
              "              title=\"Convert this dataframe to an interactive table.\"\n",
              "              style=\"display:none;\">\n",
              "        \n",
              "  <svg xmlns=\"http://www.w3.org/2000/svg\" height=\"24px\"viewBox=\"0 0 24 24\"\n",
              "       width=\"24px\">\n",
              "    <path d=\"M0 0h24v24H0V0z\" fill=\"none\"/>\n",
              "    <path d=\"M18.56 5.44l.94 2.06.94-2.06 2.06-.94-2.06-.94-.94-2.06-.94 2.06-2.06.94zm-11 1L8.5 8.5l.94-2.06 2.06-.94-2.06-.94L8.5 2.5l-.94 2.06-2.06.94zm10 10l.94 2.06.94-2.06 2.06-.94-2.06-.94-.94-2.06-.94 2.06-2.06.94z\"/><path d=\"M17.41 7.96l-1.37-1.37c-.4-.4-.92-.59-1.43-.59-.52 0-1.04.2-1.43.59L10.3 9.45l-7.72 7.72c-.78.78-.78 2.05 0 2.83L4 21.41c.39.39.9.59 1.41.59.51 0 1.02-.2 1.41-.59l7.78-7.78 2.81-2.81c.8-.78.8-2.07 0-2.86zM5.41 20L4 18.59l7.72-7.72 1.47 1.35L5.41 20z\"/>\n",
              "  </svg>\n",
              "      </button>\n",
              "      \n",
              "  <style>\n",
              "    .colab-df-container {\n",
              "      display:flex;\n",
              "      flex-wrap:wrap;\n",
              "      gap: 12px;\n",
              "    }\n",
              "\n",
              "    .colab-df-convert {\n",
              "      background-color: #E8F0FE;\n",
              "      border: none;\n",
              "      border-radius: 50%;\n",
              "      cursor: pointer;\n",
              "      display: none;\n",
              "      fill: #1967D2;\n",
              "      height: 32px;\n",
              "      padding: 0 0 0 0;\n",
              "      width: 32px;\n",
              "    }\n",
              "\n",
              "    .colab-df-convert:hover {\n",
              "      background-color: #E2EBFA;\n",
              "      box-shadow: 0px 1px 2px rgba(60, 64, 67, 0.3), 0px 1px 3px 1px rgba(60, 64, 67, 0.15);\n",
              "      fill: #174EA6;\n",
              "    }\n",
              "\n",
              "    [theme=dark] .colab-df-convert {\n",
              "      background-color: #3B4455;\n",
              "      fill: #D2E3FC;\n",
              "    }\n",
              "\n",
              "    [theme=dark] .colab-df-convert:hover {\n",
              "      background-color: #434B5C;\n",
              "      box-shadow: 0px 1px 3px 1px rgba(0, 0, 0, 0.15);\n",
              "      filter: drop-shadow(0px 1px 2px rgba(0, 0, 0, 0.3));\n",
              "      fill: #FFFFFF;\n",
              "    }\n",
              "  </style>\n",
              "\n",
              "      <script>\n",
              "        const buttonEl =\n",
              "          document.querySelector('#df-dfbca0a0-f66e-4b1d-af46-a05d458e8ea3 button.colab-df-convert');\n",
              "        buttonEl.style.display =\n",
              "          google.colab.kernel.accessAllowed ? 'block' : 'none';\n",
              "\n",
              "        async function convertToInteractive(key) {\n",
              "          const element = document.querySelector('#df-dfbca0a0-f66e-4b1d-af46-a05d458e8ea3');\n",
              "          const dataTable =\n",
              "            await google.colab.kernel.invokeFunction('convertToInteractive',\n",
              "                                                     [key], {});\n",
              "          if (!dataTable) return;\n",
              "\n",
              "          const docLinkHtml = 'Like what you see? Visit the ' +\n",
              "            '<a target=\"_blank\" href=https://colab.research.google.com/notebooks/data_table.ipynb>data table notebook</a>'\n",
              "            + ' to learn more about interactive tables.';\n",
              "          element.innerHTML = '';\n",
              "          dataTable['output_type'] = 'display_data';\n",
              "          await google.colab.output.renderOutput(dataTable, element);\n",
              "          const docLink = document.createElement('div');\n",
              "          docLink.innerHTML = docLinkHtml;\n",
              "          element.appendChild(docLink);\n",
              "        }\n",
              "      </script>\n",
              "    </div>\n",
              "  </div>\n",
              "  "
            ]
          },
          "metadata": {},
          "execution_count": 12
        }
      ],
      "source": [
        "# print(df[['Sex','le_sex']].loc[df['le_sex']==0].head(1))\n",
        "# df[['Sex','le_sex']].loc[df['le_sex']==1].head(1),\n",
        "# df[['Sex','le_sex']].loc[df['le_sex']==2].head(1)\n",
        "#      )\n",
        "\n",
        "df['le_sex'].groupby(df['Sex']).unique().apply(pd.Series)"
      ]
    },
    {
      "cell_type": "markdown",
      "id": "861452bb",
      "metadata": {
        "id": "861452bb"
      },
      "source": [
        "Data Description:</br>\n",
        "**F = 0</br>\n",
        "I = 1 </br>\n",
        "M = 2**"
      ]
    },
    {
      "cell_type": "code",
      "execution_count": 13,
      "id": "5c38615f",
      "metadata": {
        "id": "5c38615f",
        "outputId": "1aff4b6e-0bd6-4c12-cfd0-076a1564f4a4",
        "colab": {
          "base_uri": "https://localhost:8080/",
          "height": 0
        }
      },
      "outputs": [
        {
          "output_type": "stream",
          "name": "stdout",
          "text": [
            "2    1528\n",
            "1    1342\n",
            "0    1307\n",
            "Name: le_sex, dtype: int64\n"
          ]
        },
        {
          "output_type": "display_data",
          "data": {
            "text/plain": [
              "<Figure size 432x288 with 1 Axes>"
            ],
            "image/png": "[encoded data removed]"
          },
          "metadata": {
            "needs_background": "light"
          }
        }
      ],
      "source": [
        "sns.countplot(data=df, x='le_sex')\n",
        "print(df.le_sex.value_counts())"
      ]
    },
    {
      "cell_type": "markdown",
      "id": "51fbdb3d",
      "metadata": {
        "id": "51fbdb3d"
      },
      "source": [
        "**These are descrete data columns**"
      ]
    },
    {
      "cell_type": "code",
      "execution_count": 14,
      "id": "5d9c633f",
      "metadata": {
        "id": "5d9c633f",
        "outputId": "1f133dc0-26a4-4852-da22-b301859cea19",
        "colab": {
          "base_uri": "https://localhost:8080/",
          "height": 0
        }
      },
      "outputs": [
        {
          "output_type": "display_data",
          "data": {
            "text/plain": [
              "<Figure size 432x288 with 1 Axes>"
            ],
            "image/png": "[encoded data removed]"
          },
          "metadata": {
            "needs_background": "light"
          }
        }
      ],
      "source": [
        "ax = sns.countplot(x='Rings',data=df)"
      ]
    },
    {
      "cell_type": "markdown",
      "id": "eba0f8ad",
      "metadata": {
        "id": "eba0f8ad"
      },
      "source": [
        "All the other columns are populated with continuos data"
      ]
    },
    {
      "cell_type": "code",
      "execution_count": 15,
      "id": "891c40bd",
      "metadata": {
        "id": "891c40bd",
        "outputId": "61d90276-e06d-46aa-c943-1fcde6838285",
        "colab": {
          "base_uri": "https://localhost:8080/"
        }
      },
      "outputs": [
        {
          "output_type": "execute_result",
          "data": {
            "text/plain": [
              "array(['Sex', 'Length', 'Diameter', 'Height', 'Whole weight',\n",
              "       'Shucked weight', 'Viscera weight', 'Shell weight', 'Rings',\n",
              "       'le_sex'], dtype=object)"
            ]
          },
          "metadata": {},
          "execution_count": 15
        }
      ],
      "source": [
        "df.columns.values"
      ]
    },
    {
      "cell_type": "code",
      "execution_count": 15,
      "id": "67b66612",
      "metadata": {
        "id": "67b66612"
      },
      "outputs": [],
      "source": [
        ""
      ]
    },
    {
      "cell_type": "markdown",
      "id": "b186e11a",
      "metadata": {
        "id": "b186e11a"
      },
      "source": [
        "## Checking the distribution of the continuous value of the columns"
      ]
    },
    {
      "cell_type": "code",
      "execution_count": 16,
      "id": "5383fafa",
      "metadata": {
        "id": "5383fafa"
      },
      "outputs": [],
      "source": [
        "continuous_df = df[['Length','Diameter','Height','Whole weight','Shucked weight', 'Viscera weight','Shell weight' ]]"
      ]
    },
    {
      "cell_type": "code",
      "execution_count": 17,
      "id": "66ee6c38",
      "metadata": {
        "id": "66ee6c38",
        "outputId": "ed6b98c5-5f4f-4ffe-d97d-29545c28654d",
        "colab": {
          "base_uri": "https://localhost:8080/",
          "height": 0
        }
      },
      "outputs": [
        {
          "output_type": "execute_result",
          "data": {
            "text/plain": [
              "<matplotlib.axes._subplots.AxesSubplot at 0x7f2cfbbcf7d0>"
            ]
          },
          "metadata": {},
          "execution_count": 17
        },
        {
          "output_type": "display_data",
          "data": {
            "text/plain": [
              "<Figure size 432x288 with 1 Axes>"
            ],
            "image/png": "[encoded data removed]"
          },
          "metadata": {
            "needs_background": "light"
          }
        }
      ],
      "source": [
        "sns.distplot(df['Length'],kde=True)"
      ]
    },
    {
      "cell_type": "code",
      "execution_count": 18,
      "id": "9df02adb",
      "metadata": {
        "id": "9df02adb",
        "outputId": "c79f2436-6935-4ad0-a1b3-c3489c3bf6e9",
        "colab": {
          "base_uri": "https://localhost:8080/",
          "height": 0
        }
      },
      "outputs": [
        {
          "output_type": "execute_result",
          "data": {
            "text/plain": [
              "<matplotlib.axes._subplots.AxesSubplot at 0x7f2cf9ace350>"
            ]
          },
          "metadata": {},
          "execution_count": 18
        },
        {
          "output_type": "display_data",
          "data": {
            "text/plain": [
              "<Figure size 432x288 with 1 Axes>"
            ],
            "image/png": "[encoded data removed]"
          },
          "metadata": {
            "needs_background": "light"
          }
        }
      ],
      "source": [
        "sns.distplot(df['Diameter'],kde=True)"
      ]
    },
    {
      "cell_type": "code",
      "execution_count": 19,
      "id": "3dab517e",
      "metadata": {
        "id": "3dab517e",
        "outputId": "10040495-02df-4b24-c9a9-17d2af72837b",
        "colab": {
          "base_uri": "https://localhost:8080/",
          "height": 0
        }
      },
      "outputs": [
        {
          "output_type": "execute_result",
          "data": {
            "text/plain": [
              "<matplotlib.axes._subplots.AxesSubplot at 0x7f2cf9a5bd50>"
            ]
          },
          "metadata": {},
          "execution_count": 19
        },
        {
          "output_type": "display_data",
          "data": {
            "text/plain": [
              "<Figure size 432x288 with 1 Axes>"
            ],
            "image/png": "[encoded data removed]"
          },
          "metadata": {
            "needs_background": "light"
          }
        }
      ],
      "source": [
        "sns.distplot(df['Height'],kde=True)"
      ]
    },
    {
      "cell_type": "code",
      "execution_count": 20,
      "id": "46cff918",
      "metadata": {
        "id": "46cff918",
        "outputId": "0c1b9887-e45a-460d-a22a-21f0b6d61d7d",
        "colab": {
          "base_uri": "https://localhost:8080/",
          "height": 0
        }
      },
      "outputs": [
        {
          "output_type": "execute_result",
          "data": {
            "text/plain": [
              "<matplotlib.axes._subplots.AxesSubplot at 0x7f2cf9945d10>"
            ]
          },
          "metadata": {},
          "execution_count": 20
        },
        {
          "output_type": "display_data",
          "data": {
            "text/plain": [
              "<Figure size 432x288 with 1 Axes>"
            ],
            "image/png": "[encoded data removed]"
          },
          "metadata": {
            "needs_background": "light"
          }
        }
      ],
      "source": [
        "sns.distplot(df['Whole weight'], kde=True)"
      ]
    },
    {
      "cell_type": "code",
      "execution_count": 21,
      "id": "0549362c",
      "metadata": {
        "id": "0549362c",
        "outputId": "99e4a582-954a-439d-906b-6b67f551a586",
        "colab": {
          "base_uri": "https://localhost:8080/",
          "height": 0
        }
      },
      "outputs": [
        {
          "output_type": "execute_result",
          "data": {
            "text/plain": [
              "<matplotlib.axes._subplots.AxesSubplot at 0x7f2cf9836d90>"
            ]
          },
          "metadata": {},
          "execution_count": 21
        },
        {
          "output_type": "display_data",
          "data": {
            "text/plain": [
              "<Figure size 432x288 with 1 Axes>"
            ],
            "image/png": "[encoded data removed]"
          },
          "metadata": {
            "needs_background": "light"
          }
        }
      ],
      "source": [
        "sns.distplot(df['Shucked weight'])"
      ]
    },
    {
      "cell_type": "code",
      "execution_count": 22,
      "id": "faebf398",
      "metadata": {
        "id": "faebf398",
        "outputId": "f8dc7cf3-f425-49d5-d860-8cdac2621412",
        "colab": {
          "base_uri": "https://localhost:8080/",
          "height": 0
        }
      },
      "outputs": [
        {
          "output_type": "execute_result",
          "data": {
            "text/plain": [
              "<matplotlib.axes._subplots.AxesSubplot at 0x7f2cf96f9410>"
            ]
          },
          "metadata": {},
          "execution_count": 22
        },
        {
          "output_type": "display_data",
          "data": {
            "text/plain": [
              "<Figure size 432x288 with 1 Axes>"
            ],
            "image/png": "[encoded data removed]"
          },
          "metadata": {
            "needs_background": "light"
          }
        }
      ],
      "source": [
        "sns.distplot(df['Viscera weight'])"
      ]
    },
    {
      "cell_type": "code",
      "execution_count": 23,
      "id": "78703b96",
      "metadata": {
        "id": "78703b96",
        "outputId": "2647e4b6-78fa-433d-b5be-ee8cf6646e24",
        "colab": {
          "base_uri": "https://localhost:8080/",
          "height": 0
        }
      },
      "outputs": [
        {
          "output_type": "execute_result",
          "data": {
            "text/plain": [
              "<matplotlib.axes._subplots.AxesSubplot at 0x7f2cf96583d0>"
            ]
          },
          "metadata": {},
          "execution_count": 23
        },
        {
          "output_type": "display_data",
          "data": {
            "text/plain": [
              "<Figure size 432x288 with 1 Axes>"
            ],
            "image/png": "[encoded data removed]"
          },
          "metadata": {
            "needs_background": "light"
          }
        }
      ],
      "source": [
        "sns.distplot(df['Shell weight'],kde=True)"
      ]
    },
    {
      "cell_type": "markdown",
      "id": "86b41fc6",
      "metadata": {
        "id": "86b41fc6"
      },
      "source": [
        "This data is not Normalized. Building blocks are going outside the curve."
      ]
    },
    {
      "cell_type": "code",
      "execution_count": 24,
      "id": "dd17d402",
      "metadata": {
        "id": "dd17d402",
        "outputId": "ad714083-85d4-41e9-f4ba-d41d9e8075fd",
        "colab": {
          "base_uri": "https://localhost:8080/",
          "height": 0
        }
      },
      "outputs": [
        {
          "output_type": "execute_result",
          "data": {
            "text/plain": [
              "<matplotlib.axes._subplots.AxesSubplot at 0x7f2cf96e7790>"
            ]
          },
          "metadata": {},
          "execution_count": 24
        },
        {
          "output_type": "display_data",
          "data": {
            "text/plain": [
              "<Figure size 1152x504 with 2 Axes>"
            ],
            "image/png": "[encoded data removed]"
          },
          "metadata": {
            "needs_background": "light"
          }
        }
      ],
      "source": [
        "plt.figure(figsize = (16,7))\n",
        "sns.heatmap(df.describe(), annot=True, fmt='0.6g')"
      ]
    },
    {
      "cell_type": "markdown",
      "source": [
        "[Puru] It doesn't make sense to do a HEATMAP of a matrix like this where the columns are of variables that lie on very different scales (different range of values)"
      ],
      "metadata": {
        "id": "8k5H6H_-DCqG"
      },
      "id": "8k5H6H_-DCqG"
    },
    {
      "cell_type": "markdown",
      "id": "f5512ada",
      "metadata": {
        "id": "f5512ada"
      },
      "source": [
        " "
      ]
    },
    {
      "cell_type": "markdown",
      "id": "a80b8b95",
      "metadata": {
        "id": "a80b8b95"
      },
      "source": [
        " "
      ]
    },
    {
      "cell_type": "markdown",
      "id": "043d8f08",
      "metadata": {
        "id": "043d8f08"
      },
      "source": [
        "## Correlation "
      ]
    },
    {
      "cell_type": "code",
      "execution_count": 25,
      "id": "27966e41",
      "metadata": {
        "id": "27966e41",
        "outputId": "25f2c2ed-dd66-4d49-f28c-84f1be017cf9",
        "colab": {
          "base_uri": "https://localhost:8080/",
          "height": 0
        }
      },
      "outputs": [
        {
          "output_type": "execute_result",
          "data": {
            "text/plain": [
              "<matplotlib.axes._subplots.AxesSubplot at 0x7f2cfc152e10>"
            ]
          },
          "metadata": {},
          "execution_count": 25
        },
        {
          "output_type": "display_data",
          "data": {
            "text/plain": [
              "<Figure size 1152x504 with 2 Axes>"
            ],
            "image/png": "[encoded data removed]"
          },
          "metadata": {
            "needs_background": "light"
          }
        }
      ],
      "source": [
        "plt.figure(figsize = (16,7))\n",
        "sns.heatmap(df.corr(), annot=True, fmt='0.6g')"
      ]
    },
    {
      "cell_type": "markdown",
      "id": "94ee179e",
      "metadata": {
        "id": "94ee179e"
      },
      "source": [
        "**All the columns are showing more than 50% of correlation with the Rings(Target) column except \"Shucked weight\"**"
      ]
    },
    {
      "cell_type": "markdown",
      "id": "fd50dadf",
      "metadata": {
        "id": "fd50dadf"
      },
      "source": [
        "**Max: 0.627** - Shell weight</br>\n",
        "**Min: 0.42**    - Shucked weight"
      ]
    },
    {
      "cell_type": "markdown",
      "id": "8d76c795",
      "metadata": {
        "id": "8d76c795"
      },
      "source": [
        " "
      ]
    },
    {
      "cell_type": "code",
      "execution_count": 26,
      "id": "f7302575",
      "metadata": {
        "id": "f7302575",
        "outputId": "5f85c27f-0707-4393-ab69-fd7dca2e0169",
        "colab": {
          "base_uri": "https://localhost:8080/",
          "height": 0
        }
      },
      "outputs": [
        {
          "output_type": "execute_result",
          "data": {
            "text/plain": [
              "                  Length  Diameter    Height  Whole weight  Shucked weight  \\\n",
              "Length          1.000000  0.986812  0.827554      0.925261        0.897914   \n",
              "Diameter        0.986812  1.000000  0.833684      0.925452        0.893162   \n",
              "Height          0.827554  0.833684  1.000000      0.819221        0.774972   \n",
              "Whole weight    0.925261  0.925452  0.819221      1.000000        0.969405   \n",
              "Shucked weight  0.897914  0.893162  0.774972      0.969405        1.000000   \n",
              "Viscera weight  0.903018  0.899724  0.798319      0.966375        0.931961   \n",
              "Shell weight    0.897706  0.905330  0.817338      0.955355        0.882617   \n",
              "Rings           0.556720  0.574660  0.557467      0.540390        0.420884   \n",
              "le_sex         -0.036066 -0.038874 -0.042077     -0.021391       -0.001373   \n",
              "\n",
              "                Viscera weight  Shell weight     Rings    le_sex  \n",
              "Length                0.903018      0.897706  0.556720 -0.036066  \n",
              "Diameter              0.899724      0.905330  0.574660 -0.038874  \n",
              "Height                0.798319      0.817338  0.557467 -0.042077  \n",
              "Whole weight          0.966375      0.955355  0.540390 -0.021391  \n",
              "Shucked weight        0.931961      0.882617  0.420884 -0.001373  \n",
              "Viscera weight        1.000000      0.907656  0.503819 -0.032067  \n",
              "Shell weight          0.907656      1.000000  0.627574 -0.034854  \n",
              "Rings                 0.503819      0.627574  1.000000 -0.034627  \n",
              "le_sex               -0.032067     -0.034854 -0.034627  1.000000  "
            ],
            "text/html": [
              "\n",
              "  <div id=\"df-5a8b6580-ccd1-4a71-81c6-5150fd8d03c2\">\n",
              "    <div class=\"colab-df-container\">\n",
              "      <div>\n",
              "<style scoped>\n",
              "    .dataframe tbody tr th:only-of-type {\n",
              "        vertical-align: middle;\n",
              "    }\n",
              "\n",
              "    .dataframe tbody tr th {\n",
              "        vertical-align: top;\n",
              "    }\n",
              "\n",
              "    .dataframe thead th {\n",
              "        text-align: right;\n",
              "    }\n",
              "</style>\n",
              "<table border=\"1\" class=\"dataframe\">\n",
              "  <thead>\n",
              "    <tr style=\"text-align: right;\">\n",
              "      <th></th>\n",
              "      <th>Length</th>\n",
              "      <th>Diameter</th>\n",
              "      <th>Height</th>\n",
              "      <th>Whole weight</th>\n",
              "      <th>Shucked weight</th>\n",
              "      <th>Viscera weight</th>\n",
              "      <th>Shell weight</th>\n",
              "      <th>Rings</th>\n",
              "      <th>le_sex</th>\n",
              "    </tr>\n",
              "  </thead>\n",
              "  <tbody>\n",
              "    <tr>\n",
              "      <th>Length</th>\n",
              "      <td>1.000000</td>\n",
              "      <td>0.986812</td>\n",
              "      <td>0.827554</td>\n",
              "      <td>0.925261</td>\n",
              "      <td>0.897914</td>\n",
              "      <td>0.903018</td>\n",
              "      <td>0.897706</td>\n",
              "      <td>0.556720</td>\n",
              "      <td>-0.036066</td>\n",
              "    </tr>\n",
              "    <tr>\n",
              "      <th>Diameter</th>\n",
              "      <td>0.986812</td>\n",
              "      <td>1.000000</td>\n",
              "      <td>0.833684</td>\n",
              "      <td>0.925452</td>\n",
              "      <td>0.893162</td>\n",
              "      <td>0.899724</td>\n",
              "      <td>0.905330</td>\n",
              "      <td>0.574660</td>\n",
              "      <td>-0.038874</td>\n",
              "    </tr>\n",
              "    <tr>\n",
              "      <th>Height</th>\n",
              "      <td>0.827554</td>\n",
              "      <td>0.833684</td>\n",
              "      <td>1.000000</td>\n",
              "      <td>0.819221</td>\n",
              "      <td>0.774972</td>\n",
              "      <td>0.798319</td>\n",
              "      <td>0.817338</td>\n",
              "      <td>0.557467</td>\n",
              "      <td>-0.042077</td>\n",
              "    </tr>\n",
              "    <tr>\n",
              "      <th>Whole weight</th>\n",
              "      <td>0.925261</td>\n",
              "      <td>0.925452</td>\n",
              "      <td>0.819221</td>\n",
              "      <td>1.000000</td>\n",
              "      <td>0.969405</td>\n",
              "      <td>0.966375</td>\n",
              "      <td>0.955355</td>\n",
              "      <td>0.540390</td>\n",
              "      <td>-0.021391</td>\n",
              "    </tr>\n",
              "    <tr>\n",
              "      <th>Shucked weight</th>\n",
              "      <td>0.897914</td>\n",
              "      <td>0.893162</td>\n",
              "      <td>0.774972</td>\n",
              "      <td>0.969405</td>\n",
              "      <td>1.000000</td>\n",
              "      <td>0.931961</td>\n",
              "      <td>0.882617</td>\n",
              "      <td>0.420884</td>\n",
              "      <td>-0.001373</td>\n",
              "    </tr>\n",
              "    <tr>\n",
              "      <th>Viscera weight</th>\n",
              "      <td>0.903018</td>\n",
              "      <td>0.899724</td>\n",
              "      <td>0.798319</td>\n",
              "      <td>0.966375</td>\n",
              "      <td>0.931961</td>\n",
              "      <td>1.000000</td>\n",
              "      <td>0.907656</td>\n",
              "      <td>0.503819</td>\n",
              "      <td>-0.032067</td>\n",
              "    </tr>\n",
              "    <tr>\n",
              "      <th>Shell weight</th>\n",
              "      <td>0.897706</td>\n",
              "      <td>0.905330</td>\n",
              "      <td>0.817338</td>\n",
              "      <td>0.955355</td>\n",
              "      <td>0.882617</td>\n",
              "      <td>0.907656</td>\n",
              "      <td>1.000000</td>\n",
              "      <td>0.627574</td>\n",
              "      <td>-0.034854</td>\n",
              "    </tr>\n",
              "    <tr>\n",
              "      <th>Rings</th>\n",
              "      <td>0.556720</td>\n",
              "      <td>0.574660</td>\n",
              "      <td>0.557467</td>\n",
              "      <td>0.540390</td>\n",
              "      <td>0.420884</td>\n",
              "      <td>0.503819</td>\n",
              "      <td>0.627574</td>\n",
              "      <td>1.000000</td>\n",
              "      <td>-0.034627</td>\n",
              "    </tr>\n",
              "    <tr>\n",
              "      <th>le_sex</th>\n",
              "      <td>-0.036066</td>\n",
              "      <td>-0.038874</td>\n",
              "      <td>-0.042077</td>\n",
              "      <td>-0.021391</td>\n",
              "      <td>-0.001373</td>\n",
              "      <td>-0.032067</td>\n",
              "      <td>-0.034854</td>\n",
              "      <td>-0.034627</td>\n",
              "      <td>1.000000</td>\n",
              "    </tr>\n",
              "  </tbody>\n",
              "</table>\n",
              "</div>\n",
              "      <button class=\"colab-df-convert\" onclick=\"convertToInteractive('df-5a8b6580-ccd1-4a71-81c6-5150fd8d03c2')\"\n",
              "              title=\"Convert this dataframe to an interactive table.\"\n",
              "              style=\"display:none;\">\n",
              "        \n",
              "  <svg xmlns=\"http://www.w3.org/2000/svg\" height=\"24px\"viewBox=\"0 0 24 24\"\n",
              "       width=\"24px\">\n",
              "    <path d=\"M0 0h24v24H0V0z\" fill=\"none\"/>\n",
              "    <path d=\"M18.56 5.44l.94 2.06.94-2.06 2.06-.94-2.06-.94-.94-2.06-.94 2.06-2.06.94zm-11 1L8.5 8.5l.94-2.06 2.06-.94-2.06-.94L8.5 2.5l-.94 2.06-2.06.94zm10 10l.94 2.06.94-2.06 2.06-.94-2.06-.94-.94-2.06-.94 2.06-2.06.94z\"/><path d=\"M17.41 7.96l-1.37-1.37c-.4-.4-.92-.59-1.43-.59-.52 0-1.04.2-1.43.59L10.3 9.45l-7.72 7.72c-.78.78-.78 2.05 0 2.83L4 21.41c.39.39.9.59 1.41.59.51 0 1.02-.2 1.41-.59l7.78-7.78 2.81-2.81c.8-.78.8-2.07 0-2.86zM5.41 20L4 18.59l7.72-7.72 1.47 1.35L5.41 20z\"/>\n",
              "  </svg>\n",
              "      </button>\n",
              "      \n",
              "  <style>\n",
              "    .colab-df-container {\n",
              "      display:flex;\n",
              "      flex-wrap:wrap;\n",
              "      gap: 12px;\n",
              "    }\n",
              "\n",
              "    .colab-df-convert {\n",
              "      background-color: #E8F0FE;\n",
              "      border: none;\n",
              "      border-radius: 50%;\n",
              "      cursor: pointer;\n",
              "      display: none;\n",
              "      fill: #1967D2;\n",
              "      height: 32px;\n",
              "      padding: 0 0 0 0;\n",
              "      width: 32px;\n",
              "    }\n",
              "\n",
              "    .colab-df-convert:hover {\n",
              "      background-color: #E2EBFA;\n",
              "      box-shadow: 0px 1px 2px rgba(60, 64, 67, 0.3), 0px 1px 3px 1px rgba(60, 64, 67, 0.15);\n",
              "      fill: #174EA6;\n",
              "    }\n",
              "\n",
              "    [theme=dark] .colab-df-convert {\n",
              "      background-color: #3B4455;\n",
              "      fill: #D2E3FC;\n",
              "    }\n",
              "\n",
              "    [theme=dark] .colab-df-convert:hover {\n",
              "      background-color: #434B5C;\n",
              "      box-shadow: 0px 1px 3px 1px rgba(0, 0, 0, 0.15);\n",
              "      filter: drop-shadow(0px 1px 2px rgba(0, 0, 0, 0.3));\n",
              "      fill: #FFFFFF;\n",
              "    }\n",
              "  </style>\n",
              "\n",
              "      <script>\n",
              "        const buttonEl =\n",
              "          document.querySelector('#df-5a8b6580-ccd1-4a71-81c6-5150fd8d03c2 button.colab-df-convert');\n",
              "        buttonEl.style.display =\n",
              "          google.colab.kernel.accessAllowed ? 'block' : 'none';\n",
              "\n",
              "        async function convertToInteractive(key) {\n",
              "          const element = document.querySelector('#df-5a8b6580-ccd1-4a71-81c6-5150fd8d03c2');\n",
              "          const dataTable =\n",
              "            await google.colab.kernel.invokeFunction('convertToInteractive',\n",
              "                                                     [key], {});\n",
              "          if (!dataTable) return;\n",
              "\n",
              "          const docLinkHtml = 'Like what you see? Visit the ' +\n",
              "            '<a target=\"_blank\" href=https://colab.research.google.com/notebooks/data_table.ipynb>data table notebook</a>'\n",
              "            + ' to learn more about interactive tables.';\n",
              "          element.innerHTML = '';\n",
              "          dataTable['output_type'] = 'display_data';\n",
              "          await google.colab.output.renderOutput(dataTable, element);\n",
              "          const docLink = document.createElement('div');\n",
              "          docLink.innerHTML = docLinkHtml;\n",
              "          element.appendChild(docLink);\n",
              "        }\n",
              "      </script>\n",
              "    </div>\n",
              "  </div>\n",
              "  "
            ]
          },
          "metadata": {},
          "execution_count": 26
        }
      ],
      "source": [
        "df.corr()"
      ]
    },
    {
      "cell_type": "code",
      "execution_count": 27,
      "id": "39af5c54",
      "metadata": {
        "id": "39af5c54",
        "outputId": "4755635d-9367-4edd-99ab-3c4c8edea756",
        "colab": {
          "base_uri": "https://localhost:8080/",
          "height": 0
        }
      },
      "outputs": [
        {
          "output_type": "execute_result",
          "data": {
            "text/plain": [
              "<matplotlib.axes._subplots.AxesSubplot at 0x7f2cf6b14410>"
            ]
          },
          "metadata": {},
          "execution_count": 27
        },
        {
          "output_type": "display_data",
          "data": {
            "text/plain": [
              "<Figure size 1584x504 with 1 Axes>"
            ],
            "image/png": "[encoded data removed]"
          },
          "metadata": {
            "needs_background": "light"
          }
        }
      ],
      "source": [
        "plt.figure(figsize=(22,7))\n",
        "df.corr()['Rings'].sort_values(ascending=True).plot(kind='bar')"
      ]
    },
    {
      "cell_type": "markdown",
      "id": "fe01400e",
      "metadata": {
        "id": "fe01400e"
      },
      "source": [
        " "
      ]
    },
    {
      "cell_type": "markdown",
      "id": "a2adc37e",
      "metadata": {
        "id": "a2adc37e"
      },
      "source": [
        " "
      ]
    },
    {
      "cell_type": "markdown",
      "id": "e67b0165",
      "metadata": {
        "id": "e67b0165"
      },
      "source": [
        "## Checking Skewness"
      ]
    },
    {
      "cell_type": "code",
      "execution_count": 28,
      "id": "b6d68128",
      "metadata": {
        "id": "b6d68128",
        "outputId": "6e32bdc5-1fc4-4e6f-d169-1f65323f10fe",
        "colab": {
          "base_uri": "https://localhost:8080/"
        }
      },
      "outputs": [
        {
          "output_type": "execute_result",
          "data": {
            "text/plain": [
              "Length           -0.639873\n",
              "Diameter         -0.609198\n",
              "Height            3.128817\n",
              "Whole weight      0.530959\n",
              "Shucked weight    0.719098\n",
              "Viscera weight    0.591852\n",
              "Shell weight      0.620927\n",
              "Rings             1.114102\n",
              "le_sex           -0.098155\n",
              "dtype: float64"
            ]
          },
          "metadata": {},
          "execution_count": 28
        }
      ],
      "source": [
        "df.skew()"
      ]
    },
    {
      "cell_type": "markdown",
      "id": "ca631436",
      "metadata": {
        "id": "ca631436"
      },
      "source": [
        "Outcome of skewness: skewness threshold taken is +/- 0.5</br>\n",
        "columns with skewness:</br>\n",
        "**Height</br>\n",
        "Shucked weight</br>**"
      ]
    },
    {
      "cell_type": "markdown",
      "id": "0fd97c05",
      "metadata": {
        "id": "0fd97c05"
      },
      "source": [
        " "
      ]
    },
    {
      "cell_type": "markdown",
      "id": "bf355e9d",
      "metadata": {
        "id": "bf355e9d"
      },
      "source": [
        " "
      ]
    },
    {
      "cell_type": "markdown",
      "id": "879c5147",
      "metadata": {
        "id": "879c5147"
      },
      "source": [
        "### Checking Outliers"
      ]
    },
    {
      "cell_type": "code",
      "execution_count": 29,
      "id": "19d6a766",
      "metadata": {
        "id": "19d6a766",
        "outputId": "5d5f057e-b5c7-4e78-9b23-fce3e249887b",
        "colab": {
          "base_uri": "https://localhost:8080/",
          "height": 0
        }
      },
      "outputs": [
        {
          "output_type": "execute_result",
          "data": {
            "text/plain": [
              "<matplotlib.axes._subplots.AxesSubplot at 0x7f2cf506c390>"
            ]
          },
          "metadata": {},
          "execution_count": 29
        },
        {
          "output_type": "display_data",
          "data": {
            "text/plain": [
              "<Figure size 1008x36 with 1 Axes>"
            ],
            "image/png": "[encoded data removed]"
          },
          "metadata": {
            "needs_background": "light"
          }
        },
        {
          "output_type": "display_data",
          "data": {
            "text/plain": [
              "<Figure size 1008x36 with 1 Axes>"
            ],
            "image/png": "[encoded data removed]"
          },
          "metadata": {
            "needs_background": "light"
          }
        },
        {
          "output_type": "display_data",
          "data": {
            "text/plain": [
              "<Figure size 1008x36 with 1 Axes>"
            ],
            "image/png": "[encoded data removed]"
          },
          "metadata": {
            "needs_background": "light"
          }
        },
        {
          "output_type": "display_data",
          "data": {
            "text/plain": [
              "<Figure size 1008x36 with 1 Axes>"
            ],
            "image/png": "[encoded data removed]"
          },
          "metadata": {
            "needs_background": "light"
          }
        },
        {
          "output_type": "display_data",
          "data": {
            "text/plain": [
              "<Figure size 1008x36 with 1 Axes>"
            ],
            "image/png": "[encoded data removed]"
          },
          "metadata": {
            "needs_background": "light"
          }
        },
        {
          "output_type": "display_data",
          "data": {
            "text/plain": [
              "<Figure size 1008x36 with 1 Axes>"
            ],
            "image/png": "[encoded data removed]"
          },
          "metadata": {
            "needs_background": "light"
          }
        }
      ],
      "source": [
        "plt.figure(figsize=(14,0.5))\n",
        "sns.boxplot(df['Height'])\n",
        "\n",
        "plt.figure(figsize=(14,0.5))\n",
        "sns.boxplot(df['Shucked weight'])\n",
        "\n",
        "plt.figure(figsize=(14,0.5))\n",
        "sns.boxplot(df['Shell weight'])\n",
        "\n",
        "plt.figure(figsize=(14,0.5))\n",
        "sns.boxplot(df['Viscera weight'])\n",
        "\n",
        "plt.figure(figsize=(14,0.5))\n",
        "sns.boxplot(df['Whole weight'])\n",
        "\n",
        "plt.figure(figsize=(14,0.5))\n",
        "sns.boxplot(df['Diameter'])"
      ]
    },
    {
      "cell_type": "markdown",
      "id": "69406080",
      "metadata": {
        "id": "69406080"
      },
      "source": [
        "## Removing Outliers"
      ]
    },
    {
      "cell_type": "markdown",
      "id": "d3abef81",
      "metadata": {
        "id": "d3abef81"
      },
      "source": [
        "Z-score Techniques"
      ]
    },
    {
      "cell_type": "code",
      "execution_count": 30,
      "id": "ba79e614",
      "metadata": {
        "id": "ba79e614"
      },
      "outputs": [],
      "source": [
        "df = df.drop(['Sex'],axis=1)"
      ]
    },
    {
      "cell_type": "code",
      "execution_count": 31,
      "id": "5101b31e",
      "metadata": {
        "id": "5101b31e",
        "outputId": "ea2bd1b5-63c0-4895-8af3-4f2050ec8fa7",
        "colab": {
          "base_uri": "https://localhost:8080/"
        }
      },
      "outputs": [
        {
          "output_type": "execute_result",
          "data": {
            "text/plain": [
              "(4177, 9)"
            ]
          },
          "metadata": {},
          "execution_count": 31
        }
      ],
      "source": [
        "from scipy.stats import zscore\n",
        "import numpy as np\n",
        "\n",
        "z = np.abs(zscore(df))\n",
        "z.shape"
      ]
    },
    {
      "cell_type": "code",
      "execution_count": 32,
      "id": "551e5f89",
      "metadata": {
        "id": "551e5f89",
        "outputId": "72aaa6fb-194a-4bd5-87fb-f8fbec886d2f",
        "colab": {
          "base_uri": "https://localhost:8080/"
        }
      },
      "outputs": [
        {
          "output_type": "stream",
          "name": "stdout",
          "text": [
            "(array([   6,   72,   81,   83,  129,  163,  164,  165,  165,  165,  166,\n",
            "        166,  167,  168,  170,  181,  232,  236,  236,  236,  237,  237,\n",
            "        238,  238,  239,  270,  275,  277,  278,  294,  310,  313,  314,\n",
            "        334,  351,  355,  358,  358,  362,  375,  416,  417,  428,  431,\n",
            "        433,  469,  478,  480,  501,  526,  526,  530,  572,  628,  673,\n",
            "        674,  675,  678,  694,  696,  696,  719,  719,  720,  720,  744,\n",
            "        754,  756,  811,  891,  891,  891, 1048, 1051, 1051, 1052, 1193,\n",
            "       1197, 1199, 1202, 1204, 1206, 1206, 1207, 1207, 1207, 1207, 1209,\n",
            "       1209, 1257, 1417, 1417, 1418, 1422, 1426, 1427, 1427, 1427, 1428,\n",
            "       1429, 1429, 1528, 1754, 1756, 1757, 1759, 1761, 1762, 1762, 1762,\n",
            "       1763, 1763, 1763, 1821, 1982, 1986, 1987, 1987, 2051, 2090, 2108,\n",
            "       2108, 2114, 2114, 2157, 2161, 2176, 2180, 2199, 2201, 2208, 2209,\n",
            "       2274, 2275, 2305, 2334, 2334, 2334, 2335, 2344, 2358, 2368, 2381,\n",
            "       2436, 2459, 2471, 2544, 2623, 2624, 2624, 2624, 2625, 2709, 2710,\n",
            "       2710, 2810, 2810, 2811, 2811, 2811, 2862, 2863, 2863, 2863, 3007,\n",
            "       3008, 3140, 3148, 3149, 3149, 3151, 3151, 3188, 3193, 3280, 3359,\n",
            "       3427, 3427, 3427, 3599, 3599, 3628, 3713, 3715, 3715, 3715, 3715,\n",
            "       3800, 3837, 3899, 3899, 3902, 3924, 3930, 3944, 3961, 3962, 3996,\n",
            "       4145, 4148]), array([7, 7, 6, 7, 6, 6, 6, 3, 4, 6, 6, 7, 7, 6, 5, 7, 7, 0, 1, 2, 0, 1,\n",
            "       0, 1, 0, 7, 7, 6, 7, 7, 7, 7, 7, 6, 7, 7, 3, 6, 7, 7, 7, 7, 7, 7,\n",
            "       7, 7, 7, 7, 7, 0, 1, 7, 7, 7, 7, 7, 7, 7, 1, 0, 1, 0, 1, 0, 1, 7,\n",
            "       7, 7, 7, 3, 4, 6, 5, 3, 4, 3, 4, 4, 4, 4, 5, 4, 5, 3, 4, 5, 6, 3,\n",
            "       4, 2, 2, 4, 4, 5, 4, 3, 4, 5, 6, 0, 1, 4, 4, 4, 5, 5, 4, 3, 4, 5,\n",
            "       3, 4, 5, 4, 4, 0, 0, 1, 2, 6, 6, 7, 0, 1, 6, 6, 7, 7, 7, 7, 6, 7,\n",
            "       6, 7, 7, 3, 5, 7, 7, 7, 7, 6, 0, 7, 7, 7, 4, 3, 3, 4, 5, 4, 5, 4,\n",
            "       5, 4, 5, 3, 4, 5, 4, 3, 4, 5, 4, 6, 7, 6, 6, 7, 6, 7, 6, 7, 7, 7,\n",
            "       3, 4, 5, 3, 4, 5, 4, 3, 4, 5, 6, 3, 1, 0, 1, 0, 7, 7, 7, 4, 4, 2,\n",
            "       6, 5]))\n"
          ]
        }
      ],
      "source": [
        "threshold = 3\n",
        "print(np.where(z>3))"
      ]
    },
    {
      "cell_type": "code",
      "execution_count": 33,
      "id": "57c10262",
      "metadata": {
        "id": "57c10262"
      },
      "outputs": [],
      "source": [
        "df_new = df[(z<3).all(axis=1)]"
      ]
    },
    {
      "cell_type": "code",
      "execution_count": 34,
      "id": "2cd9f5b0",
      "metadata": {
        "id": "2cd9f5b0",
        "outputId": "26b46046-d6fe-4ba1-90bf-586a41d27e60",
        "colab": {
          "base_uri": "https://localhost:8080/"
        }
      },
      "outputs": [
        {
          "output_type": "execute_result",
          "data": {
            "text/plain": [
              "(4027, 9)"
            ]
          },
          "metadata": {},
          "execution_count": 34
        }
      ],
      "source": [
        "df_new.shape"
      ]
    },
    {
      "cell_type": "code",
      "execution_count": 35,
      "id": "73f1c025",
      "metadata": {
        "id": "73f1c025",
        "outputId": "c69a78de-054f-4237-95d7-25e6f8132ef3",
        "colab": {
          "base_uri": "https://localhost:8080/"
        }
      },
      "outputs": [
        {
          "output_type": "execute_result",
          "data": {
            "text/plain": [
              "(4177, 9)"
            ]
          },
          "metadata": {},
          "execution_count": 35
        }
      ],
      "source": [
        "z.shape"
      ]
    },
    {
      "cell_type": "markdown",
      "id": "a0b55fff",
      "metadata": {
        "id": "a0b55fff"
      },
      "source": [
        " "
      ]
    },
    {
      "cell_type": "markdown",
      "id": "b20e165b",
      "metadata": {
        "id": "b20e165b"
      },
      "source": [
        " "
      ]
    },
    {
      "cell_type": "markdown",
      "id": "404100db",
      "metadata": {
        "id": "404100db"
      },
      "source": [
        " "
      ]
    },
    {
      "cell_type": "markdown",
      "id": "a31e4b6a",
      "metadata": {
        "id": "a31e4b6a"
      },
      "source": [
        "## Percentage of data loss"
      ]
    },
    {
      "cell_type": "code",
      "execution_count": 36,
      "id": "164be432",
      "metadata": {
        "id": "164be432",
        "outputId": "b26c3d39-f33b-437b-dc83-a848f0a08650",
        "colab": {
          "base_uri": "https://localhost:8080/"
        }
      },
      "outputs": [
        {
          "output_type": "execute_result",
          "data": {
            "text/plain": [
              "3.5910940866650707"
            ]
          },
          "metadata": {},
          "execution_count": 36
        }
      ],
      "source": [
        "(4177-4027)/4177*100"
      ]
    },
    {
      "cell_type": "code",
      "execution_count": 37,
      "id": "fdbb53c2",
      "metadata": {
        "id": "fdbb53c2"
      },
      "outputs": [],
      "source": [
        "df_new['rings'] = df_new.Rings"
      ]
    },
    {
      "cell_type": "code",
      "execution_count": 38,
      "id": "a13a7375",
      "metadata": {
        "id": "a13a7375"
      },
      "outputs": [],
      "source": [
        "df_new = df_new.drop(['Rings'],axis=1)"
      ]
    },
    {
      "cell_type": "code",
      "execution_count": 39,
      "id": "caef89eb",
      "metadata": {
        "id": "caef89eb",
        "outputId": "b64fc569-23a6-499d-9b79-496f13a2b2ab",
        "colab": {
          "base_uri": "https://localhost:8080/"
        }
      },
      "outputs": [
        {
          "output_type": "execute_result",
          "data": {
            "text/plain": [
              "(4027, 8)"
            ]
          },
          "metadata": {},
          "execution_count": 39
        }
      ],
      "source": [
        "x = df_new.iloc[:,:-1]\n",
        "y = df_new.iloc[:,-1]\n",
        "x.shape"
      ]
    },
    {
      "cell_type": "code",
      "execution_count": 40,
      "id": "bbd7bbe1",
      "metadata": {
        "id": "bbd7bbe1",
        "outputId": "f7faf3c7-f9f9-4468-b5df-fd3995b12e55",
        "colab": {
          "base_uri": "https://localhost:8080/"
        }
      },
      "outputs": [
        {
          "output_type": "execute_result",
          "data": {
            "text/plain": [
              "(4027,)"
            ]
          },
          "metadata": {},
          "execution_count": 40
        }
      ],
      "source": [
        "y.shape"
      ]
    },
    {
      "cell_type": "code",
      "execution_count": 41,
      "id": "7f0899b7",
      "metadata": {
        "id": "7f0899b7"
      },
      "outputs": [],
      "source": [
        "from sklearn.model_selection import train_test_split\n",
        "from sklearn.linear_model import LinearRegression"
      ]
    },
    {
      "cell_type": "code",
      "execution_count": 42,
      "id": "a1fea9db",
      "metadata": {
        "id": "a1fea9db"
      },
      "outputs": [],
      "source": [
        "lr = LinearRegression()"
      ]
    },
    {
      "cell_type": "code",
      "execution_count": 43,
      "id": "0f69bc96",
      "metadata": {
        "id": "0f69bc96"
      },
      "outputs": [],
      "source": [
        "x_train, x_test, y_train, y_test = train_test_split(x, y, test_size=0.15, random_state=40)"
      ]
    },
    {
      "cell_type": "code",
      "execution_count": 44,
      "id": "d0bfa4a4",
      "metadata": {
        "id": "d0bfa4a4",
        "outputId": "d201f7be-ef47-4d7e-9a00-a7cdc0752c3d",
        "colab": {
          "base_uri": "https://localhost:8080/"
        }
      },
      "outputs": [
        {
          "output_type": "execute_result",
          "data": {
            "text/plain": [
              "LinearRegression()"
            ]
          },
          "metadata": {},
          "execution_count": 44
        }
      ],
      "source": [
        "lr.fit(x_train, y_train)"
      ]
    },
    {
      "cell_type": "code",
      "execution_count": 45,
      "id": "6c337a78",
      "metadata": {
        "id": "6c337a78",
        "outputId": "2afcfffa-d626-4e0e-cd5b-9bd60b631b99",
        "colab": {
          "base_uri": "https://localhost:8080/"
        }
      },
      "outputs": [
        {
          "output_type": "execute_result",
          "data": {
            "text/plain": [
              "0.5045845454367894"
            ]
          },
          "metadata": {},
          "execution_count": 45
        }
      ],
      "source": [
        "lr.score(x_train, y_train)"
      ]
    },
    {
      "cell_type": "code",
      "execution_count": 46,
      "id": "e152d6ff",
      "metadata": {
        "id": "e152d6ff"
      },
      "outputs": [],
      "source": [
        "pred_LR = lr.predict(x_test)"
      ]
    },
    {
      "cell_type": "code",
      "execution_count": 47,
      "id": "dae8ebfb",
      "metadata": {
        "id": "dae8ebfb",
        "outputId": "fb48f676-a032-4f0d-de86-aebf691f0adb",
        "colab": {
          "base_uri": "https://localhost:8080/",
          "height": 0
        }
      },
      "outputs": [
        {
          "output_type": "execute_result",
          "data": {
            "text/plain": [
              "Text(0, 0.5, 'Predicted Data')"
            ]
          },
          "metadata": {},
          "execution_count": 47
        },
        {
          "output_type": "display_data",
          "data": {
            "text/plain": [
              "<Figure size 432x288 with 1 Axes>"
            ],
            "image/png": "[encoded data removed]"
          },
          "metadata": {
            "needs_background": "light"
          }
        }
      ],
      "source": [
        "sns.stripplot(x = y_test, y = pred_LR)\n",
        "plt.xlabel('Actual Data')\n",
        "plt.ylabel('Predicted Data')"
      ]
    },
    {
      "cell_type": "code",
      "execution_count": 48,
      "id": "1cd49e38",
      "metadata": {
        "id": "1cd49e38",
        "outputId": "86726f1d-08a2-460c-b9a2-b7a6c48f04bc",
        "colab": {
          "base_uri": "https://localhost:8080/",
          "height": 0
        }
      },
      "outputs": [
        {
          "output_type": "execute_result",
          "data": {
            "text/plain": [
              "<matplotlib.axes._subplots.AxesSubplot at 0x7f2cf4f4b090>"
            ]
          },
          "metadata": {},
          "execution_count": 48
        },
        {
          "output_type": "display_data",
          "data": {
            "text/plain": [
              "<Figure size 432x288 with 1 Axes>"
            ],
            "image/png": "[encoded data removed]"
          },
          "metadata": {
            "needs_background": "light"
          }
        }
      ],
      "source": [
        "sns.distplot(pred_LR)"
      ]
    },
    {
      "cell_type": "code",
      "execution_count": 49,
      "id": "5c94c8c9",
      "metadata": {
        "id": "5c94c8c9",
        "outputId": "c4dca074-3ec8-4a72-c281-56eefb9e801d",
        "colab": {
          "base_uri": "https://localhost:8080/",
          "height": 0
        }
      },
      "outputs": [
        {
          "output_type": "execute_result",
          "data": {
            "text/plain": [
              "             0\n",
              "0     8.650967\n",
              "1    11.710284\n",
              "2    12.795407\n",
              "3     9.647762\n",
              "4    10.770676\n",
              "..         ...\n",
              "600  11.292815\n",
              "601   9.153401\n",
              "602  11.852824\n",
              "603  10.078755\n",
              "604   7.443711\n",
              "\n",
              "[605 rows x 1 columns]"
            ],
            "text/html": [
              "\n",
              "  <div id=\"df-d6149275-b2e0-4f3e-9149-103b99f28468\">\n",
              "    <div class=\"colab-df-container\">\n",
              "      <div>\n",
              "<style scoped>\n",
              "    .dataframe tbody tr th:only-of-type {\n",
              "        vertical-align: middle;\n",
              "    }\n",
              "\n",
              "    .dataframe tbody tr th {\n",
              "        vertical-align: top;\n",
              "    }\n",
              "\n",
              "    .dataframe thead th {\n",
              "        text-align: right;\n",
              "    }\n",
              "</style>\n",
              "<table border=\"1\" class=\"dataframe\">\n",
              "  <thead>\n",
              "    <tr style=\"text-align: right;\">\n",
              "      <th></th>\n",
              "      <th>0</th>\n",
              "    </tr>\n",
              "  </thead>\n",
              "  <tbody>\n",
              "    <tr>\n",
              "      <th>0</th>\n",
              "      <td>8.650967</td>\n",
              "    </tr>\n",
              "    <tr>\n",
              "      <th>1</th>\n",
              "      <td>11.710284</td>\n",
              "    </tr>\n",
              "    <tr>\n",
              "      <th>2</th>\n",
              "      <td>12.795407</td>\n",
              "    </tr>\n",
              "    <tr>\n",
              "      <th>3</th>\n",
              "      <td>9.647762</td>\n",
              "    </tr>\n",
              "    <tr>\n",
              "      <th>4</th>\n",
              "      <td>10.770676</td>\n",
              "    </tr>\n",
              "    <tr>\n",
              "      <th>...</th>\n",
              "      <td>...</td>\n",
              "    </tr>\n",
              "    <tr>\n",
              "      <th>600</th>\n",
              "      <td>11.292815</td>\n",
              "    </tr>\n",
              "    <tr>\n",
              "      <th>601</th>\n",
              "      <td>9.153401</td>\n",
              "    </tr>\n",
              "    <tr>\n",
              "      <th>602</th>\n",
              "      <td>11.852824</td>\n",
              "    </tr>\n",
              "    <tr>\n",
              "      <th>603</th>\n",
              "      <td>10.078755</td>\n",
              "    </tr>\n",
              "    <tr>\n",
              "      <th>604</th>\n",
              "      <td>7.443711</td>\n",
              "    </tr>\n",
              "  </tbody>\n",
              "</table>\n",
              "<p>605 rows × 1 columns</p>\n",
              "</div>\n",
              "      <button class=\"colab-df-convert\" onclick=\"convertToInteractive('df-d6149275-b2e0-4f3e-9149-103b99f28468')\"\n",
              "              title=\"Convert this dataframe to an interactive table.\"\n",
              "              style=\"display:none;\">\n",
              "        \n",
              "  <svg xmlns=\"http://www.w3.org/2000/svg\" height=\"24px\"viewBox=\"0 0 24 24\"\n",
              "       width=\"24px\">\n",
              "    <path d=\"M0 0h24v24H0V0z\" fill=\"none\"/>\n",
              "    <path d=\"M18.56 5.44l.94 2.06.94-2.06 2.06-.94-2.06-.94-.94-2.06-.94 2.06-2.06.94zm-11 1L8.5 8.5l.94-2.06 2.06-.94-2.06-.94L8.5 2.5l-.94 2.06-2.06.94zm10 10l.94 2.06.94-2.06 2.06-.94-2.06-.94-.94-2.06-.94 2.06-2.06.94z\"/><path d=\"M17.41 7.96l-1.37-1.37c-.4-.4-.92-.59-1.43-.59-.52 0-1.04.2-1.43.59L10.3 9.45l-7.72 7.72c-.78.78-.78 2.05 0 2.83L4 21.41c.39.39.9.59 1.41.59.51 0 1.02-.2 1.41-.59l7.78-7.78 2.81-2.81c.8-.78.8-2.07 0-2.86zM5.41 20L4 18.59l7.72-7.72 1.47 1.35L5.41 20z\"/>\n",
              "  </svg>\n",
              "      </button>\n",
              "      \n",
              "  <style>\n",
              "    .colab-df-container {\n",
              "      display:flex;\n",
              "      flex-wrap:wrap;\n",
              "      gap: 12px;\n",
              "    }\n",
              "\n",
              "    .colab-df-convert {\n",
              "      background-color: #E8F0FE;\n",
              "      border: none;\n",
              "      border-radius: 50%;\n",
              "      cursor: pointer;\n",
              "      display: none;\n",
              "      fill: #1967D2;\n",
              "      height: 32px;\n",
              "      padding: 0 0 0 0;\n",
              "      width: 32px;\n",
              "    }\n",
              "\n",
              "    .colab-df-convert:hover {\n",
              "      background-color: #E2EBFA;\n",
              "      box-shadow: 0px 1px 2px rgba(60, 64, 67, 0.3), 0px 1px 3px 1px rgba(60, 64, 67, 0.15);\n",
              "      fill: #174EA6;\n",
              "    }\n",
              "\n",
              "    [theme=dark] .colab-df-convert {\n",
              "      background-color: #3B4455;\n",
              "      fill: #D2E3FC;\n",
              "    }\n",
              "\n",
              "    [theme=dark] .colab-df-convert:hover {\n",
              "      background-color: #434B5C;\n",
              "      box-shadow: 0px 1px 3px 1px rgba(0, 0, 0, 0.15);\n",
              "      filter: drop-shadow(0px 1px 2px rgba(0, 0, 0, 0.3));\n",
              "      fill: #FFFFFF;\n",
              "    }\n",
              "  </style>\n",
              "\n",
              "      <script>\n",
              "        const buttonEl =\n",
              "          document.querySelector('#df-d6149275-b2e0-4f3e-9149-103b99f28468 button.colab-df-convert');\n",
              "        buttonEl.style.display =\n",
              "          google.colab.kernel.accessAllowed ? 'block' : 'none';\n",
              "\n",
              "        async function convertToInteractive(key) {\n",
              "          const element = document.querySelector('#df-d6149275-b2e0-4f3e-9149-103b99f28468');\n",
              "          const dataTable =\n",
              "            await google.colab.kernel.invokeFunction('convertToInteractive',\n",
              "                                                     [key], {});\n",
              "          if (!dataTable) return;\n",
              "\n",
              "          const docLinkHtml = 'Like what you see? Visit the ' +\n",
              "            '<a target=\"_blank\" href=https://colab.research.google.com/notebooks/data_table.ipynb>data table notebook</a>'\n",
              "            + ' to learn more about interactive tables.';\n",
              "          element.innerHTML = '';\n",
              "          dataTable['output_type'] = 'display_data';\n",
              "          await google.colab.output.renderOutput(dataTable, element);\n",
              "          const docLink = document.createElement('div');\n",
              "          docLink.innerHTML = docLinkHtml;\n",
              "          element.appendChild(docLink);\n",
              "        }\n",
              "      </script>\n",
              "    </div>\n",
              "  </div>\n",
              "  "
            ]
          },
          "metadata": {},
          "execution_count": 49
        }
      ],
      "source": [
        "pd.DataFrame(pred_LR)"
      ]
    },
    {
      "cell_type": "markdown",
      "id": "4916e4bd",
      "metadata": {
        "id": "4916e4bd"
      },
      "source": [
        " "
      ]
    },
    {
      "cell_type": "markdown",
      "id": "7b4d3106",
      "metadata": {
        "id": "7b4d3106"
      },
      "source": [
        " "
      ]
    },
    {
      "cell_type": "markdown",
      "id": "9865b92b",
      "metadata": {
        "id": "9865b92b"
      },
      "source": [
        " "
      ]
    },
    {
      "cell_type": "markdown",
      "id": "a33659ff",
      "metadata": {
        "id": "a33659ff"
      },
      "source": [
        "## Transforming data to remove skewness"
      ]
    },
    {
      "cell_type": "code",
      "execution_count": 50,
      "id": "fe4bf561",
      "metadata": {
        "id": "fe4bf561",
        "outputId": "472b8697-7702-43eb-d677-ba1c62a89b3f",
        "colab": {
          "base_uri": "https://localhost:8080/",
          "height": 424
        }
      },
      "outputs": [
        {
          "output_type": "execute_result",
          "data": {
            "text/plain": [
              "        Length  Diameter    Height  Whole weight  Shucked weight  \\\n",
              "0    -0.684451 -0.543379 -1.158933     -0.575135       -0.540865   \n",
              "1    -1.411739 -1.401132 -1.280406     -1.354050       -1.311318   \n",
              "2    -0.046219  0.037163 -0.128305     -0.184498       -0.362705   \n",
              "3    -0.799651 -0.543379 -0.395963     -0.570150       -0.592261   \n",
              "4    -1.530577 -1.474343 -1.518600     -1.414577       -1.378735   \n",
              "...        ...       ...       ...           ...             ...   \n",
              "4022  0.289495  0.390420  0.716250      0.277874        0.217107   \n",
              "4023  0.545081  0.269661 -0.128305      0.441584        0.534924   \n",
              "4024  0.651129  0.705921  1.943633      0.853434        0.901897   \n",
              "4025  0.926064  0.837713  0.286070      0.697385        0.924153   \n",
              "4026  1.971940  1.855505  1.625584      2.145775        2.314466   \n",
              "\n",
              "      Viscera weight  Shell weight    le_sex  \n",
              "0          -0.688032     -0.586354  1.134329  \n",
              "1          -1.332854     -1.332717  1.134329  \n",
              "2          -0.240373     -0.080214 -1.313068  \n",
              "3          -0.539936     -0.542533  1.134329  \n",
              "4          -1.451548     -1.482926 -0.008746  \n",
              "...              ...           ...       ...  \n",
              "4022        0.690782      0.227258 -1.313068  \n",
              "4023        0.474179      0.314936  1.134329  \n",
              "4024        1.089651      0.663632  1.134329  \n",
              "4025        0.876428      0.577520 -1.313068  \n",
              "4026        1.732146      1.856755  1.134329  \n",
              "\n",
              "[4027 rows x 8 columns]"
            ],
            "text/html": [
              "\n",
              "  <div id=\"df-f30d6bfb-905b-4580-bb7f-be155d53d8e9\">\n",
              "    <div class=\"colab-df-container\">\n",
              "      <div>\n",
              "<style scoped>\n",
              "    .dataframe tbody tr th:only-of-type {\n",
              "        vertical-align: middle;\n",
              "    }\n",
              "\n",
              "    .dataframe tbody tr th {\n",
              "        vertical-align: top;\n",
              "    }\n",
              "\n",
              "    .dataframe thead th {\n",
              "        text-align: right;\n",
              "    }\n",
              "</style>\n",
              "<table border=\"1\" class=\"dataframe\">\n",
              "  <thead>\n",
              "    <tr style=\"text-align: right;\">\n",
              "      <th></th>\n",
              "      <th>Length</th>\n",
              "      <th>Diameter</th>\n",
              "      <th>Height</th>\n",
              "      <th>Whole weight</th>\n",
              "      <th>Shucked weight</th>\n",
              "      <th>Viscera weight</th>\n",
              "      <th>Shell weight</th>\n",
              "      <th>le_sex</th>\n",
              "    </tr>\n",
              "  </thead>\n",
              "  <tbody>\n",
              "    <tr>\n",
              "      <th>0</th>\n",
              "      <td>-0.684451</td>\n",
              "      <td>-0.543379</td>\n",
              "      <td>-1.158933</td>\n",
              "      <td>-0.575135</td>\n",
              "      <td>-0.540865</td>\n",
              "      <td>-0.688032</td>\n",
              "      <td>-0.586354</td>\n",
              "      <td>1.134329</td>\n",
              "    </tr>\n",
              "    <tr>\n",
              "      <th>1</th>\n",
              "      <td>-1.411739</td>\n",
              "      <td>-1.401132</td>\n",
              "      <td>-1.280406</td>\n",
              "      <td>-1.354050</td>\n",
              "      <td>-1.311318</td>\n",
              "      <td>-1.332854</td>\n",
              "      <td>-1.332717</td>\n",
              "      <td>1.134329</td>\n",
              "    </tr>\n",
              "    <tr>\n",
              "      <th>2</th>\n",
              "      <td>-0.046219</td>\n",
              "      <td>0.037163</td>\n",
              "      <td>-0.128305</td>\n",
              "      <td>-0.184498</td>\n",
              "      <td>-0.362705</td>\n",
              "      <td>-0.240373</td>\n",
              "      <td>-0.080214</td>\n",
              "      <td>-1.313068</td>\n",
              "    </tr>\n",
              "    <tr>\n",
              "      <th>3</th>\n",
              "      <td>-0.799651</td>\n",
              "      <td>-0.543379</td>\n",
              "      <td>-0.395963</td>\n",
              "      <td>-0.570150</td>\n",
              "      <td>-0.592261</td>\n",
              "      <td>-0.539936</td>\n",
              "      <td>-0.542533</td>\n",
              "      <td>1.134329</td>\n",
              "    </tr>\n",
              "    <tr>\n",
              "      <th>4</th>\n",
              "      <td>-1.530577</td>\n",
              "      <td>-1.474343</td>\n",
              "      <td>-1.518600</td>\n",
              "      <td>-1.414577</td>\n",
              "      <td>-1.378735</td>\n",
              "      <td>-1.451548</td>\n",
              "      <td>-1.482926</td>\n",
              "      <td>-0.008746</td>\n",
              "    </tr>\n",
              "    <tr>\n",
              "      <th>...</th>\n",
              "      <td>...</td>\n",
              "      <td>...</td>\n",
              "      <td>...</td>\n",
              "      <td>...</td>\n",
              "      <td>...</td>\n",
              "      <td>...</td>\n",
              "      <td>...</td>\n",
              "      <td>...</td>\n",
              "    </tr>\n",
              "    <tr>\n",
              "      <th>4022</th>\n",
              "      <td>0.289495</td>\n",
              "      <td>0.390420</td>\n",
              "      <td>0.716250</td>\n",
              "      <td>0.277874</td>\n",
              "      <td>0.217107</td>\n",
              "      <td>0.690782</td>\n",
              "      <td>0.227258</td>\n",
              "      <td>-1.313068</td>\n",
              "    </tr>\n",
              "    <tr>\n",
              "      <th>4023</th>\n",
              "      <td>0.545081</td>\n",
              "      <td>0.269661</td>\n",
              "      <td>-0.128305</td>\n",
              "      <td>0.441584</td>\n",
              "      <td>0.534924</td>\n",
              "      <td>0.474179</td>\n",
              "      <td>0.314936</td>\n",
              "      <td>1.134329</td>\n",
              "    </tr>\n",
              "    <tr>\n",
              "      <th>4024</th>\n",
              "      <td>0.651129</td>\n",
              "      <td>0.705921</td>\n",
              "      <td>1.943633</td>\n",
              "      <td>0.853434</td>\n",
              "      <td>0.901897</td>\n",
              "      <td>1.089651</td>\n",
              "      <td>0.663632</td>\n",
              "      <td>1.134329</td>\n",
              "    </tr>\n",
              "    <tr>\n",
              "      <th>4025</th>\n",
              "      <td>0.926064</td>\n",
              "      <td>0.837713</td>\n",
              "      <td>0.286070</td>\n",
              "      <td>0.697385</td>\n",
              "      <td>0.924153</td>\n",
              "      <td>0.876428</td>\n",
              "      <td>0.577520</td>\n",
              "      <td>-1.313068</td>\n",
              "    </tr>\n",
              "    <tr>\n",
              "      <th>4026</th>\n",
              "      <td>1.971940</td>\n",
              "      <td>1.855505</td>\n",
              "      <td>1.625584</td>\n",
              "      <td>2.145775</td>\n",
              "      <td>2.314466</td>\n",
              "      <td>1.732146</td>\n",
              "      <td>1.856755</td>\n",
              "      <td>1.134329</td>\n",
              "    </tr>\n",
              "  </tbody>\n",
              "</table>\n",
              "<p>4027 rows × 8 columns</p>\n",
              "</div>\n",
              "      <button class=\"colab-df-convert\" onclick=\"convertToInteractive('df-f30d6bfb-905b-4580-bb7f-be155d53d8e9')\"\n",
              "              title=\"Convert this dataframe to an interactive table.\"\n",
              "              style=\"display:none;\">\n",
              "        \n",
              "  <svg xmlns=\"http://www.w3.org/2000/svg\" height=\"24px\"viewBox=\"0 0 24 24\"\n",
              "       width=\"24px\">\n",
              "    <path d=\"M0 0h24v24H0V0z\" fill=\"none\"/>\n",
              "    <path d=\"M18.56 5.44l.94 2.06.94-2.06 2.06-.94-2.06-.94-.94-2.06-.94 2.06-2.06.94zm-11 1L8.5 8.5l.94-2.06 2.06-.94-2.06-.94L8.5 2.5l-.94 2.06-2.06.94zm10 10l.94 2.06.94-2.06 2.06-.94-2.06-.94-.94-2.06-.94 2.06-2.06.94z\"/><path d=\"M17.41 7.96l-1.37-1.37c-.4-.4-.92-.59-1.43-.59-.52 0-1.04.2-1.43.59L10.3 9.45l-7.72 7.72c-.78.78-.78 2.05 0 2.83L4 21.41c.39.39.9.59 1.41.59.51 0 1.02-.2 1.41-.59l7.78-7.78 2.81-2.81c.8-.78.8-2.07 0-2.86zM5.41 20L4 18.59l7.72-7.72 1.47 1.35L5.41 20z\"/>\n",
              "  </svg>\n",
              "      </button>\n",
              "      \n",
              "  <style>\n",
              "    .colab-df-container {\n",
              "      display:flex;\n",
              "      flex-wrap:wrap;\n",
              "      gap: 12px;\n",
              "    }\n",
              "\n",
              "    .colab-df-convert {\n",
              "      background-color: #E8F0FE;\n",
              "      border: none;\n",
              "      border-radius: 50%;\n",
              "      cursor: pointer;\n",
              "      display: none;\n",
              "      fill: #1967D2;\n",
              "      height: 32px;\n",
              "      padding: 0 0 0 0;\n",
              "      width: 32px;\n",
              "    }\n",
              "\n",
              "    .colab-df-convert:hover {\n",
              "      background-color: #E2EBFA;\n",
              "      box-shadow: 0px 1px 2px rgba(60, 64, 67, 0.3), 0px 1px 3px 1px rgba(60, 64, 67, 0.15);\n",
              "      fill: #174EA6;\n",
              "    }\n",
              "\n",
              "    [theme=dark] .colab-df-convert {\n",
              "      background-color: #3B4455;\n",
              "      fill: #D2E3FC;\n",
              "    }\n",
              "\n",
              "    [theme=dark] .colab-df-convert:hover {\n",
              "      background-color: #434B5C;\n",
              "      box-shadow: 0px 1px 3px 1px rgba(0, 0, 0, 0.15);\n",
              "      filter: drop-shadow(0px 1px 2px rgba(0, 0, 0, 0.3));\n",
              "      fill: #FFFFFF;\n",
              "    }\n",
              "  </style>\n",
              "\n",
              "      <script>\n",
              "        const buttonEl =\n",
              "          document.querySelector('#df-f30d6bfb-905b-4580-bb7f-be155d53d8e9 button.colab-df-convert');\n",
              "        buttonEl.style.display =\n",
              "          google.colab.kernel.accessAllowed ? 'block' : 'none';\n",
              "\n",
              "        async function convertToInteractive(key) {\n",
              "          const element = document.querySelector('#df-f30d6bfb-905b-4580-bb7f-be155d53d8e9');\n",
              "          const dataTable =\n",
              "            await google.colab.kernel.invokeFunction('convertToInteractive',\n",
              "                                                     [key], {});\n",
              "          if (!dataTable) return;\n",
              "\n",
              "          const docLinkHtml = 'Like what you see? Visit the ' +\n",
              "            '<a target=\"_blank\" href=https://colab.research.google.com/notebooks/data_table.ipynb>data table notebook</a>'\n",
              "            + ' to learn more about interactive tables.';\n",
              "          element.innerHTML = '';\n",
              "          dataTable['output_type'] = 'display_data';\n",
              "          await google.colab.output.renderOutput(dataTable, element);\n",
              "          const docLink = document.createElement('div');\n",
              "          docLink.innerHTML = docLinkHtml;\n",
              "          element.appendChild(docLink);\n",
              "        }\n",
              "      </script>\n",
              "    </div>\n",
              "  </div>\n",
              "  "
            ]
          },
          "metadata": {},
          "execution_count": 50
        }
      ],
      "source": [
        "from sklearn.preprocessing import power_transform\n",
        "x_new = power_transform(x)\n",
        "\n",
        "x = pd.DataFrame(data=x_new , columns=x.columns)\n",
        "x"
      ]
    },
    {
      "cell_type": "code",
      "execution_count": 51,
      "id": "5a0909fb",
      "metadata": {
        "id": "5a0909fb",
        "outputId": "79ec85db-b46b-4102-dbc7-0febf5e8ef60",
        "colab": {
          "base_uri": "https://localhost:8080/"
        }
      },
      "outputs": [
        {
          "output_type": "stream",
          "name": "stdout",
          "text": [
            "[[-0.69636902 -0.55968799 -1.15577063 ... -0.68554452 -0.58731543\n",
            "   1.17040866]\n",
            " [-1.38965308 -1.37971098 -1.27510641 ... -1.33733274 -1.33143498\n",
            "   1.17040866]\n",
            " [-0.07070084  0.01277889 -0.13607028 ... -0.23524761 -0.08182179\n",
            "  -1.27252548]\n",
            " ...\n",
            " [ 0.63932042  0.69613066  1.96359946 ...  1.08838208  0.66282829\n",
            "   1.17040866]\n",
            " [ 0.92558947  0.83325383  0.27898755 ...  0.87737624  0.57653024\n",
            "  -1.27252548]\n",
            " [ 2.03774649  1.91215437  1.63818146 ...  1.72231321  1.86026534\n",
            "   1.17040866]]\n",
            "[[ 1.67302766]\n",
            " [-0.97812692]\n",
            " [-0.15943945]\n",
            " ...\n",
            " [-0.15943945]\n",
            " [ 0.20009182]\n",
            " [ 0.84488768]]\n"
          ]
        }
      ],
      "source": [
        "from sklearn.preprocessing import power_transform\n",
        "x = power_transform(x)\n",
        "print(x)\n",
        "\n",
        "y = power_transform(y.values.reshape(-1,1))\n",
        "print(y)"
      ]
    },
    {
      "cell_type": "code",
      "execution_count": 52,
      "id": "282ac594",
      "metadata": {
        "id": "282ac594",
        "colab": {
          "base_uri": "https://localhost:8080/"
        },
        "outputId": "f139315b-294a-4ffc-8e1f-5d4662632645"
      },
      "outputs": [
        {
          "output_type": "stream",
          "name": "stdout",
          "text": [
            "Best Prediction score:  54.03089829262848\n",
            "Best RS score:  0\n",
            "Best Prediction score:  54.09967052059916\n",
            "Best RS score:  5\n",
            "Best Prediction score:  54.21819264626359\n",
            "Best RS score:  19\n",
            "Best Prediction score:  54.69608777973667\n",
            "Best RS score:  53\n"
          ]
        }
      ],
      "source": [
        "max_rs = 0\n",
        "max_acc = 0 \n",
        "\n",
        "for i in range(0,1000):\n",
        "  x_train, x_test, y_train, y_test = train_test_split(x, y, test_size=0.15, random_state=i)\n",
        "  lr.fit(x_train, y_train)\n",
        "  pred_lr = lr.predict(x_test)\n",
        "  acc = lr.score(x_train,y_train)\n",
        "  if acc>max_acc:\n",
        "    max_acc = acc\n",
        "    max_rs = i\n",
        "    print(\"Best Prediction score: \",max_acc*100)\n",
        "    print(\"Best RS score: \",max_rs)"
      ]
    },
    {
      "cell_type": "markdown",
      "id": "2251eb2b",
      "metadata": {
        "id": "2251eb2b"
      },
      "source": [
        "Power transform increased performance by **5%**"
      ]
    },
    {
      "cell_type": "code",
      "execution_count": 53,
      "id": "c0df0010",
      "metadata": {
        "id": "c0df0010",
        "colab": {
          "base_uri": "https://localhost:8080/"
        },
        "outputId": "22a20adf-52ef-40ce-b5d1-6a1e3974a22b"
      },
      "outputs": [
        {
          "output_type": "execute_result",
          "data": {
            "text/plain": [
              "5.148169984611198"
            ]
          },
          "metadata": {},
          "execution_count": 53
        }
      ],
      "source": [
        "#Performace before Power transform Vs after Power transform\n",
        "(max_acc*100-0.5188024020590367*100)/(max_acc*100)*100"
      ]
    },
    {
      "cell_type": "markdown",
      "id": "bf97670d",
      "metadata": {
        "id": "bf97670d"
      },
      "source": [
        "Ploting predicted data after applying power transform"
      ]
    },
    {
      "cell_type": "code",
      "execution_count": 54,
      "id": "97c5854d",
      "metadata": {
        "id": "97c5854d",
        "colab": {
          "base_uri": "https://localhost:8080/",
          "height": 282
        },
        "outputId": "b5def08f-6f9a-4edd-bd1b-340f7faeaf95"
      },
      "outputs": [
        {
          "output_type": "execute_result",
          "data": {
            "text/plain": [
              "<matplotlib.axes._subplots.AxesSubplot at 0x7f2cf4e1a290>"
            ]
          },
          "metadata": {},
          "execution_count": 54
        },
        {
          "output_type": "display_data",
          "data": {
            "text/plain": [
              "<Figure size 432x288 with 1 Axes>"
            ],
            "image/png": "[encoded data removed]"
          },
          "metadata": {
            "needs_background": "light"
          }
        }
      ],
      "source": [
        "sns.distplot(pred_lr)"
      ]
    },
    {
      "cell_type": "markdown",
      "id": "1272623f",
      "metadata": {
        "id": "1272623f"
      },
      "source": [
        " "
      ]
    },
    {
      "cell_type": "markdown",
      "id": "5dac874f",
      "metadata": {
        "id": "5dac874f"
      },
      "source": [
        " "
      ]
    },
    {
      "cell_type": "markdown",
      "id": "e59280ab",
      "metadata": {
        "id": "e59280ab"
      },
      "source": [
        "## Creating Train Test Split"
      ]
    },
    {
      "cell_type": "code",
      "execution_count": 55,
      "id": "32833b2a",
      "metadata": {
        "id": "32833b2a",
        "colab": {
          "base_uri": "https://localhost:8080/"
        },
        "outputId": "6ade0f02-c469-47fd-e23e-b7d2bf1690bc"
      },
      "outputs": [
        {
          "output_type": "execute_result",
          "data": {
            "text/plain": [
              "0.5469608777973667"
            ]
          },
          "metadata": {},
          "execution_count": 55
        }
      ],
      "source": [
        "#Linear Regression\n",
        "x_train, x_test, y_train, y_test = train_test_split(x, y, test_size=0.15, random_state=53)\n",
        "lr.fit(x_train, y_train)\n",
        "Pred = lr.predict(x_test)\n",
        "lr.score(x_train, y_train)"
      ]
    },
    {
      "cell_type": "code",
      "execution_count": 56,
      "id": "65a331e4",
      "metadata": {
        "id": "65a331e4",
        "colab": {
          "base_uri": "https://localhost:8080/"
        },
        "outputId": "2bad9b31-4a8e-4add-d05d-db3e2f447461"
      },
      "outputs": [
        {
          "output_type": "stream",
          "name": "stdout",
          "text": [
            "Mean absolute error:  0.5343643720646968\n",
            "Mean squared error:  0.4850240637478746\n",
            "Root mean squared:  0.6964366904090239\n"
          ]
        }
      ],
      "source": [
        "print('Mean absolute error: ', mean_absolute_error(y_test, Pred))\n",
        "\n",
        "print('Mean squared error: ', mean_squared_error(y_test, Pred))\n",
        "\n",
        "root_mean_squared = np.sqrt(mean_squared_error(y_test, Pred))\n",
        "print(\"Root mean squared: \", root_mean_squared)"
      ]
    },
    {
      "cell_type": "markdown",
      "source": [
        "### Finding best fitting model"
      ],
      "metadata": {
        "id": "4VtvD556WXEi"
      },
      "id": "4VtvD556WXEi"
    },
    {
      "cell_type": "code",
      "execution_count": 57,
      "id": "37940c18",
      "metadata": {
        "id": "37940c18"
      },
      "outputs": [],
      "source": [
        "svr = SVR()\n",
        "knn = KNeighborsRegressor()\n",
        "lr = LinearRegression()"
      ]
    },
    {
      "cell_type": "code",
      "execution_count": 58,
      "id": "3b64d20c",
      "metadata": {
        "id": "3b64d20c",
        "colab": {
          "base_uri": "https://localhost:8080/"
        },
        "outputId": "a942de01-b0ee-4028-86ca-10a8444a7c7d"
      },
      "outputs": [
        {
          "output_type": "stream",
          "name": "stdout",
          "text": [
            "0.5469608777973667\n",
            "0.6416369377289193\n",
            "0.7082006092795352\n"
          ]
        }
      ],
      "source": [
        "for i in [lr,svr,knn]:\n",
        "    x_train, x_test, y_train, y_test = train_test_split(x, y, test_size=0.15, random_state=53)\n",
        "    i.fit(x_train, y_train)\n",
        "    Pred = i.predict(x_test)\n",
        "    print(i.score(x_train, y_train))"
      ]
    },
    {
      "cell_type": "code",
      "source": [
        "(70.82-54.69)/70.82*100"
      ],
      "metadata": {
        "id": "4zefa3stP2CZ",
        "colab": {
          "base_uri": "https://localhost:8080/"
        },
        "outputId": "abcffe7f-d9e5-44f8-8865-c600a4ededa4"
      },
      "id": "4zefa3stP2CZ",
      "execution_count": 59,
      "outputs": [
        {
          "output_type": "execute_result",
          "data": {
            "text/plain": [
              "22.77605196272239"
            ]
          },
          "metadata": {},
          "execution_count": 59
        }
      ]
    },
    {
      "cell_type": "markdown",
      "source": [
        "**Among these 3 models KNN is performing 22.77% better than other models.**"
      ],
      "metadata": {
        "id": "1FP2b5jmQj3W"
      },
      "id": "1FP2b5jmQj3W"
    },
    {
      "cell_type": "markdown",
      "source": [
        "**Finding best randon state.**\n"
      ],
      "metadata": {
        "id": "vgucDqEvQzXN"
      },
      "id": "vgucDqEvQzXN"
    },
    {
      "cell_type": "code",
      "execution_count": 60,
      "id": "a2f893d3",
      "metadata": {
        "id": "a2f893d3",
        "colab": {
          "base_uri": "https://localhost:8080/"
        },
        "outputId": "9fe46a9b-3206-428e-d8d1-23e4b13a8ba2"
      },
      "outputs": [
        {
          "output_type": "stream",
          "name": "stdout",
          "text": [
            "Best Prediction score:  70.7686571535173\n",
            "Best RS score:  0\n",
            "Best Prediction score:  70.9501369238568\n",
            "Best RS score:  3\n",
            "Best Prediction score:  71.09348478829564\n",
            "Best RS score:  19\n",
            "Best Prediction score:  71.24448718687344\n",
            "Best RS score:  199\n",
            "Best Prediction score:  71.41766736582167\n",
            "Best RS score:  241\n",
            "Best Prediction score:  71.42221282537194\n",
            "Best RS score:  399\n",
            "Best Prediction score:  71.43916106585677\n",
            "Best RS score:  558\n",
            "Best Prediction score:  71.57484481337703\n",
            "Best RS score:  756\n"
          ]
        }
      ],
      "source": [
        "max_rs = 0\n",
        "max_acc = 0 \n",
        "\n",
        "for i in range(0,1000):\n",
        "  x_train, x_test, y_train, y_test = train_test_split(x, y, test_size=0.15, random_state=i)\n",
        "  knn = KNeighborsRegressor(n_neighbors=5)\n",
        "  knn.fit(x_train, y_train)\n",
        "  pred_knn = knn.predict(x_test)\n",
        "  acc = knn.score(x_train,y_train)\n",
        "  if acc>max_acc:\n",
        "    max_acc = acc\n",
        "    max_rs = i\n",
        "    print(\"Best Prediction score: \",max_acc*100)\n",
        "    print(\"Best RS score: \",max_rs)"
      ]
    },
    {
      "cell_type": "code",
      "execution_count": 61,
      "id": "d3dcceef",
      "metadata": {
        "id": "d3dcceef",
        "colab": {
          "base_uri": "https://localhost:8080/"
        },
        "outputId": "0065151d-bbc0-4fe1-f83b-cd0c81e619ae"
      },
      "outputs": [
        {
          "output_type": "stream",
          "name": "stdout",
          "text": [
            "Accuracy Score:  71.575\n",
            "\n",
            "Mean absolute error:  54.077\n",
            "Mean squared error:  49.129\n",
            "Root mean squared:  70.092\n"
          ]
        }
      ],
      "source": [
        "x_train, x_test, y_train, y_test = train_test_split(x, y, test_size=0.15, random_state=756)\n",
        "knn.fit(x_train, y_train)\n",
        "pred_knn = knn.predict(x_test)\n",
        "print('Accuracy Score: ',round(knn.score(x_train,y_train)*100,3))\n",
        "\n",
        "print('\\nMean absolute error: ', round(mean_absolute_error(y_test, pred_knn)*100, 3))\n",
        "\n",
        "print('Mean squared error: ', round(mean_squared_error(y_test, pred_knn)*100,3))\n",
        "\n",
        "root_mean_squared = np.sqrt(mean_squared_error(y_test, pred_knn))\n",
        "print(\"Root mean squared: \", round(root_mean_squared*100, 3))"
      ]
    },
    {
      "cell_type": "markdown",
      "source": [
        "## Seprating columns into Features and Target\n"
      ],
      "metadata": {
        "id": "D5_XlCM20sVp"
      },
      "id": "D5_XlCM20sVp"
    },
    {
      "cell_type": "code",
      "source": [
        "features = df.drop('Rings',axis=1)\n",
        "target = df['Rings']"
      ],
      "metadata": {
        "id": "INXuUMxD0wYl"
      },
      "id": "INXuUMxD0wYl",
      "execution_count": 62,
      "outputs": []
    },
    {
      "cell_type": "code",
      "source": [
        "print('Features:',features.shape,\n",
        "      '\\nTarget: ',target.shape)"
      ],
      "metadata": {
        "colab": {
          "base_uri": "https://localhost:8080/"
        },
        "id": "dbuA9WWL0wi3",
        "outputId": "a95c2620-4c7c-4259-9453-1c20c5d3b8b2"
      },
      "id": "dbuA9WWL0wi3",
      "execution_count": 63,
      "outputs": [
        {
          "output_type": "stream",
          "name": "stdout",
          "text": [
            "Features: (4177, 8) \n",
            "Target:  (4177,)\n"
          ]
        }
      ]
    },
    {
      "cell_type": "markdown",
      "source": [
        "### Scaling data using Min-Max Scaler:"
      ],
      "metadata": {
        "id": "Rp2tNwg6yOwM"
      },
      "id": "Rp2tNwg6yOwM"
    },
    {
      "cell_type": "code",
      "source": [
        "from sklearn.preprocessing import MinMaxScaler\n",
        "mms = MinMaxScaler()\n",
        "from sklearn.linear_model import LinearRegression\n",
        "lr = LinearRegression()\n",
        "from sklearn.neighbors import KNeighborsRegressor\n",
        "knn = KNeighborsRegressor()\n",
        "from sklearn.metrics import r2_score\n",
        "from sklearn.model_selection import train_test_split"
      ],
      "metadata": {
        "id": "-_Lpy4X4yJpf"
      },
      "id": "-_Lpy4X4yJpf",
      "execution_count": 64,
      "outputs": []
    },
    {
      "cell_type": "code",
      "source": [
        "import warnings\n",
        "warnings.filterwarnings('ignore')"
      ],
      "metadata": {
        "id": "goFac2BLyJsY"
      },
      "id": "goFac2BLyJsY",
      "execution_count": 65,
      "outputs": []
    },
    {
      "cell_type": "code",
      "source": [
        "max_acc = 0\n",
        "\n",
        "for i in range(0,100):\n",
        "  features_train, features_test, target_train, target_test = train_test_split(features, target, test_size= .2, random_state=i)\n",
        "  lr.fit(features_train, target_train)\n",
        "  pred_train = lr.predict(features_train)\n",
        "  pred_r2train = r2_score(target_train, pred_train)\n",
        "  \n",
        "  pred_test = lr.predict(features_test)\n",
        "  pred_r2test = r2_score(target_test, pred_test)\n",
        "\n",
        "  if pred_r2train > max_acc:\n",
        "    max_acc = pred_r2train\n",
        "    print(f\"best random state is: {i}\\nbest training accuracy: {pred_r2train}\\nbest testing accuracy: {pred_r2test}\")\n",
        "  "
      ],
      "metadata": {
        "colab": {
          "base_uri": "https://localhost:8080/"
        },
        "id": "Rgmt12CozO-c",
        "outputId": "f4a005e7-bc39-4b1a-baca-2e87d60858ab"
      },
      "id": "Rgmt12CozO-c",
      "execution_count": 66,
      "outputs": [
        {
          "output_type": "stream",
          "name": "stdout",
          "text": [
            "best random state is: 0\n",
            "best training accuracy: 0.5266943382158247\n",
            "best testing accuracy: 0.5300147524184928\n",
            "best random state is: 1\n",
            "best training accuracy: 0.5342800756993598\n",
            "best testing accuracy: 0.4992317277874876\n",
            "best random state is: 4\n",
            "best training accuracy: 0.5382795526015922\n",
            "best testing accuracy: 0.47330646590738623\n",
            "best random state is: 5\n",
            "best training accuracy: 0.5388633829890346\n",
            "best testing accuracy: 0.4813786513650815\n",
            "best random state is: 19\n",
            "best training accuracy: 0.542060143405233\n",
            "best testing accuracy: 0.4685335689146205\n"
          ]
        }
      ]
    },
    {
      "cell_type": "code",
      "source": [
        "max_acc = 0\n",
        "\n",
        "for i in range(0,100):\n",
        "  features_train, features_test, target_train, target_test = train_test_split(features, target, test_size= .2, random_state=i)\n",
        "  knn.fit(features_train, target_train)\n",
        "  pred_train = knn.predict(features_train)\n",
        "  pred_r2train = r2_score(target_train, pred_train)\n",
        "  \n",
        "  pred_test = knn.predict(features_test)\n",
        "  pred_r2test = r2_score(target_test, pred_test)\n",
        "\n",
        "  if pred_r2train > max_acc:\n",
        "    max_acc = pred_r2train\n",
        "    print(f\"best random state is: {i}\\nbest training accuracy: {pred_r2train}\\nbest testing accuracy: {pred_r2test}\")\n",
        "  "
      ],
      "metadata": {
        "colab": {
          "base_uri": "https://localhost:8080/"
        },
        "id": "z3Fyrn5TzPNA",
        "outputId": "15684a9a-927a-4c62-cae6-7ce1fea33e76"
      },
      "id": "z3Fyrn5TzPNA",
      "execution_count": 67,
      "outputs": [
        {
          "output_type": "stream",
          "name": "stdout",
          "text": [
            "best random state is: 0\n",
            "best training accuracy: 0.6829576293953878\n",
            "best testing accuracy: 0.5236374981094113\n",
            "best random state is: 4\n",
            "best training accuracy: 0.6839995591045276\n",
            "best testing accuracy: 0.4793475243544564\n",
            "best random state is: 9\n",
            "best training accuracy: 0.6876468165798857\n",
            "best testing accuracy: 0.4806627115131279\n",
            "best random state is: 15\n",
            "best training accuracy: 0.6880853091021555\n",
            "best testing accuracy: 0.45856695339004194\n",
            "best random state is: 19\n",
            "best training accuracy: 0.6894386976380036\n",
            "best testing accuracy: 0.4705805365378327\n"
          ]
        }
      ]
    },
    {
      "cell_type": "code",
      "source": [
        "print(f\"KNN is performing: {round((68.94-54.20)/68.94*100,2)}% better than LR model\\n\")\n",
        "print('KNN Train: 68.94% and LR Train: 54.20%')\n",
        "print('KNN Test: 47.05% and LR Test: 46.85%')"
      ],
      "metadata": {
        "colab": {
          "base_uri": "https://localhost:8080/"
        },
        "id": "SIAvSgKA_lSR",
        "outputId": "2cab593b-1f12-4288-cf8a-ef0d9a17a71e"
      },
      "id": "SIAvSgKA_lSR",
      "execution_count": 68,
      "outputs": [
        {
          "output_type": "stream",
          "name": "stdout",
          "text": [
            "KNN is performing: 21.38% better than LR model\n",
            "\n",
            "KNN Train: 68.94% and LR Train: 54.20%\n",
            "KNN Test: 47.05% and LR Test: 46.85%\n"
          ]
        }
      ]
    },
    {
      "cell_type": "markdown",
      "source": [
        "## Cross Validation"
      ],
      "metadata": {
        "id": "Mc_a13rGg1eO"
      },
      "id": "Mc_a13rGg1eO"
    },
    {
      "cell_type": "code",
      "source": [
        "train_accuracy = r2_score(target_train, pred_train)\n",
        "test_accuracy = r2_score(target_test, pred_test)\n",
        "\n",
        "from sklearn.model_selection import cross_val_score\n",
        "for i in range(2,10):\n",
        "  cv_score = cross_val_score(knn, features, target, cv=i)\n",
        "  cv_mean = cv_score.mean()\n",
        "  print(f'At cross fold: {i}\\nCV Score: {cv_mean}\\naccuraccy score training: {train_accuracy}\\naccuracy score testing: {test_accuracy}\\n\\n')\n",
        "\n",
        "# knn_val_score = cross_val_score(knn, x, y, cv = 5)\n",
        "# print('Cross validation score KNN: ',knn_val_score.mean())"
      ],
      "metadata": {
        "id": "SrGs0dv2icx0",
        "colab": {
          "base_uri": "https://localhost:8080/"
        },
        "outputId": "32bdac08-97b8-46ad-a6af-514c569e46b5"
      },
      "id": "SrGs0dv2icx0",
      "execution_count": 69,
      "outputs": [
        {
          "output_type": "stream",
          "name": "stdout",
          "text": [
            "At cross fold: 2\n",
            "CV Score: 0.4868599376939935\n",
            "accuraccy score training: 0.6795824203155799\n",
            "accuracy score testing: 0.5156186499594445\n",
            "\n",
            "\n",
            "At cross fold: 3\n",
            "CV Score: 0.4817998444189613\n",
            "accuraccy score training: 0.6795824203155799\n",
            "accuracy score testing: 0.5156186499594445\n",
            "\n",
            "\n",
            "At cross fold: 4\n",
            "CV Score: 0.4343688787436352\n",
            "accuraccy score training: 0.6795824203155799\n",
            "accuracy score testing: 0.5156186499594445\n",
            "\n",
            "\n",
            "At cross fold: 5\n",
            "CV Score: 0.427217254016496\n",
            "accuraccy score training: 0.6795824203155799\n",
            "accuracy score testing: 0.5156186499594445\n",
            "\n",
            "\n",
            "At cross fold: 6\n",
            "CV Score: 0.4405862872837776\n",
            "accuraccy score training: 0.6795824203155799\n",
            "accuracy score testing: 0.5156186499594445\n",
            "\n",
            "\n",
            "At cross fold: 7\n",
            "CV Score: 0.4545963707848539\n",
            "accuraccy score training: 0.6795824203155799\n",
            "accuracy score testing: 0.5156186499594445\n",
            "\n",
            "\n",
            "At cross fold: 8\n",
            "CV Score: 0.4139146372372214\n",
            "accuraccy score training: 0.6795824203155799\n",
            "accuracy score testing: 0.5156186499594445\n",
            "\n",
            "\n",
            "At cross fold: 9\n",
            "CV Score: 0.4381118519421088\n",
            "accuraccy score training: 0.6795824203155799\n",
            "accuracy score testing: 0.5156186499594445\n",
            "\n",
            "\n"
          ]
        }
      ]
    },
    {
      "cell_type": "code",
      "source": [
        "import matplotlib.pyplot as plt\n",
        "plt.figure(figsize=(8,6))\n",
        "plt.scatter(x= target_test, y= pred_test, color='r')\n",
        "plt.plot(target_test,target_test,color='black')\n",
        "plt.xlabel('Actual Rings', fontsize=15)\n",
        "plt.ylabel('Predicted Rings', fontsize=15)\n",
        "plt.title('Linear Regression', fontsize= 13)\n",
        "plt.show()"
      ],
      "metadata": {
        "id": "VnaFhB8hid2e",
        "colab": {
          "base_uri": "https://localhost:8080/",
          "height": 409
        },
        "outputId": "8d0b2436-f569-4b04-fea7-2ea9ce6a2b8e"
      },
      "id": "VnaFhB8hid2e",
      "execution_count": 70,
      "outputs": [
        {
          "output_type": "display_data",
          "data": {
            "text/plain": [
              "<Figure size 576x432 with 1 Axes>"
            ],
            "image/png": "[encoded data removed]"
          },
          "metadata": {
            "needs_background": "light"
          }
        }
      ]
    },
    {
      "cell_type": "markdown",
      "source": [
        "## **Regularization**"
      ],
      "metadata": {
        "id": "bqMVpSgGGRFS"
      },
      "id": "bqMVpSgGGRFS"
    },
    {
      "cell_type": "code",
      "source": [
        "from sklearn.model_selection import GridSearchCV\n",
        "from sklearn.model_selection import cross_val_score\n",
        "from sklearn.linear_model import Lasso\n",
        "ls = Lasso()\n",
        "\n",
        "parameters = {'alpha':[.0001, .001, .01, .1, 1, 10],'random_state':list(range(0,10))}\n",
        "clf = GridSearchCV(ls,parameters)\n",
        "clf.fit(features_train, target_train)\n",
        "\n",
        "print(clf.best_params_)"
      ],
      "metadata": {
        "id": "I4J9oh8CpC24",
        "colab": {
          "base_uri": "https://localhost:8080/"
        },
        "outputId": "33a880b1-7263-4d33-f253-49f45dca34c7"
      },
      "id": "I4J9oh8CpC24",
      "execution_count": 71,
      "outputs": [
        {
          "output_type": "stream",
          "name": "stdout",
          "text": [
            "{'alpha': 0.001, 'random_state': 0}\n"
          ]
        }
      ]
    },
    {
      "cell_type": "code",
      "source": [
        "ls = Lasso(alpha=0.001,random_state=0)\n",
        "ls.fit(features_train, target_train)\n",
        "ls.score(features_train, target_train)\n",
        "\n",
        "pred_ls = ls.predict(features_test)\n",
        "\n",
        "lss = r2_score(target_test, pred_ls)\n",
        "lss"
      ],
      "metadata": {
        "id": "678nl7fCsW5c",
        "colab": {
          "base_uri": "https://localhost:8080/"
        },
        "outputId": "f07ce9b0-7da1-4a34-a919-efc5a08cb3f6"
      },
      "id": "678nl7fCsW5c",
      "execution_count": 72,
      "outputs": [
        {
          "output_type": "execute_result",
          "data": {
            "text/plain": [
              "0.4797005822836359"
            ]
          },
          "metadata": {},
          "execution_count": 72
        }
      ]
    },
    {
      "cell_type": "code",
      "source": [
        ""
      ],
      "metadata": {
        "id": "w4HJys4Bqipw"
      },
      "id": "w4HJys4Bqipw",
      "execution_count": 72,
      "outputs": []
    },
    {
      "cell_type": "markdown",
      "source": [
        "## Ensemble Technique"
      ],
      "metadata": {
        "id": "gwJa1HkqIWVg"
      },
      "id": "gwJa1HkqIWVg"
    },
    {
      "cell_type": "code",
      "source": [
        "from sklearn.model_selection import GridSearchCV\n",
        "from sklearn.ensemble import RandomForestRegressor\n",
        "\n",
        "parameters = {'criterion':['mse', 'mae'], 'max_features':['auto','sqrt','log2']}\n",
        "\n",
        "rf = RandomForestRegressor()\n",
        "\n",
        "clf = GridSearchCV(rf,parameters)\n",
        "clf.fit(features_train, target_train)\n",
        "\n",
        "print(clf.best_params_)"
      ],
      "metadata": {
        "id": "vN2qXAWsr1dR",
        "colab": {
          "base_uri": "https://localhost:8080/"
        },
        "outputId": "35c4f1e0-e98b-4094-8dc1-b1ac74cb9650"
      },
      "id": "vN2qXAWsr1dR",
      "execution_count": 73,
      "outputs": [
        {
          "output_type": "stream",
          "name": "stdout",
          "text": [
            "{'criterion': 'mse', 'max_features': 'log2'}\n"
          ]
        }
      ]
    },
    {
      "cell_type": "code",
      "source": [
        "rf = RandomForestRegressor(criterion='mse',max_features='log2')\n",
        "rf.fit(features_train, target_train)\n",
        "rf.score(features_train, target_train)\n",
        "pred_decision = rf.predict(features_test)\n",
        "\n",
        "rfs = r2_score(target_test, pred_decision)\n",
        "print('R2 Score: ',rfs*100)\n",
        "\n",
        "rfscore = cross_val_score(rf, features, target, cv=5)\n",
        "rfc= rfscore.mean()\n",
        "print('Cross Val Score: ', rfc*100)"
      ],
      "metadata": {
        "id": "VUYlal-puVke",
        "colab": {
          "base_uri": "https://localhost:8080/"
        },
        "outputId": "327eab9d-f0bb-4cd3-ef8f-7b9c071016d0"
      },
      "id": "VUYlal-puVke",
      "execution_count": 79,
      "outputs": [
        {
          "output_type": "stream",
          "name": "stdout",
          "text": [
            "R2 Score:  55.857588905187264\n",
            "Cross Val Score:  46.21048100513395\n"
          ]
        }
      ]
    },
    {
      "cell_type": "markdown",
      "source": [
        "## Save the Model"
      ],
      "metadata": {
        "id": "tFoLyfb0xzcu"
      },
      "id": "tFoLyfb0xzcu"
    },
    {
      "cell_type": "code",
      "source": [
        "import pickle\n",
        "filename = 'churn.pkl'\n",
        "pickle.dump(rf,open(filename, 'wb'))"
      ],
      "metadata": {
        "id": "54lBsi8fx2TN"
      },
      "id": "54lBsi8fx2TN",
      "execution_count": 80,
      "outputs": []
    },
    {
      "cell_type": "code",
      "source": [
        ""
      ],
      "metadata": {
        "id": "xQ-cqY9LyGVT"
      },
      "id": "xQ-cqY9LyGVT",
      "execution_count": null,
      "outputs": []
    }
  ],
  "metadata": {
    "kernelspec": {
      "display_name": "Python 3 (ipykernel)",
      "language": "python",
      "name": "python3"
    },
    "language_info": {
      "codemirror_mode": {
        "name": "ipython",
        "version": 3
      },
      "file_extension": ".py",
      "mimetype": "text/x-python",
      "name": "python",
      "nbconvert_exporter": "python",
      "pygments_lexer": "ipython3",
      "version": "3.9.7"
    },
    "colab": {
      "name": "abalone_20220426.ipynb",
      "provenance": [],
      "collapsed_sections": [
        "9b33cf1c",
        "8e810a60",
        "b186e11a",
        "043d8f08",
        "879c5147",
        "69406080",
        "a31e4b6a"
      ],
      "toc_visible": true
    }
  },
  "nbformat": 4,
  "nbformat_minor": 5
}