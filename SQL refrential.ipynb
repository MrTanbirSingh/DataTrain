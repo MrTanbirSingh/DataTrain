{
 "cells": [
  {
   "cell_type": "markdown",
   "id": "332a8d70",
   "metadata": {},
   "source": [
    "### Refrential integrity"
   ]
  },
  {
   "cell_type": "code",
   "execution_count": 4,
   "id": "bbf025e3",
   "metadata": {},
   "outputs": [],
   "source": [
    "# Data which is entered in primary can be written in Foreign key. \n",
    "# Cannnot enter diff data"
   ]
  },
  {
   "cell_type": "code",
   "execution_count": 7,
   "id": "22e40d66",
   "metadata": {},
   "outputs": [],
   "source": [
    "import sqlite3"
   ]
  },
  {
   "cell_type": "code",
   "execution_count": 9,
   "id": "925870e7",
   "metadata": {},
   "outputs": [],
   "source": [
    "DB = sqlite3.connect('referantial.db')"
   ]
  },
  {
   "cell_type": "code",
   "execution_count": 10,
   "id": "82850d60",
   "metadata": {},
   "outputs": [],
   "source": [
    "CUR = DB.cursor()"
   ]
  },
  {
   "cell_type": "code",
   "execution_count": 12,
   "id": "3543f8f5",
   "metadata": {},
   "outputs": [],
   "source": [
    "# constraints\n",
    "# unigue - enter only unigue values,on dulpli\n",
    "# not null - no blank values can be inserted in table"
   ]
  },
  {
   "cell_type": "code",
   "execution_count": 17,
   "id": "324907b8",
   "metadata": {},
   "outputs": [
    {
     "data": {
      "text/plain": [
       "<sqlite3.Cursor at 0x15f999c9340>"
      ]
     },
     "execution_count": 17,
     "metadata": {},
     "output_type": "execute_result"
    }
   ],
   "source": [
    "CUR.execute(\"create table course1(courseid int primary key, coursename text,duration int) \")"
   ]
  },
  {
   "cell_type": "code",
   "execution_count": 18,
   "id": "cb225064",
   "metadata": {},
   "outputs": [
    {
     "data": {
      "text/plain": [
       "<sqlite3.Cursor at 0x15f999c9340>"
      ]
     },
     "execution_count": 18,
     "metadata": {},
     "output_type": "execute_result"
    }
   ],
   "source": [
    "CUR.execute(\"create table student(roll_no int primary key, studentname text, age int, courseid int, foreign key(courseid) references course(courseid))\")"
   ]
  },
  {
   "cell_type": "code",
   "execution_count": 19,
   "id": "84d6bd9e",
   "metadata": {},
   "outputs": [],
   "source": [
    "# foreign key(courseid) references course(courseid))\n",
    "#       value in table  ---------   references to which u are connecting this foreign key"
   ]
  },
  {
   "cell_type": "code",
   "execution_count": 21,
   "id": "c1d9c21d",
   "metadata": {},
   "outputs": [
    {
     "name": "stdout",
     "output_type": "stream",
     "text": [
      "3 : count\n"
     ]
    }
   ],
   "source": [
    "CUR.execute(\"insert into course values(78,'Data Science',12),(56,'Python Course',4),(101,'Database',7)\")\n",
    "print(CUR.rowcount,\": count\")\n",
    "DB.commit()"
   ]
  },
  {
   "cell_type": "code",
   "execution_count": 22,
   "id": "f9104504",
   "metadata": {},
   "outputs": [
    {
     "name": "stdout",
     "output_type": "stream",
     "text": [
      "4 : Count\n"
     ]
    }
   ],
   "source": [
    "CUR.execute(\"insert into student values(1,'Jack',22,78),(2,'John',21,56),(3,'Rudolf',18,78),(4,'Jim',21,56)\")\n",
    "print(CUR.rowcount,\": Count\")\n",
    "DB.commit()"
   ]
  },
  {
   "cell_type": "code",
   "execution_count": 23,
   "id": "5bc76130",
   "metadata": {},
   "outputs": [
    {
     "data": {
      "text/plain": [
       "[(78, 'Data Science', 12), (56, 'Python Course', 4), (101, 'Database', 7)]"
      ]
     },
     "execution_count": 23,
     "metadata": {},
     "output_type": "execute_result"
    }
   ],
   "source": [
    "result = CUR.execute('select * from course')\n",
    "result.fetchall()"
   ]
  },
  {
   "cell_type": "code",
   "execution_count": 24,
   "id": "fa4351e7",
   "metadata": {},
   "outputs": [
    {
     "data": {
      "text/plain": [
       "[(1, 'Jack', 22, 78),\n",
       " (2, 'John', 21, 56),\n",
       " (3, 'Rudolf', 18, 78),\n",
       " (4, 'Jim', 21, 56)]"
      ]
     },
     "execution_count": 24,
     "metadata": {},
     "output_type": "execute_result"
    }
   ],
   "source": [
    "result = CUR.execute('select * from student')\n",
    "result.fetchall()"
   ]
  },
  {
   "cell_type": "code",
   "execution_count": 26,
   "id": "6d7a38ea",
   "metadata": {},
   "outputs": [
    {
     "ename": "OperationalError",
     "evalue": "near \"where\": syntax error",
     "output_type": "error",
     "traceback": [
      "\u001b[1;31m---------------------------------------------------------------------------\u001b[0m",
      "\u001b[1;31mOperationalError\u001b[0m                          Traceback (most recent call last)",
      "\u001b[1;32m<ipython-input-26-4b3715d2e1de>\u001b[0m in \u001b[0;36m<module>\u001b[1;34m\u001b[0m\n\u001b[1;32m----> 1\u001b[1;33m \u001b[0mresult\u001b[0m \u001b[1;33m=\u001b[0m \u001b[0mCUR\u001b[0m\u001b[1;33m.\u001b[0m\u001b[0mexecute\u001b[0m\u001b[1;33m(\u001b[0m\u001b[1;34m\"select courseid from where coursename = 'Data Science'\"\u001b[0m\u001b[1;33m)\u001b[0m\u001b[1;33m\u001b[0m\u001b[1;33m\u001b[0m\u001b[0m\n\u001b[0m\u001b[0;32m      2\u001b[0m \u001b[1;32mfor\u001b[0m \u001b[0mi\u001b[0m \u001b[1;32min\u001b[0m \u001b[0mresults\u001b[0m\u001b[1;33m:\u001b[0m\u001b[1;33m\u001b[0m\u001b[1;33m\u001b[0m\u001b[0m\n\u001b[0;32m      3\u001b[0m     \u001b[0mprint\u001b[0m\u001b[1;33m(\u001b[0m\u001b[0mi\u001b[0m\u001b[1;33m)\u001b[0m\u001b[1;33m\u001b[0m\u001b[1;33m\u001b[0m\u001b[0m\n",
      "\u001b[1;31mOperationalError\u001b[0m: near \"where\": syntax error"
     ]
    }
   ],
   "source": [
    "result = CUR.execute(\"select courseid from where coursename = 'Data Science'\")\n",
    "for i in results:\n",
    "    print(i)"
   ]
  },
  {
   "cell_type": "markdown",
   "id": "b0513d69",
   "metadata": {},
   "source": [
    "  "
   ]
  },
  {
   "cell_type": "markdown",
   "id": "b39099d1",
   "metadata": {},
   "source": [
    "  "
   ]
  },
  {
   "cell_type": "markdown",
   "id": "4154b933",
   "metadata": {},
   "source": [
    "## Subquery"
   ]
  },
  {
   "cell_type": "code",
   "execution_count": 30,
   "id": "8b7ffc14",
   "metadata": {},
   "outputs": [
    {
     "data": {
      "text/plain": [
       "[(1, 'Jack', 22, 78),\n",
       " (2, 'John', 21, 56),\n",
       " (3, 'Rudolf', 18, 78),\n",
       " (4, 'Jim', 21, 56)]"
      ]
     },
     "execution_count": 30,
     "metadata": {},
     "output_type": "execute_result"
    }
   ],
   "source": [
    "results = CUR.execute(\"select * from student where courseid=(select courseid from course where coursename='Data Science')\")\n",
    "results.fetchall()"
   ]
  },
  {
   "cell_type": "markdown",
   "id": "61686c11",
   "metadata": {},
   "source": [
    "### Inner Join | Left Join | Right Join | Outer Join"
   ]
  },
  {
   "cell_type": "markdown",
   "id": "7f8dab6a",
   "metadata": {},
   "source": [
    "common data | Left data | Righ data | all the data from tables"
   ]
  },
  {
   "cell_type": "markdown",
   "id": "331ff721",
   "metadata": {},
   "source": [
    "INNER JOIN"
   ]
  },
  {
   "cell_type": "code",
   "execution_count": null,
   "id": "e5abbbfa",
   "metadata": {},
   "outputs": [],
   "source": [
    "CUR.execute(\"select student.roll_no , student.studentname, course.courseid\")"
   ]
  }
 ],
 "metadata": {
  "kernelspec": {
   "display_name": "Python 3",
   "language": "python",
   "name": "python3"
  },
  "language_info": {
   "codemirror_mode": {
    "name": "ipython",
    "version": 3
   },
   "file_extension": ".py",
   "mimetype": "text/x-python",
   "name": "python",
   "nbconvert_exporter": "python",
   "pygments_lexer": "ipython3",
   "version": "3.8.8"
  }
 },
 "nbformat": 4,
 "nbformat_minor": 5
}
