{
 "cells": [
  {
   "cell_type": "markdown",
   "id": "e7ff6bbb",
   "metadata": {},
   "source": [
    "## Sqlite3\n"
   ]
  },
  {
   "cell_type": "code",
   "execution_count": 1,
   "id": "9793dd57",
   "metadata": {},
   "outputs": [],
   "source": [
    "import sqlite3\n",
    "\n",
    "db = sqlite3.connect(\"Parsing Data.db\")"
   ]
  },
  {
   "cell_type": "code",
   "execution_count": 2,
   "id": "aa9dec37",
   "metadata": {},
   "outputs": [],
   "source": [
    "cur = db.cursor()"
   ]
  },
  {
   "cell_type": "code",
   "execution_count": 3,
   "id": "ffeec0d8",
   "metadata": {},
   "outputs": [
    {
     "data": {
      "text/plain": [
       "<sqlite3.Cursor at 0x19ddd92e3b0>"
      ]
     },
     "execution_count": 3,
     "metadata": {},
     "output_type": "execute_result"
    }
   ],
   "source": [
    "cur.execute(\"create table parsingData (gender text,sudentid INT,marks int)\")"
   ]
  },
  {
   "cell_type": "code",
   "execution_count": 4,
   "id": "cfbe27ca",
   "metadata": {},
   "outputs": [
    {
     "data": {
      "text/plain": [
       "<sqlite3.Cursor at 0x19ddd92e3b0>"
      ]
     },
     "execution_count": 4,
     "metadata": {},
     "output_type": "execute_result"
    }
   ],
   "source": [
    "cur.execute(\"insert into parsingData (gender, sudentId, marks) values('Male',1,100)\")"
   ]
  },
  {
   "cell_type": "code",
   "execution_count": 5,
   "id": "e198f8ad",
   "metadata": {},
   "outputs": [],
   "source": [
    "# commit when you finish to work on it and the connection will be closed\n",
    "db.commit()"
   ]
  },
  {
   "cell_type": "code",
   "execution_count": 6,
   "id": "74c661f6",
   "metadata": {},
   "outputs": [
    {
     "name": "stdout",
     "output_type": "stream",
     "text": [
      "1\n"
     ]
    }
   ],
   "source": [
    "#print the no of rows updated.\n",
    "print(cur.rowcount)"
   ]
  },
  {
   "cell_type": "code",
   "execution_count": 7,
   "id": "d788c63a",
   "metadata": {},
   "outputs": [
    {
     "name": "stdout",
     "output_type": "stream",
     "text": [
      "9 : Records Inserted\n"
     ]
    }
   ],
   "source": [
    "with open(r\"C:\\Users\\tanbsing\\Data.csv.txt\",'r') as file:\n",
    "    total_records = 0\n",
    "    for row in file:\n",
    "        cur.execute(\"insert into parsingData values(?,?,?)\",row.split(\",\"))\n",
    "        db.commit()\n",
    "        total_records += 1\n",
    "print(total_records,': Records Inserted')"
   ]
  },
  {
   "cell_type": "code",
   "execution_count": 11,
   "id": "708b4928",
   "metadata": {
    "scrolled": true
   },
   "outputs": [
    {
     "name": "stdout",
     "output_type": "stream",
     "text": [
      "('Male', 1, 100)\n",
      "('Male', 97, 23)\n",
      "('Female', 30, 24)\n",
      "('Male', 40, 23)\n",
      "('Male', 30, 14)\n",
      "('Shemale', 90, 20)\n",
      "('Female', 46, 25)\n",
      "('Male', 67, 33)\n",
      "('Shemale', 80, 63)\n",
      "('Male', 9, 23)\n"
     ]
    }
   ],
   "source": [
    "results = cur.execute(\"select * from parsingData\")\n",
    "for row in results:\n",
    "    print(row)"
   ]
  },
  {
   "cell_type": "code",
   "execution_count": null,
   "id": "48c04c65",
   "metadata": {},
   "outputs": [],
   "source": []
  },
  {
   "cell_type": "code",
   "execution_count": null,
   "id": "ee257db1",
   "metadata": {},
   "outputs": [],
   "source": []
  },
  {
   "cell_type": "code",
   "execution_count": null,
   "id": "b9e82781",
   "metadata": {},
   "outputs": [],
   "source": []
  },
  {
   "cell_type": "code",
   "execution_count": 14,
   "id": "b0f2c9fc",
   "metadata": {},
   "outputs": [],
   "source": [
    "import sqlite3"
   ]
  },
  {
   "cell_type": "code",
   "execution_count": 15,
   "id": "212597fa",
   "metadata": {},
   "outputs": [],
   "source": [
    "# Creating DataBase\n",
    "DB = sqlite3.connect(\"dataparsing.db\")"
   ]
  },
  {
   "cell_type": "code",
   "execution_count": 16,
   "id": "d31d6d09",
   "metadata": {},
   "outputs": [],
   "source": [
    "# Created Cursor\n",
    "CUR = DB.cursor()"
   ]
  },
  {
   "cell_type": "code",
   "execution_count": 17,
   "id": "c1679e59",
   "metadata": {},
   "outputs": [
    {
     "data": {
      "text/plain": [
       "<sqlite3.Cursor at 0x1d7e3564c00>"
      ]
     },
     "execution_count": 17,
     "metadata": {},
     "output_type": "execute_result"
    }
   ],
   "source": [
    "CUR.execute(\"create table parsing (sex text, id int, marks int)\")"
   ]
  },
  {
   "cell_type": "code",
   "execution_count": 19,
   "id": "db87845e",
   "metadata": {},
   "outputs": [
    {
     "data": {
      "text/plain": [
       "<sqlite3.Cursor at 0x1d7e3564c00>"
      ]
     },
     "execution_count": 19,
     "metadata": {},
     "output_type": "execute_result"
    }
   ],
   "source": [
    "CUR.execute(\"insert into parsing (sex, id, marks) values('Male',1,3)\")"
   ]
  },
  {
   "cell_type": "code",
   "execution_count": 20,
   "id": "6f59e9c5",
   "metadata": {},
   "outputs": [],
   "source": [
    "TOTAL = 0"
   ]
  },
  {
   "cell_type": "code",
   "execution_count": 21,
   "id": "cc39ce80",
   "metadata": {},
   "outputs": [
    {
     "name": "stdout",
     "output_type": "stream",
     "text": [
      "9\n"
     ]
    }
   ],
   "source": [
    "with open(r\"C:\\Users\\tanbsing\\Data.csv.txt\",'r') as fil:\n",
    "    for row in fil:\n",
    "        TOTAL += 1\n",
    "        CUR.execute(\"insert into parsing values(?,?,?)\",row.split(\",\"))\n",
    "print(TOTAL)"
   ]
  },
  {
   "cell_type": "code",
   "execution_count": 23,
   "id": "8ed29936",
   "metadata": {},
   "outputs": [],
   "source": [
    "DB.commit()"
   ]
  },
  {
   "cell_type": "code",
   "execution_count": 25,
   "id": "78bd7a25",
   "metadata": {},
   "outputs": [
    {
     "name": "stdout",
     "output_type": "stream",
     "text": [
      "('Male', 1, 3)\n",
      "('Male', 97, 23)\n",
      "('Female', 30, 24)\n",
      "('Male', 40, 23)\n",
      "('Male', 30, 14)\n",
      "('Shemale', 90, 20)\n",
      "('Female', 46, 25)\n",
      "('Male', 67, 33)\n",
      "('Shemale', 80, 63)\n",
      "('Male', 9, 23)\n"
     ]
    }
   ],
   "source": [
    "result = CUR.execute(\"select * from parsing\")\n",
    "for row in result:\n",
    "    print(row)"
   ]
  },
  {
   "cell_type": "code",
   "execution_count": 31,
   "id": "7139e526",
   "metadata": {},
   "outputs": [
    {
     "name": "stdout",
     "output_type": "stream",
     "text": [
      "('Male', 1, 3)\n",
      "('Male', 30, 14)\n",
      "('Shemale', 90, 20)\n",
      "('Male', 97, 23)\n",
      "('Male', 40, 23)\n",
      "('Male', 9, 23)\n",
      "('Female', 30, 24)\n",
      "('Female', 46, 25)\n",
      "('Male', 67, 33)\n",
      "('Shemale', 80, 63)\n"
     ]
    }
   ],
   "source": [
    "result = CUR.execute(\"select * from parsing order by marks asc\")\n",
    "for row in result:\n",
    "    print(row)"
   ]
  },
  {
   "cell_type": "markdown",
   "id": "a3bac5b2",
   "metadata": {},
   "source": [
    "### FETCHONE()"
   ]
  },
  {
   "cell_type": "code",
   "execution_count": 30,
   "id": "ab3d3c89",
   "metadata": {},
   "outputs": [
    {
     "name": "stdout",
     "output_type": "stream",
     "text": [
      "Minimum Marks : (3,)\n"
     ]
    }
   ],
   "source": [
    "result = CUR.execute(\"select min(marks) from parsing\")\n",
    "print(\"Minimum Marks :\",result.fetchone())"
   ]
  },
  {
   "cell_type": "code",
   "execution_count": 32,
   "id": "de8f487a",
   "metadata": {},
   "outputs": [
    {
     "name": "stdout",
     "output_type": "stream",
     "text": [
      "Minimum Marks : (63,)\n"
     ]
    }
   ],
   "source": [
    "result = CUR.execute(\"select max(marks) from parsing\")\n",
    "print(\"Minimum Marks :\",result.fetchone())"
   ]
  },
  {
   "cell_type": "code",
   "execution_count": null,
   "id": "3c97a603",
   "metadata": {},
   "outputs": [],
   "source": []
  },
  {
   "cell_type": "code",
   "execution_count": null,
   "id": "0dd9f8ab",
   "metadata": {},
   "outputs": [],
   "source": []
  },
  {
   "cell_type": "code",
   "execution_count": 1,
   "id": "8a06ec64",
   "metadata": {},
   "outputs": [],
   "source": [
    "import sqlite3 "
   ]
  },
  {
   "cell_type": "code",
   "execution_count": 2,
   "id": "5326f15d",
   "metadata": {},
   "outputs": [],
   "source": [
    "conn = sqlite3.connect(\"dataparsing.db\")"
   ]
  },
  {
   "cell_type": "code",
   "execution_count": 6,
   "id": "3785f30c",
   "metadata": {},
   "outputs": [],
   "source": [
    "def parsing(conn):\n",
    "    cur = conn.cursor()\n",
    "    cur.execute(\"create table class (name text, JoinDate date,roll int)\")\n",
    "    conn.commit()"
   ]
  },
  {
   "cell_type": "code",
   "execution_count": 7,
   "id": "1510595b",
   "metadata": {},
   "outputs": [],
   "source": [
    "parsing(conn)"
   ]
  },
  {
   "cell_type": "code",
   "execution_count": 8,
   "id": "724f1884",
   "metadata": {},
   "outputs": [],
   "source": [
    "cur = conn.cursor()"
   ]
  },
  {
   "cell_type": "code",
   "execution_count": 13,
   "id": "4b5d235f",
   "metadata": {},
   "outputs": [
    {
     "data": {
      "text/plain": [
       "<sqlite3.Cursor at 0x23761456ab0>"
      ]
     },
     "execution_count": 13,
     "metadata": {},
     "output_type": "execute_result"
    }
   ],
   "source": [
    "cur.execute(\"insert into class (name, JoinDate, roll) values('Tanbir Singh',12-12-2012,1),('Himanshu Jain',13-12-2021,2),('Rohan joshi',23-05-2019,3)\")"
   ]
  },
  {
   "cell_type": "code",
   "execution_count": null,
   "id": "d912a2b7",
   "metadata": {},
   "outputs": [],
   "source": []
  },
  {
   "cell_type": "code",
   "execution_count": null,
   "id": "75579099",
   "metadata": {},
   "outputs": [],
   "source": []
  },
  {
   "cell_type": "code",
   "execution_count": 16,
   "id": "945d1292",
   "metadata": {},
   "outputs": [],
   "source": [
    "DB = sqlite3.connect(\"DATA.db\")"
   ]
  },
  {
   "cell_type": "code",
   "execution_count": 17,
   "id": "28df7c8c",
   "metadata": {},
   "outputs": [],
   "source": [
    "cuR = DB.cursor()"
   ]
  },
  {
   "cell_type": "code",
   "execution_count": 19,
   "id": "a4da7db2",
   "metadata": {},
   "outputs": [
    {
     "data": {
      "text/plain": [
       "<sqlite3.Cursor at 0x23761475340>"
      ]
     },
     "execution_count": 19,
     "metadata": {},
     "output_type": "execute_result"
    }
   ],
   "source": [
    "cuR.execute(\"create table ClasS (gender text, id int, marks int)\")"
   ]
  },
  {
   "cell_type": "code",
   "execution_count": 21,
   "id": "3987dff7",
   "metadata": {},
   "outputs": [
    {
     "data": {
      "text/plain": [
       "<sqlite3.Cursor at 0x23761475340>"
      ]
     },
     "execution_count": 21,
     "metadata": {},
     "output_type": "execute_result"
    }
   ],
   "source": [
    "cuR.execute(\"insert into ClasS (gender, id, marks) values('Male',89,99)\")"
   ]
  },
  {
   "cell_type": "code",
   "execution_count": 25,
   "id": "4b752cd9",
   "metadata": {},
   "outputs": [],
   "source": [
    "DB.commit()\n",
    "total = 0"
   ]
  },
  {
   "cell_type": "code",
   "execution_count": 27,
   "id": "d68a3796",
   "metadata": {},
   "outputs": [
    {
     "name": "stdout",
     "output_type": "stream",
     "text": [
      "9\n"
     ]
    }
   ],
   "source": [
    "with open(r\"C:\\Users\\tanbsing\\Data.csv.txt\",'r') as Info:\n",
    "    for row in Info:\n",
    "        cuR.execute(\"insert into ClasS values(?,?,?)\",row.split(\",\"))\n",
    "        total += 1\n",
    "print(total)\n",
    "    "
   ]
  },
  {
   "cell_type": "code",
   "execution_count": 28,
   "id": "18d4b062",
   "metadata": {},
   "outputs": [],
   "source": [
    "DB.commit()"
   ]
  },
  {
   "cell_type": "code",
   "execution_count": null,
   "id": "0247ceb0",
   "metadata": {},
   "outputs": [],
   "source": [
    "result = cuR."
   ]
  },
  {
   "cell_type": "code",
   "execution_count": null,
   "id": "b3e27425",
   "metadata": {},
   "outputs": [],
   "source": []
  },
  {
   "cell_type": "code",
   "execution_count": null,
   "id": "c9699649",
   "metadata": {},
   "outputs": [],
   "source": []
  },
  {
   "cell_type": "code",
   "execution_count": 2,
   "id": "a7b2997f",
   "metadata": {},
   "outputs": [],
   "source": [
    "import sqlite3"
   ]
  },
  {
   "cell_type": "code",
   "execution_count": 3,
   "id": "d1fb7a26",
   "metadata": {},
   "outputs": [],
   "source": [
    "db1 = sqlite3.connect(\"work.db\")"
   ]
  },
  {
   "cell_type": "code",
   "execution_count": 4,
   "id": "cdc43219",
   "metadata": {},
   "outputs": [],
   "source": [
    "curr = db1.cursor()"
   ]
  },
  {
   "cell_type": "code",
   "execution_count": 9,
   "id": "4ebf76b3",
   "metadata": {},
   "outputs": [],
   "source": [
    "a = 2\n",
    "def clas(a):\n",
    "    return (a+2)"
   ]
  },
  {
   "cell_type": "code",
   "execution_count": 14,
   "id": "53dccde4",
   "metadata": {},
   "outputs": [
    {
     "name": "stdout",
     "output_type": "stream",
     "text": [
      "4\n"
     ]
    }
   ],
   "source": [
    "print(clas(a))"
   ]
  },
  {
   "cell_type": "code",
   "execution_count": null,
   "id": "52a72797",
   "metadata": {},
   "outputs": [],
   "source": []
  },
  {
   "cell_type": "code",
   "execution_count": null,
   "id": "82a7e5bd",
   "metadata": {},
   "outputs": [],
   "source": []
  }
 ],
 "metadata": {
  "kernelspec": {
   "display_name": "Python 3",
   "language": "python",
   "name": "python3"
  },
  "language_info": {
   "codemirror_mode": {
    "name": "ipython",
    "version": 3
   },
   "file_extension": ".py",
   "mimetype": "text/x-python",
   "name": "python",
   "nbconvert_exporter": "python",
   "pygments_lexer": "ipython3",
   "version": "3.8.8"
  }
 },
 "nbformat": 4,
 "nbformat_minor": 5
}
