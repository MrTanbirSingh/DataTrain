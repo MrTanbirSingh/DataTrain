{
 "cells": [
  {
   "cell_type": "code",
   "execution_count": 1,
   "id": "ce1de290",
   "metadata": {},
   "outputs": [],
   "source": [
    "import numpy"
   ]
  },
  {
   "cell_type": "code",
   "execution_count": 7,
   "id": "5e2840b1",
   "metadata": {},
   "outputs": [
    {
     "data": {
      "text/plain": [
       "array([  13,   34,   32,    4,  325,   32,  234,    1, 4537, 5765,  431,\n",
       "         24,    2,    4,   23,  234,   32])"
      ]
     },
     "execution_count": 7,
     "metadata": {},
     "output_type": "execute_result"
    }
   ],
   "source": [
    "numpy.array([13,34,32,4,325,32,234,1,4537,5765,431,24,2,4,23,234,32])"
   ]
  },
  {
   "cell_type": "code",
   "execution_count": null,
   "id": "9065c9aa",
   "metadata": {},
   "outputs": [],
   "source": []
  }
 ],
 "metadata": {
  "kernelspec": {
   "display_name": "Python 3",
   "language": "python",
   "name": "python3"
  },
  "language_info": {
   "codemirror_mode": {
    "name": "ipython",
    "version": 3
   },
   "file_extension": ".py",
   "mimetype": "text/x-python",
   "name": "python",
   "nbconvert_exporter": "python",
   "pygments_lexer": "ipython3",
   "version": "3.8.8"
  }
 },
 "nbformat": 4,
 "nbformat_minor": 5
}
