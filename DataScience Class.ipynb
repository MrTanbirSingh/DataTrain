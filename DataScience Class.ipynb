{
 "cells": [
  {
   "cell_type": "code",
   "execution_count": 3,
   "id": "29fb82aa",
   "metadata": {},
   "outputs": [],
   "source": [
    "s = 10 #Square"
   ]
  },
  {
   "cell_type": "code",
   "execution_count": 4,
   "id": "83c05210",
   "metadata": {},
   "outputs": [
    {
     "name": "stdout",
     "output_type": "stream",
     "text": [
      "Area of Square 100\n"
     ]
    }
   ],
   "source": [
    "print(\"Area of Square\",s*s)"
   ]
  },
  {
   "cell_type": "markdown",
   "id": "d9971c62",
   "metadata": {},
   "source": [
    "*List Data Structure*"
   ]
  },
  {
   "cell_type": "code",
   "execution_count": 2,
   "id": "a26ad69e",
   "metadata": {},
   "outputs": [],
   "source": [
    "list1 = [1,23,4,5,32,5,25,2,632,4,242,32]"
   ]
  },
  {
   "cell_type": "code",
   "execution_count": 12,
   "id": "887b88f5",
   "metadata": {},
   "outputs": [
    {
     "data": {
      "text/plain": [
       "[23, 4, 5, 32, 5, 25, 2, 632, 4, 242, 32, 'hello']"
      ]
     },
     "execution_count": 12,
     "metadata": {},
     "output_type": "execute_result"
    }
   ],
   "source": [
    "list1"
   ]
  },
  {
   "cell_type": "code",
   "execution_count": 13,
   "id": "6ba884fa",
   "metadata": {},
   "outputs": [],
   "source": [
    "list1.append(\"hello\")"
   ]
  },
  {
   "cell_type": "code",
   "execution_count": 14,
   "id": "7d1a6144",
   "metadata": {},
   "outputs": [
    {
     "data": {
      "text/plain": [
       "[23, 4, 5, 32, 5, 25, 2, 632, 4, 242, 32, 'hello', 'hello']"
      ]
     },
     "execution_count": 14,
     "metadata": {},
     "output_type": "execute_result"
    }
   ],
   "source": [
    "list1"
   ]
  },
  {
   "cell_type": "code",
   "execution_count": 15,
   "id": "3967af4d",
   "metadata": {},
   "outputs": [
    {
     "ename": "TypeError",
     "evalue": "slice indices must be integers or have an __index__ method",
     "output_type": "error",
     "traceback": [
      "\u001b[1;31m---------------------------------------------------------------------------\u001b[0m",
      "\u001b[1;31mTypeError\u001b[0m                                 Traceback (most recent call last)",
      "\u001b[1;32m<ipython-input-15-d75e613fd73d>\u001b[0m in \u001b[0;36m<module>\u001b[1;34m\u001b[0m\n\u001b[1;32m----> 1\u001b[1;33m \u001b[0mlist1\u001b[0m\u001b[1;33m.\u001b[0m\u001b[0mindex\u001b[0m\u001b[1;33m(\u001b[0m\u001b[1;36m2\u001b[0m\u001b[1;33m,\u001b[0m\u001b[1;34m\"HP)\"\u001b[0m\u001b[1;33m)\u001b[0m\u001b[1;33m\u001b[0m\u001b[1;33m\u001b[0m\u001b[0m\n\u001b[0m",
      "\u001b[1;31mTypeError\u001b[0m: slice indices must be integers or have an __index__ method"
     ]
    }
   ],
   "source": [
    "list1.index(2,\"HP)\")"
   ]
  },
  {
   "cell_type": "code",
   "execution_count": 17,
   "id": "746cdcd0",
   "metadata": {},
   "outputs": [],
   "source": [
    "list1.remove(23)"
   ]
  },
  {
   "cell_type": "code",
   "execution_count": 18,
   "id": "6058f778",
   "metadata": {},
   "outputs": [
    {
     "data": {
      "text/plain": [
       "[4, 5, 32, 5, 25, 2, 632, 4, 242, 32, 'hello', 'hello']"
      ]
     },
     "execution_count": 18,
     "metadata": {},
     "output_type": "execute_result"
    }
   ],
   "source": [
    "list1"
   ]
  },
  {
   "cell_type": "code",
   "execution_count": 13,
   "id": "6cbc4b4e",
   "metadata": {},
   "outputs": [],
   "source": [
    "list1.remove(\"hello\")"
   ]
  },
  {
   "cell_type": "code",
   "execution_count": null,
   "id": "c687d6a9",
   "metadata": {},
   "outputs": [],
   "source": []
  },
  {
   "cell_type": "code",
   "execution_count": 14,
   "id": "7ce29bd6",
   "metadata": {},
   "outputs": [
    {
     "data": {
      "text/plain": [
       "[23, 4, 5, 32, 5, 25, 2, 632, 4, 242, 32]"
      ]
     },
     "execution_count": 14,
     "metadata": {},
     "output_type": "execute_result"
    }
   ],
   "source": [
    "list1"
   ]
  },
  {
   "cell_type": "code",
   "execution_count": 15,
   "id": "2651861c",
   "metadata": {},
   "outputs": [],
   "source": [
    "listpop = list1.pop()"
   ]
  },
  {
   "cell_type": "code",
   "execution_count": 16,
   "id": "a45adf69",
   "metadata": {},
   "outputs": [
    {
     "data": {
      "text/plain": [
       "242"
      ]
     },
     "execution_count": 16,
     "metadata": {},
     "output_type": "execute_result"
    }
   ],
   "source": [
    "list1.pop()"
   ]
  },
  {
   "cell_type": "code",
   "execution_count": 17,
   "id": "f7caca3b",
   "metadata": {},
   "outputs": [],
   "source": [
    "list1.append(listpop)"
   ]
  },
  {
   "cell_type": "code",
   "execution_count": 18,
   "id": "b8cd46ff",
   "metadata": {},
   "outputs": [
    {
     "data": {
      "text/plain": [
       "[23, 4, 5, 32, 5, 25, 2, 632, 4, 32]"
      ]
     },
     "execution_count": 18,
     "metadata": {},
     "output_type": "execute_result"
    }
   ],
   "source": [
    "list1"
   ]
  },
  {
   "cell_type": "code",
   "execution_count": 22,
   "id": "383c6bad",
   "metadata": {},
   "outputs": [],
   "source": [
    "l1 = [1,23,4,[1,23,43],3]"
   ]
  },
  {
   "cell_type": "code",
   "execution_count": 25,
   "id": "1a93aa60",
   "metadata": {},
   "outputs": [],
   "source": [
    "l1.extend([2,3432,4,3])"
   ]
  },
  {
   "cell_type": "code",
   "execution_count": 26,
   "id": "82e4c2d4",
   "metadata": {},
   "outputs": [
    {
     "data": {
      "text/plain": [
       "[1, 23, 4, [1, 23, 43], 3, 2, 3432, 4, 3, 2, 3432, 4, 3]"
      ]
     },
     "execution_count": 26,
     "metadata": {},
     "output_type": "execute_result"
    }
   ],
   "source": [
    "l1"
   ]
  },
  {
   "cell_type": "code",
   "execution_count": 27,
   "id": "6a1a35e8",
   "metadata": {},
   "outputs": [
    {
     "data": {
      "text/plain": [
       "[1, 23, 4, [1, 23, 43], 3, 2, 3432, 4, 3, 2, 3432, 4, 3, 1, 2, 4, 45, 23, 4]"
      ]
     },
     "execution_count": 27,
     "metadata": {},
     "output_type": "execute_result"
    }
   ],
   "source": [
    "l1 + [1,2,4,45,23,4]"
   ]
  },
  {
   "cell_type": "markdown",
   "id": "f654e5d0",
   "metadata": {},
   "source": [
    "## **Dictionary**"
   ]
  },
  {
   "cell_type": "code",
   "execution_count": 28,
   "id": "0e4338ad",
   "metadata": {},
   "outputs": [],
   "source": [
    "dict = {'id':1002,'name':'tanbir singh'}"
   ]
  },
  {
   "cell_type": "code",
   "execution_count": 29,
   "id": "2ac9c6b0",
   "metadata": {},
   "outputs": [
    {
     "data": {
      "text/plain": [
       "1002"
      ]
     },
     "execution_count": 29,
     "metadata": {},
     "output_type": "execute_result"
    }
   ],
   "source": [
    "dict['id']"
   ]
  },
  {
   "cell_type": "code",
   "execution_count": 30,
   "id": "1d3ed215",
   "metadata": {},
   "outputs": [
    {
     "data": {
      "text/plain": [
       "'tanbir singh'"
      ]
     },
     "execution_count": 30,
     "metadata": {},
     "output_type": "execute_result"
    }
   ],
   "source": [
    "dict['name']"
   ]
  },
  {
   "cell_type": "code",
   "execution_count": 33,
   "id": "d7de906b",
   "metadata": {},
   "outputs": [
    {
     "data": {
      "text/plain": [
       "dict_keys(['id', 'name'])"
      ]
     },
     "execution_count": 33,
     "metadata": {},
     "output_type": "execute_result"
    }
   ],
   "source": [
    "dict.keys()"
   ]
  },
  {
   "cell_type": "code",
   "execution_count": 34,
   "id": "c8c358e1",
   "metadata": {},
   "outputs": [
    {
     "data": {
      "text/plain": [
       "dict_values([1002, 'tanbir singh'])"
      ]
     },
     "execution_count": 34,
     "metadata": {},
     "output_type": "execute_result"
    }
   ],
   "source": [
    "dict.values()"
   ]
  },
  {
   "cell_type": "code",
   "execution_count": 35,
   "id": "d0c6dcd4",
   "metadata": {},
   "outputs": [
    {
     "data": {
      "text/plain": [
       "dict_items([('id', 1002), ('name', 'tanbir singh')])"
      ]
     },
     "execution_count": 35,
     "metadata": {},
     "output_type": "execute_result"
    }
   ],
   "source": [
    "dict.items()"
   ]
  },
  {
   "cell_type": "code",
   "execution_count": 37,
   "id": "e8f17d12",
   "metadata": {},
   "outputs": [],
   "source": [
    "d1 = {'name':'Tanbir singh','age':24,'class':'first'}"
   ]
  },
  {
   "cell_type": "code",
   "execution_count": 38,
   "id": "f6208c3a",
   "metadata": {},
   "outputs": [
    {
     "data": {
      "text/plain": [
       "{'name': 'Tanbir singh', 'age': 24, 'class': 'first'}"
      ]
     },
     "execution_count": 38,
     "metadata": {},
     "output_type": "execute_result"
    }
   ],
   "source": [
    "d1"
   ]
  },
  {
   "cell_type": "code",
   "execution_count": 39,
   "id": "b3394f2a",
   "metadata": {},
   "outputs": [],
   "source": [
    "d1['name']='TanbSing'"
   ]
  },
  {
   "cell_type": "code",
   "execution_count": 40,
   "id": "e0fa3e5b",
   "metadata": {},
   "outputs": [
    {
     "data": {
      "text/plain": [
       "{'name': 'TanbSing', 'age': 24, 'class': 'first'}"
      ]
     },
     "execution_count": 40,
     "metadata": {},
     "output_type": "execute_result"
    }
   ],
   "source": [
    "d1"
   ]
  },
  {
   "cell_type": "code",
   "execution_count": 42,
   "id": "52e31af6",
   "metadata": {},
   "outputs": [],
   "source": [
    "d1.update({'div':'A'})"
   ]
  },
  {
   "cell_type": "code",
   "execution_count": 43,
   "id": "66bae63c",
   "metadata": {},
   "outputs": [
    {
     "data": {
      "text/plain": [
       "{'name': 'TanbSing', 'age': 24, 'class': 'first', 'div': 'A'}"
      ]
     },
     "execution_count": 43,
     "metadata": {},
     "output_type": "execute_result"
    }
   ],
   "source": [
    "d1"
   ]
  },
  {
   "cell_type": "code",
   "execution_count": 47,
   "id": "1d05802e",
   "metadata": {},
   "outputs": [
    {
     "name": "stdout",
     "output_type": "stream",
     "text": [
      "Student Name : TanbSing\n"
     ]
    }
   ],
   "source": [
    "print('Student Name :',d1['name'])"
   ]
  },
  {
   "cell_type": "code",
   "execution_count": 48,
   "id": "2fd7fb3c",
   "metadata": {},
   "outputs": [
    {
     "data": {
      "text/plain": [
       "dict_keys(['name', 'age', 'class', 'div'])"
      ]
     },
     "execution_count": 48,
     "metadata": {},
     "output_type": "execute_result"
    }
   ],
   "source": [
    "d1.keys()"
   ]
  },
  {
   "cell_type": "code",
   "execution_count": 49,
   "id": "4203a61c",
   "metadata": {},
   "outputs": [
    {
     "data": {
      "text/plain": [
       "dict_values([1002, 'tanbir singh'])"
      ]
     },
     "execution_count": 49,
     "metadata": {},
     "output_type": "execute_result"
    }
   ],
   "source": [
    "dict.values()"
   ]
  },
  {
   "cell_type": "code",
   "execution_count": 50,
   "id": "9e93d9aa",
   "metadata": {},
   "outputs": [
    {
     "data": {
      "text/plain": [
       "dict_items([('id', 1002), ('name', 'tanbir singh')])"
      ]
     },
     "execution_count": 50,
     "metadata": {},
     "output_type": "execute_result"
    }
   ],
   "source": [
    "dict.items()"
   ]
  },
  {
   "cell_type": "code",
   "execution_count": 51,
   "id": "897316b3",
   "metadata": {},
   "outputs": [
    {
     "data": {
      "text/plain": [
       "dict_items([('name', 'TanbSing'), ('age', 24), ('class', 'first'), ('div', 'A')])"
      ]
     },
     "execution_count": 51,
     "metadata": {},
     "output_type": "execute_result"
    }
   ],
   "source": [
    "d1.items()"
   ]
  },
  {
   "cell_type": "code",
   "execution_count": 52,
   "id": "d24bc0c6",
   "metadata": {},
   "outputs": [
    {
     "data": {
      "text/plain": [
       "dict_keys(['name', 'age', 'class', 'div'])"
      ]
     },
     "execution_count": 52,
     "metadata": {},
     "output_type": "execute_result"
    }
   ],
   "source": [
    "d1.keys()"
   ]
  },
  {
   "cell_type": "code",
   "execution_count": 54,
   "id": "1e4f72b1",
   "metadata": {},
   "outputs": [
    {
     "data": {
      "text/plain": [
       "'A'"
      ]
     },
     "execution_count": 54,
     "metadata": {},
     "output_type": "execute_result"
    }
   ],
   "source": [
    "d1.pop('div')"
   ]
  },
  {
   "cell_type": "code",
   "execution_count": 55,
   "id": "e3a6cc7f",
   "metadata": {},
   "outputs": [
    {
     "data": {
      "text/plain": [
       "{'name': 'TanbSing', 'age': 24, 'class': 'first'}"
      ]
     },
     "execution_count": 55,
     "metadata": {},
     "output_type": "execute_result"
    }
   ],
   "source": [
    "d1"
   ]
  },
  {
   "cell_type": "code",
   "execution_count": 56,
   "id": "07df6719",
   "metadata": {},
   "outputs": [],
   "source": [
    "d1.update({19:'names'})"
   ]
  },
  {
   "cell_type": "code",
   "execution_count": 59,
   "id": "6e3a13f2",
   "metadata": {},
   "outputs": [
    {
     "data": {
      "text/plain": [
       "'names'"
      ]
     },
     "execution_count": 59,
     "metadata": {},
     "output_type": "execute_result"
    }
   ],
   "source": [
    "d1[19]"
   ]
  },
  {
   "cell_type": "code",
   "execution_count": 60,
   "id": "81e2873f",
   "metadata": {},
   "outputs": [],
   "source": [
    "d1[19] = 'my name'"
   ]
  },
  {
   "cell_type": "code",
   "execution_count": 61,
   "id": "54190caf",
   "metadata": {},
   "outputs": [
    {
     "data": {
      "text/plain": [
       "{'name': 'TanbSing', 'age': 24, 'class': 'first', 19: 'my name'}"
      ]
     },
     "execution_count": 61,
     "metadata": {},
     "output_type": "execute_result"
    }
   ],
   "source": [
    "d1"
   ]
  },
  {
   "cell_type": "code",
   "execution_count": 62,
   "id": "7219bbd9",
   "metadata": {},
   "outputs": [],
   "source": [
    "d2 = {'n':[1,2,32,34,2],'d':[32,'ddf']}"
   ]
  },
  {
   "cell_type": "code",
   "execution_count": 63,
   "id": "298103ca",
   "metadata": {},
   "outputs": [
    {
     "data": {
      "text/plain": [
       "dict_keys(['n', 'd'])"
      ]
     },
     "execution_count": 63,
     "metadata": {},
     "output_type": "execute_result"
    }
   ],
   "source": [
    "d2.keys()"
   ]
  },
  {
   "cell_type": "code",
   "execution_count": 64,
   "id": "d464f6db",
   "metadata": {},
   "outputs": [
    {
     "data": {
      "text/plain": [
       "dict_values([[1, 2, 32, 34, 2], [32, 'ddf']])"
      ]
     },
     "execution_count": 64,
     "metadata": {},
     "output_type": "execute_result"
    }
   ],
   "source": [
    "d2.values()"
   ]
  },
  {
   "cell_type": "code",
   "execution_count": 67,
   "id": "cf52ff21",
   "metadata": {},
   "outputs": [
    {
     "data": {
      "text/plain": [
       "1"
      ]
     },
     "execution_count": 67,
     "metadata": {},
     "output_type": "execute_result"
    }
   ],
   "source": [
    "d2['n'][0]"
   ]
  },
  {
   "cell_type": "markdown",
   "id": "905e1845",
   "metadata": {},
   "source": [
    "## **Sets**"
   ]
  },
  {
   "cell_type": "code",
   "execution_count": 4,
   "id": "376665ec",
   "metadata": {},
   "outputs": [],
   "source": [
    "st = {234,32,4,5,5,5,3,1253,532,2,45,215,5,5,23,5}"
   ]
  },
  {
   "cell_type": "code",
   "execution_count": 5,
   "id": "97ebf49d",
   "metadata": {},
   "outputs": [
    {
     "data": {
      "text/plain": [
       "{2, 3, 4, 5, 23, 32, 45, 215, 234, 532, 1253}"
      ]
     },
     "execution_count": 5,
     "metadata": {},
     "output_type": "execute_result"
    }
   ],
   "source": [
    "st"
   ]
  },
  {
   "cell_type": "code",
   "execution_count": 6,
   "id": "c476c084",
   "metadata": {},
   "outputs": [],
   "source": [
    "st.remove(2)"
   ]
  },
  {
   "cell_type": "code",
   "execution_count": 7,
   "id": "27d872cf",
   "metadata": {},
   "outputs": [
    {
     "data": {
      "text/plain": [
       "{3, 4, 5, 23, 32, 45, 215, 234, 532, 1253}"
      ]
     },
     "execution_count": 7,
     "metadata": {},
     "output_type": "execute_result"
    }
   ],
   "source": [
    "st"
   ]
  },
  {
   "cell_type": "code",
   "execution_count": 8,
   "id": "040d97d7",
   "metadata": {},
   "outputs": [],
   "source": [
    "st.add(1)"
   ]
  },
  {
   "cell_type": "code",
   "execution_count": 9,
   "id": "014591d1",
   "metadata": {},
   "outputs": [
    {
     "data": {
      "text/plain": [
       "{1, 3, 4, 5, 23, 32, 45, 215, 234, 532, 1253}"
      ]
     },
     "execution_count": 9,
     "metadata": {},
     "output_type": "execute_result"
    }
   ],
   "source": [
    "st"
   ]
  },
  {
   "cell_type": "code",
   "execution_count": 12,
   "id": "e6aa8480",
   "metadata": {},
   "outputs": [],
   "source": [
    "st.add(14)"
   ]
  },
  {
   "cell_type": "code",
   "execution_count": 28,
   "id": "75d727de",
   "metadata": {},
   "outputs": [
    {
     "name": "stdout",
     "output_type": "stream",
     "text": [
      "{32, 1, 3, 4, 5, 1253, 234, 45, 14, 532, 23, 215}\n"
     ]
    }
   ],
   "source": [
    "print(st)"
   ]
  },
  {
   "cell_type": "code",
   "execution_count": null,
   "id": "6ecbc04e",
   "metadata": {},
   "outputs": [],
   "source": []
  },
  {
   "cell_type": "markdown",
   "id": "a1f18061",
   "metadata": {},
   "source": [
    "## While LOOP"
   ]
  },
  {
   "cell_type": "code",
   "execution_count": 32,
   "id": "ed3f433c",
   "metadata": {},
   "outputs": [
    {
     "name": "stdout",
     "output_type": "stream",
     "text": [
      "0->1->2->3->4->5->"
     ]
    }
   ],
   "source": [
    "a = 0\n",
    "while(a<6):\n",
    "    print(a,end=\"->\")\n",
    "    a = a + 1"
   ]
  },
  {
   "cell_type": "code",
   "execution_count": null,
   "id": "9177dbb3",
   "metadata": {},
   "outputs": [],
   "source": [
    "a = 0\n",
    "while(a<6):\n",
    "    print(a)\n",
    "    a = a + 1"
   ]
  },
  {
   "cell_type": "code",
   "execution_count": 60,
   "id": "f7572834",
   "metadata": {},
   "outputs": [
    {
     "name": "stdout",
     "output_type": "stream",
     "text": [
      "ON work range(0, 5)\n",
      "ON work range(0, 5)\n",
      "ON work range(0, 5)\n",
      "ON work range(0, 5)\n",
      "ON work range(0, 5)\n",
      "ON work range(0, 5)\n",
      "ON work range(0, 5)\n",
      "ON work range(0, 5)\n",
      "ON work range(0, 5)\n",
      "ON work range(0, 5)\n",
      "Shift Over\n"
     ]
    }
   ],
   "source": [
    "a = 0\n",
    "while(a < 10):\n",
    "    print(\"ON work\",range(5))\n",
    "    a = a + 1\n",
    "\n",
    "print(\"Shift Over\")"
   ]
  },
  {
   "cell_type": "markdown",
   "id": "25ca8cfe",
   "metadata": {},
   "source": [
    "## For Looop\n"
   ]
  },
  {
   "cell_type": "code",
   "execution_count": 46,
   "id": "a03ad963",
   "metadata": {},
   "outputs": [
    {
     "name": "stdout",
     "output_type": "stream",
     "text": [
      "12 3124 43 5 46 36 345 63 5 "
     ]
    }
   ],
   "source": [
    "l1 = [12,3124,43,5,46,36,345,63,5]\n",
    "\n",
    "for i in l1:\n",
    "    print(i,end = \" \")"
   ]
  },
  {
   "cell_type": "code",
   "execution_count": 62,
   "id": "9cc5399d",
   "metadata": {},
   "outputs": [
    {
     "data": {
      "text/plain": [
       "[1]"
      ]
     },
     "execution_count": 62,
     "metadata": {},
     "output_type": "execute_result"
    }
   ],
   "source": [
    "list(range(1,3,2))"
   ]
  },
  {
   "cell_type": "code",
   "execution_count": 64,
   "id": "0068b8ae",
   "metadata": {},
   "outputs": [
    {
     "name": "stdout",
     "output_type": "stream",
     "text": [
      "0\n",
      "1\n",
      "2\n",
      "3\n"
     ]
    }
   ],
   "source": [
    "for i in range(4):\n",
    "    print(i)"
   ]
  },
  {
   "cell_type": "code",
   "execution_count": 65,
   "id": "e72f581f",
   "metadata": {},
   "outputs": [],
   "source": [
    "dct1 = {'a':1,'b':2,'c':3}"
   ]
  },
  {
   "cell_type": "code",
   "execution_count": 66,
   "id": "c04c6e08",
   "metadata": {},
   "outputs": [],
   "source": [
    "dct1.update({'d':4})"
   ]
  },
  {
   "cell_type": "code",
   "execution_count": 67,
   "id": "501e55e3",
   "metadata": {},
   "outputs": [
    {
     "data": {
      "text/plain": [
       "{'a': 1, 'b': 2, 'c': 3, 'd': 4}"
      ]
     },
     "execution_count": 67,
     "metadata": {},
     "output_type": "execute_result"
    }
   ],
   "source": [
    "dct1"
   ]
  },
  {
   "cell_type": "code",
   "execution_count": 68,
   "id": "ce46a0fa",
   "metadata": {},
   "outputs": [
    {
     "data": {
      "text/plain": [
       "2"
      ]
     },
     "execution_count": 68,
     "metadata": {},
     "output_type": "execute_result"
    }
   ],
   "source": [
    "dct1['b']"
   ]
  },
  {
   "cell_type": "code",
   "execution_count": 69,
   "id": "6734d2cd",
   "metadata": {},
   "outputs": [
    {
     "data": {
      "text/plain": [
       "dict_keys(['a', 'b', 'c', 'd'])"
      ]
     },
     "execution_count": 69,
     "metadata": {},
     "output_type": "execute_result"
    }
   ],
   "source": [
    "dct1.keys()"
   ]
  },
  {
   "cell_type": "code",
   "execution_count": 70,
   "id": "5084d5ee",
   "metadata": {},
   "outputs": [
    {
     "data": {
      "text/plain": [
       "dict_values([1, 2, 3, 4])"
      ]
     },
     "execution_count": 70,
     "metadata": {},
     "output_type": "execute_result"
    }
   ],
   "source": [
    "dct1.values()"
   ]
  },
  {
   "cell_type": "code",
   "execution_count": 73,
   "id": "2d794cd7",
   "metadata": {
    "scrolled": true
   },
   "outputs": [
    {
     "data": {
      "text/plain": [
       "dict_items([('a', 1), ('b', 2), ('c', 3), ('d', 4)])"
      ]
     },
     "execution_count": 73,
     "metadata": {},
     "output_type": "execute_result"
    }
   ],
   "source": [
    "dct1.items()"
   ]
  },
  {
   "cell_type": "code",
   "execution_count": 92,
   "id": "b5e244c2",
   "metadata": {},
   "outputs": [],
   "source": [
    "dct1['a'] = 2"
   ]
  },
  {
   "cell_type": "code",
   "execution_count": 101,
   "id": "3527e534",
   "metadata": {},
   "outputs": [
    {
     "name": "stdout",
     "output_type": "stream",
     "text": [
      "0 1 2 "
     ]
    }
   ],
   "source": [
    "for i in range(3):\n",
    "    print(i,end = \" \")"
   ]
  },
  {
   "cell_type": "code",
   "execution_count": 128,
   "id": "fc42e0fa",
   "metadata": {},
   "outputs": [
    {
     "name": "stdout",
     "output_type": "stream",
     "text": [
      "Enter int : 1\n",
      "Enter int : 2\n",
      "Enter int : 3\n",
      "6\n"
     ]
    }
   ],
   "source": [
    "sum = 0\n",
    "data = 0\n",
    "while sum < 3:\n",
    "    numbers = int(input(\"Enter int : \"))\n",
    "    data += numbers\n",
    "    sum += 1\n",
    "\n",
    "print(data)\n"
   ]
  },
  {
   "cell_type": "code",
   "execution_count": 139,
   "id": "9194c67c",
   "metadata": {},
   "outputs": [
    {
     "name": "stdout",
     "output_type": "stream",
     "text": [
      "\n",
      "*\n",
      "**\n",
      "***\n"
     ]
    }
   ],
   "source": [
    "sum = 0\n",
    "while sum < 4:\n",
    "    print('*'*sum)\n",
    "    sum += 1"
   ]
  },
  {
   "cell_type": "code",
   "execution_count": 154,
   "id": "648626d2",
   "metadata": {},
   "outputs": [
    {
     "name": "stdout",
     "output_type": "stream",
     "text": [
      "29 x 0 =  0\n",
      "29 x 1 =  29\n",
      "29 x 2 =  58\n",
      "29 x 3 =  87\n",
      "29 x 4 =  116\n",
      "29 x 5 =  145\n",
      "29 x 6 =  174\n",
      "29 x 7 =  203\n",
      "29 x 8 =  232\n",
      "29 x 9 =  261\n",
      "29 x 10 =  290\n"
     ]
    }
   ],
   "source": [
    "iteration = 0\n",
    "while iteration <= 10:\n",
    "    print(f'29 x {iteration} = ',29*iteration)\n",
    "    iteration += 1\n",
    "    "
   ]
  },
  {
   "cell_type": "code",
   "execution_count": 183,
   "id": "711e768f",
   "metadata": {},
   "outputs": [
    {
     "name": "stdout",
     "output_type": "stream",
     "text": [
      "4\n"
     ]
    }
   ],
   "source": [
    "iteration = 1\n",
    "Fmax = 0\n",
    "Fmin = 0\n",
    "while iteration < 16:\n",
    "    if 16 % iteration == 0 and 36 % iteration == 0:\n",
    "        fmax = iteration\n",
    "        iteration += 1\n",
    "    else:\n",
    "        fmin = fmax\n",
    "        iteration += 1\n",
    "print(fmax)"
   ]
  },
  {
   "cell_type": "code",
   "execution_count": 194,
   "id": "af9045e3",
   "metadata": {},
   "outputs": [
    {
     "data": {
      "text/plain": [
       "7"
      ]
     },
     "execution_count": 194,
     "metadata": {},
     "output_type": "execute_result"
    }
   ],
   "source": [
    "16 % 9"
   ]
  },
  {
   "cell_type": "markdown",
   "id": "5c002802",
   "metadata": {},
   "source": [
    "**Repeated INPUT**\n"
   ]
  },
  {
   "cell_type": "code",
   "execution_count": 196,
   "id": "185a43be",
   "metadata": {},
   "outputs": [
    {
     "name": "stdout",
     "output_type": "stream",
     "text": [
      "enter  hi\n",
      "While Enter    q\n"
     ]
    }
   ],
   "source": [
    "word = input(\"enter\")\n",
    "while word != \"q\":\n",
    "    word = input(\"While Enter\").replace(\" \",\"\")"
   ]
  },
  {
   "cell_type": "code",
   "execution_count": 200,
   "id": "d75983c9",
   "metadata": {},
   "outputs": [
    {
     "name": "stdout",
     "output_type": "stream",
     "text": [
      "Enter Integer : 1\n",
      "Enter Integers -> 2\n",
      "Enter Integers -> 3\n",
      "Enter Integers -> \n"
     ]
    },
    {
     "ename": "ValueError",
     "evalue": "invalid literal for int() with base 10: ''",
     "output_type": "error",
     "traceback": [
      "\u001b[1;31m---------------------------------------------------------------------------\u001b[0m",
      "\u001b[1;31mValueError\u001b[0m                                Traceback (most recent call last)",
      "\u001b[1;32m<ipython-input-200-891568f76b78>\u001b[0m in \u001b[0;36m<module>\u001b[1;34m\u001b[0m\n\u001b[0;32m      3\u001b[0m \u001b[1;32mwhile\u001b[0m \u001b[0maddition\u001b[0m \u001b[1;33m!=\u001b[0m \u001b[1;36m143\u001b[0m\u001b[1;33m:\u001b[0m\u001b[1;33m\u001b[0m\u001b[1;33m\u001b[0m\u001b[0m\n\u001b[0;32m      4\u001b[0m     \u001b[0msum\u001b[0m \u001b[1;33m+=\u001b[0m \u001b[0maddition\u001b[0m\u001b[1;33m\u001b[0m\u001b[1;33m\u001b[0m\u001b[0m\n\u001b[1;32m----> 5\u001b[1;33m     \u001b[0maddition\u001b[0m \u001b[1;33m=\u001b[0m \u001b[0mint\u001b[0m\u001b[1;33m(\u001b[0m\u001b[0minput\u001b[0m\u001b[1;33m(\u001b[0m\u001b[1;34m\"Enter Integers -> \"\u001b[0m\u001b[1;33m)\u001b[0m\u001b[1;33m)\u001b[0m\u001b[1;33m\u001b[0m\u001b[1;33m\u001b[0m\u001b[0m\n\u001b[0m\u001b[0;32m      6\u001b[0m \u001b[1;33m\u001b[0m\u001b[0m\n\u001b[0;32m      7\u001b[0m \u001b[1;33m\u001b[0m\u001b[0m\n",
      "\u001b[1;31mValueError\u001b[0m: invalid literal for int() with base 10: ''"
     ]
    }
   ],
   "source": [
    "sum = 0\n",
    "addition = int(input(\"Enter Integer : \"))\n",
    "while addition != 143:\n",
    "    sum += addition\n",
    "    addition = int(input(\"Enter Integers -> \"))\n",
    "    \n",
    "\n",
    "print(sum)"
   ]
  },
  {
   "cell_type": "markdown",
   "id": "2d2f3928",
   "metadata": {},
   "source": [
    "### reverse output with while loop\n"
   ]
  },
  {
   "cell_type": "code",
   "execution_count": 203,
   "id": "a63febe9",
   "metadata": {},
   "outputs": [
    {
     "name": "stdout",
     "output_type": "stream",
     "text": [
      "enter : 1\n",
      "enter : 2\n"
     ]
    },
    {
     "ename": "AttributeError",
     "evalue": "'str' object has no attribute 'insert'",
     "output_type": "error",
     "traceback": [
      "\u001b[1;31m---------------------------------------------------------------------------\u001b[0m",
      "\u001b[1;31mAttributeError\u001b[0m                            Traceback (most recent call last)",
      "\u001b[1;32m<ipython-input-203-17d2b0dda319>\u001b[0m in \u001b[0;36m<module>\u001b[1;34m\u001b[0m\n\u001b[0;32m      2\u001b[0m \u001b[1;32mwhile\u001b[0m \u001b[0mword\u001b[0m \u001b[1;33m!=\u001b[0m \u001b[1;34m'exit~'\u001b[0m\u001b[1;33m:\u001b[0m\u001b[1;33m\u001b[0m\u001b[1;33m\u001b[0m\u001b[0m\n\u001b[0;32m      3\u001b[0m     \u001b[0mword1\u001b[0m \u001b[1;33m=\u001b[0m \u001b[0minput\u001b[0m\u001b[1;33m(\u001b[0m\u001b[1;34m\"enter : \"\u001b[0m\u001b[1;33m)\u001b[0m\u001b[1;33m\u001b[0m\u001b[1;33m\u001b[0m\u001b[0m\n\u001b[1;32m----> 4\u001b[1;33m     \u001b[0mword\u001b[0m\u001b[1;33m.\u001b[0m\u001b[0minsert\u001b[0m\u001b[1;33m(\u001b[0m\u001b[1;36m0\u001b[0m\u001b[1;33m,\u001b[0m\u001b[0mword1\u001b[0m\u001b[1;33m)\u001b[0m\u001b[1;33m\u001b[0m\u001b[1;33m\u001b[0m\u001b[0m\n\u001b[0m",
      "\u001b[1;31mAttributeError\u001b[0m: 'str' object has no attribute 'insert'"
     ]
    }
   ],
   "source": [
    "word = input(\"enter : \")\n",
    "while word != 'exit~':\n",
    "    word1 = input(\"enter : \")\n",
    "    word.insert(0,word1)"
   ]
  },
  {
   "cell_type": "markdown",
   "id": "a18b5e66",
   "metadata": {},
   "source": [
    "### "
   ]
  },
  {
   "cell_type": "code",
   "execution_count": null,
   "id": "f6ecc2f2",
   "metadata": {},
   "outputs": [],
   "source": []
  }
 ],
 "metadata": {
  "kernelspec": {
   "display_name": "Python 3",
   "language": "python",
   "name": "python3"
  },
  "language_info": {
   "codemirror_mode": {
    "name": "ipython",
    "version": 3
   },
   "file_extension": ".py",
   "mimetype": "text/x-python",
   "name": "python",
   "nbconvert_exporter": "python",
   "pygments_lexer": "ipython3",
   "version": "3.8.8"
  }
 },
 "nbformat": 4,
 "nbformat_minor": 5
}
